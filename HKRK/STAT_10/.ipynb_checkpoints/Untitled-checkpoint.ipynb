{
 "cells": [
  {
   "cell_type": "markdown",
   "metadata": {},
   "source": [
    "1. Given an array, X, N of  integers, calculate and print the respective `mean`, `median`, and `mode` on separate lines. If your array contains more than one modal value, choose the numerically smallest one. (i.e., 12.3 format).\n",
    "\n",
    "    The first line contains an integer, N, denoting the number of elements in the array.\n",
    "\n",
    "    The second line contains N space-separated integers describing the array's elements."
   ]
  },
  {
   "cell_type": "code",
   "execution_count": null,
   "metadata": {},
   "outputs": [],
   "source": [
    "# Enter your code here. Read input from STDIN. Print output to STDOUT\n",
    "\n",
    "num_length = int(input())\n",
    "numbers = list(map(int, input().split()))\n",
    "\n",
    "\n",
    "#mean\n",
    "num_sum = 0\n",
    "for number in numbers:\n",
    "    num_sum += number\n",
    "x_mean = num_sum / num_length\n",
    "\n",
    "#median\n",
    "index = num_length//2\n",
    "x_median = (sorted(numbers)[index] + sorted(numbers)[index-1])/2\n",
    "\n",
    "#mode\n",
    "input_dict = {x: numbers.count(x) for x in numbers}\n",
    "\n",
    "x_mode = 0 \n",
    "x_val = 0\n",
    "for key, val in input_dict.items():\n",
    "     \n",
    "    if val > x_val or (val == x_val and key < x_mode):\n",
    "        x_mode = key\n",
    "        x_val = val\n",
    "\n",
    "print(f'{x_mean:.1f}')\n",
    "print(f'{x_median:.1f}')\n",
    "print(f'{x_mode:.1f}')"
   ]
  },
  {
   "cell_type": "markdown",
   "metadata": {},
   "source": [
    "2. Given an array, X, N of  integers and an array, W , representing the respective `weights of X 's elements`, calculate and print the `weighted mean of X's elements`. Your answer should be rounded to a scale of 1 decimal place (i.e., 12.3 format).\n",
    "\n",
    "    The first line contains an integer, N, denoting the number of elements in arrays X and W.\n",
    "\n",
    "    The second line contains N space-separated integers describing the respective elements of array X. \n",
    "\n",
    "    The third line contains N space-separated integers describing the respective elements of array W."
   ]
  },
  {
   "cell_type": "code",
   "execution_count": 44,
   "metadata": {},
   "outputs": [
    {
     "name": "stdout",
     "output_type": "stream",
     "text": [
      "5\n",
      "5 6 7 8 9\n",
      "1 2 3 4 5\n",
      "7.7\n"
     ]
    }
   ],
   "source": [
    "count = int(input())\n",
    "Xs = list(map(int, input().split()))\n",
    "Ws = list(map(int, input().split()))\n",
    "\n",
    "w_sum = 0\n",
    "for x, w in zip(Xs, Ws):\n",
    "    w_sum += int(x)*int(w)\n",
    "    \n",
    "w_mean = w_sum/sum(Ws)\n",
    "    \n",
    "print(f'{w_mean:.1f}')"
   ]
  }
 ],
 "metadata": {
  "kernelspec": {
   "display_name": "Python 3",
   "language": "python",
   "name": "python3"
  },
  "language_info": {
   "codemirror_mode": {
    "name": "ipython",
    "version": 3
   },
   "file_extension": ".py",
   "mimetype": "text/x-python",
   "name": "python",
   "nbconvert_exporter": "python",
   "pygments_lexer": "ipython3",
   "version": "3.7.3"
  }
 },
 "nbformat": 4,
 "nbformat_minor": 2
}
