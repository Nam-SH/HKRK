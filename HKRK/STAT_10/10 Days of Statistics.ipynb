{
 "cells": [
  {
   "cell_type": "markdown",
   "metadata": {},
   "source": [
    "# Day 0: Mean, Median, and Mode\n",
    "\n",
    "\n",
    "`Task `\n",
    "Given an array, `X`, `N` of  integers, calculate and print the respective mean, median, and mode on separate lines. If your array contains more than one modal value, choose the numerically smallest one.\n",
    "\n",
    "`Note`: Other than the modal value (which will always be an integer), your answers should be in decimal form, rounded to a scale of `1` decimal place (i.e., 12.3, 7.0 format).\n",
    "\n",
    "`Input Format`\n",
    "\n",
    "The first line contains an integer, `N`, denoting the number of elements in the array. \n",
    "The second line contains `N` space-separated integers describing the array's elements.\n",
    "\n",
    "`Output Format`\n",
    "\n",
    "Print `3` lines of output in the following order:\n",
    "\n",
    "1. Print the mean on a new line, to a scale of `1` decimal place (i.e., 12.3, 7.0).\n",
    "2. Print the median on a new line, to a scale of `1` decimal place (i.e., 12.3, 7.1).\n",
    "3. Print the mode on a new line; if more than one such value exists, print the numerically smallest one.\n",
    "\n",
    "`Sample Input`\n",
    "```\n",
    "10\n",
    "64630 11735 14216 99233 14470 4978 73429 38120 51135 67060\n",
    "```\n",
    "`Sample Output`\n",
    "```\n",
    "43900.6\n",
    "44627.5\n",
    "4978\n",
    "```"
   ]
  },
  {
   "cell_type": "code",
   "execution_count": null,
   "metadata": {},
   "outputs": [],
   "source": [
    "num_length = int(input())\n",
    "numbers = list(map(int, input().split()))\n",
    "\n",
    "\n",
    "#mean\n",
    "num_sum = 0\n",
    "for number in numbers:\n",
    "    num_sum += number\n",
    "x_mean = num_sum / num_length\n",
    "\n",
    "#median\n",
    "index = num_length//2\n",
    "x_median = (sorted(numbers)[index] + sorted(numbers)[index-1])/2\n",
    "\n",
    "#mode\n",
    "input_dict = {x: numbers.count(x) for x in numbers}\n",
    "\n",
    "x_mode = 0 \n",
    "x_val = 0\n",
    "for key, val in input_dict.items():\n",
    "     \n",
    "    if val > x_val or (val == x_val and key < x_mode):\n",
    "        x_mode = key\n",
    "        x_val = val\n",
    "\n",
    "print(f'{x_mean:.1f}')\n",
    "print(f'{x_median:.1f}')\n",
    "print(f'{x_mode:.1f}')"
   ]
  },
  {
   "cell_type": "markdown",
   "metadata": {},
   "source": [
    "# Day 0: Weighted Mean\n",
    "\n",
    "`Task `\n",
    "Given an array, X, N of  integers and an array, W, representing the respective weights of X's elements, calculate and print the weighted mean of X's elements. Your answer should be rounded to a scale of `1` decimal place (i.e.,12.3  format).\n",
    "\n",
    "`Input Format`\n",
    "\n",
    "The first line contains an integer, N, denoting the number of elements in arrays `X` and `W`. \n",
    "The second line contains `N` space-separated integers describing the respective elements of array `X`. \n",
    "The third line contains `N` space-separated integers describing the respective elements of array `W`.\n",
    "\n",
    "`Output Format`\n",
    "\n",
    "Print the weighted mean on a new line. Your answer should be rounded to a scale of `1` decimal place (i.e., 12.3 format).\n",
    "\n",
    "`Sample Input`\n",
    "```\n",
    "5\n",
    "10 40 30 50 20\n",
    "1 2 3 4 5\n",
    "```\n",
    "`Sample Output`\n",
    "```\n",
    "32.0\n",
    "```"
   ]
  },
  {
   "cell_type": "code",
   "execution_count": null,
   "metadata": {},
   "outputs": [],
   "source": [
    "count = int(input())\n",
    "Xs = list(map(int, input().split()))\n",
    "Ws = list(map(int, input().split()))\n",
    "\n",
    "w_sum = 0\n",
    "for x, w in zip(Xs, Ws):\n",
    "    w_sum += int(x)*int(w)\n",
    "    \n",
    "w_mean = w_sum/sum(Ws)\n",
    "    \n",
    "print(f'{w_mean:.1f}')"
   ]
  },
  {
   "cell_type": "markdown",
   "metadata": {},
   "source": [
    "# Day 1: Quartiles\n",
    "\n",
    "`Task` \n",
    "Given an array, X, N of  integers, calculate the respective first quartile (`Q1`), second quartile (`Q2`), and third quartile (`Q3`). It is guaranteed that `Q1`, `Q2`, and `Q3` are integers.\n",
    "\n",
    "`Input Format`\n",
    "\n",
    "The first line contains an integer, , denoting the number of elements in the array. \n",
    "The second line contains  space-separated integers describing the array's elements.\n",
    "\n",
    "`Output Format`\n",
    "\n",
    "Print `3` lines of output in the following order:\n",
    "\n",
    "    The first line should be the value of `Q1`.\n",
    "    The second line should be the value of `Q2`.\n",
    "    The third line should be the value of `Q3`.\n",
    "\n",
    "`Sample Input`\n",
    "```\n",
    "9\n",
    "3 7 8 5 12 14 21 13 18\n",
    "```\n",
    "\n",
    "`Sample Output`\n",
    "```\n",
    "6\n",
    "12\n",
    "16\n",
    "```"
   ]
  },
  {
   "cell_type": "code",
   "execution_count": 13,
   "metadata": {},
   "outputs": [
    {
     "name": "stdout",
     "output_type": "stream",
     "text": [
      "12\n",
      "4 17 7 14 18 12 3 16 10 4 4 12\n",
      "4\n",
      "11\n",
      "15\n"
     ]
    }
   ],
   "source": [
    "num = int(input())\n",
    "elemts = sorted(list(map(int, input().split())))\n",
    "\n",
    "if len(elemts) % 2:\n",
    "\n",
    "    s1_elemts = elemts[:len(elemts)//2]\n",
    "    Q1 = (s1_elemts[(len(s1_elemts)-1)//2] + s1_elemts[len(s1_elemts)//2])/2\n",
    "    Q2 = elemts[len(elemts)//2]\n",
    "    s3_elemts = elemts[len(elemts)//2+1:]\n",
    "    Q3 = (s3_elemts[(len(s3_elemts)-1)//2] + s3_elemts[len(s3_elemts)//2])/2\n",
    "\n",
    "else:\n",
    "    \n",
    "    s1_elemts = elemts[:len(elemts)//2]\n",
    "    Q1 = (s1_elemts[(len(s1_elemts)-1)//2] + s1_elemts[len(s1_elemts)//2])/2\n",
    "    Q2 = (elemts[(len(elemts)-1)//2] + elemts[len(elemts)//2])/2    \n",
    "    s3_elemts = elemts[len(elemts)//2:]\n",
    "    Q3 = (s3_elemts[(len(s3_elemts)-1)//2] + s3_elemts[len(s3_elemts)//2])/2\n",
    "\n",
    "print(int(Q1))\n",
    "print(int(Q2))\n",
    "print(int(Q3))"
   ]
  },
  {
   "cell_type": "code",
   "execution_count": 52,
   "metadata": {},
   "outputs": [
    {
     "name": "stdout",
     "output_type": "stream",
     "text": [
      "9\n",
      "3 7 8 5 12 14 21 13 18\n",
      "6\n",
      "12\n",
      "16\n"
     ]
    }
   ],
   "source": [
    "num = int(input())\n",
    "elemts = sorted(list(map(int, input().split())))\n",
    "\n",
    "def odd(x):\n",
    "    idx = len(x)//2\n",
    "    return x[idx]\n",
    "    \n",
    "def even(x):\n",
    "    idx = len(x)//2\n",
    "    return (x[idx-1] +x[idx])/2\n",
    "\n",
    "idx = len(elemts)//2\n",
    "if len(elemts) % 2:\n",
    "    Q2 = odd(elemts)\n",
    "    if len(elemts[:idx]) % 2:\n",
    "        Q1 = odd(elemts[:idx])\n",
    "        Q3 = odd(elemts[idx+1:])\n",
    "    else:\n",
    "        Q1 = even(elemts[:idx])\n",
    "        Q3 = even(elemts[idx+1:])\n",
    "        \n",
    "        \n",
    "else:\n",
    "    Q2 = even(elemts)\n",
    "    if len(elemts[:idx]) % 2:\n",
    "        Q1 = odd(elemts[:idx])\n",
    "        Q3 = odd(elemts[idx:])\n",
    "    else:\n",
    "        Q1 = even(elemts[:idx])\n",
    "        Q3 = even(elemts[idx:]) \n",
    "\n",
    "print(int(Q1))\n",
    "print(int(Q2))\n",
    "print(int(Q3))"
   ]
  },
  {
   "cell_type": "markdown",
   "metadata": {},
   "source": [
    "# Day 1: Interquartile Range\n",
    "\n",
    "Task \n",
    "The interquartile range of an array is the difference between its first (`Q1`) and third (`Q3`) quartiles (i.e., `Q3 - Q1`).\n",
    "\n",
    "Given an array, `X`, `n` of  integers and an array, `F`, representing the respective frequencies of `X`'s elements, construct a data set, `S`, where each `xi` occurs at frequency `fi`. Then calculate and print `S`'s interquartile range, rounded to a scale of `1` decimal place (i.e., 12.3 format).\n",
    "\n",
    "Tip: Be careful to not use integer division when averaging the middle two elements for a data set with an even number of elements, and be sure to not include the median in your upper and lower data sets.\n",
    "\n",
    "`Input Format`\n",
    "\n",
    "1. The first line contains an integer, `n`, denoting the number of elements in arrays `X` and `F`. \n",
    "2. The second line contains `n` space-separated integers describing the respective elements of array `X`. \n",
    "3. The third line contains `n` space-separated integers describing the respective elements of array `F`.\n",
    "\n",
    "`Output Format`\n",
    "\n",
    "Print the interquartile range for the expanded data set on a new line. Round your answer to a scale of `1` decimal place (i.e., 12.3 format).\n",
    "\n",
    "`Sample Input`\n",
    "```\n",
    "6\n",
    "6 12 8 10 20 16\n",
    "5 4 3 2 1 5\n",
    "```\n",
    "`Sample Output`\n",
    "```\n",
    "9.0\n",
    "```"
   ]
  },
  {
   "cell_type": "code",
   "execution_count": 82,
   "metadata": {},
   "outputs": [
    {
     "name": "stdout",
     "output_type": "stream",
     "text": [
      "6\n",
      "6 12 8 10 20 16\n",
      "5 6 7 8 9 10\n",
      "[6, 6, 6, 6, 6, 12, 12, 12, 12, 12, 12, 8, 8, 8, 8, 8, 8, 8, 10, 10, 10, 10, 10, 10, 10, 10, 20, 20, 20, 20, 20, 20, 20, 20, 20, 16, 16, 16, 16, 16, 16, 16, 16, 16, 16]\n",
      "10.0\n",
      "10.0\n",
      "10\n",
      "20.0\n"
     ]
    }
   ],
   "source": [
    "num = int(input())\n",
    "X = input().split()\n",
    "F = list(map(int, input().split()))\n",
    "\n",
    "XF = []\n",
    "for x, f in zip(X, F):\n",
    "    for i in range(f):\n",
    "        XF.append(x)\n",
    "        \n",
    "XF = sorted(list(map(int, XF)))\n",
    "\n",
    "def odd(x):\n",
    "    idx = len(x)//2\n",
    "    return x[idx]\n",
    "    \n",
    "def even(x):\n",
    "    idx = len(x)//2\n",
    "    return (x[idx-1] +x[idx])/2\n",
    "\n",
    "idx = len(XF)//2\n",
    "if len(XF) % 2:\n",
    "    Q2 = odd(XF)\n",
    "    if len(XF[:idx]) % 2:\n",
    "        Q1 = odd(XF[:idx])\n",
    "        Q3 = odd(XF[idx+1:])\n",
    "    else:\n",
    "        Q1 = even(XF[:idx])\n",
    "        Q3 = even(XF[idx+1:])\n",
    "        \n",
    "else:\n",
    "    Q2 = even(XF)\n",
    "    if len(XF[:idx]) % 2:\n",
    "        Q1 = odd(XF[:idx])\n",
    "        Q3 = odd(XF[idx:])\n",
    "    else:\n",
    "        Q1 = even(XF[:idx])\n",
    "        Q3 = even(XF[idx:]) \n",
    "        \n",
    "print(f'{Q3 - Q1:.1f}')"
   ]
  },
  {
   "cell_type": "code",
   "execution_count": 54,
   "metadata": {},
   "outputs": [
    {
     "data": {
      "text/plain": [
       "'ss'"
      ]
     },
     "execution_count": 54,
     "metadata": {},
     "output_type": "execute_result"
    }
   ],
   "source": [
    "'s'*2"
   ]
  },
  {
   "cell_type": "markdown",
   "metadata": {},
   "source": [
    "# Day 1: Standard Deviation\n",
    "\n",
    "`Task `\n",
    "Given an array, `X`, of `N` integers, calculate and print the standard deviation. Your answer should be in decimal form, rounded to a scale of `1` decimal place (i.e., 12.3 format). An error margin of `+-0.1` will be tolerated for the standard deviation.\n",
    "\n",
    "`Input Format`\n",
    "\n",
    "The first line contains an integer, `N`, denoting the number of elements in the array. \n",
    "The second line contains `N` space-separated integers describing the respective elements of the array.\n",
    "\n",
    "`Output Format`\n",
    "\n",
    "Print the standard deviation on a new line, rounded to a scale of `1` decimal place (i.e., 12.3 format).\n",
    "\n",
    "`Sample Input`\n",
    "```\n",
    "5\n",
    "10 40 30 50 20\n",
    "```\n",
    "`Sample Output`\n",
    "```\n",
    "14.1\n",
    "```"
   ]
  },
  {
   "cell_type": "code",
   "execution_count": 8,
   "metadata": {},
   "outputs": [
    {
     "name": "stdout",
     "output_type": "stream",
     "text": [
      "5\n",
      "1 2 3 6 9\n",
      "2.9257477676655586\n"
     ]
    }
   ],
   "source": [
    "num = int(input())\n",
    "elemts = list(map(int, input().split()))\n",
    "\n",
    "mu = sum(elemts)/num\n",
    "\n",
    "var = sum(map(lambda x: (x-mu)**2, elemts))/num\n",
    "sigma = var**(1/2)\n",
    "\n",
    "print(f'{sigma:.1f}')"
   ]
  },
  {
   "cell_type": "markdown",
   "metadata": {},
   "source": [
    "# Day 2: Basic Probability\n",
    "\n",
    "\n",
    "`Task `\n",
    "In a single toss of `2` fair (evenly-weighted) six-sided dice, find the probability that their sum will be at most `9`.\n",
    "\n",
    "```\n",
    "  1: 2 / 3\n",
    "\n",
    "* 2: 5 / 6 \n",
    "\n",
    "  3: 1 / 4\n",
    "\n",
    "  4: 1 / 6\n",
    "```"
   ]
  },
  {
   "cell_type": "markdown",
   "metadata": {},
   "source": [
    "# Day 2: More Dice\n",
    "\n",
    "Task \n",
    "In a single toss of `2` fair (evenly-weighted) six-sided dice, find the probability that the values rolled by each die will be different and the two dice have a sum of `6`.\n",
    "```\n",
    "* 1: 1 / 9\n",
    "\n",
    "  2: 1 / 6\n",
    "\n",
    "  3: 2 / 3\n",
    "\n",
    "  4: 5 / 6\n",
    "```"
   ]
  },
  {
   "cell_type": "markdown",
   "metadata": {},
   "source": [
    "# Day 2: Compound Event Probability\n",
    "\n",
    "`Task` \n",
    "There are `3` urns labeled `X`, `Y`, and `Z`. \n",
    "\n",
    "```\n",
    "Urn `X` contains `4` red balls and `3` black balls.\n",
    "Urn `Y` contains `5` red balls and `4` black balls.\n",
    "Urn `Z` contains `4` red balls and `4` black balls. \n",
    "```\n",
    "One ball is drawn from each of the `3` urns. What is the probability that, of the `3` balls drawn, `2` are red and `1` is black?\n",
    "\n",
    "```\n",
    "  1: 10 / 63\n",
    "  2: 2 / 7\n",
    "* 3: 17 / 42\n",
    "  4: 31 / 126\n",
    "```"
   ]
  },
  {
   "cell_type": "markdown",
   "metadata": {},
   "source": [
    "# Day 3: Conditional Probability\n",
    "\n",
    "`Task `\n",
    "Suppose a family has `2` children, one of which is a boy. What is the probability that both children are boys?\n",
    "```\n",
    "* 1: 1 / 3\n",
    "  2: 1 / 2\n",
    "  3: 2 / 3\n",
    "  4: 1 / 9\n",
    "```"
   ]
  },
  {
   "cell_type": "markdown",
   "metadata": {},
   "source": [
    "# Day 3: Cards of the Same Suit\n",
    "\n",
    "`Task` \n",
    "You draw `2` cards from a standard `52`-card deck without replacing them. What is the probability that both cards are of the same suit?\n",
    "```\n",
    "  1. 1 / 156\n",
    "  2. 1 / 39\n",
    "  3. 12 / 39\n",
    "* 4. 12 / 51\n",
    "```"
   ]
  },
  {
   "cell_type": "markdown",
   "metadata": {},
   "source": [
    "# Day 3: Drawing Marbles\n",
    "\n",
    "`Task `\n",
    "A bag contains `3` red marbles and `4` blue marbles. Then, `2` marbles are drawn from the bag, at random, without replacement. If the first marble drawn is red, what is the probability that the second marble is blue?\n",
    "```\n",
    "  1. 1 / 12\n",
    "  2. 7 / 12\n",
    "  3. 1 / 6\n",
    "* 4. 2 / 3\n",
    "```"
   ]
  },
  {
   "cell_type": "markdown",
   "metadata": {},
   "source": [
    "# Day 4: Binomial Distribution I\n",
    "\n",
    "`Task `\n",
    "The ratio of boys to girls for babies born in Russia is `1.09:1`. If there is `1` child born per birth, what proportion of Russian families with exactly `6` children will have at least `3` boys?\n",
    "\n",
    "Write a program to compute the answer using the above parameters. Then print your result, rounded to a scale of `3` decimal places (i.e., 1.234 format).\n",
    "\n",
    "`Input Format`\n",
    "\n",
    "A single line containing the following values:\n",
    "\n",
    "    `1.09 1`\n",
    "\n",
    "If you do not wish to read this information from stdin, you can hard-code it into your program.\n",
    "\n",
    "`Output Format`\n",
    "\n",
    "Print a single line denoting the answer, rounded to a scale of `1` decimal places (i.e., 1.234 format)."
   ]
  },
  {
   "cell_type": "code",
   "execution_count": 28,
   "metadata": {},
   "outputs": [
    {
     "name": "stdin",
     "output_type": "stream",
     "text": [
      " 1.09 1\n"
     ]
    },
    {
     "name": "stdout",
     "output_type": "stream",
     "text": [
      "0.696\n"
     ]
    }
   ],
   "source": [
    "def bi_dist(x, n, p):\n",
    "    from math import factorial\n",
    "    fact = factorial(n)/(factorial(x)*factorial(n-x))\n",
    "    prob = (p**x) * ((1-p)**(n-x))\n",
    "    return fact*prob\n",
    "\n",
    "girl, boy = input().split()\n",
    "p = float(girl)/(float(girl)+float(boy))\n",
    "\n",
    "result = 0\n",
    "for i in range(3, 7):\n",
    "    result += bi_dist(i, 6, p)\n",
    "print(f'{result:.3f}')"
   ]
  },
  {
   "cell_type": "markdown",
   "metadata": {},
   "source": [
    "# Day 4: Binomial Distribution II\n",
    "\n",
    "`Task`\n",
    "A manufacturer of metal pistons finds that, on average, `12%` of the pistons they manufacture are rejected because they are incorrectly sized. What is the probability that a batch of  `10` pistons will contain:\n",
    "\n",
    "1. No more than `2` rejects?\n",
    "2 At least `2` rejects?\n",
    "\n",
    "`Input Format`\n",
    "\n",
    "A single line containing the following values (denoting the respective percentage of defective pistons and the size of the current batch of pistons):\n",
    "```\n",
    "12 10\n",
    "```\n",
    "If you do not wish to read this information from stdin, you can hard-code it into your program.\n",
    "\n",
    "`Output Format`\n",
    "\n",
    "Print the answer to each question on its own line:\n",
    "```\n",
    "The first line should contain the probability that a batch of `10` pistons will contain no more than `2` rejects.\n",
    "The second line should contain the probability that a batch of `10` pistons will contain at least `2` rejects.\n",
    "Round both of your answers to a scale of `3` decimal places (i.e., 1.234 format).\n",
    "```"
   ]
  },
  {
   "cell_type": "code",
   "execution_count": 46,
   "metadata": {},
   "outputs": [
    {
     "name": "stdin",
     "output_type": "stream",
     "text": [
      " 12 10\n"
     ]
    },
    {
     "name": "stdout",
     "output_type": "stream",
     "text": [
      "0.891\n",
      "0.342\n"
     ]
    }
   ],
   "source": [
    "def fact(n):\n",
    "    return 1 if n==0 else n*fact(n-1)\n",
    "\n",
    "def c(n, x):\n",
    "    return fact(n) / (fact(x)*fact(n-x))\n",
    "\n",
    "def b(x, n, p):\n",
    "    return c(n, x) * p**x * (1-p)**(n-x)\n",
    "\n",
    "p, n = list(map(int, input().split()))\n",
    "\n",
    "print(f'{sum([b(x, n, p/100) for x in range(3)]):.3f}')\n",
    "print(f'{sum([b(x, n, p/100) for x in range(2, n+1)]):.3f}')"
   ]
  },
  {
   "cell_type": "markdown",
   "metadata": {},
   "source": [
    "# Day 4: Geometric Distribution I\n",
    "\n",
    "`Task` \n",
    "\n",
    "The probability that a machine produces a defective product is `1/3`. What is the probability that the `1st` defect is found during the `5th` inspection?\n",
    "\n",
    "`Input Format`\n",
    "\n",
    "The first line contains the respective space-separated numerator and denominator for the probability of a defect, and the second line contains the inspection we want the probability of being the first defect for:\n",
    "```\n",
    "1 3\n",
    "5\n",
    "```\n",
    "If you do not wish to read this information from stdin, you can hard-code it into your program.\n",
    "\n",
    "`Output Format`\n",
    "\n",
    "Print a single line denoting the answer, rounded to a scale of `3` decimal places (i.e., 1.234 format)."
   ]
  },
  {
   "cell_type": "code",
   "execution_count": 71,
   "metadata": {},
   "outputs": [
    {
     "name": "stdin",
     "output_type": "stream",
     "text": [
      " 1 3\n",
      " 5\n"
     ]
    },
    {
     "name": "stdout",
     "output_type": "stream",
     "text": [
      "0.066\n"
     ]
    }
   ],
   "source": [
    "u, d = list(map(int, input().split()))\n",
    "n = int(input())\n",
    "\n",
    "def geo_dist(u, d, n):\n",
    "    q = 1 - u/d\n",
    "    return (q)**(n-1) * (1-q)\n",
    "\n",
    "print(f'{geo_dist(u, d, n):.3f}')"
   ]
  },
  {
   "cell_type": "markdown",
   "metadata": {},
   "source": [
    "# Day 4: Geometric Distribution II\n",
    "\n",
    "`Task` \n",
    "The probability that a machine produces a defective product is `1/3`. What is the probability that the `1st` defect is found during the first `5th`  inspections?\n",
    "\n",
    "`Input Format`\n",
    "\n",
    "The first line contains the respective space-separated numerator and denominator for the probability of a defect, and the second line contains the inspection we want the probability of the first defect being discovered by:\n",
    "```\n",
    "1 3\n",
    "5\n",
    "```\n",
    "If you do not wish to read this information from stdin, you can hard-code it into your program.\n",
    "\n",
    "`Output Format`\n",
    "\n",
    "Print a single line denoting the answer, rounded to a scale of  decimal places (i.e.,  format)."
   ]
  },
  {
   "cell_type": "code",
   "execution_count": 70,
   "metadata": {},
   "outputs": [
    {
     "name": "stdin",
     "output_type": "stream",
     "text": [
      " 1 3\n",
      " 5\n"
     ]
    },
    {
     "name": "stdout",
     "output_type": "stream",
     "text": [
      "0.868\n"
     ]
    }
   ],
   "source": [
    "u, d = list(map(int, input().split()))\n",
    "n = int(input())\n",
    "\n",
    "def geo_dist(u, d, n):\n",
    "    q = 1 - u/d\n",
    "    return (q)**(n-1) * (1-q)\n",
    "\n",
    "result = 0\n",
    "for i in range(1, 6):\n",
    "    result += geo_dist(u, d, i)\n",
    "\n",
    "print(f'{result:.3f}')"
   ]
  }
 ],
 "metadata": {
  "kernelspec": {
   "display_name": "Python 3",
   "language": "python",
   "name": "python3"
  },
  "language_info": {
   "codemirror_mode": {
    "name": "ipython",
    "version": 3
   },
   "file_extension": ".py",
   "mimetype": "text/x-python",
   "name": "python",
   "nbconvert_exporter": "python",
   "pygments_lexer": "ipython3",
   "version": "3.7.3"
  }
 },
 "nbformat": 4,
 "nbformat_minor": 4
}
