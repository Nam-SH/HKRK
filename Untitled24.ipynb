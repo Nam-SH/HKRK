{
 "cells": [
  {
   "cell_type": "code",
   "execution_count": 2,
   "metadata": {},
   "outputs": [
    {
     "name": "stdout",
     "output_type": "stream",
     "text": [
      "4가 있습니다\n"
     ]
    }
   ],
   "source": [
    "if 4 in [1,2,3,4]: print('4가 있습니다')"
   ]
  },
  {
   "cell_type": "code",
   "execution_count": 8,
   "metadata": {},
   "outputs": [
    {
     "name": "stdout",
     "output_type": "stream",
     "text": [
      "1023 6007\n"
     ]
    }
   ],
   "source": [
    "a = 123\n",
    "b = 1.23\n",
    "\n",
    "c = 0o1777\n",
    "d = 0x1777\n",
    "\n",
    "print(c,d)"
   ]
  },
  {
   "cell_type": "code",
   "execution_count": 11,
   "metadata": {},
   "outputs": [
    {
     "data": {
      "text/plain": [
       "True"
      ]
     },
     "execution_count": 11,
     "metadata": {},
     "output_type": "execute_result"
    }
   ],
   "source": [
    "(a*0.01) ==b"
   ]
  },
  {
   "cell_type": "code",
   "execution_count": 16,
   "metadata": {},
   "outputs": [
    {
     "name": "stdout",
     "output_type": "stream",
     "text": [
      "1\n",
      "1.75\n",
      "1\n"
     ]
    }
   ],
   "source": [
    "print(7 % 2)\n",
    "print(7/4)\n",
    "print(7//4)"
   ]
  },
  {
   "cell_type": "markdown",
   "metadata": {},
   "source": [
    "## a = 80 + 75 + 55\n",
    "a/3"
   ]
  },
  {
   "cell_type": "code",
   "execution_count": 1,
   "metadata": {},
   "outputs": [
    {
     "name": "stdin",
     "output_type": "stream",
     "text": [
      "숫자를 입력하시오 3\n"
     ]
    },
    {
     "name": "stdout",
     "output_type": "stream",
     "text": [
      "홀수\n"
     ]
    }
   ],
   "source": [
    "a = input(\"숫자를 입력하시오\")\n",
    "\n",
    "if int(a) % 2 == 1:\n",
    "    print(\"홀수\")\n",
    "else :\n",
    "    print(\"짝수\")"
   ]
  },
  {
   "cell_type": "code",
   "execution_count": 9,
   "metadata": {},
   "outputs": [
    {
     "data": {
      "text/plain": [
       "[10, 7, 6, 5, 1]"
      ]
     },
     "execution_count": 9,
     "metadata": {},
     "output_type": "execute_result"
    }
   ],
   "source": [
    "aa = [1, 10, 5, 7, 6]\n",
    "aa.reverse()\n",
    "aa\n",
    "\n",
    "aa.sort(reverse=True)\n",
    "aa"
   ]
  },
  {
   "cell_type": "code",
   "execution_count": 12,
   "metadata": {},
   "outputs": [
    {
     "name": "stdout",
     "output_type": "stream",
     "text": [
      "[1, 11, 2, 3] [1, 2, 3, 11]\n"
     ]
    }
   ],
   "source": [
    "x = [1, 11, 2, 3]\n",
    "y = sorted(x)\n",
    "\n",
    "print(x, y)"
   ]
  },
  {
   "cell_type": "code",
   "execution_count": 17,
   "metadata": {},
   "outputs": [
    {
     "name": "stdout",
     "output_type": "stream",
     "text": [
      "Python's favorite food is perl\n",
      "Python's favorite food is perl\n",
      "Python's favorite \n",
      " food is perl\n"
     ]
    }
   ],
   "source": [
    "food = 'Python\\'s favorite food is perl'\n",
    "print(food)\n",
    "\n",
    "food1 = \"Python's favorite food is perl\"\n",
    "print(food1)\n",
    "\n",
    "food2 = \"Python's favorite \\n food is perl\"\n",
    "print(food2)"
   ]
  },
  {
   "cell_type": "code",
   "execution_count": 20,
   "metadata": {},
   "outputs": [
    {
     "data": {
      "text/plain": [
       "'pythonpython'"
      ]
     },
     "execution_count": 20,
     "metadata": {},
     "output_type": "execute_result"
    }
   ],
   "source": [
    "a = 'python'\n",
    "a * 2"
   ]
  },
  {
   "cell_type": "code",
   "execution_count": 22,
   "metadata": {},
   "outputs": [
    {
     "name": "stdout",
     "output_type": "stream",
     "text": [
      "==================================================\n",
      "my program\n",
      "==================================================\n"
     ]
    }
   ],
   "source": [
    "print('='*50)\n",
    "print(\"my program\")\n",
    "print('='*50)"
   ]
  },
  {
   "cell_type": "code",
   "execution_count": 2,
   "metadata": {},
   "outputs": [
    {
     "name": "stdout",
     "output_type": "stream",
     "text": [
      "e\n",
      "Life\n"
     ]
    }
   ],
   "source": [
    "a = 'Life is too short, you need python'\n",
    "print(a[3])\n",
    "print(a[0:4])"
   ]
  },
  {
   "cell_type": "code",
   "execution_count": 9,
   "metadata": {},
   "outputs": [
    {
     "name": "stdout",
     "output_type": "stream",
     "text": [
      "you need\n",
      "you need\n",
      "Life is too short, you need\n"
     ]
    }
   ],
   "source": [
    "print(a[19:27])\n",
    "print(a[19:-7])\n",
    "print(a[:-7])\n"
   ]
  },
  {
   "cell_type": "code",
   "execution_count": 12,
   "metadata": {},
   "outputs": [
    {
     "name": "stdout",
     "output_type": "stream",
     "text": [
      "p\n",
      "thon\n"
     ]
    },
    {
     "data": {
      "text/plain": [
       "'python'"
      ]
     },
     "execution_count": 12,
     "metadata": {},
     "output_type": "execute_result"
    }
   ],
   "source": [
    "a = \"pithon\"\n",
    "print(a[:1])\n",
    "print(a[2:])\n",
    "\n",
    "a[:1] + 'y' + a[2:]"
   ]
  },
  {
   "cell_type": "code",
   "execution_count": 15,
   "metadata": {},
   "outputs": [
    {
     "data": {
      "text/plain": [
       "'i eat five apples'"
      ]
     },
     "execution_count": 15,
     "metadata": {},
     "output_type": "execute_result"
    }
   ],
   "source": [
    "\"i eat {0} apples\".format(3)\n",
    "\n",
    "\"i eat {0} apples\".format(\"five\")"
   ]
  },
  {
   "cell_type": "code",
   "execution_count": 8,
   "metadata": {},
   "outputs": [
    {
     "name": "stdout",
     "output_type": "stream",
     "text": [
      "i eat 1 apples named a\n",
      "i eat 2 apples named b\n",
      "i eat 3 apples named c\n",
      "i eat 4 apples named d\n"
     ]
    }
   ],
   "source": [
    "a = 0\n",
    "b = [\"0\",\"a\",\"b\",\"c\",\"d\",\"e\"]\n",
    "\n",
    "while a < 4 :\n",
    "    a += 1\n",
    "    print( \"i eat %s apples named %s\"%(a,b[a]) )"
   ]
  },
  {
   "cell_type": "code",
   "execution_count": 36,
   "metadata": {},
   "outputs": [
    {
     "name": "stdout",
     "output_type": "stream",
     "text": [
      "a#b#c#d\n"
     ]
    }
   ],
   "source": [
    "aa = \"a:b:c:d\"\n",
    "b = aa.replace(\":\",\"#\")\n",
    "print(b)"
   ]
  },
  {
   "cell_type": "code",
   "execution_count": 42,
   "metadata": {},
   "outputs": [
    {
     "name": "stdout",
     "output_type": "stream",
     "text": [
      "['a', 'b', 'c', 'd']\n",
      "a#b#c#d\n"
     ]
    }
   ],
   "source": [
    "aa = \"a:b:c:d\"\n",
    "b = aa.split(':')\n",
    "print(b)\n",
    "c = \"#\".join(b)\n",
    "print(c)"
   ]
  },
  {
   "cell_type": "code",
   "execution_count": 47,
   "metadata": {},
   "outputs": [
    {
     "name": "stdout",
     "output_type": "stream",
     "text": [
      "{1, 2, 3, 4, 5}\n",
      "[1, 2, 3, 4, 5]\n"
     ]
    }
   ],
   "source": [
    "a = [1,1,1,2,2,2,3,3,3,3,4,4,4,4,5,5,5,5]\n",
    "aSet = set(a)\n",
    "print(aSet)\n",
    "b = list(aSet)\n",
    "print(b)"
   ]
  },
  {
   "cell_type": "code",
   "execution_count": 51,
   "metadata": {},
   "outputs": [
    {
     "data": {
      "text/plain": [
       "False"
      ]
     },
     "execution_count": 51,
     "metadata": {},
     "output_type": "execute_result"
    }
   ],
   "source": [
    "b == aSet"
   ]
  },
  {
   "cell_type": "code",
   "execution_count": 64,
   "metadata": {},
   "outputs": [
    {
     "data": {
      "text/plain": [
       "[1, 2, 3, [4, 5]]"
      ]
     },
     "execution_count": 64,
     "metadata": {},
     "output_type": "execute_result"
    }
   ],
   "source": [
    "a = [1,2,3]\n",
    "\n",
    "a.append([4,5])\n",
    "a"
   ]
  },
  {
   "cell_type": "code",
   "execution_count": 69,
   "metadata": {},
   "outputs": [
    {
     "name": "stdout",
     "output_type": "stream",
     "text": [
      "Life is too short\n"
     ]
    }
   ],
   "source": [
    "a = ['Life', 'is', 'too', 'short']\n",
    "b = ' '.join(a)\n",
    "print(b)"
   ]
  },
  {
   "cell_type": "code",
   "execution_count": 76,
   "metadata": {},
   "outputs": [
    {
     "data": {
      "text/plain": [
       "dict_values(['a', 'b'])"
      ]
     },
     "execution_count": 76,
     "metadata": {},
     "output_type": "execute_result"
    }
   ],
   "source": [
    "a = {1:'a', 2:'b'}\n",
    "a[1]\n",
    "a[2]\n",
    "a.values()"
   ]
  },
  {
   "cell_type": "code",
   "execution_count": 86,
   "metadata": {},
   "outputs": [
    {
     "name": "stdout",
     "output_type": "stream",
     "text": [
      "a= 5 b= 3\n"
     ]
    }
   ],
   "source": [
    "a = 3\n",
    "b = 5\n",
    "a, b = b, a\n",
    "\n",
    "print(\"a=\",a,\"b=\",b)"
   ]
  },
  {
   "cell_type": "code",
   "execution_count": 91,
   "metadata": {},
   "outputs": [],
   "source": [
    "score = 70\n",
    "\n",
    "message = \"success\" if score >= 60 else \"failure\""
   ]
  },
  {
   "cell_type": "code",
   "execution_count": 1,
   "metadata": {},
   "outputs": [
    {
     "name": "stdout",
     "output_type": "stream",
     "text": [
      "나무를 1번 찍었습니다.\n",
      "나무를 2번 찍었습니다.\n",
      "나무를 3번 찍었습니다.\n",
      "나무를 4번 찍었습니다.\n",
      "나무를 5번 찍었습니다.\n",
      "나무를 6번 찍었습니다.\n",
      "나무를 7번 찍었습니다.\n",
      "나무를 8번 찍었습니다.\n",
      "나무를 9번 찍었습니다.\n",
      "나무를 10번 찍었습니다.\n",
      "나무 넘어갑니다.\n"
     ]
    }
   ],
   "source": [
    "treeHit = 0\n",
    "while treeHit < 10:\n",
    "    treeHit = treeHit +1\n",
    "    print(\"나무를 %d번 찍었습니다.\"%treeHit)\n",
    "    if treeHit == 10:\n",
    "        print(\"나무 넘어갑니다.\")"
   ]
  },
  {
   "cell_type": "code",
   "execution_count": 2,
   "metadata": {},
   "outputs": [],
   "source": [
    "prompt = \"\"\"\"\n",
    "1. Add\n",
    "2. Del\n",
    "3. List\n",
    "4. Quit\n",
    "\"\"\""
   ]
  },
  {
   "cell_type": "code",
   "execution_count": 3,
   "metadata": {},
   "outputs": [
    {
     "name": "stdout",
     "output_type": "stream",
     "text": [
      "\"\n",
      "1. Add\n",
      "2. Del\n",
      "3. List\n",
      "4. Quit\n",
      "\n"
     ]
    },
    {
     "name": "stdin",
     "output_type": "stream",
     "text": [
      " 2\n"
     ]
    },
    {
     "name": "stdout",
     "output_type": "stream",
     "text": [
      "\"\n",
      "1. Add\n",
      "2. Del\n",
      "3. List\n",
      "4. Quit\n",
      "\n"
     ]
    },
    {
     "name": "stdin",
     "output_type": "stream",
     "text": [
      " 3\n"
     ]
    },
    {
     "name": "stdout",
     "output_type": "stream",
     "text": [
      "\"\n",
      "1. Add\n",
      "2. Del\n",
      "3. List\n",
      "4. Quit\n",
      "\n"
     ]
    },
    {
     "name": "stdin",
     "output_type": "stream",
     "text": [
      " 4\n"
     ]
    }
   ],
   "source": [
    "number = 0\n",
    "while number != 4:\n",
    "    print(prompt)\n",
    "    number = int(input())"
   ]
  },
  {
   "cell_type": "code",
   "execution_count": 1,
   "metadata": {},
   "outputs": [
    {
     "name": "stdout",
     "output_type": "stream",
     "text": [
      "돈을 받았으니 커피를 준다.\n",
      "남은 커피의 양은 9개입니다.\n",
      "돈을 받았으니 커피를 준다.\n",
      "남은 커피의 양은 8개입니다.\n",
      "돈을 받았으니 커피를 준다.\n",
      "남은 커피의 양은 7개입니다.\n",
      "돈을 받았으니 커피를 준다.\n",
      "남은 커피의 양은 6개입니다.\n",
      "돈을 받았으니 커피를 준다.\n",
      "남은 커피의 양은 5개입니다.\n",
      "돈을 받았으니 커피를 준다.\n",
      "남은 커피의 양은 4개입니다.\n",
      "돈을 받았으니 커피를 준다.\n",
      "남은 커피의 양은 3개입니다.\n",
      "돈을 받았으니 커피를 준다.\n",
      "남은 커피의 양은 2개입니다.\n",
      "돈을 받았으니 커피를 준다.\n",
      "남은 커피의 양은 1개입니다.\n",
      "돈을 받았으니 커피를 준다.\n",
      "남은 커피의 양은 0개입니다.\n",
      "@@@커피가 다 떨어졌습니다. 판매를 중지합니다@@@\n"
     ]
    }
   ],
   "source": [
    "coffee = 10\n",
    "money = 3000\n",
    "\n",
    "while money :\n",
    "    print(\"돈을 받았으니 커피를 준다.\")\n",
    "    coffee = coffee - 1\n",
    "    print(\"남은 커피의 양은 %d개입니다.\"%coffee)\n",
    "    if coffee == 0:\n",
    "        print(\"@@@커피가 다 떨어졌습니다. 판매를 중지합니다@@@\")\n",
    "        break"
   ]
  },
  {
   "cell_type": "code",
   "execution_count": null,
   "metadata": {},
   "outputs": [
    {
     "name": "stdin",
     "output_type": "stream",
     "text": [
      "돈을 입구에 넣어주세요 3000\n"
     ]
    },
    {
     "name": "stdout",
     "output_type": "stream",
     "text": [
      "돈이 2000원 부족합니다. 커피는 나오지 않아요\n",
      "남은 커피는 10 입니다. 맛있으니 기회를 놓치지 마세요\n"
     ]
    }
   ],
   "source": [
    "coffee=10\n",
    "while True :\n",
    "    money = int(input(\"돈을 입구에 넣어주세요\"))\n",
    "    if money == 5000:\n",
    "        print(\"커피가 나옵니다. 뒤로 한 걸음 물러나주세요!\")\n",
    "    elif money > 5000:\n",
    "        print(\"거스름돈 %d원이 나오고, 커피가 나옵니다. 뒤로;;\"%(money - 5000))\n",
    "    else :\n",
    "        print(\"돈이 %d원 부족합니다. 커피는 나오지 않아요\"%(5000-money))\n",
    "        print(\"남은 커피는 %d 입니다. 맛있으니 기회를 놓치지 마세요\"%coffee)\n",
    "    if coffee == 0 :\n",
    "        print(\"커피가 다 떨어졌어요;;;담에 와주세요!!\")\n",
    "        break\n",
    "    "
   ]
  },
  {
   "cell_type": "code",
   "execution_count": 5,
   "metadata": {},
   "outputs": [
    {
     "name": "stdout",
     "output_type": "stream",
     "text": [
      "1\n",
      "3\n",
      "5\n",
      "7\n",
      "9\n"
     ]
    }
   ],
   "source": [
    "a = 0\n",
    "while a < 10:\n",
    "    a += 1\n",
    "    if a % 2 == 0: continue\n",
    "    print(a)"
   ]
  },
  {
   "cell_type": "code",
   "execution_count": 11,
   "metadata": {},
   "outputs": [
    {
     "name": "stdout",
     "output_type": "stream",
     "text": [
      "[3, 6, 9, 12, 15, 18, 21, 24, 27, 30, 33, 36, 39, 42, 45, 48, 51, 54, 57, 60, 63, 66, 69, 72, 75, 78, 81, 84, 87, 90, 93, 96, 99, 102, 105, 108, 111, 114, 117, 120, 123, 126, 129, 132, 135, 138, 141, 144, 147, 150, 153, 156, 159, 162, 165, 168, 171, 174, 177, 180, 183, 186, 189, 192, 195, 198, 201, 204, 207, 210, 213, 216, 219, 222, 225, 228, 231, 234, 237, 240, 243, 246, 249, 252, 255, 258, 261, 264, 267, 270, 273, 276, 279, 282, 285, 288, 291, 294, 297, 300]\n"
     ]
    }
   ],
   "source": [
    "result = []\n",
    "i = 1\n",
    "while i <= 300:\n",
    "    if i % 3 == 0 :\n",
    "        result.append(i)\n",
    "    i += 1\n",
    "print(result)"
   ]
  },
  {
   "cell_type": "code",
   "execution_count": null,
   "metadata": {},
   "outputs": [],
   "source": [
    "A = [20, 55, 67, 82, 45, 33, 90, 87, 100, 25]\n",
    "\n",
    "result = 0\n",
    "while A :\n",
    "    mark = A.pop()\n",
    "    if mark >= 50:\n",
    "        result += mark\n",
    "print(result)"
   ]
  },
  {
   "cell_type": "code",
   "execution_count": null,
   "metadata": {},
   "outputs": [],
   "source": [
    "A = [20, 55, 67, 82, 45, 33, 90, 87, 100, 25]\n",
    "\n",
    "i = 0\n",
    "while i <= len(A) :\n",
    "    mark = A[i]\n",
    "    if A[i] >= 50 :\n",
    "        result += mark\n",
    "        i += 1\n",
    "print(result)    "
   ]
  }
 ],
 "metadata": {
  "kernelspec": {
   "display_name": "Python 3",
   "language": "python",
   "name": "python3"
  },
  "language_info": {
   "codemirror_mode": {
    "name": "ipython",
    "version": 3
   },
   "file_extension": ".py",
   "mimetype": "text/x-python",
   "name": "python",
   "nbconvert_exporter": "python",
   "pygments_lexer": "ipython3",
   "version": "3.7.3"
  }
 },
 "nbformat": 4,
 "nbformat_minor": 2
}
