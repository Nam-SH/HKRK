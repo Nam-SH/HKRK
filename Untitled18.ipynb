{
 "cells": [
  {
   "cell_type": "code",
   "execution_count": 6,
   "metadata": {},
   "outputs": [],
   "source": [
    "import numpy as np"
   ]
  },
  {
   "cell_type": "code",
   "execution_count": 2,
   "metadata": {},
   "outputs": [
    {
     "name": "stdout",
     "output_type": "stream",
     "text": [
      "141\n",
      "10011\n"
     ]
    }
   ],
   "source": [
    "x = 1\n",
    "total = 0\n",
    "while 1:\n",
    "    total = total + x\n",
    "    if total >10000:\n",
    "        print(x)\n",
    "        print(total)\n",
    "        break\n",
    "    x = x + 1"
   ]
  },
  {
   "cell_type": "code",
   "execution_count": 3,
   "metadata": {},
   "outputs": [
    {
     "name": "stdout",
     "output_type": "stream",
     "text": [
      "6.0 7.0\n"
     ]
    }
   ],
   "source": [
    "a = 6 + 7j\n",
    "\n",
    "print(a.real, a.imag)"
   ]
  },
  {
   "cell_type": "code",
   "execution_count": 12,
   "metadata": {},
   "outputs": [
    {
     "name": "stdout",
     "output_type": "stream",
     "text": [
      "0b1101111 \n",
      " 0o157 \n",
      " 0x6f\n"
     ]
    }
   ],
   "source": [
    "b = 0x61\n",
    "c = 111\n",
    "\n",
    "print(bin(c),\"\\n\",oct(c),\"\\n\",hex(c))"
   ]
  },
  {
   "cell_type": "code",
   "execution_count": 15,
   "metadata": {},
   "outputs": [
    {
     "name": "stdout",
     "output_type": "stream",
     "text": [
      "i love\n",
      "    python, You love\n",
      "    python too!\n",
      "\n"
     ]
    }
   ],
   "source": [
    "strdata = \"\"\"i love\n",
    "    python, You love\n",
    "    python too!\n",
    "\"\"\"\n",
    "\n",
    "print(strdata)"
   ]
  },
  {
   "cell_type": "code",
   "execution_count": 1,
   "metadata": {},
   "outputs": [
    {
     "name": "stdout",
     "output_type": "stream",
     "text": [
      "진행률 100%"
     ]
    }
   ],
   "source": [
    "from time import sleep\n",
    "\n",
    "for i in range(100):\n",
    "    msg = '\\r진행률 %d%%'%(i+1)\n",
    "    print(' '*len(msg), end='')\n",
    "    print(msg, end='')\n",
    "    sleep(0.01)"
   ]
  },
  {
   "cell_type": "code",
   "execution_count": 9,
   "metadata": {},
   "outputs": [
    {
     "name": "stdout",
     "output_type": "stream",
     "text": [
      "()\n",
      "None\n",
      "(1, 3, 2, 5)\n",
      "None\n"
     ]
    }
   ],
   "source": [
    "def func1(*a) :\n",
    "    print(a)\n",
    "    \n",
    "print(func1())\n",
    "print(func1(1,3,2,5))"
   ]
  },
  {
   "cell_type": "code",
   "execution_count": 13,
   "metadata": {},
   "outputs": [
    {
     "name": "stdout",
     "output_type": "stream",
     "text": [
      "{'depth': 10, 'color': 20}\n",
      "None\n"
     ]
    }
   ],
   "source": [
    "def func2(width, height, **a):\n",
    "    print(a)\n",
    "    \n",
    "print(func2(23,11, depth=10, color=20))"
   ]
  },
  {
   "cell_type": "code",
   "execution_count": 16,
   "metadata": {},
   "outputs": [
    {
     "name": "stdout",
     "output_type": "stream",
     "text": [
      "<111331/124>는 몫이 <897>, 나머지가 <103>입니다.\n"
     ]
    }
   ],
   "source": [
    "a = 111331\n",
    "b = 124\n",
    "\n",
    "ret1, ret2 = divmod(a,b)\n",
    "\n",
    "print('<%d/%d>는 몫이 <%d>, 나머지가 <%d>입니다.'%(a,b,ret1,ret2))"
   ]
  },
  {
   "cell_type": "code",
   "execution_count": 24,
   "metadata": {},
   "outputs": [
    {
     "name": "stdout",
     "output_type": "stream",
     "text": [
      "실수형 숫자를 정수형 숫자로 변경하는 것은 int를 사용한다. 예시 : int(3.1) = 3\n",
      "정수형 숫자를 실수형 숫자로 변경하는 것은 float를 사용한다. 예시 : int(9) = 9.0\n"
     ]
    }
   ],
   "source": [
    "print(\"실수형 숫자를 정수형 숫자로 변경하는 것은 int를 사용한다. 예시 : int(3.1) =\",int(3.1))\n",
    "print(\"정수형 숫자를 실수형 숫자로 변경하는 것은 float를 사용한다. 예시 : int(9) =\",float(9))"
   ]
  },
  {
   "cell_type": "code",
   "execution_count": 35,
   "metadata": {},
   "outputs": [
    {
     "name": "stdout",
     "output_type": "stream",
     "text": [
      "[1, 2, 3, 5, 7, 11, 13]\n"
     ]
    }
   ],
   "source": [
    "def getPrime(x):\n",
    "    for i in range(2, x-1):\n",
    "        if x%i == 0:\n",
    "            break\n",
    "    else:\n",
    "        return x\n",
    "\n",
    "listdata = [1, 2, 3, 4, 5, 7, 9, 11, 13]\n",
    "ret = filter(getPrime, listdata)\n",
    "print(list(ret))            # [11113, 11119] 가 출력됨"
   ]
  },
  {
   "cell_type": "code",
   "execution_count": 65,
   "metadata": {},
   "outputs": [
    {
     "name": "stdout",
     "output_type": "stream",
     "text": [
      "[2, 3, 5, 7, 11, 13, 17, 19, 23, 29, 31, 37, 41, 43, 47, 53, 59, 61, 67, 71, 73, 79, 83, 89, 97, 101, 103, 107, 109, 113, 127, 131, 137, 139, 149, 151, 157, 163, 167, 173, 179, 181, 191, 193, 197, 199, 211, 223, 227, 229, 233, 239, 241, 251, 257, 263, 269, 271, 277, 281, 283, 293, 307, 311, 313, 317, 331, 337, 347, 349, 353, 359, 367, 373, 379, 383, 389, 397, 401, 409, 419, 421, 431, 433, 439, 443, 449, 457, 461, 463, 467, 479, 487, 491, 499, 503, 509, 521, 523, 541, 547, 557, 563, 569, 571, 577, 587, 593, 599, 601, 607, 613, 617, 619, 631, 641, 643, 647, 653, 659, 661, 673, 677, 683, 691, 701, 709, 719, 727, 733, 739, 743, 751, 757, 761, 769, 773, 787, 797, 809, 811, 821, 823, 827, 829, 839, 853, 857, 859, 863, 877, 881, 883, 887, 907, 911, 919, 929, 937, 941, 947, 953, 967, 971, 977, 983, 991, 997]\n"
     ]
    }
   ],
   "source": [
    "# 소수 찾기!!!\n",
    "def getPrime(x):\n",
    "    ret = [2]\n",
    "    if x <= 2:\n",
    "        return ret \n",
    "   \n",
    "    for i in range(3, x+1, 2):\n",
    "        for j in range(3, int(i/2), 2):\n",
    "            a = i%j\n",
    "            if a == 0:\n",
    "                break\n",
    "        else:\n",
    "            ret.append(i)\n",
    "    \n",
    "    return ret\n",
    "            \n",
    "            \n",
    "print(getPrime(1000))"
   ]
  },
  {
   "cell_type": "code",
   "execution_count": 71,
   "metadata": {},
   "outputs": [
    {
     "name": "stdout",
     "output_type": "stream",
     "text": [
      "abcdefghijk \n",
      " ABCDEFGHIJK\n"
     ]
    }
   ],
   "source": [
    "txt = 'aAbBcCdDeEfFgGhHiIjJkK'\n",
    "\n",
    "ret1 = txt[::2]\n",
    "ret2 = txt[1::2]\n",
    "print(ret1,'\\n',ret2)"
   ]
  },
  {
   "cell_type": "code",
   "execution_count": 93,
   "metadata": {},
   "outputs": [
    {
     "data": {
      "text/plain": [
       "False"
      ]
     },
     "execution_count": 93,
     "metadata": {},
     "output_type": "execute_result"
    }
   ],
   "source": [
    "ret1 = \"([1313],[1313],[1313])\"\n",
    "ret2 = (1,2,3)\n",
    "\n",
    "ret1.isdigit()"
   ]
  }
 ],
 "metadata": {
  "kernelspec": {
   "display_name": "Python 3",
   "language": "python",
   "name": "python3"
  },
  "language_info": {
   "codemirror_mode": {
    "name": "ipython",
    "version": 3
   },
   "file_extension": ".py",
   "mimetype": "text/x-python",
   "name": "python",
   "nbconvert_exporter": "python",
   "pygments_lexer": "ipython3",
   "version": "3.7.3"
  }
 },
 "nbformat": 4,
 "nbformat_minor": 2
}
