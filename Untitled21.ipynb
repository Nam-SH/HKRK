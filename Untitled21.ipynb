{
 "cells": [
  {
   "cell_type": "code",
   "execution_count": 5,
   "metadata": {},
   "outputs": [
    {
     "name": "stdout",
     "output_type": "stream",
     "text": [
      "Collecting somlib\n",
      "  Downloading https://files.pythonhosted.org/packages/28/c3/8d500699b256fda57c6ee2bee42cc34035fa30a71ed8b05e6fc9403fe9f2/somlib-0.0.4.tar.gz\n",
      "Requirement already satisfied: numpy in c:\\users\\gtsme\\anaconda3\\lib\\site-packages (from somlib) (1.16.3)\n",
      "Requirement already satisfied: tensorflow in c:\\users\\gtsme\\anaconda3\\lib\\site-packages (from somlib) (1.13.1)\n",
      "Requirement already satisfied: pandas in c:\\users\\gtsme\\anaconda3\\lib\\site-packages (from somlib) (0.24.2)\n",
      "Requirement already satisfied: scipy in c:\\users\\gtsme\\anaconda3\\lib\\site-packages (from somlib) (1.2.1)\n",
      "Requirement already satisfied: matplotlib in c:\\users\\gtsme\\anaconda3\\lib\\site-packages (from somlib) (3.0.3)\n",
      "Requirement already satisfied: protobuf>=3.6.1 in c:\\users\\gtsme\\anaconda3\\lib\\site-packages (from tensorflow->somlib) (3.7.1)\n",
      "Requirement already satisfied: absl-py>=0.1.6 in c:\\users\\gtsme\\anaconda3\\lib\\site-packages (from tensorflow->somlib) (0.7.1)\n",
      "Requirement already satisfied: tensorboard<1.14.0,>=1.13.0 in c:\\users\\gtsme\\anaconda3\\lib\\site-packages (from tensorflow->somlib) (1.13.1)\n",
      "Requirement already satisfied: six>=1.10.0 in c:\\users\\gtsme\\anaconda3\\lib\\site-packages (from tensorflow->somlib) (1.12.0)\n",
      "Requirement already satisfied: keras-applications>=1.0.6 in c:\\users\\gtsme\\anaconda3\\lib\\site-packages (from tensorflow->somlib) (1.0.7)\n",
      "Requirement already satisfied: tensorflow-estimator<1.14.0rc0,>=1.13.0 in c:\\users\\gtsme\\anaconda3\\lib\\site-packages (from tensorflow->somlib) (1.13.0)\n",
      "Requirement already satisfied: grpcio>=1.8.6 in c:\\users\\gtsme\\anaconda3\\lib\\site-packages (from tensorflow->somlib) (1.16.1)\n",
      "Requirement already satisfied: gast>=0.2.0 in c:\\users\\gtsme\\anaconda3\\lib\\site-packages (from tensorflow->somlib) (0.2.2)\n",
      "Requirement already satisfied: wheel>=0.26 in c:\\users\\gtsme\\anaconda3\\lib\\site-packages (from tensorflow->somlib) (0.33.2)\n",
      "Requirement already satisfied: keras-preprocessing>=1.0.5 in c:\\users\\gtsme\\anaconda3\\lib\\site-packages (from tensorflow->somlib) (1.0.9)\n",
      "Requirement already satisfied: termcolor>=1.1.0 in c:\\users\\gtsme\\anaconda3\\lib\\site-packages (from tensorflow->somlib) (1.1.0)\n",
      "Requirement already satisfied: astor>=0.6.0 in c:\\users\\gtsme\\anaconda3\\lib\\site-packages (from tensorflow->somlib) (0.7.1)\n",
      "Requirement already satisfied: pytz>=2011k in c:\\users\\gtsme\\anaconda3\\lib\\site-packages (from pandas->somlib) (2019.1)\n",
      "Requirement already satisfied: python-dateutil>=2.5.0 in c:\\users\\gtsme\\anaconda3\\lib\\site-packages (from pandas->somlib) (2.8.0)\n",
      "Requirement already satisfied: cycler>=0.10 in c:\\users\\gtsme\\anaconda3\\lib\\site-packages (from matplotlib->somlib) (0.10.0)\n",
      "Requirement already satisfied: kiwisolver>=1.0.1 in c:\\users\\gtsme\\anaconda3\\lib\\site-packages (from matplotlib->somlib) (1.1.0)\n",
      "Requirement already satisfied: pyparsing!=2.0.4,!=2.1.2,!=2.1.6,>=2.0.1 in c:\\users\\gtsme\\anaconda3\\lib\\site-packages (from matplotlib->somlib) (2.4.0)\n",
      "Requirement already satisfied: setuptools in c:\\users\\gtsme\\anaconda3\\lib\\site-packages (from protobuf>=3.6.1->tensorflow->somlib) (41.0.1)\n",
      "Requirement already satisfied: werkzeug>=0.11.15 in c:\\users\\gtsme\\anaconda3\\lib\\site-packages (from tensorboard<1.14.0,>=1.13.0->tensorflow->somlib) (0.15.2)\n",
      "Requirement already satisfied: markdown>=2.6.8 in c:\\users\\gtsme\\anaconda3\\lib\\site-packages (from tensorboard<1.14.0,>=1.13.0->tensorflow->somlib) (3.1)\n",
      "Requirement already satisfied: h5py in c:\\users\\gtsme\\anaconda3\\lib\\site-packages (from keras-applications>=1.0.6->tensorflow->somlib) (2.9.0)\n",
      "Building wheels for collected packages: somlib\n",
      "  Building wheel for somlib (setup.py): started\n",
      "  Building wheel for somlib (setup.py): finished with status 'done'\n",
      "  Stored in directory: C:\\Users\\gtsme\\AppData\\Local\\pip\\Cache\\wheels\\45\\40\\4a\\6827f911f9a36df3684974171ee500ae583b1ae6d4a6663b57\n",
      "Successfully built somlib\n",
      "Installing collected packages: somlib\n",
      "Successfully installed somlib-0.0.4\n",
      "Note: you may need to restart the kernel to use updated packages.\n"
     ]
    }
   ],
   "source": [
    "pip install somlib"
   ]
  },
  {
   "cell_type": "code",
   "execution_count": 5,
   "metadata": {},
   "outputs": [
    {
     "name": "stdout",
     "output_type": "stream",
     "text": [
      "Collecting pylab\n",
      "Note: you may need to restart the kernel to use updated packages.\n"
     ]
    },
    {
     "name": "stderr",
     "output_type": "stream",
     "text": [
      "  ERROR: Could not find a version that satisfies the requirement pylab (from versions: none)\n",
      "ERROR: No matching distribution found for pylab\n"
     ]
    }
   ],
   "source": [
    "pip install pylab"
   ]
  },
  {
   "cell_type": "code",
   "execution_count": 10,
   "metadata": {},
   "outputs": [],
   "source": [
    "import numpy as np\n",
    "\n",
    "from sklearn.datasets import load_digits\n",
    "from somlib import Som\n",
    "from pylab import plot, axis, show, pcolor, colorbar, bone\n",
    "\n"
   ]
  },
  {
   "cell_type": "code",
   "execution_count": 12,
   "metadata": {},
   "outputs": [],
   "source": [
    "digits = load_digits()\n",
    "data = digits.data\n",
    "labels = digits.target"
   ]
  },
  {
   "cell_type": "code",
   "execution_count": 14,
   "metadata": {},
   "outputs": [
    {
     "ename": "TypeError",
     "evalue": "'module' object is not callable",
     "output_type": "error",
     "traceback": [
      "\u001b[1;31m---------------------------------------------------------------------------\u001b[0m",
      "\u001b[1;31mTypeError\u001b[0m                                 Traceback (most recent call last)",
      "\u001b[1;32m<ipython-input-14-221880d31b93>\u001b[0m in \u001b[0;36m<module>\u001b[1;34m\u001b[0m\n\u001b[0;32m      1\u001b[0m \u001b[1;33m\u001b[0m\u001b[0m\n\u001b[1;32m----> 2\u001b[1;33m \u001b[0msom\u001b[0m \u001b[1;33m=\u001b[0m \u001b[0msom\u001b[0m\u001b[1;33m(\u001b[0m\u001b[1;36m16\u001b[0m\u001b[1;33m,\u001b[0m \u001b[1;36m16\u001b[0m\u001b[1;33m,\u001b[0m \u001b[1;36m64\u001b[0m\u001b[1;33m,\u001b[0m \u001b[0msigma\u001b[0m\u001b[1;33m=\u001b[0m\u001b[1;36m1.0\u001b[0m\u001b[1;33m,\u001b[0m \u001b[0mlearning_rate\u001b[0m\u001b[1;33m=\u001b[0m\u001b[1;36m0.5\u001b[0m\u001b[1;33m)\u001b[0m\u001b[1;33m\u001b[0m\u001b[1;33m\u001b[0m\u001b[0m\n\u001b[0m\u001b[0;32m      3\u001b[0m \u001b[0msom\u001b[0m\u001b[1;33m.\u001b[0m\u001b[0mrandom_weights_init\u001b[0m\u001b[1;33m(\u001b[0m\u001b[0mdata\u001b[0m\u001b[1;33m)\u001b[0m\u001b[1;33m\u001b[0m\u001b[1;33m\u001b[0m\u001b[0m\n\u001b[0;32m      4\u001b[0m \u001b[0mprint\u001b[0m\u001b[1;33m(\u001b[0m\u001b[1;34m\"Initiating SOM\"\u001b[0m\u001b[1;33m)\u001b[0m\u001b[1;33m\u001b[0m\u001b[1;33m\u001b[0m\u001b[0m\n",
      "\u001b[1;31mTypeError\u001b[0m: 'module' object is not callable"
     ]
    }
   ],
   "source": [
    "\n",
    "som = Som(16, 16, 64, sigma=1.0, learning_rate=0.5)\n",
    "om.random_weights_init(data)\n",
    "print(\"Initiating SOM\")"
   ]
  },
  {
   "cell_type": "code",
   "execution_count": 15,
   "metadata": {},
   "outputs": [
    {
     "ename": "AttributeError",
     "evalue": "module 'somlib.som' has no attribute 'train_random'",
     "output_type": "error",
     "traceback": [
      "\u001b[1;31m---------------------------------------------------------------------------\u001b[0m",
      "\u001b[1;31mAttributeError\u001b[0m                            Traceback (most recent call last)",
      "\u001b[1;32m<ipython-input-15-7085d3b5c864>\u001b[0m in \u001b[0;36m<module>\u001b[1;34m\u001b[0m\n\u001b[0;32m      1\u001b[0m \u001b[1;33m\u001b[0m\u001b[0m\n\u001b[1;32m----> 2\u001b[1;33m \u001b[0msom\u001b[0m\u001b[1;33m.\u001b[0m\u001b[0mtrain_random\u001b[0m\u001b[1;33m(\u001b[0m\u001b[0mdata\u001b[0m\u001b[1;33m,\u001b[0m \u001b[1;36m10000\u001b[0m\u001b[1;33m)\u001b[0m\u001b[1;33m\u001b[0m\u001b[1;33m\u001b[0m\u001b[0m\n\u001b[0m\u001b[0;32m      3\u001b[0m \u001b[0mprint\u001b[0m\u001b[1;33m(\u001b[0m\u001b[1;34m\"\\nSOM Processing Complete\"\u001b[0m\u001b[1;33m)\u001b[0m\u001b[1;33m\u001b[0m\u001b[1;33m\u001b[0m\u001b[0m\n\u001b[0;32m      4\u001b[0m \u001b[1;33m\u001b[0m\u001b[0m\n\u001b[0;32m      5\u001b[0m \u001b[0mbone\u001b[0m\u001b[1;33m(\u001b[0m\u001b[1;33m)\u001b[0m\u001b[1;33m\u001b[0m\u001b[1;33m\u001b[0m\u001b[0m\n",
      "\u001b[1;31mAttributeError\u001b[0m: module 'somlib.som' has no attribute 'train_random'"
     ]
    }
   ],
   "source": [
    "\n",
    "som.train_random(data, 10000)\n",
    "print(\"\\nSOM Processing Complete\")\n",
    "\n",
    "bone()\n",
    "pcolor(som.distance_map().T)\n",
    "colorbar()"
   ]
  }
 ],
 "metadata": {
  "kernelspec": {
   "display_name": "Python 3",
   "language": "python",
   "name": "python3"
  },
  "language_info": {
   "codemirror_mode": {
    "name": "ipython",
    "version": 3
   },
   "file_extension": ".py",
   "mimetype": "text/x-python",
   "name": "python",
   "nbconvert_exporter": "python",
   "pygments_lexer": "ipython3",
   "version": "3.7.3"
  }
 },
 "nbformat": 4,
 "nbformat_minor": 2
}
