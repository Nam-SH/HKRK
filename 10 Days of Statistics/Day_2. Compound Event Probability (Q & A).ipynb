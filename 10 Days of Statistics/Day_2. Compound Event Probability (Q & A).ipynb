{
 "cells": [
  {
   "cell_type": "markdown",
   "metadata": {},
   "source": [
    "# Day 2: Compound Event Probability (Q & A)\n",
    "\n",
    "`Task` \n",
    "There are `3` urns labeled `X`, `Y`, and `Z`. \n",
    "\n",
    "```\n",
    "Urn `X` contains `4` red balls and `3` black balls.\n",
    "Urn `Y` contains `5` red balls and `4` black balls.\n",
    "Urn `Z` contains `4` red balls and `4` black balls. \n",
    "```\n",
    "One ball is drawn from each of the `3` urns. What is the probability that, of the `3` balls drawn, `2` are red and `1` is black?\n",
    "\n",
    "```\n",
    "  1: 10 / 63\n",
    "  2: 2 / 7\n",
    "* 3: 17 / 42\n",
    "  4: 31 / 126\n",
    "```"
   ]
  }
 ],
 "metadata": {
  "kernelspec": {
   "display_name": "Python 3",
   "language": "python",
   "name": "python3"
  },
  "language_info": {
   "codemirror_mode": {
    "name": "ipython",
    "version": 3
   },
   "file_extension": ".py",
   "mimetype": "text/x-python",
   "name": "python",
   "nbconvert_exporter": "python",
   "pygments_lexer": "ipython3",
   "version": "3.7.4"
  },
  "toc": {
   "base_numbering": 1,
   "nav_menu": {},
   "number_sections": true,
   "sideBar": true,
   "skip_h1_title": false,
   "title_cell": "Table of Contents",
   "title_sidebar": "Contents",
   "toc_cell": false,
   "toc_position": {},
   "toc_section_display": true,
   "toc_window_display": false
  }
 },
 "nbformat": 4,
 "nbformat_minor": 4
}
