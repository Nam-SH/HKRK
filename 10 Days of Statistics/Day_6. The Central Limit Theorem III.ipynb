{
 "cells": [
  {
   "cell_type": "markdown",
   "metadata": {},
   "source": [
    "# Day_6. The Central Limit Theorem III\n",
    "\n",
    "`Task`\n",
    "\n",
    "You have a sample of `100` values from a population with mean `mu = 500` and with standard deviation `sigma = 80`. Compute the interval that covers the middle `95%` of the distribution of the sample mean; in other words, compute  `A` and `B` such that `P(A < x < B) = 0.95`. Use the value of `z = 1.96`. Note that `z` is the z-score.\n",
    "\n",
    "`Input Format`\n",
    "\n",
    "There are five lines of input (shown below):\n",
    "```\n",
    "100\n",
    "500\n",
    "80\n",
    ".95\n",
    "1.96\n",
    "```\n",
    "The first line contains the sample size. The second and third lines contain the respective mean(`mu`) and standard deviation(`sigma`). The fourth line contains the distribution percentage we want to cover (as a decimal), and the fifth line contains the value of `z`.\n",
    "\n",
    "If you do not wish to read this information from stdin, you can hard-code it into your program.\n",
    "\n",
    "`Output Format`\n",
    "\n",
    "Print the following two lines of output, rounded to a scale of `2` decimal places (i.e., 1.23 format):\n",
    "```\n",
    "On the first line, print the value of `A`.\n",
    "On the second line, print the value of `B`.\n",
    "```"
   ]
  },
  {
   "cell_type": "code",
   "execution_count": null,
   "metadata": {},
   "outputs": [],
   "source": [
    "from math import *\n",
    "\n",
    "n = 100\n",
    "mu = 500\n",
    "sigma = 80\n",
    "interbal = .95\n",
    "z_score = 1.96\n",
    "\n",
    "x_std = sigma / sqrt(n)\n",
    "\n",
    "print(mu - z_score * x_std)\n",
    "print(mu + z_score * x_std)"
   ]
  }
 ],
 "metadata": {
  "kernelspec": {
   "display_name": "Python 3",
   "language": "python",
   "name": "python3"
  },
  "language_info": {
   "codemirror_mode": {
    "name": "ipython",
    "version": 3
   },
   "file_extension": ".py",
   "mimetype": "text/x-python",
   "name": "python",
   "nbconvert_exporter": "python",
   "pygments_lexer": "ipython3",
   "version": "3.7.4"
  },
  "toc": {
   "base_numbering": 1,
   "nav_menu": {},
   "number_sections": true,
   "sideBar": true,
   "skip_h1_title": false,
   "title_cell": "Table of Contents",
   "title_sidebar": "Contents",
   "toc_cell": false,
   "toc_position": {},
   "toc_section_display": true,
   "toc_window_display": false
  }
 },
 "nbformat": 4,
 "nbformat_minor": 4
}
