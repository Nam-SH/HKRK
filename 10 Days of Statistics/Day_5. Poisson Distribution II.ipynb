{
 "cells": [
  {
   "cell_type": "markdown",
   "metadata": {},
   "source": [
    "# Day_5. Poisson Distribution II\n",
    "\n",
    "`Task`\n",
    "\n",
    "The manager of a industrial plant is planning to buy a machine of either type `A` or `B` type . For each day’s operation:\n",
    "\n",
    "The number of repairs, `X`, that machine `A` needs is a Poisson random variable with mean `0.88`. The daily cost of operating `A` is `Ca = 160 + 40X^2`.\n",
    "The number of repairs, , that machine `B` needs is a Poisson random variable with mean `1.55`. The daily cost of operating `B` is `Cb = 128 + 40Y^2`.\n",
    "Assume that the repairs take a negligible amount of time and the machines are maintained nightly to ensure that they operate like new at the start of each day. Find and print the expected daily cost for each machine.\n",
    "\n",
    "`Input Format`\n",
    "\n",
    "A single line comprised of  space-separated values denoting the respective means for `A` and `B`:\n",
    "```\n",
    "0.88 1.55\n",
    "```\n",
    "If you do not wish to read this information from stdin, you can hard-code it into your program.\n",
    "\n",
    "`Output Format`\n",
    "\n",
    "There are two lines of output. Your answers must be rounded to a scale of `3` decimal places (i.e., 1.234 format):\n",
    "\n",
    "On the first line, print the expected daily cost of machine `A`.\n",
    "On the second line, print the expected daily cost of machine `B`."
   ]
  },
  {
   "cell_type": "code",
   "execution_count": null,
   "metadata": {},
   "outputs": [],
   "source": [
    "X, Y  = [float(i) for i in input().split(' ')]\n",
    "\n",
    "Ca = 160 + 40 * (X + X ** 2)\n",
    "Cb = 128 + 40 * (Y + Y ** 2)\n",
    "\n",
    "print(f'{Ca:.3f}')\n",
    "print(f'{Cb:.3f}')"
   ]
  }
 ],
 "metadata": {
  "kernelspec": {
   "display_name": "Python 3",
   "language": "python",
   "name": "python3"
  },
  "language_info": {
   "codemirror_mode": {
    "name": "ipython",
    "version": 3
   },
   "file_extension": ".py",
   "mimetype": "text/x-python",
   "name": "python",
   "nbconvert_exporter": "python",
   "pygments_lexer": "ipython3",
   "version": "3.7.4"
  },
  "toc": {
   "base_numbering": 1,
   "nav_menu": {},
   "number_sections": true,
   "sideBar": true,
   "skip_h1_title": false,
   "title_cell": "Table of Contents",
   "title_sidebar": "Contents",
   "toc_cell": false,
   "toc_position": {},
   "toc_section_display": true,
   "toc_window_display": false
  }
 },
 "nbformat": 4,
 "nbformat_minor": 4
}
