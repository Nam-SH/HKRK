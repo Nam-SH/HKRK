{
 "cells": [
  {
   "cell_type": "markdown",
   "metadata": {},
   "source": [
    "# Day 1: Interquartile Range\n",
    "\n",
    "Task \n",
    "The interquartile range of an array is the difference between its first (`Q1`) and third (`Q3`) quartiles (i.e., `Q3 - Q1`).\n",
    "\n",
    "Given an array, `X`, `n` of  integers and an array, `F`, representing the respective frequencies of `X`'s elements, construct a data set, `S`, where each `xi` occurs at frequency `fi`. Then calculate and print `S`'s interquartile range, rounded to a scale of `1` decimal place (i.e., 12.3 format).\n",
    "\n",
    "Tip: Be careful to not use integer division when averaging the middle two elements for a data set with an even number of elements, and be sure to not include the median in your upper and lower data sets.\n",
    "\n",
    "`Input Format`\n",
    "\n",
    "1. The first line contains an integer, `n`, denoting the number of elements in arrays `X` and `F`. \n",
    "2. The second line contains `n` space-separated integers describing the respective elements of array `X`. \n",
    "3. The third line contains `n` space-separated integers describing the respective elements of array `F`.\n",
    "\n",
    "`Output Format`\n",
    "\n",
    "Print the interquartile range for the expanded data set on a new line. Round your answer to a scale of `1` decimal place (i.e., 12.3 format).\n",
    "\n",
    "`Sample Input`\n",
    "```\n",
    "6\n",
    "6 12 8 10 20 16\n",
    "5 4 3 2 1 5\n",
    "```\n",
    "`Sample Output`\n",
    "```\n",
    "9.0\n",
    "```"
   ]
  },
  {
   "cell_type": "code",
   "execution_count": null,
   "metadata": {},
   "outputs": [],
   "source": [
    "n = int(input())\n",
    "X = input().split()\n",
    "F = list(map(int, input().split()))\n",
    "\n",
    "XF = []\n",
    "for x, f in zip(X, F):\n",
    "    for i in range(f):\n",
    "        XF.append(x)\n",
    "\n",
    "XF = sorted(list(map(int, XF)))\n",
    "\n",
    "\n",
    "def odd(x):\n",
    "    idx = len(x) // 2\n",
    "    return x[idx]\n",
    "\n",
    "\n",
    "def even(x):\n",
    "    idx = len(x) // 2\n",
    "    return (x[idx - 1] + x[idx]) / 2\n",
    "\n",
    "\n",
    "idx = len(XF) // 2\n",
    "if len(XF) % 2:\n",
    "    Q2 = odd(XF)\n",
    "    if len(XF[:idx]) % 2:\n",
    "        Q1 = odd(XF[:idx])\n",
    "        Q3 = odd(XF[idx + 1:])\n",
    "    else:\n",
    "        Q1 = even(XF[:idx])\n",
    "        Q3 = even(XF[idx + 1:])\n",
    "\n",
    "else:\n",
    "    Q2 = even(XF)\n",
    "    if len(XF[:idx]) % 2:\n",
    "        Q1 = odd(XF[:idx])\n",
    "        Q3 = odd(XF[idx:])\n",
    "    else:\n",
    "        Q1 = even(XF[:idx])\n",
    "        Q3 = even(XF[idx:])\n",
    "\n",
    "print(f'{Q3 - Q1:.1f}')"
   ]
  },
  {
   "cell_type": "code",
   "execution_count": 9,
   "metadata": {},
   "outputs": [
    {
     "data": {
      "text/plain": [
       "(0.5, -1.2788686631004935, 2.2788686631004937)"
      ]
     },
     "execution_count": 9,
     "metadata": {},
     "output_type": "execute_result"
    }
   ],
   "source": [
    "import numpy as np\n",
    "import scipy.stats\n",
    "\n",
    "\n",
    "def mean_confidence_interval(data, confidence=0.95):\n",
    "    a = 1.0 * np.array(data)\n",
    "    n = len(a)\n",
    "    m, se = np.mean(a), scipy.stats.sem(a)\n",
    "    h = se * scipy.stats.t.ppf((1 + confidence) / 2., n-1)\n",
    "    return m, m-h, m+h\n",
    "\n",
    "mean_confidence_interval([0.64, 0.36])"
   ]
  }
 ],
 "metadata": {
  "kernelspec": {
   "display_name": "Python 3",
   "language": "python",
   "name": "python3"
  },
  "language_info": {
   "codemirror_mode": {
    "name": "ipython",
    "version": 3
   },
   "file_extension": ".py",
   "mimetype": "text/x-python",
   "name": "python",
   "nbconvert_exporter": "python",
   "pygments_lexer": "ipython3",
   "version": "3.7.6"
  },
  "toc": {
   "base_numbering": 1,
   "nav_menu": {},
   "number_sections": true,
   "sideBar": true,
   "skip_h1_title": false,
   "title_cell": "Table of Contents",
   "title_sidebar": "Contents",
   "toc_cell": false,
   "toc_position": {},
   "toc_section_display": true,
   "toc_window_display": false
  },
  "varInspector": {
   "cols": {
    "lenName": 16,
    "lenType": 16,
    "lenVar": 40
   },
   "kernels_config": {
    "python": {
     "delete_cmd_postfix": "",
     "delete_cmd_prefix": "del ",
     "library": "var_list.py",
     "varRefreshCmd": "print(var_dic_list())"
    },
    "r": {
     "delete_cmd_postfix": ") ",
     "delete_cmd_prefix": "rm(",
     "library": "var_list.r",
     "varRefreshCmd": "cat(var_dic_list()) "
    }
   },
   "types_to_exclude": [
    "module",
    "function",
    "builtin_function_or_method",
    "instance",
    "_Feature"
   ],
   "window_display": false
  }
 },
 "nbformat": 4,
 "nbformat_minor": 4
}
