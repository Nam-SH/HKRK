{
 "cells": [
  {
   "cell_type": "markdown",
   "metadata": {},
   "source": [
    "# Day 0: Mean, Median, and Mode\n",
    "\n",
    "\n",
    "`Task `\n",
    "Given an array, `X`, `N` of  integers, calculate and print the respective mean, median, and mode on separate lines. If your array contains more than one modal value, choose the numerically smallest one.\n",
    "\n",
    "`Note`: Other than the modal value (which will always be an integer), your answers should be in decimal form, rounded to a scale of `1` decimal place (i.e., 12.3, 7.0 format).\n",
    "\n",
    "`Input Format`\n",
    "\n",
    "The first line contains an integer, `N`, denoting the number of elements in the array. \n",
    "The second line contains `N` space-separated integers describing the array's elements.\n",
    "\n",
    "`Output Format`\n",
    "\n",
    "Print `3` lines of output in the following order:\n",
    "\n",
    "1. Print the mean on a new line, to a scale of `1` decimal place (i.e., 12.3, 7.0).\n",
    "2. Print the median on a new line, to a scale of `1` decimal place (i.e., 12.3, 7.1).\n",
    "3. Print the mode on a new line; if more than one such value exists, print the numerically smallest one.\n",
    "\n",
    "`Sample Input`\n",
    "```\n",
    "10\n",
    "64630 11735 14216 99233 14470 4978 73429 38120 51135 67060\n",
    "```\n",
    "`Sample Output`\n",
    "```\n",
    "43900.6\n",
    "44627.5\n",
    "4978\n",
    "```"
   ]
  },
  {
   "cell_type": "code",
   "execution_count": null,
   "metadata": {},
   "outputs": [],
   "source": [
    "num_length = int(input())\n",
    "numbers = list(map(int, input().split()))\n",
    "\n",
    "\n",
    "#mean\n",
    "num_sum = 0\n",
    "for number in numbers:\n",
    "    num_sum += number\n",
    "x_mean = num_sum / num_length\n",
    "\n",
    "#median\n",
    "index = num_length//2\n",
    "x_median = (sorted(numbers)[index] + sorted(numbers)[index-1])/2\n",
    "\n",
    "#mode\n",
    "input_dict = {x: numbers.count(x) for x in numbers}\n",
    "\n",
    "x_mode = 0 \n",
    "x_val = 0\n",
    "for key, val in input_dict.items():\n",
    "     \n",
    "    if val > x_val or (val == x_val and key < x_mode):\n",
    "        x_mode = key\n",
    "        x_val = val\n",
    "\n",
    "print(f'{x_mean:.1f}')\n",
    "print(f'{x_median:.1f}')\n",
    "print(f'{x_mode:.1f}')"
   ]
  }
 ],
 "metadata": {
  "kernelspec": {
   "display_name": "Python 3",
   "language": "python",
   "name": "python3"
  },
  "language_info": {
   "codemirror_mode": {
    "name": "ipython",
    "version": 3
   },
   "file_extension": ".py",
   "mimetype": "text/x-python",
   "name": "python",
   "nbconvert_exporter": "python",
   "pygments_lexer": "ipython3",
   "version": "3.7.6"
  },
  "toc": {
   "base_numbering": 1,
   "nav_menu": {},
   "number_sections": true,
   "sideBar": true,
   "skip_h1_title": false,
   "title_cell": "Table of Contents",
   "title_sidebar": "Contents",
   "toc_cell": false,
   "toc_position": {},
   "toc_section_display": true,
   "toc_window_display": false
  },
  "varInspector": {
   "cols": {
    "lenName": 16,
    "lenType": 16,
    "lenVar": 40
   },
   "kernels_config": {
    "python": {
     "delete_cmd_postfix": "",
     "delete_cmd_prefix": "del ",
     "library": "var_list.py",
     "varRefreshCmd": "print(var_dic_list())"
    },
    "r": {
     "delete_cmd_postfix": ") ",
     "delete_cmd_prefix": "rm(",
     "library": "var_list.r",
     "varRefreshCmd": "cat(var_dic_list()) "
    }
   },
   "types_to_exclude": [
    "module",
    "function",
    "builtin_function_or_method",
    "instance",
    "_Feature"
   ],
   "window_display": false
  }
 },
 "nbformat": 4,
 "nbformat_minor": 4
}
