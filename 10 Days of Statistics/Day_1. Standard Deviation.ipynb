{
 "cells": [
  {
   "cell_type": "markdown",
   "metadata": {},
   "source": [
    "# Day 1: Standard Deviation\n",
    "\n",
    "`Task `\n",
    "Given an array, `X`, of `N` integers, calculate and print the standard deviation. Your answer should be in decimal form, rounded to a scale of `1` decimal place (i.e., 12.3 format). An error margin of `+-0.1` will be tolerated for the standard deviation.\n",
    "\n",
    "`Input Format`\n",
    "\n",
    "The first line contains an integer, `N`, denoting the number of elements in the array. \n",
    "The second line contains `N` space-separated integers describing the respective elements of the array.\n",
    "\n",
    "`Output Format`\n",
    "\n",
    "Print the standard deviation on a new line, rounded to a scale of `1` decimal place (i.e., 12.3 format).\n",
    "\n",
    "`Sample Input`\n",
    "```\n",
    "5\n",
    "10 40 30 50 20\n",
    "```\n",
    "`Sample Output`\n",
    "```\n",
    "14.1\n",
    "```"
   ]
  },
  {
   "cell_type": "code",
   "execution_count": null,
   "metadata": {},
   "outputs": [],
   "source": [
    "N = int(input())\n",
    "elemts = list(map(int, input().split()))\n",
    "\n",
    "mu = sum(elemts)/N\n",
    "\n",
    "var = sum(map(lambda x: (x-mu)**2, elemts))/N\n",
    "sigma = var ** (1 / 2)\n",
    "\n",
    "print(f'{sigma:.1f}')"
   ]
  }
 ],
 "metadata": {
  "kernelspec": {
   "display_name": "Python 3",
   "language": "python",
   "name": "python3"
  },
  "language_info": {
   "codemirror_mode": {
    "name": "ipython",
    "version": 3
   },
   "file_extension": ".py",
   "mimetype": "text/x-python",
   "name": "python",
   "nbconvert_exporter": "python",
   "pygments_lexer": "ipython3",
   "version": "3.7.4"
  },
  "toc": {
   "base_numbering": 1,
   "nav_menu": {},
   "number_sections": true,
   "sideBar": true,
   "skip_h1_title": false,
   "title_cell": "Table of Contents",
   "title_sidebar": "Contents",
   "toc_cell": false,
   "toc_position": {},
   "toc_section_display": true,
   "toc_window_display": false
  }
 },
 "nbformat": 4,
 "nbformat_minor": 4
}
