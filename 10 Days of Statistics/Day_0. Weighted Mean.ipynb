{
 "cells": [
  {
   "cell_type": "markdown",
   "metadata": {},
   "source": [
    "# Day 0: Weighted Mean\n",
    "\n",
    "`Task `\n",
    "Given an array, X, N of  integers and an array, W, representing the respective weights of X's elements, calculate and print the weighted mean of X's elements. Your answer should be rounded to a scale of `1` decimal place (i.e.,12.3  format).\n",
    "\n",
    "`Input Format`\n",
    "\n",
    "The first line contains an integer, N, denoting the number of elements in arrays `X` and `W`. \n",
    "The second line contains `N` space-separated integers describing the respective elements of array `X`. \n",
    "The third line contains `N` space-separated integers describing the respective elements of array `W`.\n",
    "\n",
    "`Output Format`\n",
    "\n",
    "Print the weighted mean on a new line. Your answer should be rounded to a scale of `1` decimal place (i.e., 12.3 format).\n",
    "\n",
    "`Sample Input`\n",
    "```\n",
    "5\n",
    "10 40 30 50 20\n",
    "1 2 3 4 5\n",
    "```\n",
    "`Sample Output`\n",
    "```\n",
    "32.0\n",
    "```"
   ]
  },
  {
   "cell_type": "code",
   "execution_count": null,
   "metadata": {},
   "outputs": [],
   "source": [
    "count = int(input())\n",
    "Xs = list(map(int, input().split()))\n",
    "Ws = list(map(int, input().split()))\n",
    "\n",
    "w_sum = 0\n",
    "for x, w in zip(Xs, Ws):\n",
    "    w_sum += int(x)*int(w)\n",
    "    \n",
    "w_mean = w_sum/sum(Ws)\n",
    "    \n",
    "print(f'{w_mean:.1f}')"
   ]
  }
 ],
 "metadata": {
  "kernelspec": {
   "display_name": "Python 3",
   "language": "python",
   "name": "python3"
  },
  "language_info": {
   "codemirror_mode": {
    "name": "ipython",
    "version": 3
   },
   "file_extension": ".py",
   "mimetype": "text/x-python",
   "name": "python",
   "nbconvert_exporter": "python",
   "pygments_lexer": "ipython3",
   "version": "3.7.6"
  },
  "toc": {
   "base_numbering": 1,
   "nav_menu": {},
   "number_sections": true,
   "sideBar": true,
   "skip_h1_title": false,
   "title_cell": "Table of Contents",
   "title_sidebar": "Contents",
   "toc_cell": false,
   "toc_position": {},
   "toc_section_display": true,
   "toc_window_display": false
  },
  "varInspector": {
   "cols": {
    "lenName": 16,
    "lenType": 16,
    "lenVar": 40
   },
   "kernels_config": {
    "python": {
     "delete_cmd_postfix": "",
     "delete_cmd_prefix": "del ",
     "library": "var_list.py",
     "varRefreshCmd": "print(var_dic_list())"
    },
    "r": {
     "delete_cmd_postfix": ") ",
     "delete_cmd_prefix": "rm(",
     "library": "var_list.r",
     "varRefreshCmd": "cat(var_dic_list()) "
    }
   },
   "types_to_exclude": [
    "module",
    "function",
    "builtin_function_or_method",
    "instance",
    "_Feature"
   ],
   "window_display": false
  }
 },
 "nbformat": 4,
 "nbformat_minor": 4
}
