{
 "cells": [
  {
   "cell_type": "markdown",
   "metadata": {},
   "source": [
    "# Day_5. Normal Distribution I\n",
    "\n",
    "`Task`\n",
    "\n",
    "In a certain plant, the time taken to assemble a car is a random variable, `X`, having a normal distribution with a mean of `20` hours and a standard deviation of `2` hours. What is the probability that a car can be assembled at this plant in:\n",
    "```\n",
    "Less than `19.5` hours?\n",
    "Between `20` and `22` hours?\n",
    "```\n",
    "\n",
    "`Input Format`\n",
    "\n",
    "There are `3` lines of input (shown below):\n",
    "```\n",
    "20 2\n",
    "19.5\n",
    "20 22\n",
    "```\n",
    "The first line contains `2` space-separated values denoting the respective mean and standard deviation for `X`. The second line contains the number associated with question `1`. The third line contains `2` space-separated values describing the respective lower and upper range boundaries for question `2`.\n",
    "\n",
    "If you do not wish to read this information from stdin, you can hard-code it into your program.\n",
    "\n",
    "`Output Format`\n",
    "\n",
    "There are two lines of output. Your answers must be rounded to a scale of `3` decimal places (i.e., 1.234 format):\n",
    "\n",
    "On the first line, print the answer to question `1` (i.e., the probability that a car can be assembled in less than  `19.5`hours).\n",
    "On the second line, print the answer to question `2` (i.e., the probability that a car can be assembled in between `20` to `22` hours)."
   ]
  },
  {
   "cell_type": "code",
   "execution_count": null,
   "metadata": {},
   "outputs": [],
   "source": [
    "from math import *\n",
    "\n",
    "mean, std = list(map(int, input().split()))\n",
    "\n",
    "a = float(input())\n",
    "b, c = list(map(float, input().split()))\n",
    "\n",
    "cdf = lambda x: 0.5 * (1 + erf((x - mean) / (std * sqrt(2))))\n",
    "\n",
    "print(f'{cdf(a):.3f}')\n",
    "print(f'{cdf(c) - cdf(b):.3f}')"
   ]
  }
 ],
 "metadata": {
  "kernelspec": {
   "display_name": "Python 3",
   "language": "python",
   "name": "python3"
  },
  "language_info": {
   "codemirror_mode": {
    "name": "ipython",
    "version": 3
   },
   "file_extension": ".py",
   "mimetype": "text/x-python",
   "name": "python",
   "nbconvert_exporter": "python",
   "pygments_lexer": "ipython3",
   "version": "3.7.4"
  },
  "toc": {
   "base_numbering": 1,
   "nav_menu": {},
   "number_sections": true,
   "sideBar": true,
   "skip_h1_title": false,
   "title_cell": "Table of Contents",
   "title_sidebar": "Contents",
   "toc_cell": false,
   "toc_position": {},
   "toc_section_display": true,
   "toc_window_display": false
  }
 },
 "nbformat": 4,
 "nbformat_minor": 4
}
