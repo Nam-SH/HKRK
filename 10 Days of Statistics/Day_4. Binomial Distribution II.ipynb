{
 "cells": [
  {
   "cell_type": "markdown",
   "metadata": {},
   "source": [
    "# Day_4. Binomial Distribution II\n",
    "\n",
    "`Task`\n",
    "A manufacturer of metal pistons finds that, on average, `12%` of the pistons they manufacture are rejected because they are incorrectly sized. What is the probability that a batch of  `10` pistons will contain:\n",
    "\n",
    "1. No more than `2` rejects?\n",
    "2 At least `2` rejects?\n",
    "\n",
    "`Input Format`\n",
    "\n",
    "A single line containing the following values (denoting the respective percentage of defective pistons and the size of the current batch of pistons):\n",
    "```\n",
    "12 10\n",
    "```\n",
    "If you do not wish to read this information from stdin, you can hard-code it into your program.\n",
    "\n",
    "`Output Format`\n",
    "\n",
    "Print the answer to each question on its own line:\n",
    "```\n",
    "The first line should contain the probability that a batch of `10` pistons will contain no more than `2` rejects.\n",
    "The second line should contain the probability that a batch of `10` pistons will contain at least `2` rejects.\n",
    "Round both of your answers to a scale of `3` decimal places (i.e., 1.234 format).\n",
    "```"
   ]
  },
  {
   "cell_type": "code",
   "execution_count": null,
   "metadata": {},
   "outputs": [],
   "source": [
    "def factorial(n):\n",
    "    return 1 if n == 0 else n * factorial(n - 1)\n",
    "\n",
    "def first(n, x):\n",
    "    return factorial(n) / (factorial(x) * factorial(n - x))\n",
    "\n",
    "def second(x, n, p):\n",
    "    return first(n, x) * p ** x * (1 - p) ** (n - x)\n",
    "\n",
    "\n",
    "p, n = list(map(int, input().split()))\n",
    "\n",
    "print(f'{sum([second(x, n, p / 100) for x in range(3)]):.3f}')\n",
    "print(f'{sum([second(x, n, p / 100) for x in range(2, n + 1)]):.3f}')"
   ]
  }
 ],
 "metadata": {
  "kernelspec": {
   "display_name": "Python 3",
   "language": "python",
   "name": "python3"
  },
  "language_info": {
   "codemirror_mode": {
    "name": "ipython",
    "version": 3
   },
   "file_extension": ".py",
   "mimetype": "text/x-python",
   "name": "python",
   "nbconvert_exporter": "python",
   "pygments_lexer": "ipython3",
   "version": "3.7.4"
  },
  "toc": {
   "base_numbering": 1,
   "nav_menu": {},
   "number_sections": true,
   "sideBar": true,
   "skip_h1_title": false,
   "title_cell": "Table of Contents",
   "title_sidebar": "Contents",
   "toc_cell": false,
   "toc_position": {},
   "toc_section_display": true,
   "toc_window_display": false
  }
 },
 "nbformat": 4,
 "nbformat_minor": 4
}
