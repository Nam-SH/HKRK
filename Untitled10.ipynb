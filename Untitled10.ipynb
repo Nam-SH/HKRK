{
 "cells": [
  {
   "cell_type": "code",
   "execution_count": 8,
   "metadata": {},
   "outputs": [
    {
     "name": "stdout",
     "output_type": "stream",
     "text": [
      "총 페이지부:[327]\n"
     ]
    }
   ],
   "source": [
    "pageviews = 0\n",
    "\n",
    "with open('C:/jupyter/file/access_log', 'r') as f:\n",
    "    logs = f.readlines()\n",
    "    for log in logs:\n",
    "        log = log.split()\n",
    "        status = log[8]\n",
    "        if status =='200' :\n",
    "            pageviews += 1\n",
    "            \n",
    "print('총 페이지부:[%d]'%pageviews)"
   ]
  },
  {
   "cell_type": "code",
   "execution_count": 19,
   "metadata": {},
   "outputs": [
    {
     "name": "stdout",
     "output_type": "stream",
     "text": [
      "고유 방문자 수:[99]\n"
     ]
    }
   ],
   "source": [
    "visit_ip = []\n",
    "\n",
    "with open('C:/jupyter/file/access_log', 'r') as f:\n",
    "    logs = f.readlines()\n",
    "    for log in logs:\n",
    "        log = log.split()\n",
    "        ip = log[0]\n",
    "        if ip not in visit_ip:\n",
    "            visit_ip.append(ip)\n",
    "            \n",
    "print(\"고유 방문자 수:[%d]\" %len(visit_ip))"
   ]
  },
  {
   "cell_type": "code",
   "execution_count": 9,
   "metadata": {},
   "outputs": [
    {
     "name": "stdin",
     "output_type": "stream",
     "text": [
      "아무 숫자나 입력 123456789\n"
     ]
    },
    {
     "name": "stdout",
     "output_type": "stream",
     "text": [
      "num거꾸로 : 987654321\n",
      "ret 빈 거 : \n",
      "9\n",
      "98\n",
      "i의 길이와 num길이 다르고, 3으로 나누어 떨어질 때 ret : 987,\n",
      "987,6\n",
      "987,65\n",
      "i의 길이와 num길이 다르고, 3으로 나누어 떨어질 때 ret : 987,654,\n",
      "987,654,3\n",
      "987,654,32\n",
      "987,654,321\n",
      "ret을 다시 거꾸로 : 123,456,789\n"
     ]
    }
   ],
   "source": [
    "num = input('아무 숫자나 입력')\n",
    "\n",
    "if num.isdigit():\n",
    "    num = num[::-1]\n",
    "    print('num거꾸로 :',num)\n",
    "    ret = ''\n",
    "    print('ret 빈 거 :',ret)\n",
    "    for i,c in enumerate(num):\n",
    "        i += 1\n",
    "        if i != len(num) and i%3 == 0:\n",
    "            ret += (c +',')\n",
    "            print('i의 길이와 num길이 다르고, 3으로 나누어 떨어질 때 ret :',ret)\n",
    "        else:\n",
    "            ret += c\n",
    "            print(ret)\n",
    "    ret = ret[::-1]\n",
    "    print('ret을 다시 거꾸로 :',ret)\n",
    "else:\n",
    "    print(\"입력한 [%s]는 숫자 아님;;\"%num)"
   ]
  },
  {
   "cell_type": "code",
   "execution_count": 10,
   "metadata": {},
   "outputs": [
    {
     "name": "stdin",
     "output_type": "stream",
     "text": [
      "아무 숫자를 입력하세요:  1234\n"
     ]
    },
    {
     "name": "stdout",
     "output_type": "stream",
     "text": [
      "1,234\n"
     ]
    }
   ],
   "source": [
    "num = input('아무 숫자를 입력하세요: ')\n",
    "\n",
    "if num.isdigit():\n",
    "    num = num[::-1]\n",
    "    ret = ''\n",
    "    for i, c in enumerate(num):\n",
    "        i += 1\n",
    "        if i != len(num) and i%3 == 0:\n",
    "            ret += (c + ',')\n",
    "        else:\n",
    "            ret += c\n",
    "    ret = ret[::-1]\n",
    "    print(ret)\n",
    "else:\n",
    "    print('입력한 내용 [%s]: 숫자가 아닙니다.' %num)"
   ]
  },
  {
   "cell_type": "code",
   "execution_count": 12,
   "metadata": {},
   "outputs": [
    {
     "name": "stdin",
     "output_type": "stream",
     "text": [
      "문장을 입력하시오 안녕하세요\n"
     ]
    },
    {
     "name": "stdout",
     "output_type": "stream",
     "text": [
      "녕하세요안\n"
     ]
    }
   ],
   "source": [
    "text = input(\"문장을 입력하시오\")\n",
    "\n",
    "ret = ''\n",
    "for i in range(len(text)):\n",
    "    if i != len(text)-1 :\n",
    "        ret += text[i+1]\n",
    "    else:\n",
    "        ret += text[0]\n",
    "        \n",
    "print(ret)"
   ]
  }
 ],
 "metadata": {
  "kernelspec": {
   "display_name": "Python 3",
   "language": "python",
   "name": "python3"
  },
  "language_info": {
   "codemirror_mode": {
    "name": "ipython",
    "version": 3
   },
   "file_extension": ".py",
   "mimetype": "text/x-python",
   "name": "python",
   "nbconvert_exporter": "python",
   "pygments_lexer": "ipython3",
   "version": "3.7.3"
  }
 },
 "nbformat": 4,
 "nbformat_minor": 2
}
