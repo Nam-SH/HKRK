{
 "cells": [
  {
   "cell_type": "code",
   "execution_count": 1,
   "metadata": {},
   "outputs": [
    {
     "name": "stdout",
     "output_type": "stream",
     "text": [
      "리스트에 추가할 값을 입력하세요!!![1/3]:3\n",
      "['3']\n",
      "리스트에 추가할 값을 입력하세요!!![2/3]:5\n",
      "['3', '5']\n",
      "리스트에 추가할 값을 입력하세요!!![3/3]:7\n",
      "['3', '5', '7']\n"
     ]
    }
   ],
   "source": [
    "listdata = []\n",
    "\n",
    "for i in range(3):\n",
    "    txt = input(\"리스트에 추가할 값을 입력하세요!!![%d/3]:\"%(i+1))\n",
    "    listdata.append(txt)\n",
    "    print(listdata)"
   ]
  },
  {
   "cell_type": "code",
   "execution_count": 3,
   "metadata": {},
   "outputs": [
    {
     "name": "stdout",
     "output_type": "stream",
     "text": [
      "['태양', '수성', '금성', '지구', '화성', '소행성', '목성', '토성']\n"
     ]
    }
   ],
   "source": [
    "solarsys = ['태양','수성','금성','지구','화성','목성','토성']\n",
    "pos = solarsys.index('목성')\n",
    "solarsys.insert(pos,'소행성')\n",
    "print(solarsys)"
   ]
  },
  {
   "cell_type": "code",
   "execution_count": 7,
   "metadata": {},
   "outputs": [
    {
     "name": "stdout",
     "output_type": "stream",
     "text": [
      "['수성', '금성', '지구', '화성', '목성', '토성']\n",
      "['수성', '금성', '지구', '화성', '토성']\n"
     ]
    }
   ],
   "source": [
    "solarsys = ['태양','수성','금성','지구','화성','목성','토성']\n",
    "\n",
    "del solarsys[0]\n",
    "print(solarsys)\n",
    "\n",
    "del solarsys[-2]\n",
    "print(solarsys)"
   ]
  },
  {
   "cell_type": "code",
   "execution_count": 10,
   "metadata": {},
   "outputs": [
    {
     "ename": "NameError",
     "evalue": "name 'listdata' is not defined",
     "output_type": "error",
     "traceback": [
      "\u001b[1;31m---------------------------------------------------------------------------\u001b[0m",
      "\u001b[1;31mNameError\u001b[0m                                 Traceback (most recent call last)",
      "\u001b[1;32m<ipython-input-10-e917f76c03e1>\u001b[0m in \u001b[0;36m<module>\u001b[1;34m\u001b[0m\n\u001b[0;32m      5\u001b[0m \u001b[1;32mdel\u001b[0m \u001b[0mlistdata\u001b[0m\u001b[1;33m\u001b[0m\u001b[1;33m\u001b[0m\u001b[0m\n\u001b[0;32m      6\u001b[0m \u001b[1;33m\u001b[0m\u001b[0m\n\u001b[1;32m----> 7\u001b[1;33m \u001b[0mprint\u001b[0m\u001b[1;33m(\u001b[0m\u001b[0mlistdata\u001b[0m\u001b[1;33m)\u001b[0m\u001b[1;33m\u001b[0m\u001b[1;33m\u001b[0m\u001b[0m\n\u001b[0m",
      "\u001b[1;31mNameError\u001b[0m: name 'listdata' is not defined"
     ]
    }
   ],
   "source": [
    "listdata = [2,2,1,4,5,2,3,1,2,4,5,1,2,3,6,1,2,5,1]\n",
    "\n",
    "listdata.count(2)\n",
    "\n",
    "del listdata\n",
    "\n",
    "print(listdata)"
   ]
  },
  {
   "cell_type": "code",
   "execution_count": 22,
   "metadata": {},
   "outputs": [
    {
     "name": "stdout",
     "output_type": "stream",
     "text": [
      "[1, 1, 2, 2, 2, 2, 4, 4, 5, 6, 7] [7, 6, 5, 4, 4, 2, 2, 2, 2, 1, 1]\n"
     ]
    }
   ],
   "source": [
    "listdata = [1,2,6,2,5,4,2,7,1,2,4]\n",
    "\n",
    "a = sorted(listdata)\n",
    "b = sorted(listdata, reverse = True)\n",
    "\n",
    "print(a,b)"
   ]
  },
  {
   "cell_type": "code",
   "execution_count": 88,
   "metadata": {},
   "outputs": [
    {
     "name": "stdout",
     "output_type": "stream",
     "text": [
      "[8, 2, 1, 5, 4, 10, 3, 9, 7, 6]\n",
      "[4, 8, 10, 2, 9, 7, 1, 5, 6, 3]\n",
      "[7, 5, 6, 10, 4, 3, 9, 8, 1, 2]\n",
      "[4, 7, 6, 5, 2, 10, 9, 1, 3, 8]\n",
      "[7, 1, 4, 9, 6, 5, 10, 3, 2, 8]\n",
      "[4, 7, 3, 9, 2, 8, 10, 1, 5, 6]\n",
      "[6, 2, 1, 9, 7, 4, 8, 5, 3, 10]\n",
      "[1, 7, 8, 4, 6, 3, 10, 9, 2, 5]\n",
      "[6, 9, 4, 2, 10, 1, 5, 7, 8, 3]\n",
      "[5, 9, 3, 1, 7, 6, 4, 2, 8, 10]\n"
     ]
    },
    {
     "data": {
      "text/plain": [
       "10"
      ]
     },
     "execution_count": 88,
     "metadata": {},
     "output_type": "execute_result"
    }
   ],
   "source": [
    "from random import shuffle\n",
    "\n",
    "listdata = list(range(1,11))\n",
    "for i in range(10):\n",
    "    shuffle(listdata)\n",
    "    print(listdata)"
   ]
  },
  {
   "cell_type": "code",
   "execution_count": 100,
   "metadata": {},
   "outputs": [
    {
     "name": "stdout",
     "output_type": "stream",
     "text": [
      "[(0, '태양'), (1, '수성'), (2, '금성'), (3, '지구'), (4, '화성'), (5, '목성'), (6, '토성')]\n",
      "태양계의 0번째 천체 : 태양\n",
      "태양계의 1번째 천체 : 수성\n",
      "태양계의 2번째 천체 : 금성\n",
      "태양계의 3번째 천체 : 지구\n",
      "태양계의 4번째 천체 : 화성\n",
      "태양계의 5번째 천체 : 목성\n",
      "태양계의 6번째 천체 : 토성\n"
     ]
    }
   ],
   "source": [
    "solarsys = ['태양','수성','금성','지구','화성','목성','토성']\n",
    "\n",
    "ret = list(enumerate(solarsys))\n",
    "\n",
    "print(ret)\n",
    "\n",
    "for i, body in ret :\n",
    "    print('태양계의 %d번째 천체 : %s'%(i,body))"
   ]
  },
  {
   "cell_type": "code",
   "execution_count": 122,
   "metadata": {},
   "outputs": [
    {
     "name": "stdout",
     "output_type": "stream",
     "text": [
      "{'태양': 'sun', '수성': 'Mercury', '금성': 'Venus', '지구': 'Earth', '화성': 'Mars', '목성': 'Jupiter', '토성': 'Saturn'}\n"
     ]
    }
   ],
   "source": [
    "solar1 = ['태양','수성','금성','지구','화성','목성','토성']\n",
    "solar2 = ['sun','Mercury','Venus','Earth','Mars', 'Jupiter', 'Saturn']\n",
    "\n",
    "solardict = {}\n",
    "for i,k in enumerate(solar1):\n",
    "    var = solar2[i]\n",
    "    solardict[k] = var\n",
    "    \n",
    "print(solardict)"
   ]
  },
  {
   "cell_type": "code",
   "execution_count": 137,
   "metadata": {},
   "outputs": [
    {
     "name": "stdout",
     "output_type": "stream",
     "text": [
      "{'태양': 'Sun', '수성': 'Mercury', '금성': 'Venus', '지구': 'Earth', '화성': 'Mars', '목성': 'Jupiter', '토성': 'Saturn'}\n"
     ]
    }
   ],
   "source": [
    "solar1 = ['태양','수성','금성','지구','화성','목성','토성']\n",
    "solar2 = ['sun','Mercury','Venus','Earth','Mars', 'Jupiter', 'Saturn']\n",
    "\n",
    "solardict = {}\n",
    "for i,k in enumerate(solar1):\n",
    "    var = solar2[i]\n",
    "    solardict[k] = var\n",
    "    \n",
    "solardict['태양'] = 'Sun'\n",
    "print(solardict)"
   ]
  },
  {
   "cell_type": "code",
   "execution_count": 145,
   "metadata": {},
   "outputs": [
    {
     "name": "stdout",
     "output_type": "stream",
     "text": [
      "{'수성': 'Mercury', '금성': 'Venus', '지구': 'Earth', '화성': 'Mars', '목성': 'Jupiter', '토성': 'Saturn'}\n"
     ]
    }
   ],
   "source": [
    "solar1 = ['태양','수성','금성','지구','화성','목성','토성']\n",
    "solar2 = ['sun','Mercury','Venus','Earth','Mars', 'Jupiter', 'Saturn']\n",
    "\n",
    "solardict = {}\n",
    "for i,k in enumerate(solar1):\n",
    "    var = solar2[i]\n",
    "    solardict[k] = var\n",
    "    \n",
    "del solardict['태양']\n",
    "\n",
    "print(solardict)"
   ]
  },
  {
   "cell_type": "code",
   "execution_count": 144,
   "metadata": {},
   "outputs": [
    {
     "ename": "NameError",
     "evalue": "name 'solardict' is not defined",
     "output_type": "error",
     "traceback": [
      "\u001b[1;31m---------------------------------------------------------------------------\u001b[0m",
      "\u001b[1;31mNameError\u001b[0m                                 Traceback (most recent call last)",
      "\u001b[1;32m<ipython-input-144-98ebc34224b1>\u001b[0m in \u001b[0;36m<module>\u001b[1;34m\u001b[0m\n\u001b[0;32m      1\u001b[0m \u001b[1;32mdel\u001b[0m \u001b[0msolardict\u001b[0m\u001b[1;33m\u001b[0m\u001b[1;33m\u001b[0m\u001b[0m\n\u001b[0;32m      2\u001b[0m \u001b[1;33m\u001b[0m\u001b[0m\n\u001b[1;32m----> 3\u001b[1;33m \u001b[0mprint\u001b[0m\u001b[1;33m(\u001b[0m\u001b[0msolardict\u001b[0m\u001b[1;33m)\u001b[0m\u001b[1;33m\u001b[0m\u001b[1;33m\u001b[0m\u001b[0m\n\u001b[0m",
      "\u001b[1;31mNameError\u001b[0m: name 'solardict' is not defined"
     ]
    }
   ],
   "source": [
    "del solardict\n",
    "\n",
    "print(solardict)"
   ]
  },
  {
   "cell_type": "code",
   "execution_count": 142,
   "metadata": {},
   "outputs": [
    {
     "name": "stdout",
     "output_type": "stream",
     "text": [
      "{}\n"
     ]
    }
   ],
   "source": [
    "solardict.clear()\n",
    "\n",
    "print(solardict)"
   ]
  },
  {
   "cell_type": "code",
   "execution_count": 164,
   "metadata": {},
   "outputs": [
    {
     "name": "stdout",
     "output_type": "stream",
     "text": [
      "dict_keys(['수성', '금성', '지구', '화성', '목성', '토성'])\n",
      "['수성', '금성', '지구', '화성', '목성', '토성']\n",
      "['수성', '금성', '지구', '화성', '목성', '토성']\n",
      "{'수성': 'Mercury', '금성': 'Venus', '지구': 'Earth', '화성': 'Mars', '목성': 'Jupiter', '토성': 'Saturn'}\n",
      "Key: 수성\tValue: Mercury\n",
      "Key: 금성\tValue: Venus\n",
      "Key: 지구\tValue: Earth\n",
      "Key: 화성\tValue: Mars\n",
      "Key: 목성\tValue: Jupiter\n",
      "Key: 토성\tValue: Saturn\n"
     ]
    }
   ],
   "source": [
    "ks = solardict.keys()\n",
    "print(ks)\n",
    "\n",
    "key_list = list(solardict.keys())\n",
    "print(key_list)\n",
    "\n",
    "ks_list = list(ks)\n",
    "print(ks_list)\n",
    "\n",
    "print(solardict)\n",
    "\n",
    "for i in ks:\n",
    "    print('Key: %s\\tValue: %s'%(i, solardict[i]))"
   ]
  },
  {
   "cell_type": "code",
   "execution_count": null,
   "metadata": {},
   "outputs": [],
   "source": []
  }
 ],
 "metadata": {
  "kernelspec": {
   "display_name": "Python 3",
   "language": "python",
   "name": "python3"
  },
  "language_info": {
   "codemirror_mode": {
    "name": "ipython",
    "version": 3
   },
   "file_extension": ".py",
   "mimetype": "text/x-python",
   "name": "python",
   "nbconvert_exporter": "python",
   "pygments_lexer": "ipython3",
   "version": "3.7.3"
  }
 },
 "nbformat": 4,
 "nbformat_minor": 2
}
