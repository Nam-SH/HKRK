{
 "cells": [
  {
   "cell_type": "markdown",
   "metadata": {},
   "source": [
    "# Climbing the Leaderboard\n",
    "\n",
    "\n",
    "<br>\n",
    "\n",
    "![image](https://user-images.githubusercontent.com/50367487/62422049-36869100-b6e7-11e9-8f2d-0ee976f3208d.png)"
   ]
  },
  {
   "cell_type": "code",
   "execution_count": null,
   "metadata": {},
   "outputs": [],
   "source": [
    "import math, os, random, re, sys\n",
    "\n",
    "def climbingLeaderboard(scores, alice):\n",
    "    scores = list(sorted(set(scores), reverse = True))\n",
    "    a = len(alice) - 1\n",
    "    s = 0\n",
    "    \n",
    "    res = []\n",
    "    while a >= 0:\n",
    "        if s == len(scores) or scores[s] <= alice[a]:\n",
    "            res.append(s + 1)\n",
    "            a -= 1\n",
    "        else: s += 1\n",
    "            \n",
    "    return reversed(res)\n",
    "\n",
    "if __name__ == '__main__':\n",
    "    fptr = open(os.environ['OUTPUT_PATH'], 'w')\n",
    "\n",
    "    scores_count = int(input())\n",
    "    scores = list(map(int, input().rstrip().split()))\n",
    "    alice_count = int(input())\n",
    "    alice = list(map(int, input().rstrip().split()))\n",
    "    result = climbingLeaderboard(scores, alice)\n",
    "\n",
    "    fptr.write('\\n'.join(map(str, result)))\n",
    "    fptr.write('\\n')\n",
    "\n",
    "    fptr.close()"
   ]
  }
 ],
 "metadata": {
  "kernelspec": {
   "display_name": "Python 3",
   "language": "python",
   "name": "python3"
  },
  "language_info": {
   "codemirror_mode": {
    "name": "ipython",
    "version": 3
   },
   "file_extension": ".py",
   "mimetype": "text/x-python",
   "name": "python",
   "nbconvert_exporter": "python",
   "pygments_lexer": "ipython3",
   "version": "3.7.4"
  },
  "toc": {
   "base_numbering": 1,
   "nav_menu": {},
   "number_sections": true,
   "sideBar": true,
   "skip_h1_title": false,
   "title_cell": "Table of Contents",
   "title_sidebar": "Contents",
   "toc_cell": false,
   "toc_position": {},
   "toc_section_display": true,
   "toc_window_display": false
  }
 },
 "nbformat": 4,
 "nbformat_minor": 4
}
