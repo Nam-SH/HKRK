{
 "cells": [
  {
   "cell_type": "markdown",
   "metadata": {},
   "source": [
    "# Picking Numbers\n",
    "\n",
    "<br>\n",
    "\n",
    "![image](https://user-images.githubusercontent.com/50367487/62421726-4dc28000-b6e1-11e9-99c6-34c4458c8a8f.png)"
   ]
  },
  {
   "cell_type": "code",
   "execution_count": null,
   "metadata": {},
   "outputs": [],
   "source": [
    "def pickingNumbers(s):\n",
    "\n",
    "    s = sorted(s)\n",
    "    res = []\n",
    "    for i in range(n-1):\n",
    "        sub = [s[i]]\n",
    "        for j in range(i+1, n):\n",
    "            if abs(s[i] - s[j]) <= 1:\n",
    "                sub.append(s[j])\n",
    "        res.append(sub)\n",
    "        \n",
    "    MAX = len(res[0])\n",
    "    for i in res:\n",
    "        if MAX < len(i):\n",
    "            MAX = len(i)\n",
    "            \n",
    "    return MAX\n",
    "\n",
    "n = int(input().strip())\n",
    "s = list(map(int, input().rstrip().split()))\n",
    "pickingNumbers(s)"
   ]
  },
  {
   "cell_type": "code",
   "execution_count": null,
   "metadata": {},
   "outputs": [],
   "source": [
    "def pickingNumbers(s):\n",
    "\n",
    "    MAX = 0\n",
    "    for i in s:\n",
    "        b = s.count(i)\n",
    "        c = s.count(i-1)\n",
    "        d = b + c\n",
    "        if MAX < d:\n",
    "            MAX = d\n",
    "\n",
    "    return MAX\n",
    "\n",
    "n = int(input().strip())\n",
    "s = list(map(int, input().rstrip().split()))\n",
    "pickingNumbers(s)"
   ]
  }
 ],
 "metadata": {
  "kernelspec": {
   "display_name": "Python 3",
   "language": "python",
   "name": "python3"
  },
  "language_info": {
   "codemirror_mode": {
    "name": "ipython",
    "version": 3
   },
   "file_extension": ".py",
   "mimetype": "text/x-python",
   "name": "python",
   "nbconvert_exporter": "python",
   "pygments_lexer": "ipython3",
   "version": "3.7.3"
  },
  "toc": {
   "base_numbering": 1,
   "nav_menu": {},
   "number_sections": true,
   "sideBar": true,
   "skip_h1_title": false,
   "title_cell": "Table of Contents",
   "title_sidebar": "Contents",
   "toc_cell": false,
   "toc_position": {},
   "toc_section_display": true,
   "toc_window_display": false
  }
 },
 "nbformat": 4,
 "nbformat_minor": 2
}
