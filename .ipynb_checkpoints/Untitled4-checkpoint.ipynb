{
 "cells": [
  {
   "cell_type": "code",
   "execution_count": 1,
   "metadata": {},
   "outputs": [
    {
     "name": "stdout",
     "output_type": "stream",
     "text": [
      "리스트에 추가할 값을 입력하세요!!![1/3]:3\n",
      "['3']\n",
      "리스트에 추가할 값을 입력하세요!!![2/3]:5\n",
      "['3', '5']\n",
      "리스트에 추가할 값을 입력하세요!!![3/3]:7\n",
      "['3', '5', '7']\n"
     ]
    }
   ],
   "source": [
    "listdata = []\n",
    "\n",
    "for i in range(3):\n",
    "    txt = input(\"리스트에 추가할 값을 입력하세요!!![%d/3]:\"%(i+1))\n",
    "    listdata.append(txt)\n",
    "    print(listdata)"
   ]
  },
  {
   "cell_type": "code",
   "execution_count": 3,
   "metadata": {},
   "outputs": [
    {
     "name": "stdout",
     "output_type": "stream",
     "text": [
      "['태양', '수성', '금성', '지구', '화성', '소행성', '목성', '토성']\n"
     ]
    }
   ],
   "source": [
    "solarsys = ['태양','수성','금성','지구','화성','목성','토성']\n",
    "pos = solarsys.index('목성')\n",
    "solarsys.insert(pos,'소행성')\n",
    "print(solarsys)"
   ]
  },
  {
   "cell_type": "code",
   "execution_count": 7,
   "metadata": {},
   "outputs": [
    {
     "name": "stdout",
     "output_type": "stream",
     "text": [
      "['수성', '금성', '지구', '화성', '목성', '토성']\n",
      "['수성', '금성', '지구', '화성', '토성']\n"
     ]
    }
   ],
   "source": [
    "solarsys = ['태양','수성','금성','지구','화성','목성','토성']\n",
    "\n",
    "del solarsys[0]\n",
    "print(solarsys)\n",
    "\n",
    "del solarsys[-2]\n",
    "print(solarsys)"
   ]
  },
  {
   "cell_type": "code",
   "execution_count": null,
   "metadata": {},
   "outputs": [],
   "source": []
  }
 ],
 "metadata": {
  "kernelspec": {
   "display_name": "Python 3",
   "language": "python",
   "name": "python3"
  },
  "language_info": {
   "codemirror_mode": {
    "name": "ipython",
    "version": 3
   },
   "file_extension": ".py",
   "mimetype": "text/x-python",
   "name": "python",
   "nbconvert_exporter": "python",
   "pygments_lexer": "ipython3",
   "version": "3.7.3"
  }
 },
 "nbformat": 4,
 "nbformat_minor": 2
}
