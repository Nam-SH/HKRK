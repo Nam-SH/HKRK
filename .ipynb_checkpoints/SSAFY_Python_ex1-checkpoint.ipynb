{
 "cells": [
  {
   "cell_type": "code",
   "execution_count": null,
   "metadata": {},
   "outputs": [],
   "source": [
    "#5차시\n",
    "a = \"9\"\n",
    "n1 = int(a)\n",
    "n2 = int(a+a)\n",
    "n3 = int(a+a+a)\n",
    "n4 = int(a+a+a+a)\n",
    "\n",
    "print(n1+n2+n3+n4)"
   ]
  },
  {
   "cell_type": "code",
   "execution_count": 1,
   "metadata": {},
   "outputs": [
    {
     "name": "stdin",
     "output_type": "stream",
     "text": [
      " 90\n"
     ]
    },
    {
     "name": "stdout",
     "output_type": "stream",
     "text": [
      "90.00 inch => 228.60 cm\n"
     ]
    }
   ],
   "source": [
    "#7차시\n",
    "\n",
    "\n",
    "n1 = float(input())\n",
    "print(\"%.2f inch =>  %.2f cm\"%(n1, n1*2.54))"
   ]
  },
  {
   "cell_type": "code",
   "execution_count": 2,
   "metadata": {},
   "outputs": [
    {
     "name": "stdin",
     "output_type": "stream",
     "text": [
      " 90\n"
     ]
    },
    {
     "name": "stdout",
     "output_type": "stream",
     "text": [
      "90.00 kg => 198.41 lb\n"
     ]
    }
   ],
   "source": [
    "#8차시\n",
    "\n",
    "n1 = float(input())\n",
    "print(\"%.2f kg =>  %.2f lb\"%(n1, n1*2.2046))"
   ]
  },
  {
   "cell_type": "code",
   "execution_count": null,
   "metadata": {},
   "outputs": [],
   "source": [
    "#9차시\n",
    "\n",
    "x = float(input())\n",
    "print(\"%.2f ℃ =>  %.2f ℉\"%(x, 9*x/5+32))"
   ]
  },
  {
   "cell_type": "code",
   "execution_count": null,
   "metadata": {},
   "outputs": [],
   "source": [
    "#10차시\n",
    "\n",
    "x = float(input())\n",
    "print(\"%.2f ℉ =>  %.2f ℃\"%(x, (x-32)*5/9))"
   ]
  },
  {
   "cell_type": "code",
   "execution_count": 57,
   "metadata": {},
   "outputs": [
    {
     "name": "stdout",
     "output_type": "stream",
     "text": [
      "혼합된 소금물의 농도: 6.67 %\n"
     ]
    }
   ],
   "source": [
    "#11차시\n",
    "\n",
    "a = 20\n",
    "b = 100\n",
    "c = 200\n",
    "d = a/(b+c)*100\n",
    "print(\"혼합된 소금물의 농도: %.2f\"%d,\"%\")"
   ]
  },
  {
   "cell_type": "code",
   "execution_count": 2,
   "metadata": {},
   "outputs": [
    {
     "name": "stdin",
     "output_type": "stream",
     "text": [
      " 9\n"
     ]
    },
    {
     "name": "stdout",
     "output_type": "stream",
     "text": [
      "1 (은)는 9의 약수입니다.\n",
      "3 (은)는 9의 약수입니다.\n",
      "9 (은)는 9의 약수입니다.\n"
     ]
    }
   ],
   "source": [
    "# 13차시\n",
    "\n",
    "num = int(input(\"\"))\n",
    "a = range(1,num+1)\n",
    "\n",
    "for i in a :\n",
    "    if num % i == 0 :\n",
    "        print(\"%d(은)는 %d의 약수입니다.\"%(i,num))"
   ]
  },
  {
   "cell_type": "code",
   "execution_count": null,
   "metadata": {},
   "outputs": [],
   "source": [
    "#14차시\n",
    "\n",
    "num = int(input(\"\"))\n",
    "a = range(1,num+1)\n",
    "count = 0\n",
    "\n",
    "for i in a :\n",
    "    if num % i == 0 :\n",
    "        print(\"%d(은)는 %d의 약수입니다.\"%(i,num))\n",
    "        count += 1\n",
    "if count == 2 :\n",
    "    print(\"%d(은)는 1과 %d로만 나눌 수 있는 소수입니다.\"%(num,num ))"
   ]
  },
  {
   "cell_type": "code",
   "execution_count": 21,
   "metadata": {},
   "outputs": [
    {
     "name": "stdin",
     "output_type": "stream",
     "text": [
      " A\n"
     ]
    },
    {
     "name": "stdout",
     "output_type": "stream",
     "text": [
      "A 는 대문자 입니다.\n"
     ]
    }
   ],
   "source": [
    "#15차시\n",
    "\n",
    "a = input(\"\")\n",
    "\n",
    "if a.isalpha() :\n",
    "    if a == a.lower() :\n",
    "        print(\"%s 는 소문자 입니다.\"%a)\n",
    "    elif a == a.upper() :\n",
    "        print(\"%s 는 대문자 입니다.\"%a)\n",
    "    else :\n",
    "        print(\"%s 는 대, 소문자 섞여있습니다.\"%a)\n",
    "else :\n",
    "    print(\"알파벳만 입력하세요.\")"
   ]
  },
  {
   "cell_type": "code",
   "execution_count": null,
   "metadata": {},
   "outputs": [],
   "source": [
    "#16차시\n",
    "\n",
    "Man1 = input(\"\")\n",
    "Man2 = input(\"\")\n",
    "a = [\"가위\", \"바위\", \"보\"]\n",
    "\n",
    "\n",
    "if Man1 == \"가위\" :\n",
    "    if Man2 == \"가위\":\n",
    "        print(\"Result : Draw\")\n",
    "    elif Man2 == \"바위\":\n",
    "        print(\"Result : Man2 Win!\")\n",
    "    else :\n",
    "        print(\"Result : Man1 Win!\")\n",
    "\n",
    "elif Man1 == \"바위\" :\n",
    "    if Man2 == \"가위\":\n",
    "        print(\"Result : Man1 Win!\")\n",
    "    elif Man2 == \"바위\":\n",
    "        print(\"Result : Draw\")\n",
    "    else :\n",
    "        print(\"Result : Man2 Win!\")\n",
    "\n",
    "elif Man1 == \"보\" :\n",
    "    if Man2 == \"가위\":\n",
    "        print(\"Result : Man2 Win!\")\n",
    "    elif Man2 == \"바위\":\n",
    "        print(\"Result : Man1 Win!\")\n",
    "    else :\n",
    "        print(\"Result : Draw\")       "
   ]
  },
  {
   "cell_type": "code",
   "execution_count": 69,
   "metadata": {},
   "outputs": [
    {
     "name": "stdout",
     "output_type": "stream",
     "text": [
      "ㅁ\n",
      "ㅁ\n"
     ]
    }
   ],
   "source": [
    "# 17차시\n",
    "\n",
    "# 다음의 결과와 같이 입력된 문자가 대문자일 경우 소문자로, 소문자일 경우 대문자로 변경하고, 알파벳이 아닐 경우엔 그냥 출력하는 코드를 \n",
    "# 작성하십시오. 출력 시 아스키코드를 함께 출력합니다.\n",
    "\n",
    "inp = input(\"\")\n",
    "\n",
    "if (65<=ord(inp)<=90) or (97<=ord(inp)<=122) :\n",
    "    if inp == inp.lower() :\n",
    "        inp_U = inp.upper()\n",
    "        print(\"%s(ASCII: %s) => %s(ASCII: %s)\"%(inp, ord(inp), inp_U, ord(inp_U)))\n",
    "    elif inp == inp.upper() :\n",
    "        inp_l = inp.lower()\n",
    "        print(\"%s(ASCII: %s) => %s(ASCII: %s)\"%(inp, ord(inp), inp_l, ord(inp_l)))\n",
    "else :\n",
    "    print(inp)"
   ]
  },
  {
   "cell_type": "code",
   "execution_count": 13,
   "metadata": {},
   "outputs": [
    {
     "name": "stdout",
     "output_type": "stream",
     "text": [
      "7, 14, 21, 28, 42, 49, 56, 63, 77, 84, 91, 98, 112, 119, 126, 133, 147, 154, 161, 168, 182, 189, 196\n"
     ]
    }
   ],
   "source": [
    "# 18차시\n",
    "# 1~200 사이의 정수 가운데 7의 배수이면서 5의 배수는 아닌 모든 숫자들을 찾아 콤마(,)로 구분된 문자열을 구성해 출력하는 프로그램을 작성하십시오.\n",
    "\n",
    "#1\n",
    "a = []\n",
    "for i in range(1,201) :\n",
    "    if i % 7 == 0 and i % 5 != 0 :\n",
    "        a.append(i)\n",
    "a = \", \".join(map(str, a))\n",
    "print(a)\n",
    "\n",
    "# #2\n",
    "\n",
    "# for i in range(1,195) :\n",
    "#     if i % 7 == 0 and i % 5 != 0 :\n",
    "#         print(\"%d\"%i, end=',')\n",
    "# print(196)"
   ]
  },
  {
   "cell_type": "code",
   "execution_count": 5,
   "metadata": {},
   "outputs": [
    {
     "name": "stdout",
     "output_type": "stream",
     "text": [
      "200, 202, 204, 206, 208, 220, 222, 224, 226, 228, 240, 242, 244, 246, 248, 260, 262, 264, 266, 268, 280, 282, 284, 286, 288\n"
     ]
    }
   ],
   "source": [
    "# 19차시\n",
    "\n",
    "# 100~300 사이의 숫자에서 각각의 자리 숫자가 짝수인 숫자를 찾아 콤마(,)로 구분해 출력하는 프로그램을 작성하십시오.\n",
    "\n",
    "a = []\n",
    "for i in range(100,300) :\n",
    "    if (i//100)%2==0 and (i//10)%2==0 and (i//1)%2==0 :\n",
    "        a.append(i)\n",
    "a = \", \".join(map(str, a))\n",
    "print(a)"
   ]
  },
  {
   "cell_type": "code",
   "execution_count": 54,
   "metadata": {},
   "outputs": [
    {
     "name": "stdout",
     "output_type": "stream",
     "text": [
      "1번 학생은 88점으로 합격입니다.\n",
      "2번 학생은 30점으로 불합격입니다.\n",
      "3번 학생은 61점으로 합격입니다.\n",
      "4번 학생은 55점으로 불합격입니다.\n",
      "5번 학생은 95점으로 합격입니다.\n"
     ]
    }
   ],
   "source": [
    "# 21차시\n",
    "# 5명의 학생의 점수에 대해 60 이상일 때 합격 메시지를 출력하고, 60미만일 때 불합격 메시지를 출력하는 프로그램을 만드십시오.\n",
    "\n",
    "stu = [88, 30, 61, 55, 95]\n",
    "ran = len(stu)\n",
    "\n",
    "for i in range(ran) : \n",
    "    if stu[i] >= 60 :\n",
    "        print(\"%d번 학생은 %d점으로 합격입니다.\"%(i+1, stu[i]))\n",
    "    else :\n",
    "        print(\"%d번 학생은 %d점으로 불합격입니다.\"%(i+1, stu[i]))"
   ]
  },
  {
   "cell_type": "code",
   "execution_count": 1,
   "metadata": {},
   "outputs": [
    {
     "name": "stdout",
     "output_type": "stream",
     "text": [
      "1\n",
      "2\n",
      "3\n",
      "4\n",
      "5\n",
      "6\n",
      "7\n",
      "8\n",
      "9\n",
      "10\n",
      "11\n",
      "12\n",
      "13\n",
      "14\n",
      "15\n",
      "16\n",
      "17\n",
      "18\n",
      "19\n",
      "20\n",
      "21\n",
      "22\n",
      "23\n",
      "24\n",
      "25\n",
      "26\n",
      "27\n",
      "28\n",
      "29\n",
      "30\n",
      "31\n",
      "32\n",
      "33\n",
      "34\n",
      "35\n",
      "36\n",
      "37\n",
      "38\n",
      "39\n",
      "40\n",
      "41\n",
      "42\n",
      "43\n",
      "44\n",
      "45\n",
      "46\n",
      "47\n",
      "48\n",
      "49\n",
      "50\n",
      "51\n",
      "52\n",
      "53\n",
      "54\n",
      "55\n",
      "56\n",
      "57\n",
      "58\n",
      "59\n",
      "60\n",
      "61\n",
      "62\n",
      "63\n",
      "64\n",
      "65\n",
      "66\n",
      "67\n",
      "68\n",
      "69\n",
      "70\n",
      "71\n",
      "72\n",
      "73\n",
      "74\n",
      "75\n",
      "76\n",
      "77\n",
      "78\n",
      "79\n",
      "80\n",
      "81\n",
      "82\n",
      "83\n",
      "84\n",
      "85\n",
      "86\n",
      "87\n",
      "88\n",
      "89\n",
      "90\n",
      "91\n",
      "92\n",
      "93\n",
      "94\n",
      "95\n",
      "96\n",
      "97\n",
      "98\n",
      "99\n",
      "100\n"
     ]
    }
   ],
   "source": [
    "# 22차시\n",
    "# 1부터 100사이의 숫자를 for 문을 이용해 출력하십시오.\n",
    "\n",
    "for i in range(1, 101) :\n",
    "    print(i)"
   ]
  },
  {
   "cell_type": "code",
   "execution_count": 60,
   "metadata": {},
   "outputs": [
    {
     "name": "stdout",
     "output_type": "stream",
     "text": [
      "2 4 6 8 10 12 14 16 18 20 22 24 26 28 30 32 34 36 38 40 42 44 46 48 50 52 54 56 58 60 62 64 66 68 70 72 74 76 78 80 82 84 86 88 90 92 94 96 98 100 "
     ]
    }
   ],
   "source": [
    "# 23차시\n",
    "# 1부터 100사이의 숫자 중 짝수를 for 문을 이용해 다음과 같이 출력하십시오.\n",
    "\n",
    "for i in range(2, 101, 2) :\n",
    "    print(i, end = ' ')"
   ]
  },
  {
   "cell_type": "code",
   "execution_count": 2,
   "metadata": {},
   "outputs": [
    {
     "name": "stdout",
     "output_type": "stream",
     "text": [
      "1, 3, 5, 7, 9, 11, 13, 15, 17, 19, 21, 23, 25, 27, 29, 31, 33, 35, 37, 39, 41, 43, 45, 47, 49, 51, 53, 55, 57, 59, 61, 63, 65, 67, 69, 71, 73, 75, 77, 79, 81, 83, 85, 87, 89, 91, 93, 95, 97, 99\n"
     ]
    }
   ],
   "source": [
    "# 24차시\n",
    "# 1부터 100사이의 숫자 중 홀수를 for 문을 이용해 다음과 같이 출력하십시오.\n",
    "\n",
    "# for i in range(1, 99, 2) :\n",
    "#     print(i, end = ', ')\n",
    "# print(99)\n",
    "\n",
    "\n",
    "# 2번째 방법\n",
    "result = []\n",
    "for i in range(1, 100, 2) :\n",
    "    result.append(i)\n",
    "a = ', '.join(map(str, result))\n",
    "print(a)"
   ]
  },
  {
   "cell_type": "code",
   "execution_count": 9,
   "metadata": {},
   "outputs": [
    {
     "name": "stdout",
     "output_type": "stream",
     "text": [
      "1부터 100사이의 숫자 중 3의 배수의 총합: 1683\n"
     ]
    }
   ],
   "source": [
    "# 25차시\n",
    "\n",
    "# 1부터 100사이의 숫자 중 3의 배수의 총합을 for 문을 이용해 출력하십시오.\n",
    "\n",
    "result = 0\n",
    "for i in range(1, 101) :\n",
    "    if i % 3 == 0:\n",
    "        result += i\n",
    "print(\"1부터 100사이의 숫자 중 3의 배수의 총합: %d\"%result)"
   ]
  },
  {
   "cell_type": "code",
   "execution_count": 6,
   "metadata": {},
   "outputs": [
    {
     "data": {
      "text/plain": [
       "{'A': 3, 'O': 3, 'B': 2, 'AB': 2}"
      ]
     },
     "execution_count": 6,
     "metadata": {},
     "output_type": "execute_result"
    }
   ],
   "source": [
    "# 26차시\n",
    "\n",
    "# 다음은 10명의 학생들의 혈액형(A, B, AB, O) 데이터입니다.\n",
    "# ['A', 'A', 'A', 'O', 'B', 'B', 'O', 'AB', 'AB', 'O'] for 문을 이용하여 각 혈액형 별 학생수를 구하십시오.\n",
    "# {'A': 3, 'O': 3, 'B': 2, 'AB': 2}\n",
    "\n",
    "pi = ['A', 'A', 'A', 'O', 'B', 'B', 'O', 'AB', 'AB', 'O']\n",
    "\n",
    "# print(\"{'A': %d, 'O': %d, 'B': %d, 'AB': %d}\"%(pi.count('A'), pi.count('O'), pi.count('B'), pi.count('AB')))\n",
    "\n",
    "{x: pi.count(x) for x in pi}"
   ]
  },
  {
   "cell_type": "code",
   "execution_count": 13,
   "metadata": {},
   "outputs": [
    {
     "name": "stdout",
     "output_type": "stream",
     "text": [
      "454\n"
     ]
    },
    {
     "data": {
      "text/plain": [
       "0"
      ]
     },
     "execution_count": 13,
     "metadata": {},
     "output_type": "execute_result"
    }
   ],
   "source": [
    "# 27차시\n",
    "\n",
    "# 다음은 학생의 점수를 나타내는 리스트입니다.\n",
    "# [85, 65, 77, 83, 75, 22, 98, 88, 38, 100]\n",
    "# while 문과 리스트 객체의 pop()을 이용해 80점 이상의 점수들의 총합을 구하시오.\n",
    "\n",
    "score = [85, 65, 77, 83, 75, 22, 98, 88, 38, 100]\n",
    "result = 0\n",
    "\n",
    "while score :\n",
    "    a = score.pop()\n",
    "    if a >= 80 :\n",
    "        result += a\n",
    "        \n",
    "print(result)\n",
    "\n",
    "# b = [x for x in score if x >= 80]\n",
    "# sum(b)"
   ]
  },
  {
   "cell_type": "code",
   "execution_count": 2,
   "metadata": {},
   "outputs": [
    {
     "name": "stdout",
     "output_type": "stream",
     "text": [
      "*****\n",
      "****\n",
      "***\n",
      "**\n",
      "*\n"
     ]
    }
   ],
   "source": [
    "# 28차시\n",
    "\n",
    "# while문을 이용해 아래와 같이 별(*)을 표시하는 프로그램을 만드십시오.\n",
    "\n",
    "i = 5\n",
    "while i > 0 :\n",
    "    print(\"*\"*i)\n",
    "    i -= 1"
   ]
  },
  {
   "cell_type": "code",
   "execution_count": 95,
   "metadata": {},
   "outputs": [
    {
     "name": "stdout",
     "output_type": "stream",
     "text": [
      "*******\n",
      " *****\n",
      "  ***\n",
      "   *\n"
     ]
    }
   ],
   "source": [
    "# 29차시\n",
    "\n",
    "# while문을 이용해 아래와 같이 별(*)을 표시하는 프로그램을 만드십시오.\n",
    "\n",
    "i = 5\n",
    "while i > 1 :\n",
    "    for j in range(-1*i+5) :\n",
    "        print(' ', end='')\n",
    "    print(\"*\"*(2*i -3))\n",
    "    i -= 1\n",
    "    \n",
    "    \n",
    "# for j in range(5):\n",
    "#         for i in range(j):\n",
    "#                 print(' ', end='')\n",
    "#         for i in range(2*(5-j)-1):\n",
    "#                 print('*', end='')\n",
    "#         print(\"\")\n",
    "\n",
    "## 예제 정피라미드\n",
    "\n",
    "# for j in range(5):\n",
    "#         for i in range(4-j):\n",
    "#                 print(' ', end='')\n",
    "#         for i in range(2*(j+1)-1):\n",
    "#                 print('*', end='')\n",
    "#         print(\"\")"
   ]
  },
  {
   "cell_type": "code",
   "execution_count": null,
   "metadata": {},
   "outputs": [],
   "source": [
    "# 30차시\n",
    "\n",
    "#다음의 결과와 같이 어떤 한 양의 정수를 입력하여 그 숫자에 0~9가 몇 번 사용되었는지 표시하십시오.\n",
    "\n",
    "num = int(input(\"\"))\n",
    "numset = [0, 1, 2, 3, 4, 5, 6, 7, 8, 9]\n",
    "result = [0, 0, 0, 0, 0, 0, 0, 0, 0, 0]\n",
    "mark = 0\n",
    "\n",
    "a = num // 10\n",
    "b = num % 10\n",
    "\n",
    "for i in range(len(numset)): \n",
    "    if a == numset[i] :\n",
    "        result[i] += 1\n",
    "    if b == numset[i] :\n",
    "        result[i] += 1\n",
    "\n",
    "print(\" \".join(map(str, numset)))\n",
    "print(\" \".join(map(str, result)))"
   ]
  },
  {
   "cell_type": "code",
   "execution_count": 67,
   "metadata": {},
   "outputs": [
    {
     "name": "stdout",
     "output_type": "stream",
     "text": [
      "    *\n",
      "   **\n",
      "  ***\n",
      " ****\n",
      "*****\n"
     ]
    }
   ],
   "source": [
    "# 31차시\n",
    "\n",
    "# for문을 이용해 아래와 같이 별(*)을 표시하는 프로그램을 만드십시오.\n",
    "\n",
    "for i in range(5) :\n",
    "    for j in range(4-i) :\n",
    "        print(\" \", end='')\n",
    "    for j in range(i+1) :\n",
    "        print(\"*\", end='')\n",
    "    print(\"\")"
   ]
  },
  {
   "cell_type": "code",
   "execution_count": 39,
   "metadata": {},
   "outputs": [
    {
     "name": "stdout",
     "output_type": "stream",
     "text": [
      "1001\n"
     ]
    }
   ],
   "source": [
    "# 32차시\n",
    "\n",
    "# 다음의 결과와 같이 10진수를 2진수로 변환하는 프로그램을 작성하십시오.\n",
    "\n",
    "a = format(9, 'b')\n",
    "print(\"{}\".format(a))"
   ]
  },
  {
   "cell_type": "code",
   "execution_count": 93,
   "metadata": {},
   "outputs": [
    {
     "name": "stdin",
     "output_type": "stream",
     "text": [
      "반지름 :: 3\n"
     ]
    },
    {
     "name": "stdout",
     "output_type": "stream",
     "text": [
      "원의 면적 : 28.26, 원의 둘레 :  18.84\n"
     ]
    }
   ],
   "source": [
    "# 33차시 예시\n",
    "\n",
    "def input_radius():\n",
    "    radius_str = input(\"반지름 ::\")\n",
    "    return float(radius_str)\n",
    "\n",
    "def calc_circle_area(r) :\n",
    "    return 3.14 * r * r\n",
    "\n",
    "def calc_circumference(r) :\n",
    "    return 2 * 3.14 * r\n",
    "\n",
    "radius = input_radius()\n",
    "circle_area = calc_circle_area(radius)\n",
    "circumference = calc_circumference(radius)\n",
    "print(\"원의 면적 : {0:.2f}, 원의 둘레 : {1: 0.2f}\".format(circle_area, circumference))"
   ]
  },
  {
   "cell_type": "code",
   "execution_count": 120,
   "metadata": {},
   "outputs": [
    {
     "name": "stdin",
     "output_type": "stream",
     "text": [
      " qw\n"
     ]
    },
    {
     "name": "stdout",
     "output_type": "stream",
     "text": [
      "wq\n"
     ]
    }
   ],
   "source": [
    "# 34차시\n",
    "\n",
    "# 다음의 결과와 같이 반목문을 이용해 단어의 순서를 거꾸로 해 반환하는 함수를 작성하고\n",
    "# 그 함수를 이용해 회문(앞뒤 어느 쪽에서도 같은 단어, 말) 여부를 판단하는 코드를 작성하십시오.\n",
    "\n",
    "# eye\n",
    "# 입력하신 단어는 회문(Palindrome)입니다.\n",
    "\n",
    "a = input(\"\")\n",
    "b = a[::-1]\n",
    "\n",
    "if a == b :\n",
    "    print(a[::-1])\n",
    "    print(\"입력하신 단어는 회문(Palindrome)입니다.\")\n",
    "else :\n",
    "    print(a[::-1]) "
   ]
  },
  {
   "cell_type": "code",
   "execution_count": 1,
   "metadata": {},
   "outputs": [
    {
     "name": "stdin",
     "output_type": "stream",
     "text": [
      " 가위\n",
      " 바위\n",
      " 보\n",
      " 가위\n"
     ]
    },
    {
     "name": "stdout",
     "output_type": "stream",
     "text": [
      "가위가 이겼습니다!\n"
     ]
    }
   ],
   "source": [
    "# 35차시\n",
    "\n",
    "# 다음과 같이 사용자 2명으로부터 가위, 바위, 보를 입력 받아\n",
    "# 가위, 바위, 보 규칙이 정의된 함수를 이용해 승패를 결정하는 코드를 작성하십시오.\n",
    "\n",
    "#16차시\n",
    "\n",
    "Man1_name = input(\"\")\n",
    "Man2_name = input(\"\")\n",
    "Man1 = input(\"\")\n",
    "Man2 = input(\"\")\n",
    "a = [\"가위\", \"바위\", \"보\"]\n",
    "\n",
    "\n",
    "if Man1 == \"가위\" :\n",
    "    if Man2 == \"가위\":\n",
    "        print(\"Draw\")\n",
    "    elif Man2 == \"바위\":\n",
    "        print(\"바위가 이겼습니다!\")\n",
    "    else :\n",
    "        print(\"가위가 이겼습니다!\")\n",
    "\n",
    "elif Man1 == \"바위\" :\n",
    "    if Man2 == \"가위\":\n",
    "        print(\"바위가 이겼습니다!\")\n",
    "    elif Man2 == \"바위\":\n",
    "        print(\"Draw\")\n",
    "    else :\n",
    "        print(\"보가 이겼습니다!\")\n",
    "\n",
    "elif Man1 == \"보\" :\n",
    "    if Man2 == \"가위\":\n",
    "        print(\"가위가 이겼습니다!\")\n",
    "    elif Man2 == \"바위\":\n",
    "        print(\"보가 이겼습니다!\")\n",
    "    else :\n",
    "        print(\"Draw\")       "
   ]
  },
  {
   "cell_type": "code",
   "execution_count": 128,
   "metadata": {},
   "outputs": [
    {
     "name": "stdin",
     "output_type": "stream",
     "text": [
      " 13\n"
     ]
    },
    {
     "name": "stdout",
     "output_type": "stream",
     "text": [
      "소수입니다.\n"
     ]
    }
   ],
   "source": [
    "# 36차시\n",
    "\n",
    "# 소수를 검사하는 함수를 정의하고, 다음의 결과와 같이 사용자가 입력한 숫자가\n",
    "# 소수인지를 판단하는 프로그램을 작성하십시오.\n",
    "# 소수일 경우 \"소수입니다.\" 출력, 아닐 경우 \"소수가 아닙니다.\" 출력\n",
    "\n",
    "num = int(input(\"\"))\n",
    "count = 0\n",
    "for i in range(1, num+1) :\n",
    "    if num % i == 0 :\n",
    "        count += 1\n",
    "if count == 2 :\n",
    "    print(\"소수입니다.\")\n",
    "else :\n",
    "    print(\"소수가 아닙니다.\")"
   ]
  },
  {
   "cell_type": "code",
   "execution_count": 2,
   "metadata": {},
   "outputs": [
    {
     "name": "stdin",
     "output_type": "stream",
     "text": [
      " 13\n"
     ]
    },
    {
     "name": "stdout",
     "output_type": "stream",
     "text": [
      "[1, 1, 2, 3, 5, 8, 13, 21, 34, 55, 89, 144, 233]\n"
     ]
    }
   ],
   "source": [
    "# 37차시\n",
    "\n",
    "# 다음의 결과와 같이 피보나치 수열의 결과를 생성하는 프로그램을 작성하십시오.\n",
    "\n",
    "num = int(input(\"\")) \n",
    "result = [1, 1]\n",
    "for i in range(num-2) :\n",
    "    a = result[i] + result[i+1]\n",
    "    result.append(a)\n",
    "print(result)"
   ]
  },
  {
   "cell_type": "code",
   "execution_count": 142,
   "metadata": {},
   "outputs": [
    {
     "name": "stdout",
     "output_type": "stream",
     "text": [
      "[1, 2, 3, 4, 3, 2, 1]\n",
      "[1, 2, 3, 4]\n"
     ]
    }
   ],
   "source": [
    "# 38차시 \n",
    "\n",
    "# 리스트의 항목 중 유일한 값으로만 구성된 리스트를 반환하는 함수를 정의하고, 이 함수를 이용해 리스트의 중복 항목을 제거하는 프로그램을 작성하십시오.\n",
    "\n",
    "numlist = [1, 2, 3, 4, 3, 2, 1]\n",
    "result = []\n",
    "for i in range(len(numlist)) :\n",
    "    if numlist[i] not in result :\n",
    "        mark = numlist[i]\n",
    "        result.append(mark)\n",
    "\n",
    "print(numlist)\n",
    "print(result)"
   ]
  },
  {
   "cell_type": "code",
   "execution_count": 46,
   "metadata": {},
   "outputs": [
    {
     "name": "stdout",
     "output_type": "stream",
     "text": [
      "5 => False\n",
      "10 => True\n"
     ]
    }
   ],
   "source": [
    "# 39차시\n",
    "\n",
    "#정렬된 숫자를 가진 리스트에서 특정 숫자를 찾는 함수를 정의하고, 이 함수를 이용해 임의의 숫자의 포함 여부를 출력하는 프로그램을 작성하십시오.\n",
    "# [2, 4, 6, 8, 10]\n",
    "\n",
    "res = [2, 4, 6, 8, 10]\n",
    "def find(x) :\n",
    "    if x in res :\n",
    "        print(\"%s => %s\"%(x, True))\n",
    "    else :\n",
    "        print(\"%s => %s\"%(x, False))    \n",
    "find(5)\n",
    "find(10)"
   ]
  },
  {
   "cell_type": "code",
   "execution_count": 21,
   "metadata": {},
   "outputs": [
    {
     "name": "stdin",
     "output_type": "stream",
     "text": [
      " 13\n"
     ]
    },
    {
     "name": "stdout",
     "output_type": "stream",
     "text": [
      "6227020800\n"
     ]
    }
   ],
   "source": [
    "# 40차시\n",
    "\n",
    "# 다음과 같이 팩토리얼을 구하는 함수를 정의해 입력된 숫자에 대한 팩토리얼 값을 구하는 프로그램을 작성하십시오.\n",
    "\n",
    "num = int(input(\"\"))\n",
    "result = 1\n",
    "for i in range(1, num+1):\n",
    "    result = result*i\n",
    "print(result)"
   ]
  },
  {
   "cell_type": "code",
   "execution_count": 92,
   "metadata": {},
   "outputs": [
    {
     "name": "stdin",
     "output_type": "stream",
     "text": [
      " 2, 3\n"
     ]
    },
    {
     "name": "stdout",
     "output_type": "stream",
     "text": [
      "square(2) => 4\n",
      "square(3) => 9\n"
     ]
    }
   ],
   "source": [
    "# 41차시 ###################################################################################################3\n",
    "\n",
    "# 숫자에 대해 제곱을 구하는 함수를 정의히고, 다음과 같이 숫자를 콤마(,)로 구분해 입력하면, 정의한 함수를 이용해 제곱 값을 출력하는 프로그램을 작성하십시오.\n",
    "\n",
    "x, y = input(\"\").split(',')\n",
    "\n",
    "def square(x, y) :\n",
    "    print(\"square(%d) => %d\"%(x, x**2))\n",
    "    print(\"square(%d) => %d\"%(y, y**2))\n",
    "\n",
    "square(int(x), int(y))"
   ]
  },
  {
   "cell_type": "code",
   "execution_count": 122,
   "metadata": {},
   "outputs": [
    {
     "name": "stdin",
     "output_type": "stream",
     "text": [
      " 1, 3\n"
     ]
    },
    {
     "name": "stdout",
     "output_type": "stream",
     "text": [
      "3\n"
     ]
    }
   ],
   "source": [
    "# 42차시\n",
    "# 인자로 전달된 두 개의 문자열 중 길이가 더 긴 문자열을 출력하는 함수를 정의하고 결과를 출력하는 프로그램을 작성하십시오.\n",
    "\n",
    "x, y = input(\"\").split(', ')\n",
    "\n",
    "def leng(x, y) :\n",
    "    if len(x) > len(y) :\n",
    "        print(x)\n",
    "    else :\n",
    "        print(y)\n",
    "\n",
    "leng(x, y)"
   ]
  },
  {
   "cell_type": "code",
   "execution_count": 11,
   "metadata": {},
   "outputs": [
    {
     "name": "stdout",
     "output_type": "stream",
     "text": [
      "카운트다운을 하려면 0보다 큰 입력이 필요합니다.\n",
      "10\n",
      "9\n",
      "8\n",
      "7\n",
      "6\n",
      "5\n",
      "4\n",
      "3\n",
      "2\n",
      "1\n"
     ]
    }
   ],
   "source": [
    "# 43차시\n",
    "\n",
    "# 인자로 전달된 숫자를 이용해 카운트다운하는 함수 countdown을 정의하고, 이 함수를 이용하여 countdown(0), countdown(10)을 순서대로 실행하십시오.\n",
    "# 0보다 작거나 같은 인자가 전달되었을 경우 \"카운트다운을 하려면 0보다 큰 입력이 필요합니다.\"를 출력하십시오.\n",
    "\n",
    "def countdown(x) :\n",
    "    if int(x) <= 0:\n",
    "        print(\"카운트다운을 하려면 0보다 큰 입력이 필요합니다.\")\n",
    "    else : \n",
    "        print(\"카운트다운을 하려면 0보다 큰 입력이 필요합니다.\")\n",
    "        i = int(x)\n",
    "        while i > 0 :\n",
    "            print(i)\n",
    "            i -= 1\n",
    "\n",
    "countdown(10)"
   ]
  },
  {
   "cell_type": "code",
   "execution_count": 1,
   "metadata": {},
   "outputs": [
    {
     "name": "stdout",
     "output_type": "stream",
     "text": [
      "globals()\n",
      "\t__name__ : __main__\n",
      "\t__doc__ : Automatically created module for IPython interactive environment\n",
      "\t__package__ : None\n",
      "\t__loader__ : None\n",
      "\t__spec__ : None\n",
      "\t__builtin__ : <module 'builtins' (built-in)>\n",
      "\t__builtins__ : <module 'builtins' (built-in)>\n",
      "\t_ih : ['', 'class MyClass :\\n    pass\\n\\ndef test_fn(param) :\\n    def inner_fn():\\n        pass\\n    val1 = 5\\n    val2 = 8\\n    for item in locals().items():\\n        print(\"\\\\t{0} : {1}\".format(item[0], item[1]))\\n        \\n    value1 = 10\\n    value2 = 20\\n    obj1 = MyClass()\\n    \\ng = dict(globals())\\n    \\nprint(\"globals()\")\\nfor item in g.items():\\n    print(\"\\\\t{0} : {1}\".format(item[0], item[1]))\\n        \\nprint(\"\\\\n\\\\nlocals()\")\\ntest_fn(10)']\n",
      "\t_oh : {}\n",
      "\t_dh : ['C:\\\\jupyter']\n",
      "\tIn : ['', 'class MyClass :\\n    pass\\n\\ndef test_fn(param) :\\n    def inner_fn():\\n        pass\\n    val1 = 5\\n    val2 = 8\\n    for item in locals().items():\\n        print(\"\\\\t{0} : {1}\".format(item[0], item[1]))\\n        \\n    value1 = 10\\n    value2 = 20\\n    obj1 = MyClass()\\n    \\ng = dict(globals())\\n    \\nprint(\"globals()\")\\nfor item in g.items():\\n    print(\"\\\\t{0} : {1}\".format(item[0], item[1]))\\n        \\nprint(\"\\\\n\\\\nlocals()\")\\ntest_fn(10)']\n",
      "\tOut : {}\n",
      "\tget_ipython : <bound method InteractiveShell.get_ipython of <ipykernel.zmqshell.ZMQInteractiveShell object at 0x000001F4B5384748>>\n",
      "\texit : <IPython.core.autocall.ZMQExitAutocall object at 0x000001F4B53E7710>\n",
      "\tquit : <IPython.core.autocall.ZMQExitAutocall object at 0x000001F4B53E7710>\n",
      "\t_ : \n",
      "\t__ : \n",
      "\t___ : \n",
      "\t_i : \n",
      "\t_ii : \n",
      "\t_iii : \n",
      "\t_i1 : class MyClass :\n",
      "    pass\n",
      "\n",
      "def test_fn(param) :\n",
      "    def inner_fn():\n",
      "        pass\n",
      "    val1 = 5\n",
      "    val2 = 8\n",
      "    for item in locals().items():\n",
      "        print(\"\\t{0} : {1}\".format(item[0], item[1]))\n",
      "        \n",
      "    value1 = 10\n",
      "    value2 = 20\n",
      "    obj1 = MyClass()\n",
      "    \n",
      "g = dict(globals())\n",
      "    \n",
      "print(\"globals()\")\n",
      "for item in g.items():\n",
      "    print(\"\\t{0} : {1}\".format(item[0], item[1]))\n",
      "        \n",
      "print(\"\\n\\nlocals()\")\n",
      "test_fn(10)\n",
      "\tMyClass : <class '__main__.MyClass'>\n",
      "\ttest_fn : <function test_fn at 0x000001F4B54C98C8>\n",
      "\n",
      "\n",
      "locals()\n",
      "\tparam : 10\n",
      "\tinner_fn : <function test_fn.<locals>.inner_fn at 0x000001F4B54F66A8>\n",
      "\tval1 : 5\n",
      "\tval2 : 8\n"
     ]
    }
   ],
   "source": [
    "## 44차시 예제\n",
    "\n",
    "class MyClass :\n",
    "    pass\n",
    "\n",
    "def test_fn(param) :\n",
    "    def inner_fn():\n",
    "        pass\n",
    "    val1 = 5\n",
    "    val2 = 8\n",
    "    for item in locals().items():\n",
    "        print(\"\\t{0} : {1}\".format(item[0], item[1]))\n",
    "        \n",
    "    value1 = 10\n",
    "    value2 = 20\n",
    "    obj1 = MyClass()\n",
    "    \n",
    "g = dict(globals())\n",
    "    \n",
    "print(\"globals()\")\n",
    "for item in g.items():\n",
    "    print(\"\\t{0} : {1}\".format(item[0], item[1]))\n",
    "        \n",
    "print(\"\\n\\nlocals()\")\n",
    "test_fn(10)"
   ]
  },
  {
   "cell_type": "code",
   "execution_count": 1,
   "metadata": {},
   "outputs": [
    {
     "name": "stdin",
     "output_type": "stream",
     "text": [
      "  홍길\n",
      "  20\n"
     ]
    },
    {
     "name": "stdout",
     "output_type": "stream",
     "text": [
      "홍길(은)는 2098년에 100세가 될 것입니다.\n"
     ]
    }
   ],
   "source": [
    "# 45차시\n",
    "\n",
    "# 다음의 결과와 같이 이름과 나이를 입력 받아 올해를 기준으로 100세가 되는 해를 표시하는 코드를 작성하십시오. ##홍길동 20 ### 홍길동(은)는 2098년에 100세가 될 것입니다.\n",
    "\n",
    "name = input(\" \")\n",
    "age = int(input(\" \"))\n",
    "\n",
    "r_age = 100 - age\n",
    "h_year = 2019 + r_age - 1\n",
    "\n",
    "print(\"%s(은)는 %d년에 100세가 될 것입니다.\"%(name, h_year))\n",
    "\n",
    "# # 2번째 방법\n",
    "# now = datetime.date.today().year\n",
    "\n",
    "# name = input(\" \")\n",
    "# age = int(input(\" \"))\n",
    "\n",
    "# r_age = 100 - age -1\n",
    "# h_year = now + r_age\n",
    "\n",
    "# print(\"%s(은)는 %d년에 100세가 될 것입니다.\"%(name, h_year))"
   ]
  },
  {
   "cell_type": "code",
   "execution_count": 1,
   "metadata": {},
   "outputs": [
    {
     "data": {
      "text/plain": [
       "184"
      ]
     },
     "execution_count": 1,
     "metadata": {},
     "output_type": "execute_result"
    }
   ],
   "source": [
    "# 46차시\n",
    "\n",
    "# \"ADCBBBBCABBCBDACBDCAACDDDCAABABDBCBCBDBDBDDABBAAAAAAADADBDBCBDABADCADC\"와 같은 문자열이 주어지고, A는 4점, B는 3점, C는 2점, D는 1점이라고 할 때 문자열에 사용된\n",
    "# 알파벳 점수의 총합을 map 함수와 람다식을 이용해 구하십시오. ## 184\n",
    "\n",
    "a = \"ADCBBBBCABBCBDACBDCAACDDDCAABABDBCBCBDBDBDDABBAAAAAAADADBDBCBDABADCADC\"\n",
    "sum(map(lambda x: 4 if x =='A' else 3 if x =='B' else 2 if x =='C' else 1, a))\n",
    "\n",
    "## a안에 'A'가 몇 개 있는지 궁금하다면??? ==> list( i for i,x in enumerate(a) if x == 'A' )"
   ]
  },
  {
   "cell_type": "code",
   "execution_count": 32,
   "metadata": {},
   "outputs": [
    {
     "name": "stdout",
     "output_type": "stream",
     "text": [
      "1, 2, 3, 4\n",
      "24\n"
     ]
    }
   ],
   "source": [
    "# 47차시\n",
    "\n",
    "# 가변형 인자로 정수들을 입력받아 곱을 반환하는 함수를 정의하고, 단, 1, 2, '4', 3와 같이 제대로 입력되지 않은 경우 예외를 처리하는 프로그램을 작성하십시오.\n",
    "\n",
    "\n",
    "x, y, z, w = input().split(', ')\n",
    "\n",
    "if len(x) == len(y) == len(z) == len(w):\n",
    "    print(int(x)*int(y)*int(z)*int(w))\n",
    "else :\n",
    "    print(\"에러발생\")\n",
    "    \n",
    "\n",
    "## 2번째 방법\n",
    "# a = list(input().split(', '))\n",
    "\n",
    "# try :\n",
    "#     list(map(int, a))\n",
    "# except :\n",
    "#     print(\"error\")\n",
    "# else :\n",
    "#     a = list(map(int, a))\n",
    "#     multi = 1\n",
    "#     for i in range(len(a)) :\n",
    "#         multi = multi * a[i]\n",
    "#     print(multi)"
   ]
  },
  {
   "cell_type": "code",
   "execution_count": null,
   "metadata": {},
   "outputs": [],
   "source": [
    "# 48차시\n",
    "\n",
    "# ASCII 코드 값를 입력받아 문자를 확인하는 코드를 작성하십시오. ## ASCII 65 => A\n",
    "\n",
    "a = int(input(''))\n",
    "print(\"ASCII %d => %s\"%(a, chr(a)))"
   ]
  },
  {
   "cell_type": "code",
   "execution_count": 5,
   "metadata": {},
   "outputs": [
    {
     "data": {
      "text/plain": [
       "[2, 4, 6, 8, 10]"
      ]
     },
     "execution_count": 5,
     "metadata": {},
     "output_type": "execute_result"
    }
   ],
   "source": [
    "# 49차시\n",
    "\n",
    "# 1~10까지의 정수를 항목으로 갖는 리스트 객체에서 filter 함수와 람다식을 이용해 짝수만을 선택해 리스트를 반환하는 프로그램을 작성하십시오.\n",
    "\n",
    "result = list(range(1,11))\n",
    "list(filter(lambda x: x % 2 == 0, result))"
   ]
  },
  {
   "cell_type": "code",
   "execution_count": null,
   "metadata": {},
   "outputs": [],
   "source": [
    "# 50차시\n",
    "\n",
    "# 1~10까지의 정수를 항목으로 갖는 리스트 객체에서 map 함수와 람다식을 이용해 항목의 제곱 값을 갖는 리스트를 반환하는 프로그램을 작성하십시오.\n",
    "\n",
    "result = list(range(1,11))\n",
    "list(map(lambda x: x ** 2, result))"
   ]
  },
  {
   "cell_type": "code",
   "execution_count": 19,
   "metadata": {},
   "outputs": [
    {
     "data": {
      "text/plain": [
       "[4, 16, 36, 64, 100]"
      ]
     },
     "execution_count": 19,
     "metadata": {},
     "output_type": "execute_result"
    }
   ],
   "source": [
    "# 51차시\n",
    "\n",
    "# 1~10까지의 정수를 항목으로 갖는 리스트 객체에서 filter 함수와 람다식을 이용해 짝수만을 선택한 후, map 함수와 람다식을 이용해 항목의 제곱 값을 갖는 리스트를 반환하는 프로그램을 작성하십시오.\n",
    "\n",
    "result = list(range(1,11))\n",
    "even = list(filter(lambda x: x % 2 ==0, result))\n",
    "list(map(lambda x: x ** 2, even))"
   ]
  },
  {
   "cell_type": "code",
   "execution_count": 21,
   "metadata": {},
   "outputs": [
    {
     "name": "stdout",
     "output_type": "stream",
     "text": [
      "max(3, 5, 4, 1, 8, 10, 2) => 10\n"
     ]
    }
   ],
   "source": [
    "# 52차시\n",
    "\n",
    "# 가변형 인자를 전달 받아 가장 큰 값을 반환하는 함수를 정의하고, 다음과 같은 결과를 출력하는 프로그램을 작성하십시오. ## max(3, 5, 4, 1, 8, 10, 2) => 10\n",
    "\n",
    "print(\"max(3, 5, 4, 1, 8, 10, 2) => %d\"%(max(3, 5, 4, 1, 8, 10, 2)))"
   ]
  },
  {
   "cell_type": "code",
   "execution_count": 29,
   "metadata": {},
   "outputs": [
    {
     "name": "stdout",
     "output_type": "stream",
     "text": [
      "a: 0\n",
      "b: 1\n",
      "c: 2\n",
      "d: 3\n",
      "e: 4\n",
      "f: 5\n"
     ]
    }
   ],
   "source": [
    "# 53차시 \n",
    "\n",
    "# 다음의 결과와 같이 'abcdef' 문자열의 각각의 문자를 키로 하고 0~5 사이의 정수를 값으로 하는 딕셔너리 객체를 생성하고, 이 딕셔너리 객체의 키와 값 정보를 출력하는 프로그램을 작성하십시오.\n",
    "#a: 0\n",
    "# b: 1\n",
    "# c: 2\n",
    "# d: 3\n",
    "# e: 4\n",
    "# f: 5\n",
    "\n",
    "result = [\"a\", \"b\", \"c\", \"d\", \"e\", \"f\"]\n",
    "for value, key in enumerate(result) :\n",
    "    print(\"%s: %s\"%(key, value))"
   ]
  }
 ],
 "metadata": {
  "kernelspec": {
   "display_name": "Python 3",
   "language": "python",
   "name": "python3"
  },
  "language_info": {
   "codemirror_mode": {
    "name": "ipython",
    "version": 3
   },
   "file_extension": ".py",
   "mimetype": "text/x-python",
   "name": "python",
   "nbconvert_exporter": "python",
   "pygments_lexer": "ipython3",
   "version": "3.7.3"
  }
 },
 "nbformat": 4,
 "nbformat_minor": 2
}
