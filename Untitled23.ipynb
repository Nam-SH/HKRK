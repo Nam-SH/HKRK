{
 "cells": [
  {
   "cell_type": "code",
   "execution_count": 4,
   "metadata": {},
   "outputs": [],
   "source": [
    "import pygame"
   ]
  },
  {
   "cell_type": "code",
   "execution_count": null,
   "metadata": {},
   "outputs": [],
   "source": [
    "BLACK = (0,0,0)\n",
    "pad_width = 480\n",
    "pad_height = 640\n",
    "\n",
    "def runGame():\n",
    "    global gamepad, clock\n",
    "    \n",
    "    ongame = False\n",
    "    while not ongame:\n",
    "        for event in pygame.event.get():\n",
    "            if event.type == pygame.QUIT:\n",
    "                doneFlag = True\n",
    "                \n",
    "        gamepad.fill(BLACK)\n",
    "        pygame.display.update()\n",
    "        clock.tick(60)\n",
    "        \n",
    "    pygame.quit()\n",
    "    \n",
    "def initGame():\n",
    "    global gamepad, clock\n",
    "    \n",
    "    pygame.init()\n",
    "    gamepad = pygame.display.set_mode((pad_width, pad_height))\n",
    "    pygame.display.set_caption('MyGalaga')\n",
    "    clock = pygame.time.Clock()\n",
    "    \n",
    "initGame()\n",
    "runGame()"
   ]
  },
  {
   "cell_type": "code",
   "execution_count": null,
   "metadata": {},
   "outputs": [],
   "source": []
  }
 ],
 "metadata": {
  "kernelspec": {
   "display_name": "Python 3",
   "language": "python",
   "name": "python3"
  },
  "language_info": {
   "codemirror_mode": {
    "name": "ipython",
    "version": 3
   },
   "file_extension": ".py",
   "mimetype": "text/x-python",
   "name": "python",
   "nbconvert_exporter": "python",
   "pygments_lexer": "ipython3",
   "version": "3.7.3"
  }
 },
 "nbformat": 4,
 "nbformat_minor": 2
}
