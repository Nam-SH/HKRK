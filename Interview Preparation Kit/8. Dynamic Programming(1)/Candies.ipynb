{
 "cells": [
  {
   "cell_type": "markdown",
   "metadata": {},
   "source": [
    "# Candies\n",
    "\n",
    "<br>\n",
    "\n",
    "![image](https://user-images.githubusercontent.com/50367487/83503310-d4acd880-a4fd-11ea-8975-9a9f62a8fa24.png)"
   ]
  },
  {
   "cell_type": "code",
   "execution_count": null,
   "metadata": {},
   "outputs": [],
   "source": [
    "#!/bin/python3\n",
    "\n",
    "import math\n",
    "import os\n",
    "import random\n",
    "import re\n",
    "import sys\n",
    "\n",
    "# Complete the candies function below.\n",
    "def candies(n, arr):\n",
    "    dp = [1] * n\n",
    "    for i in range(n - 1):\n",
    "        if arr[i] < arr[i + 1]:\n",
    "            dp[i + 1] = dp[i] + 1\n",
    "\n",
    "    for j in range(n - 1, 0, -1):\n",
    "        if arr[j - 1] > arr[j] and dp[j - 1] <= dp[j]:\n",
    "            dp[j - 1] = dp[j] + 1\n",
    "\n",
    "    return sum(dp)\n",
    "\n",
    "if __name__ == '__main__':\n",
    "    fptr = open(os.environ['OUTPUT_PATH'], 'w')\n",
    "\n",
    "    n = int(input())\n",
    "\n",
    "    arr = []\n",
    "\n",
    "    for _ in range(n):\n",
    "        arr_item = int(input())\n",
    "        arr.append(arr_item)\n",
    "\n",
    "    result = candies(n, arr)\n",
    "\n",
    "    fptr.write(str(result) + '\\n')\n",
    "\n",
    "    fptr.close()"
   ]
  }
 ],
 "metadata": {
  "kernelspec": {
   "display_name": "Python 3",
   "language": "python",
   "name": "python3"
  },
  "language_info": {
   "codemirror_mode": {
    "name": "ipython",
    "version": 3
   },
   "file_extension": ".py",
   "mimetype": "text/x-python",
   "name": "python",
   "nbconvert_exporter": "python",
   "pygments_lexer": "ipython3",
   "version": "3.7.6"
  }
 },
 "nbformat": 4,
 "nbformat_minor": 4
}
