{
 "cells": [
  {
   "cell_type": "markdown",
   "metadata": {},
   "source": [
    "# Trees Is This a Binary Search Tree\n",
    "\n",
    "<br>\n",
    "\n",
    "![image](https://user-images.githubusercontent.com/50367487/86504783-e7b21180-bdf7-11ea-8365-484ae313bb7d.png)"
   ]
  },
  {
   "cell_type": "code",
   "execution_count": null,
   "metadata": {},
   "outputs": [],
   "source": [
    "\"\"\" Node is defined as\n",
    "class node:\n",
    "    def __init__(self, data):\n",
    "        self.data = data\n",
    "        self.left = None\n",
    "        self.right = None\n",
    "\"\"\"\n",
    "import sys\n",
    "\n",
    "\n",
    "def check(root, min, max):\n",
    "    if root == None:\n",
    "        return True\n",
    "\n",
    "    if root.data <= min or root.data >= max:\n",
    "        return False\n",
    "\n",
    "    return check(root.left, min, root.data) and check(root.right, root.data, max)\n",
    "\n",
    "\n",
    "def checkBST(root):\n",
    "    Max = sys.maxsize\n",
    "    ans = check(root, -Max, Max)\n",
    "    return ans"
   ]
  }
 ],
 "metadata": {
  "kernelspec": {
   "display_name": "Python 3",
   "language": "python",
   "name": "python3"
  },
  "language_info": {
   "codemirror_mode": {
    "name": "ipython",
    "version": 3
   },
   "file_extension": ".py",
   "mimetype": "text/x-python",
   "name": "python",
   "nbconvert_exporter": "python",
   "pygments_lexer": "ipython3",
   "version": "3.7.6"
  }
 },
 "nbformat": 4,
 "nbformat_minor": 4
}
