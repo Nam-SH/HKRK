{
 "cells": [
  {
   "cell_type": "markdown",
   "metadata": {},
   "source": [
    "# Luck Balance\n",
    "\n",
    "<br>\n",
    "\n",
    "![image](https://user-images.githubusercontent.com/50367487/83008363-02060c00-a050-11ea-86c1-29c0dc18d92a.png)"
   ]
  },
  {
   "cell_type": "code",
   "execution_count": null,
   "metadata": {},
   "outputs": [],
   "source": [
    "#!/bin/python3\n",
    "\n",
    "import math\n",
    "import os\n",
    "import random\n",
    "import re\n",
    "import sys\n",
    "\n",
    "# Complete the luckBalance function below.\n",
    "def luckBalance(k, contests):\n",
    "\n",
    "    res = 0\n",
    "    not_important = [i[0] for i in contests if i [1] == 0]\n",
    "    sorted_contests = sorted([i[0] for i in contests if i [1] == 1], reverse=True)\n",
    "    \n",
    "    res += sum(not_important) + sum(sorted_contests[:k]) - sum(sorted_contests[k:])\n",
    "    \n",
    "    return res\n",
    "\n",
    "\n",
    "if __name__ == '__main__':\n",
    "    fptr = open(os.environ['OUTPUT_PATH'], 'w')\n",
    "\n",
    "    nk = input().split()\n",
    "\n",
    "    n = int(nk[0])\n",
    "\n",
    "    k = int(nk[1])\n",
    "\n",
    "    contests = []\n",
    "\n",
    "    for _ in range(n):\n",
    "        contests.append(list(map(int, input().rstrip().split())))\n",
    "\n",
    "    result = luckBalance(k, contests)\n",
    "\n",
    "    fptr.write(str(result) + '\\n')\n",
    "\n",
    "    fptr.close()"
   ]
  }
 ],
 "metadata": {
  "kernelspec": {
   "display_name": "Python 3",
   "language": "python",
   "name": "python3"
  },
  "language_info": {
   "codemirror_mode": {
    "name": "ipython",
    "version": 3
   },
   "file_extension": ".py",
   "mimetype": "text/x-python",
   "name": "python",
   "nbconvert_exporter": "python",
   "pygments_lexer": "ipython3",
   "version": "3.7.6"
  }
 },
 "nbformat": 4,
 "nbformat_minor": 4
}
