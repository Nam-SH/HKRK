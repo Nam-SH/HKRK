{
 "cells": [
  {
   "cell_type": "markdown",
   "metadata": {},
   "source": [
    "# Reverse Shuffle Merge\n",
    "\n",
    "<br>\n",
    "\n",
    "![image](https://user-images.githubusercontent.com/50367487/83008422-14804580-a050-11ea-8b35-b5a71f4c34dd.png)"
   ]
  },
  {
   "cell_type": "code",
   "execution_count": null,
   "metadata": {},
   "outputs": [],
   "source": [
    "#!/bin/python3\n",
    "\n",
    "import math\n",
    "import os\n",
    "import random\n",
    "import re\n",
    "import sys\n",
    "\n",
    "# Complete the reverseShuffleMerge function below.\n",
    "def reverseShuffleMerge(s):\n",
    "    \n",
    "    d = dict()\n",
    "    for i in s:\n",
    "        d[i] = d.get(i, 0) + 1\n",
    "    \n",
    "    half = dict()\n",
    "    for key, val in d.items():\n",
    "        half[key] = val // 2\n",
    "\n",
    "    s = s[::-1]\n",
    "    \n",
    "    res = \"\"\n",
    "    i = 0\n",
    "    while len(res) < len(s) // 2:\n",
    "        idx = i\n",
    "        i += 1\n",
    "        while i < len(s):\n",
    "            d[s[i - 1]] -= 1\n",
    "            if d[s[i - 1]] >= half[s[i - 1]]:\n",
    "                if half[s[idx]] == 0 or (s[i] < s[idx] and half[s[i]] > 0):\n",
    "                    idx = i\n",
    "                i += 1\n",
    "            else:\n",
    "                while idx + 1 < i:\n",
    "                    d[s[i - 1]] += 1\n",
    "                    i -= 1\n",
    "                break\n",
    "        half[s[idx]] -= 1\n",
    "        res += s[idx]\n",
    "\n",
    "    return res\n",
    "\n",
    "if __name__ == '__main__':\n",
    "    fptr = open(os.environ['OUTPUT_PATH'], 'w')\n",
    "\n",
    "    s = input()\n",
    "\n",
    "    result = reverseShuffleMerge(s)\n",
    "\n",
    "    fptr.write(result + '\\n')\n",
    "\n",
    "    fptr.close()"
   ]
  }
 ],
 "metadata": {
  "kernelspec": {
   "display_name": "Python 3",
   "language": "python",
   "name": "python3"
  },
  "language_info": {
   "codemirror_mode": {
    "name": "ipython",
    "version": 3
   },
   "file_extension": ".py",
   "mimetype": "text/x-python",
   "name": "python",
   "nbconvert_exporter": "python",
   "pygments_lexer": "ipython3",
   "version": "3.7.6"
  }
 },
 "nbformat": 4,
 "nbformat_minor": 4
}
