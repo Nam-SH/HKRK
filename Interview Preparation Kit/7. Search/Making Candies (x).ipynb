{
 "cells": [
  {
   "cell_type": "markdown",
   "metadata": {},
   "source": [
    "# Making Candies\n",
    "\n",
    "<br>\n",
    "\n",
    "![image](https://user-images.githubusercontent.com/50367487/83239204-8385a780-a1d2-11ea-8b59-bca1974a2656.png)"
   ]
  },
  {
   "cell_type": "code",
   "execution_count": null,
   "metadata": {},
   "outputs": [],
   "source": [
    "#!/bin/python3\n",
    "\n",
    "import math\n",
    "import os\n",
    "import random\n",
    "import re\n",
    "import sys\n",
    "\n",
    "# Complete the minimumPasses function below.\n",
    "def minimumPasses(m, w, p, n):\n",
    "    candy = 0\n",
    "    \n",
    "    curr = 0\n",
    "    cost = sys.maxsize\n",
    "    while candy < n:\n",
    "        val = math.ceil((p - candy) / (m * w))\n",
    "        if val <= 0:\n",
    "            total = (candy // p) + m + w\n",
    "            half = total // 2\n",
    "            if m > w:\n",
    "                m = max(m, half)\n",
    "                w = total - m\n",
    "            else:\n",
    "                w = max(w, half)\n",
    "                m = total - w\n",
    "            candy %= p\n",
    "            val += 1\n",
    "            \n",
    "        candy += val * m * w\n",
    "        curr += val\n",
    "        cost = min(cost, curr + math.ceil((n - candy) / (m * w)))\n",
    "    return min(curr, cost)\n",
    "\n",
    "if __name__ == '__main__':\n",
    "    fptr = open(os.environ['OUTPUT_PATH'], 'w')\n",
    "\n",
    "    mwpn = input().split()\n",
    "\n",
    "    m = int(mwpn[0])\n",
    "\n",
    "    w = int(mwpn[1])\n",
    "\n",
    "    p = int(mwpn[2])\n",
    "\n",
    "    n = int(mwpn[3])\n",
    "\n",
    "    result = minimumPasses(m, w, p, n)\n",
    "\n",
    "    fptr.write(str(result) + '\\n')\n",
    "\n",
    "    fptr.close()"
   ]
  }
 ],
 "metadata": {
  "kernelspec": {
   "display_name": "Python 3",
   "language": "python",
   "name": "python3"
  },
  "language_info": {
   "codemirror_mode": {
    "name": "ipython",
    "version": 3
   },
   "file_extension": ".py",
   "mimetype": "text/x-python",
   "name": "python",
   "nbconvert_exporter": "python",
   "pygments_lexer": "ipython3",
   "version": "3.7.6"
  }
 },
 "nbformat": 4,
 "nbformat_minor": 4
}
