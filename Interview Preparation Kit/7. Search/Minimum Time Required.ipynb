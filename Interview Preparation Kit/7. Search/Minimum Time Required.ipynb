{
 "cells": [
  {
   "cell_type": "markdown",
   "metadata": {},
   "source": [
    "# Minimum Time Required\n",
    "\n",
    "<br>\n",
    "    \n",
    "![image](https://user-images.githubusercontent.com/50367487/83238878-0823f600-a1d2-11ea-8e20-6c86df1a3a30.png)"
   ]
  },
  {
   "cell_type": "code",
   "execution_count": null,
   "metadata": {},
   "outputs": [],
   "source": [
    "#!/bin/python3\n",
    "\n",
    "import math\n",
    "import os\n",
    "import random\n",
    "import re\n",
    "import sys\n",
    "\n",
    "# Complete the minTime function below.\n",
    "def minTime(machines, goal):\n",
    "    Min = goal // (n / min(machines))\n",
    "    Max = (goal // (n / max(machines))) + 1\n",
    "\n",
    "    while Min < Max:\n",
    "        Mid = (Max + Min) // 2\n",
    "        if sum(Mid // m for m in machines) >= goal:\n",
    "            Max = Mid\n",
    "        else:\n",
    "            Min = Mid + 1\n",
    "    return int(Min)\n",
    "\n",
    "if __name__ == '__main__':\n",
    "    fptr = open(os.environ['OUTPUT_PATH'], 'w')\n",
    "\n",
    "    nGoal = input().split()\n",
    "\n",
    "    n = int(nGoal[0])\n",
    "\n",
    "    goal = int(nGoal[1])\n",
    "\n",
    "    machines = list(map(int, input().rstrip().split()))\n",
    "\n",
    "    ans = minTime(machines, goal)\n",
    "\n",
    "    fptr.write(str(ans) + '\\n')\n",
    "\n",
    "    fptr.close()"
   ]
  }
 ],
 "metadata": {
  "kernelspec": {
   "display_name": "Python 3",
   "language": "python",
   "name": "python3"
  },
  "language_info": {
   "codemirror_mode": {
    "name": "ipython",
    "version": 3
   },
   "file_extension": ".py",
   "mimetype": "text/x-python",
   "name": "python",
   "nbconvert_exporter": "python",
   "pygments_lexer": "ipython3",
   "version": "3.7.6"
  }
 },
 "nbformat": 4,
 "nbformat_minor": 4
}
