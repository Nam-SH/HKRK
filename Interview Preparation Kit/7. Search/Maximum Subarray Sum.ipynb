{
 "cells": [
  {
   "cell_type": "markdown",
   "metadata": {},
   "source": [
    "# Maximum Subarray Sum\n",
    "\n",
    "<br>\n",
    "\n",
    "![image](https://user-images.githubusercontent.com/50367487/83125912-16f7a380-a113-11ea-8ff1-751c2e9da074.png)"
   ]
  },
  {
   "cell_type": "code",
   "execution_count": null,
   "metadata": {},
   "outputs": [],
   "source": [
    "#!/bin/python3\n",
    "\n",
    "import math\n",
    "import os\n",
    "import random\n",
    "import re\n",
    "import sys\n",
    "\n",
    "# Complete the maximumSum function below.\n",
    "from itertools import combinations\n",
    "def maximumSum(a, m):\n",
    "\n",
    "    sub = []\n",
    "    curr = 0\n",
    "    for i in range(n):\n",
    "        curr = (a[i] + curr) % m\n",
    "        sub += [curr]\n",
    "\n",
    "    Max = max(sub)\n",
    "    sub = sorted([(j, i) for (i, j) in enumerate(sub)])\n",
    "\n",
    "    for i in range(n):\n",
    "        if sub[i - 1][1] > sub[i][1] and sub[i - 1][0] < sub[i][0]:\n",
    "            Max = max(Max, (sub[i - 1][0] - sub[i][0] + m) % m)\n",
    "\n",
    "    return (Max)\n",
    "\n",
    "if __name__ == '__main__':\n",
    "    fptr = open(os.environ['OUTPUT_PATH'], 'w')\n",
    "\n",
    "    q = int(input())\n",
    "\n",
    "    for q_itr in range(q):\n",
    "        nm = input().split()\n",
    "\n",
    "        n = int(nm[0])\n",
    "\n",
    "        m = int(nm[1])\n",
    "\n",
    "        a = list(map(int, input().rstrip().split()))\n",
    "\n",
    "        result = maximumSum(a, m)\n",
    "\n",
    "        fptr.write(str(result) + '\\n')\n",
    "\n",
    "    fptr.close()"
   ]
  }
 ],
 "metadata": {
  "kernelspec": {
   "display_name": "Python 3",
   "language": "python",
   "name": "python3"
  },
  "language_info": {
   "codemirror_mode": {
    "name": "ipython",
    "version": 3
   },
   "file_extension": ".py",
   "mimetype": "text/x-python",
   "name": "python",
   "nbconvert_exporter": "python",
   "pygments_lexer": "ipython3",
   "version": "3.7.6"
  }
 },
 "nbformat": 4,
 "nbformat_minor": 4
}
