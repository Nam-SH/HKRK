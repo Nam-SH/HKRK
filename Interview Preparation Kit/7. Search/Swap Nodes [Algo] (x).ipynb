{
 "cells": [
  {
   "cell_type": "markdown",
   "metadata": {},
   "source": [
    "# Swap Nodes [Algo]\n",
    "\n",
    "<br>\n",
    "\n",
    "![image](https://user-images.githubusercontent.com/50367487/83239170-723c9b00-a1d2-11ea-9430-c0a80f7a871f.png)"
   ]
  },
  {
   "cell_type": "code",
   "execution_count": null,
   "metadata": {},
   "outputs": [],
   "source": []
  }
 ],
 "metadata": {
  "kernelspec": {
   "display_name": "Python 3",
   "language": "python",
   "name": "python3"
  },
  "language_info": {
   "codemirror_mode": {
    "name": "ipython",
    "version": 3
   },
   "file_extension": ".py",
   "mimetype": "text/x-python",
   "name": "python",
   "nbconvert_exporter": "python",
   "pygments_lexer": "ipython3",
   "version": "3.7.6"
  }
 },
 "nbformat": 4,
 "nbformat_minor": 4
}
