{
 "cells": [
  {
   "cell_type": "markdown",
   "metadata": {},
   "source": [
    "# Hash Tables: Ice Cream Parlor\n",
    "\n",
    "<br>\n",
    "\n",
    "![image](https://user-images.githubusercontent.com/50367487/83125848-08a98780-a113-11ea-8315-986421b92f4b.png)"
   ]
  },
  {
   "cell_type": "code",
   "execution_count": null,
   "metadata": {},
   "outputs": [],
   "source": [
    "#!/bin/python3\n",
    "\n",
    "import math\n",
    "import os\n",
    "import random\n",
    "import re\n",
    "import sys\n",
    "\n",
    "# Complete the whatFlavors function below.\n",
    "def whatFlavors(cost, money):\n",
    "    \n",
    "    d = dict()\n",
    "    for idx, val in enumerate(cost):\n",
    "        if d.get(money - val):\n",
    "            print(d[money - val], idx + 1)\n",
    "            return\n",
    "        else:\n",
    "            d[val] = idx + 1\n",
    "\n",
    "if __name__ == '__main__':\n",
    "    t = int(input())\n",
    "\n",
    "    for t_itr in range(t):\n",
    "        money = int(input())\n",
    "\n",
    "        n = int(input())\n",
    "\n",
    "        cost = list(map(int, input().rstrip().split()))\n",
    "\n",
    "        whatFlavors(cost, money)"
   ]
  }
 ],
 "metadata": {
  "kernelspec": {
   "display_name": "Python 3",
   "language": "python",
   "name": "python3"
  },
  "language_info": {
   "codemirror_mode": {
    "name": "ipython",
    "version": 3
   },
   "file_extension": ".py",
   "mimetype": "text/x-python",
   "name": "python",
   "nbconvert_exporter": "python",
   "pygments_lexer": "ipython3",
   "version": "3.7.6"
  }
 },
 "nbformat": 4,
 "nbformat_minor": 4
}
