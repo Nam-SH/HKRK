{
 "cells": [
  {
   "cell_type": "markdown",
   "metadata": {},
   "source": [
    "# Triple sum\n",
    "\n",
    "<br>\n",
    "\n",
    "![image](https://user-images.githubusercontent.com/50367487/83125939-20810b80-a113-11ea-9632-db7612863155.png)"
   ]
  },
  {
   "cell_type": "code",
   "execution_count": null,
   "metadata": {},
   "outputs": [],
   "source": [
    "#!/bin/python3\n",
    "\n",
    "import math\n",
    "import os\n",
    "import random\n",
    "import re\n",
    "import sys\n",
    "\n",
    "# Complete the triplets function below.\n",
    "def triplets(a, b, c):\n",
    "\n",
    "    a = sorted(set(a))\n",
    "    b = sorted(set(b))\n",
    "    c = sorted(set(c))\n",
    "\n",
    "    res = 0\n",
    "    for i in b:\n",
    "        val = 0\n",
    "        for j in a:\n",
    "            if j > i: break\n",
    "            val += 1\n",
    "        for k in c:\n",
    "            if k > i: break\n",
    "            res += val\n",
    "\n",
    "    return res\n",
    "\n",
    "if __name__ == '__main__':\n",
    "    fptr = open(os.environ['OUTPUT_PATH'], 'w')\n",
    "\n",
    "    lena, lenb, lenac = input().split()\n",
    "\n",
    "    arra = list(map(int, input().rstrip().split()))\n",
    "\n",
    "    arrb = list(map(int, input().rstrip().split()))\n",
    "\n",
    "    arrc = list(map(int, input().rstrip().split()))\n",
    "\n",
    "    ans = triplets(arra, arrb, arrc)\n",
    "\n",
    "    fptr.write(str(ans) + '\\n')\n",
    "\n",
    "    fptr.close()"
   ]
  }
 ],
 "metadata": {
  "kernelspec": {
   "display_name": "Python 3",
   "language": "python",
   "name": "python3"
  },
  "language_info": {
   "codemirror_mode": {
    "name": "ipython",
    "version": 3
   },
   "file_extension": ".py",
   "mimetype": "text/x-python",
   "name": "python",
   "nbconvert_exporter": "python",
   "pygments_lexer": "ipython3",
   "version": "3.7.6"
  }
 },
 "nbformat": 4,
 "nbformat_minor": 4
}
