{
 "cells": [
  {
   "cell_type": "markdown",
   "metadata": {},
   "source": [
    "# Frequency Queries\n",
    "\n",
    "<br>\n",
    "\n",
    "![image](https://user-images.githubusercontent.com/50367487/82322670-d9f42880-9a11-11ea-8e58-f9b5e231e881.png)"
   ]
  },
  {
   "cell_type": "code",
   "execution_count": null,
   "metadata": {},
   "outputs": [],
   "source": [
    "#!/bin/python3\n",
    "\n",
    "import math\n",
    "import os\n",
    "import random\n",
    "import re\n",
    "import sys\n",
    "\n",
    "# Complete the freqQuery function below.\n",
    "def freqQuery(queries):\n",
    "    res = []\n",
    "    d = dict()\n",
    "    cnt = dict()\n",
    "    for i, j in queries:\n",
    "        if i == 1:\n",
    "            d[j] = d.get(j, 0) + 1\n",
    "            cnt[d[j] - 1] = cnt.get(d[j] - 1, 0) - 1\n",
    "            cnt[d[j]] = cnt.get(d[j], 0) + 1\n",
    "        elif i == 2:\n",
    "            if d.get(j):\n",
    "                cnt[d[j]] = cnt.get(d[j], 0) - 1\n",
    "                d[j] -= 1\n",
    "                cnt[d[j]] = cnt.get(d[j], 0) + 1\n",
    "        elif i == 3:\n",
    "            if cnt.get(j):\n",
    "                res.append(1)\n",
    "            else:\n",
    "                res.append(0)\n",
    "    return res\n",
    "\n",
    "if __name__ == '__main__':\n",
    "    fptr = open(os.environ['OUTPUT_PATH'], 'w')\n",
    "\n",
    "    q = int(input().strip())\n",
    "\n",
    "    queries = []\n",
    "\n",
    "    for _ in range(q):\n",
    "        queries.append(list(map(int, input().rstrip().split())))\n",
    "\n",
    "    ans = freqQuery(queries)\n",
    "\n",
    "    fptr.write('\\n'.join(map(str, ans)))\n",
    "    fptr.write('\\n')\n",
    "\n",
    "    fptr.close()"
   ]
  }
 ],
 "metadata": {
  "kernelspec": {
   "display_name": "Python 3",
   "language": "python",
   "name": "python3"
  },
  "language_info": {
   "codemirror_mode": {
    "name": "ipython",
    "version": 3
   },
   "file_extension": ".py",
   "mimetype": "text/x-python",
   "name": "python",
   "nbconvert_exporter": "python",
   "pygments_lexer": "ipython3",
   "version": "3.7.6"
  }
 },
 "nbformat": 4,
 "nbformat_minor": 4
}
