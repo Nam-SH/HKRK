{
 "cells": [
  {
   "cell_type": "markdown",
   "metadata": {},
   "source": [
    "# Count Triplets\n",
    "\n",
    "<br>\n",
    "\n",
    "![image](https://user-images.githubusercontent.com/50367487/82322458-82ee5380-9a11-11ea-80cf-0c304b1a4a8d.png)"
   ]
  },
  {
   "cell_type": "code",
   "execution_count": null,
   "metadata": {},
   "outputs": [],
   "source": [
    "#!/bin/python3\n",
    "\n",
    "import math\n",
    "import os\n",
    "import random\n",
    "import re\n",
    "import sys\n",
    "\n",
    "# Complete the countTriplets function below.\n",
    "def countTriplets(arr, r):\n",
    "\n",
    "    left, right = dict(), dict()\n",
    "    \n",
    "    for i in arr:\n",
    "        right[i] = right.get(i, 0) + 1\n",
    "\n",
    "    ans = 0\n",
    "    for i in arr:\n",
    "        right[i] -= 1\n",
    "        if i % r == 0:\n",
    "            ans += right.get(i * r, 0) * left.get(i // r, 0)\n",
    "        left[i] = left.get(i, 0) + 1\n",
    "\n",
    "    return ans\n",
    "\n",
    "if __name__ == '__main__':\n",
    "    fptr = open(os.environ['OUTPUT_PATH'], 'w')\n",
    "\n",
    "    nr = input().rstrip().split()\n",
    "\n",
    "    n = int(nr[0])\n",
    "\n",
    "    r = int(nr[1])\n",
    "\n",
    "    arr = list(map(int, input().rstrip().split()))\n",
    "\n",
    "    ans = countTriplets(arr, r)\n",
    "\n",
    "    fptr.write(str(ans) + '\\n')\n",
    "\n",
    "    fptr.close()"
   ]
  }
 ],
 "metadata": {
  "kernelspec": {
   "display_name": "Python 3",
   "language": "python",
   "name": "python3"
  },
  "language_info": {
   "codemirror_mode": {
    "name": "ipython",
    "version": 3
   },
   "file_extension": ".py",
   "mimetype": "text/x-python",
   "name": "python",
   "nbconvert_exporter": "python",
   "pygments_lexer": "ipython3",
   "version": "3.7.6"
  }
 },
 "nbformat": 4,
 "nbformat_minor": 4
}
