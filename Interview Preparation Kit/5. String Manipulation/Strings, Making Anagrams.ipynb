{
 "cells": [
  {
   "cell_type": "markdown",
   "metadata": {},
   "source": [
    "# Strings: Making Anagrams\n",
    "\n",
    "<br>\n",
    "\n",
    "![image](https://user-images.githubusercontent.com/50367487/82546380-fb305280-9b92-11ea-8205-88fb71c18130.png)"
   ]
  },
  {
   "cell_type": "code",
   "execution_count": null,
   "metadata": {},
   "outputs": [],
   "source": [
    "#!/bin/python3\n",
    "\n",
    "import math\n",
    "import os\n",
    "import random\n",
    "import re\n",
    "import sys\n",
    "\n",
    "# Complete the makeAnagram function below.\n",
    "def makeAnagram(a, b):\n",
    "\n",
    "    d = dict()\n",
    "\n",
    "    for i in a:\n",
    "        d[i] = d.get(i, 0) + 1\n",
    "\n",
    "    for j in b:\n",
    "        d[j] = d.get(j, 0) - 1\n",
    "\n",
    "    res = 0\n",
    "    for k in d.values():\n",
    "        res += abs(k)\n",
    "    \n",
    "    return res\n",
    "\n",
    "if __name__ == '__main__':\n",
    "    fptr = open(os.environ['OUTPUT_PATH'], 'w')\n",
    "\n",
    "    a = input()\n",
    "\n",
    "    b = input()\n",
    "\n",
    "    res = makeAnagram(a, b)\n",
    "\n",
    "    fptr.write(str(res) + '\\n')\n",
    "\n",
    "    fptr.close()"
   ]
  }
 ],
 "metadata": {
  "kernelspec": {
   "display_name": "Python 3",
   "language": "python",
   "name": "python3"
  },
  "language_info": {
   "codemirror_mode": {
    "name": "ipython",
    "version": 3
   },
   "file_extension": ".py",
   "mimetype": "text/x-python",
   "name": "python",
   "nbconvert_exporter": "python",
   "pygments_lexer": "ipython3",
   "version": "3.7.6"
  }
 },
 "nbformat": 4,
 "nbformat_minor": 4
}
