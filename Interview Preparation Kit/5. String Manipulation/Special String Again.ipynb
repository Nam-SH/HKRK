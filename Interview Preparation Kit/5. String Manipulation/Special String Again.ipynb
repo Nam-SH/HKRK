{
 "cells": [
  {
   "cell_type": "markdown",
   "metadata": {},
   "source": [
    "# Special String Again\n",
    "\n",
    "<br>\n",
    "\n",
    "![image](https://user-images.githubusercontent.com/50367487/82546450-0f744f80-9b93-11ea-9148-6be626c346fa.png)"
   ]
  },
  {
   "cell_type": "code",
   "execution_count": null,
   "metadata": {},
   "outputs": [],
   "source": [
    "#!/bin/python3\n",
    "\n",
    "import math\n",
    "import os\n",
    "import random\n",
    "import re\n",
    "import sys\n",
    "\n",
    "# Complete the substrCount function below.\n",
    "def substrCount(n, s):\n",
    "    res = n\n",
    "\n",
    "    spcCnt = 0\n",
    "    currCnt = 0\n",
    "    prevCnt = 0\n",
    "    prevPrevCnt = 0\n",
    "\n",
    "    for i in range(1, n):\n",
    "        prev = s[i - 1]\n",
    "        curr = s[i]\n",
    "\n",
    "        if prev == curr:\n",
    "            currCnt += 1\n",
    "            res += currCnt\n",
    "\n",
    "            if spcCnt > 0:\n",
    "                spcCnt -= 1\n",
    "                res += 1\n",
    "        else:\n",
    "            currCnt = 0\n",
    "            if i > 1 and s[i - 2] == curr:\n",
    "                spcCnt = prevPrevCnt\n",
    "                res += 1\n",
    "            else:\n",
    "                spcCnt = 0\n",
    "\n",
    "        if i > 1:\n",
    "            prevPrevCnt = prevCnt\n",
    "\n",
    "        prevCnt = currCnt\n",
    "\n",
    "    return res\n",
    "\n",
    "if __name__ == '__main__':\n",
    "    fptr = open(os.environ['OUTPUT_PATH'], 'w')\n",
    "\n",
    "    n = int(input())\n",
    "\n",
    "    s = input()\n",
    "\n",
    "    result = substrCount(n, s)\n",
    "\n",
    "    fptr.write(str(result) + '\\n')\n",
    "\n",
    "    fptr.close()"
   ]
  }
 ],
 "metadata": {
  "kernelspec": {
   "display_name": "Python 3",
   "language": "python",
   "name": "python3"
  },
  "language_info": {
   "codemirror_mode": {
    "name": "ipython",
    "version": 3
   },
   "file_extension": ".py",
   "mimetype": "text/x-python",
   "name": "python",
   "nbconvert_exporter": "python",
   "pygments_lexer": "ipython3",
   "version": "3.7.6"
  }
 },
 "nbformat": 4,
 "nbformat_minor": 4
}
