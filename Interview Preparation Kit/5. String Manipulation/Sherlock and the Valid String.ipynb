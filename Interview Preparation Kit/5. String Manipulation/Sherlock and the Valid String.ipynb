{
 "cells": [
  {
   "cell_type": "markdown",
   "metadata": {},
   "source": [
    "# Sherlock and the Valid String\n",
    "\n",
    "<br>\n",
    "\n",
    "![image](https://user-images.githubusercontent.com/50367487/82546421-071c1480-9b93-11ea-9284-a1ef0228dcd7.png)"
   ]
  },
  {
   "cell_type": "code",
   "execution_count": null,
   "metadata": {},
   "outputs": [],
   "source": [
    "#!/bin/python3\n",
    "\n",
    "import math\n",
    "import os\n",
    "import random\n",
    "import re\n",
    "import sys\n",
    "\n",
    "# Complete the isValid function below.\n",
    "def isValid(s=\"abcdefghhgfedecba\"):\n",
    "\n",
    "    d = dict()\n",
    "    for char in s:\n",
    "        d[char] = d.get(char, 0) + 1\n",
    "\n",
    "    d_val = dict()\n",
    "    for value in d.values():\n",
    "        d_val[value] = d_val.get(value, 0) + 1\n",
    "\n",
    "    if len(d_val) == 1:\n",
    "        return 'YES'\n",
    "    elif len(d_val) == 2:\n",
    "        max_cnt = max(d.values())\n",
    "        min_cnt = min(d.values())\n",
    "        if d_val[max_cnt] == 1 and max_cnt - min_cnt == 1:\n",
    "            return 'YES'\n",
    "        elif d_val[min_cnt] == 1 and min_cnt == 1:\n",
    "            return 'YES'\n",
    "    return 'NO'\n",
    "\n",
    "if __name__ == '__main__':\n",
    "    fptr = open(os.environ['OUTPUT_PATH'], 'w')\n",
    "\n",
    "    s = input()\n",
    "\n",
    "    result = isValid(s)\n",
    "\n",
    "    fptr.write(result + '\\n')\n",
    "\n",
    "    fptr.close()"
   ]
  }
 ],
 "metadata": {
  "kernelspec": {
   "display_name": "Python 3",
   "language": "python",
   "name": "python3"
  },
  "language_info": {
   "codemirror_mode": {
    "name": "ipython",
    "version": 3
   },
   "file_extension": ".py",
   "mimetype": "text/x-python",
   "name": "python",
   "nbconvert_exporter": "python",
   "pygments_lexer": "ipython3",
   "version": "3.7.6"
  }
 },
 "nbformat": 4,
 "nbformat_minor": 4
}
