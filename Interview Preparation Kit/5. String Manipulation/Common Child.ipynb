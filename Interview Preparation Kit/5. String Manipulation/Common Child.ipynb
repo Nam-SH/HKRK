{
 "cells": [
  {
   "cell_type": "markdown",
   "metadata": {},
   "source": [
    "# Common Child\n",
    "\n",
    "<br>\n",
    "\n",
    "![image](https://user-images.githubusercontent.com/50367487/82546476-1733f400-9b93-11ea-87ab-c27933dadc83.png)"
   ]
  },
  {
   "cell_type": "code",
   "execution_count": null,
   "metadata": {},
   "outputs": [],
   "source": [
    "# Enter your code here. Read input from STDIN. Print output to STDOUT\n",
    "def commonChild(s1, s2):\n",
    "\n",
    "    m = len(s1)\n",
    "    n = len(s2)\n",
    "\n",
    "    arr = [[0] * (m + 1) for _ in range(n + 1)]\n",
    "    \n",
    "    for i in range(m + 1):\n",
    "        for j in range(n + 1):\n",
    "            if i == 0 or j == 0:\n",
    "                arr[i][j] = 0\n",
    "            elif s1[i - 1] == s2[j - 1]:\n",
    "                arr[i][j] = 1 + arr[i - 1][j - 1]\n",
    "            else:\n",
    "                arr[i][j] = max(arr[i][j - 1], arr[i - 1][j])\n",
    "    \n",
    "    return arr[m][n]\n",
    "\n",
    "s1 = input()  \n",
    "s2 = input()\n",
    "\n",
    "print(commonChild(s1, s2))"
   ]
  }
 ],
 "metadata": {
  "kernelspec": {
   "display_name": "Python 3",
   "language": "python",
   "name": "python3"
  },
  "language_info": {
   "codemirror_mode": {
    "name": "ipython",
    "version": 3
   },
   "file_extension": ".py",
   "mimetype": "text/x-python",
   "name": "python",
   "nbconvert_exporter": "python",
   "pygments_lexer": "ipython3",
   "version": "3.7.6"
  }
 },
 "nbformat": 4,
 "nbformat_minor": 4
}
