{
 "cells": [
  {
   "cell_type": "markdown",
   "metadata": {},
   "source": [
    "# Recursion: Davis' Staircase\n",
    "\n",
    "<br>\n",
    "\n",
    "![image](https://user-images.githubusercontent.com/50367487/86590524-bccbe700-bfca-11ea-8075-4ca3eb954581.png)"
   ]
  },
  {
   "cell_type": "code",
   "execution_count": null,
   "metadata": {},
   "outputs": [],
   "source": [
    "#!/bin/python3\n",
    "\n",
    "import math\n",
    "import os\n",
    "import random\n",
    "import re\n",
    "import sys\n",
    "\n",
    "mod = int(1e10 + 7)\n",
    "dp = [-1] * 100001\n",
    "dp[0] = dp[1] = 1\n",
    "dp[2] = 2\n",
    "\n",
    "# Complete the stepPerms function below.\n",
    "\n",
    "\n",
    "def stepPerms(n):\n",
    "\n",
    "    if dp[n] != -1:\n",
    "        return dp[n]\n",
    "\n",
    "    dp[n] = stepPerms(n - 1) + stepPerms(n - 2) + stepPerms(n - 3)\n",
    "    dp[n] %= mod\n",
    "    return dp[n]\n",
    "\n",
    "\n",
    "if __name__ == '__main__':\n",
    "    fptr = open(os.environ['OUTPUT_PATH'], 'w')\n",
    "\n",
    "    s = int(input())\n",
    "\n",
    "    for s_itr in range(s):\n",
    "        n = int(input())\n",
    "\n",
    "        res = stepPerms(n)\n",
    "\n",
    "        fptr.write(str(res) + '\\n')\n",
    "\n",
    "    fptr.close()"
   ]
  }
 ],
 "metadata": {
  "kernelspec": {
   "display_name": "Python 3",
   "language": "python",
   "name": "python3"
  },
  "language_info": {
   "codemirror_mode": {
    "name": "ipython",
    "version": 3
   },
   "file_extension": ".py",
   "mimetype": "text/x-python",
   "name": "python",
   "nbconvert_exporter": "python",
   "pygments_lexer": "ipython3",
   "version": "3.7.6"
  }
 },
 "nbformat": 4,
 "nbformat_minor": 4
}
