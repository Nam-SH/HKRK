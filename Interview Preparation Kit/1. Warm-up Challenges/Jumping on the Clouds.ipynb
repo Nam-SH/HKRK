{
 "cells": [
  {
   "cell_type": "markdown",
   "metadata": {},
   "source": [
    "# Jumping on the Clouds\n",
    "\n",
    "<br>\n",
    "\n",
    "![image](https://user-images.githubusercontent.com/50367487/82199441-a7c2c800-9938-11ea-8638-43267b15c7ba.png)"
   ]
  },
  {
   "cell_type": "code",
   "execution_count": null,
   "metadata": {},
   "outputs": [],
   "source": [
    "#!/bin/python3\n",
    "\n",
    "import math\n",
    "import os\n",
    "import random\n",
    "import re\n",
    "import sys\n",
    "\n",
    "# Complete the jumpingOnClouds function below.\n",
    "def jumpingOnClouds(idx, res):\n",
    "    global Min\n",
    "\n",
    "    if Min < res: return\n",
    "\n",
    "    if idx == n - 1:\n",
    "        Min = min(Min, res)\n",
    "        return\n",
    "\n",
    "    if idx + 2 < n and c[idx + 2] == 0:\n",
    "        jumpingOnClouds(idx + 2, res + 1)\n",
    "\n",
    "    if idx + 1 < n and c[idx + 1] == 0:\n",
    "        jumpingOnClouds(idx + 1, res + 1)\n",
    "    \n",
    "\n",
    "if __name__ == '__main__':\n",
    "    fptr = open(os.environ['OUTPUT_PATH'], 'w')\n",
    "\n",
    "    n = int(input())\n",
    "\n",
    "    c = list(map(int, input().rstrip().split()))\n",
    "    \n",
    "    Min = 0xffff\n",
    "    jumpingOnClouds(0, 0)\n",
    "\n",
    "    fptr.write(str(Min) + '\\n')\n",
    "\n",
    "    fptr.close()\n"
   ]
  }
 ],
 "metadata": {
  "kernelspec": {
   "display_name": "Python 3",
   "language": "python",
   "name": "python3"
  },
  "language_info": {
   "codemirror_mode": {
    "name": "ipython",
    "version": 3
   },
   "file_extension": ".py",
   "mimetype": "text/x-python",
   "name": "python",
   "nbconvert_exporter": "python",
   "pygments_lexer": "ipython3",
   "version": "3.7.6"
  }
 },
 "nbformat": 4,
 "nbformat_minor": 4
}
