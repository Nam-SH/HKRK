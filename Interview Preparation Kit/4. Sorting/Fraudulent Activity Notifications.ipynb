{
 "cells": [
  {
   "cell_type": "markdown",
   "metadata": {},
   "source": [
    "# Fraudulent Activity Notifications\n",
    "\n",
    "<br>\n",
    "\n",
    "![image](https://user-images.githubusercontent.com/50367487/82322728-f2fcd980-9a11-11ea-902b-18285ef9d3ba.png)"
   ]
  },
  {
   "cell_type": "code",
   "execution_count": null,
   "metadata": {},
   "outputs": [],
   "source": [
    "#!/bin/python3\n",
    "\n",
    "import math\n",
    "import os\n",
    "import random\n",
    "import re\n",
    "import sys\n",
    "\n",
    "# Complete the activityNotifications function below.\n",
    "# 계수 정렬 사용\n",
    "def get_median(arr, d):\n",
    "    \n",
    "    cnt = 0\n",
    "    for i in range(201):\n",
    "        cnt += arr[i]\n",
    "        if cnt > d//2:\n",
    "            break\n",
    "    \n",
    "    if d % 2 == 1:\n",
    "        return 2 * i\n",
    "    else:\n",
    "        for j in range(i, -1, -1):\n",
    "            cnt -= arr[j]\n",
    "            if cnt < d//2:\n",
    "                return j + i\n",
    "        return 2 * i\n",
    "\n",
    "\n",
    "def activityNotifications(expenditure, d):\n",
    "    cnt = 0\n",
    "    arr = [0]*201\n",
    "    \n",
    "    for i in expenditure[:d]:\n",
    "        arr[i] += 1\n",
    "\n",
    "    for i in range(d, n):\n",
    "        right = expenditure[i]\n",
    "        left = expenditure[i-d]\n",
    "        median = get_median(arr, d)\n",
    "        \n",
    "        if right >= median:\n",
    "            cnt += 1\n",
    "            \n",
    "        arr[right] += 1\n",
    "        arr[left] -= 1\n",
    "    return cnt\n",
    "\n",
    "if __name__ == '__main__':\n",
    "    fptr = open(os.environ['OUTPUT_PATH'], 'w')\n",
    "\n",
    "    nd = input().split()\n",
    "\n",
    "    n = int(nd[0])\n",
    "\n",
    "    d = int(nd[1])\n",
    "\n",
    "    expenditure = list(map(int, input().rstrip().split()))\n",
    "\n",
    "    result = activityNotifications(expenditure, d)\n",
    "\n",
    "    fptr.write(str(result) + '\\n')\n",
    "\n",
    "    fptr.close()"
   ]
  }
 ],
 "metadata": {
  "kernelspec": {
   "display_name": "Python 3",
   "language": "python",
   "name": "python3"
  },
  "language_info": {
   "codemirror_mode": {
    "name": "ipython",
    "version": 3
   },
   "file_extension": ".py",
   "mimetype": "text/x-python",
   "name": "python",
   "nbconvert_exporter": "python",
   "pygments_lexer": "ipython3",
   "version": "3.7.6"
  }
 },
 "nbformat": 4,
 "nbformat_minor": 4
}
