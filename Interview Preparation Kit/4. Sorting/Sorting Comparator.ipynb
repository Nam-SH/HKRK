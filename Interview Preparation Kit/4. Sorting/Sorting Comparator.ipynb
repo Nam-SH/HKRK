{
 "cells": [
  {
   "cell_type": "markdown",
   "metadata": {},
   "source": [
    "# Sorting: Comparator\n",
    "\n",
    "<br>\n",
    "\n",
    "![image](https://user-images.githubusercontent.com/50367487/82322708-ed06f880-9a11-11ea-83ba-1f017b7c33bb.png)"
   ]
  },
  {
   "cell_type": "code",
   "execution_count": null,
   "metadata": {},
   "outputs": [],
   "source": [
    "from functools import cmp_to_key\n",
    "class Player:\n",
    "    def __init__(self, name, score):\n",
    "        self.name = name\n",
    "        self.score = score\n",
    "\n",
    "    def __repr__(self):\n",
    "        pass\n",
    "\n",
    "    def comparator(a, b):\n",
    "        if a.score < b.score:\n",
    "            return 1\n",
    "        elif a.score > b.score:\n",
    "            return -1\n",
    "        else:\n",
    "            if a.name > b.name:\n",
    "                return 1\n",
    "            elif a.name < b.name:\n",
    "                return -1\n",
    "            else:\n",
    "                return 0"
   ]
  }
 ],
 "metadata": {
  "kernelspec": {
   "display_name": "Python 3",
   "language": "python",
   "name": "python3"
  },
  "language_info": {
   "codemirror_mode": {
    "name": "ipython",
    "version": 3
   },
   "file_extension": ".py",
   "mimetype": "text/x-python",
   "name": "python",
   "nbconvert_exporter": "python",
   "pygments_lexer": "ipython3",
   "version": "3.7.6"
  }
 },
 "nbformat": 4,
 "nbformat_minor": 4
}
