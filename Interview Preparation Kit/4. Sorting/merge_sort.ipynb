{
 "cells": [
  {
   "cell_type": "markdown",
   "metadata": {},
   "source": [
    "# 병합정렬 (시간복잡도: O(nlogn))\n",
    "\n",
    "\n",
    "### 1. 알고리즘 순서\n",
    "1. 분할(Divide): 입력 배열을 같은 크기의 2개로 분할한다.\n",
    "2. 정복(Conquer): 분할 된 배열을 각각 정렬한다.\n",
    "3. 결합(Combine): 정렬된 배열들을 병합한다.\n",
    "\n",
    "![1024px-Merge_sort_algorithm_diagram svg](https://user-images.githubusercontent.com/50367487/82198100-c9bb4b00-9936-11ea-963d-2764ea6d7ec0.png)"
   ]
  },
  {
   "cell_type": "code",
   "execution_count": null,
   "metadata": {},
   "outputs": [],
   "source": [
    "def merge(arr, left, mid, right):\n",
    "    i = left\n",
    "    j = mid + 1\n",
    "    k = left\n",
    "\n",
    "    while i <= mid and j <= right:\n",
    "        if arr[i] <= arr[j]:\n",
    "            sorted_arr[k] = arr[i]\n",
    "            i += 1\n",
    "            k += 1\n",
    "        else:\n",
    "            sorted_arr[k] = arr[j]\n",
    "            j += 1\n",
    "            k += 1\n",
    "\n",
    "    if i > mid:\n",
    "        for l in range(j, right + 1):\n",
    "            sorted_arr[k] = arr[l]\n",
    "            k += 1\n",
    "    else:\n",
    "        for l in range(i, mid + 1):\n",
    "            sorted_arr[k] = arr[l]\n",
    "            k += 1\n",
    "\n",
    "    for l in range(left, right + 1):\n",
    "        arr[l] = sorted_arr[l]\n",
    "\n",
    "\n",
    "def mergeSort(arr, left, right):\n",
    "    if left < right:\n",
    "        mid = (left + right) // 2\n",
    "        mergeSort(arr, left, mid)\n",
    "        mergeSort(arr, mid + 1, right)\n",
    "        merge(arr, left, mid, right)\n",
    "\n",
    "\n",
    "n = 9\n",
    "arr = [2, 1, 3, 3, 1, 2, 5, 4, 1]\n",
    "\n",
    "sorted_arr = [0] * n\n",
    "mergeSort(arr, 0, n - 1)\n",
    "\n",
    "print(sorted_arr)"
   ]
  }
 ],
 "metadata": {
  "kernelspec": {
   "display_name": "Python 3",
   "language": "python",
   "name": "python3"
  },
  "language_info": {
   "codemirror_mode": {
    "name": "ipython",
    "version": 3
   },
   "file_extension": ".py",
   "mimetype": "text/x-python",
   "name": "python",
   "nbconvert_exporter": "python",
   "pygments_lexer": "ipython3",
   "version": "3.7.6"
  }
 },
 "nbformat": 4,
 "nbformat_minor": 4
}
