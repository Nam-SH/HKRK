{
 "cells": [
  {
   "cell_type": "markdown",
   "metadata": {},
   "source": [
    "# Find the nearest clone\n",
    "\n",
    "<br>\n",
    "\n",
    "![image](https://user-images.githubusercontent.com/50367487/84627026-218ea700-af21-11ea-8392-26763b155558.png)"
   ]
  },
  {
   "cell_type": "code",
   "execution_count": null,
   "metadata": {},
   "outputs": [],
   "source": [
    "#!/bin/python3\n",
    "\n",
    "import math\n",
    "import os\n",
    "import random\n",
    "import re\n",
    "import sys\n",
    "from collections import deque\n",
    "\n",
    "def findShortest(graph_nodes, graph_from, graph_to, ids, val):\n",
    "    arr = [[] for _ in range(graph_nodes + 1)]\n",
    "    for i in range(len(graph_from)):\n",
    "        arr[graph_from[i]] += [graph_to[i]]\n",
    "        arr[graph_to[i]] += [graph_from[i]]\n",
    "\n",
    "    color = []\n",
    "    for i in range(graph_nodes):\n",
    "        if ids[i] == val:\n",
    "            color += [i + 1]\n",
    "\n",
    "    Min = 0xfffff\n",
    "    for i in range(len(color)):\n",
    "        q = deque()\n",
    "        q.append((color[i], 0))\n",
    "        visit = [0] * (graph_nodes + 1)\n",
    "        visit[color[i]] = 1\n",
    "        while q:\n",
    "            curr, cnt = q.popleft()\n",
    "            if cnt and curr in color:\n",
    "                Min = min(Min, cnt)\n",
    "                break\n",
    "\n",
    "            for nxt in arr[curr]:\n",
    "                if visit[nxt]: continue\n",
    "                visit[nxt] = 1\n",
    "                q.append((nxt, cnt + 1))\n",
    "                \n",
    "    if Min == 0xfffff: return -1\n",
    "    return Min\n",
    "\n",
    "if __name__ == '__main__':\n",
    "    fptr = open(os.environ['OUTPUT_PATH'], 'w')\n",
    "\n",
    "    graph_nodes, graph_edges = map(int, input().split())\n",
    "\n",
    "    graph_from = [0] * graph_edges\n",
    "    graph_to = [0] * graph_edges\n",
    "\n",
    "    for i in range(graph_edges):\n",
    "        graph_from[i], graph_to[i] = map(int, input().split())\n",
    "\n",
    "    ids = list(map(int, input().rstrip().split()))\n",
    "\n",
    "    val = int(input())\n",
    "\n",
    "    ans = findShortest(graph_nodes, graph_from, graph_to, ids, val)\n",
    "\n",
    "    fptr.write(str(ans) + '\\n')\n",
    "\n",
    "    fptr.close()"
   ]
  }
 ],
 "metadata": {
  "kernelspec": {
   "display_name": "Python 3",
   "language": "python",
   "name": "python3"
  },
  "language_info": {
   "codemirror_mode": {
    "name": "ipython",
    "version": 3
   },
   "file_extension": ".py",
   "mimetype": "text/x-python",
   "name": "python",
   "nbconvert_exporter": "python",
   "pygments_lexer": "ipython3",
   "version": "3.7.6"
  }
 },
 "nbformat": 4,
 "nbformat_minor": 4
}
