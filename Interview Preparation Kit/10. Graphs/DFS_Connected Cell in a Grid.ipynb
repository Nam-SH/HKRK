{
 "cells": [
  {
   "cell_type": "markdown",
   "metadata": {},
   "source": [
    "# DFS: Connected Cell in a Grid\n",
    "\n",
    "<br>\n",
    "\n",
    "![image](https://user-images.githubusercontent.com/50367487/84627010-19cf0280-af21-11ea-9598-323e4e2c87bc.png)"
   ]
  },
  {
   "cell_type": "code",
   "execution_count": null,
   "metadata": {},
   "outputs": [],
   "source": [
    "#!/bin/python3\n",
    "\n",
    "import math\n",
    "import os\n",
    "import random\n",
    "import re\n",
    "import sys\n",
    "\n",
    "# Complete the maxRegion function below.\n",
    "def dfs(y, x, cnt):\n",
    "\n",
    "    for dy, dx in (-1, -1), (-1, 0), (-1, 1), (0, -1), (0, 1), (1, -1), (1, 0), (1, 1):\n",
    "        ty = y + dy; tx = x + dx\n",
    "        if not (0 <= ty < n and 0 <= tx < m): continue\n",
    "        if visit[ty][tx]: continue\n",
    "        if grid[ty][tx]:\n",
    "            visit[ty][tx] = 1\n",
    "            cnt = dfs(ty, tx, cnt + 1)\n",
    "    return cnt\n",
    "\n",
    "\n",
    "# Complete the maxRegion function below.\n",
    "def maxRegion(grid):\n",
    "    global visit\n",
    "\n",
    "    Max = 0\n",
    "    visit = [[0] * m for _ in range(n)]\n",
    "    for i in range(n):\n",
    "        for j in range(m):\n",
    "            if grid[i][j] and not visit[i][j]:\n",
    "                visit[i][j] = 1\n",
    "                Max = max(Max, dfs(i, j, 1))\n",
    "    return Max\n",
    "\n",
    "if __name__ == '__main__':\n",
    "    fptr = open(os.environ['OUTPUT_PATH'], 'w')\n",
    "\n",
    "    n = int(input())\n",
    "\n",
    "    m = int(input())\n",
    "\n",
    "    grid = []\n",
    "\n",
    "    for _ in range(n):\n",
    "        grid.append(list(map(int, input().rstrip().split())))\n",
    "\n",
    "    res = maxRegion(grid)\n",
    "\n",
    "    fptr.write(str(res) + '\\n')\n",
    "\n",
    "    fptr.close()"
   ]
  }
 ],
 "metadata": {
  "kernelspec": {
   "display_name": "Python 3",
   "language": "python",
   "name": "python3"
  },
  "language_info": {
   "codemirror_mode": {
    "name": "ipython",
    "version": 3
   },
   "file_extension": ".py",
   "mimetype": "text/x-python",
   "name": "python",
   "nbconvert_exporter": "python",
   "pygments_lexer": "ipython3",
   "version": "3.7.6"
  }
 },
 "nbformat": 4,
 "nbformat_minor": 4
}
