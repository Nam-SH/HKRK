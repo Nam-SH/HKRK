{
 "cells": [
  {
   "cell_type": "markdown",
   "metadata": {},
   "source": [
    "# BFS: Shortest Reach in a Graph\n",
    "\n",
    "<br>\n",
    "\n",
    "![image](https://user-images.githubusercontent.com/50367487/84626985-120f5e00-af21-11ea-99a3-b5f245333f85.png)"
   ]
  },
  {
   "cell_type": "code",
   "execution_count": null,
   "metadata": {},
   "outputs": [],
   "source": [
    "from collections import deque\n",
    "\n",
    "\n",
    "class Graph:\n",
    "    num = 0\n",
    "\n",
    "    def __init__(self, num):\n",
    "        self.num = num\n",
    "        self.lst = [[] for _ in range(num)]\n",
    "\n",
    "    def connect(self, x, y):\n",
    "        self.lst[x] += [y]\n",
    "        self.lst[y] += [x]\n",
    "\n",
    "    def find_all_distances(self, start):\n",
    "        q = deque()\n",
    "        q.append(start)\n",
    "        visit = [-1] * self.num\n",
    "        visit[start] = 0\n",
    "        while q:\n",
    "            curr = q.popleft()\n",
    "            for i in self.lst[curr]:\n",
    "                if visit[i] == -1:\n",
    "                    visit[i] = visit[curr] + 6\n",
    "                    q.append(i)\n",
    "        print(*[val for (idx, val) in enumerate(visit) if idx != start])\n",
    "\n",
    "\n",
    "for i in range(int(input())):\n",
    "    n, m = map(int, input().split())\n",
    "    graph = Graph(n)\n",
    "\n",
    "    for i in range(m):\n",
    "        x, y = [int(x) for x in input().split()]\n",
    "        graph.connect(x - 1, y - 1)\n",
    "        \n",
    "    s = int(input())\n",
    "    graph.find_all_distances(s - 1)"
   ]
  }
 ],
 "metadata": {
  "kernelspec": {
   "display_name": "Python 3",
   "language": "python",
   "name": "python3"
  },
  "language_info": {
   "codemirror_mode": {
    "name": "ipython",
    "version": 3
   },
   "file_extension": ".py",
   "mimetype": "text/x-python",
   "name": "python",
   "nbconvert_exporter": "python",
   "pygments_lexer": "ipython3",
   "version": "3.7.6"
  }
 },
 "nbformat": 4,
 "nbformat_minor": 4
}
