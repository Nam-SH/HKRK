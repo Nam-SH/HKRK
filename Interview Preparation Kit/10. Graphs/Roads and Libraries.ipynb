{
 "cells": [
  {
   "cell_type": "markdown",
   "metadata": {},
   "source": [
    "# Roads and Libraries\n",
    "\n",
    "<br>\n",
    "\n",
    "![image](https://user-images.githubusercontent.com/50367487/84627063-2e12ff80-af21-11ea-93f0-2aaa8795e696.png)"
   ]
  },
  {
   "cell_type": "code",
   "execution_count": null,
   "metadata": {},
   "outputs": [],
   "source": [
    "#!/bin/python3\n",
    "\n",
    "import math\n",
    "import os\n",
    "import random\n",
    "import re\n",
    "import sys\n",
    "\n",
    "# Complete the roadsAndLibraries function below.\n",
    "def dfs(arr, idx, visit):\n",
    "    \n",
    "    if visit[idx]:\n",
    "        return 0\n",
    "\n",
    "    visit[idx] = 1\n",
    "    cnt = 1\n",
    "    \n",
    "    for v in arr[idx]:\n",
    "        cnt += dfs(arr, v, visit)\n",
    "    return cnt\n",
    "\n",
    "\n",
    "def roadsAndLibraries(n, c_lib, c_road, cities):\n",
    "    \n",
    "    arr = [[] for _ in range(n + 1)]\n",
    "    visit = [0] * (n + 1)\n",
    "\n",
    "    for u, v in cities:\n",
    "        arr[u] += [v]\n",
    "        arr[v] += [u]\n",
    "\n",
    "    cost = 0\n",
    "    for i in range(1, n + 1):\n",
    "        cnt = dfs(arr, i, visit)\n",
    "        if cnt:\n",
    "            cost += c_lib + (cnt - 1) * min(c_lib, c_road)\n",
    "    return cost\n",
    "\n",
    "if __name__ == '__main__':\n",
    "    fptr = open(os.environ['OUTPUT_PATH'], 'w')\n",
    "\n",
    "    q = int(input())\n",
    "\n",
    "    for q_itr in range(q):\n",
    "        nmC_libC_road = input().split()\n",
    "\n",
    "        n = int(nmC_libC_road[0])\n",
    "\n",
    "        m = int(nmC_libC_road[1])\n",
    "\n",
    "        c_lib = int(nmC_libC_road[2])\n",
    "\n",
    "        c_road = int(nmC_libC_road[3])\n",
    "\n",
    "        cities = []\n",
    "\n",
    "        for _ in range(m):\n",
    "            cities.append(list(map(int, input().rstrip().split())))\n",
    "\n",
    "        result = roadsAndLibraries(n, c_lib, c_road, cities)\n",
    "\n",
    "        fptr.write(str(result) + '\\n')\n",
    "\n",
    "    fptr.close()"
   ]
  }
 ],
 "metadata": {
  "kernelspec": {
   "display_name": "Python 3",
   "language": "python",
   "name": "python3"
  },
  "language_info": {
   "codemirror_mode": {
    "name": "ipython",
    "version": 3
   },
   "file_extension": ".py",
   "mimetype": "text/x-python",
   "name": "python",
   "nbconvert_exporter": "python",
   "pygments_lexer": "ipython3",
   "version": "3.7.6"
  }
 },
 "nbformat": 4,
 "nbformat_minor": 4
}
