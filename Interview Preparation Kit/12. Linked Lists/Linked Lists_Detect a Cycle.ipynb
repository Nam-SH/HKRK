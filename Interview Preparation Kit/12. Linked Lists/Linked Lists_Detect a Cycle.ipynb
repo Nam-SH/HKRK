{
 "cells": [
  {
   "cell_type": "markdown",
   "metadata": {},
   "source": [
    "# Linked Lists: Detect a Cycle\n",
    "\n",
    "<br>\n",
    "\n",
    "![image](https://user-images.githubusercontent.com/50367487/86563018-9abc6f80-bf9e-11ea-97d7-fbd3f3c055b0.png)"
   ]
  },
  {
   "cell_type": "code",
   "execution_count": null,
   "metadata": {},
   "outputs": [],
   "source": [
    "\"\"\"\n",
    "Detect a cycle in a linked list. Note that the head pointer may be 'None' if the list is empty.\n",
    "\n",
    "A Node is defined as: \n",
    " \n",
    "    class Node(object):\n",
    "        def __init__(self, data = None, next_node = None):\n",
    "            self.data = data\n",
    "            self.next = next_node\n",
    "\"\"\"\n",
    "\n",
    "\n",
    "def has_cycle(head):    \n",
    "    if not head:\n",
    "        return 0\n",
    "    else:\n",
    "        visit = dict()\n",
    "        \n",
    "        curr = head\n",
    "        visit[curr.data] = 1\n",
    "        while curr.next:\n",
    "            nxt = curr.next\n",
    "            if visit.get(nxt.data):\n",
    "                return 1\n",
    "            else:\n",
    "                visit[nxt.data] = 1\n",
    "            curr = nxt\n",
    "\n",
    "        return 0"
   ]
  }
 ],
 "metadata": {
  "kernelspec": {
   "display_name": "Python 3",
   "language": "python",
   "name": "python3"
  },
  "language_info": {
   "codemirror_mode": {
    "name": "ipython",
    "version": 3
   },
   "file_extension": ".py",
   "mimetype": "text/x-python",
   "name": "python",
   "nbconvert_exporter": "python",
   "pygments_lexer": "ipython3",
   "version": "3.7.6"
  }
 },
 "nbformat": 4,
 "nbformat_minor": 4
}
