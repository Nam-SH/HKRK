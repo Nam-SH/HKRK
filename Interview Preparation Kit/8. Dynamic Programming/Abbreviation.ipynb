{
 "cells": [
  {
   "cell_type": "markdown",
   "metadata": {},
   "source": [
    "# Abbreviation\n",
    "\n",
    "<br>\n",
    "\n",
    "![image](https://user-images.githubusercontent.com/50367487/83503153-9fa08600-a4fd-11ea-9aec-20ddbcf6f0bb.png)"
   ]
  },
  {
   "cell_type": "code",
   "execution_count": null,
   "metadata": {},
   "outputs": [],
   "source": [
    "#!/bin/python3\n",
    "\n",
    "import math\n",
    "import os\n",
    "import random\n",
    "import re\n",
    "import sys\n",
    "\n",
    "# Complete the abbreviation function below.\n",
    "def abbreviation(a, b):\n",
    "    n = len(a)\n",
    "    m = len(b)\n",
    "    dp = [[0] * (m + 1) for _ in range(n + 1)]\n",
    "    dp[0][0] = 1\n",
    "\n",
    "    for i in range(n):\n",
    "        for j in range(m + 1):\n",
    "            if dp[i][j]:\n",
    "                if j < m and a[i].upper() == b[j]:\n",
    "                    dp[i + 1][j + 1] = 1\n",
    "                if a[i].islower():\n",
    "                    dp[i + 1][j] = 1\n",
    "\n",
    "    return \"YES\" if dp[-1][-1] else \"NO\"\n",
    "\n",
    "if __name__ == '__main__':\n",
    "    fptr = open(os.environ['OUTPUT_PATH'], 'w')\n",
    "\n",
    "    q = int(input())\n",
    "\n",
    "    for q_itr in range(q):\n",
    "        a = input()\n",
    "\n",
    "        b = input()\n",
    "\n",
    "        result = abbreviation(a, b)\n",
    "\n",
    "        fptr.write(result + '\\n')\n",
    "\n",
    "    fptr.close()"
   ]
  }
 ],
 "metadata": {
  "kernelspec": {
   "display_name": "Python 3",
   "language": "python",
   "name": "python3"
  },
  "language_info": {
   "codemirror_mode": {
    "name": "ipython",
    "version": 3
   },
   "file_extension": ".py",
   "mimetype": "text/x-python",
   "name": "python",
   "nbconvert_exporter": "python",
   "pygments_lexer": "ipython3",
   "version": "3.7.6"
  }
 },
 "nbformat": 4,
 "nbformat_minor": 4
}
