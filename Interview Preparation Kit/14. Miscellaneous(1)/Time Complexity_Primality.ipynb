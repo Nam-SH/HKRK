{
 "cells": [
  {
   "cell_type": "markdown",
   "metadata": {},
   "source": [
    "# Time Complexity: Primality\n",
    "\n",
    "<br>\n",
    "\n",
    "![image](https://user-images.githubusercontent.com/50367487/86795045-1f46e500-c0a8-11ea-86cd-ff84b5e8d066.png)"
   ]
  },
  {
   "cell_type": "code",
   "execution_count": null,
   "metadata": {},
   "outputs": [],
   "source": [
    "#!/bin/python3\n",
    "\n",
    "import math\n",
    "import os\n",
    "import random\n",
    "import re\n",
    "import sys\n",
    "\n",
    "# Complete the primality function below.\n",
    "def primality(n):\n",
    "    if n == 1:\n",
    "        return \"Not prime\"\n",
    "    elif n == 2 or n == 3:\n",
    "        return \"Prime\"\n",
    "    elif n % 2 == 0 or n % 3 == 0:\n",
    "        return \"Not prime\"\n",
    "    else:\n",
    "        for i in range(3, int((n) ** 0.5 + 1), 2):\n",
    "            if n % i == 0:\n",
    "                return \"Not prime\"\n",
    "    return \"Prime\"\n",
    "\n",
    "if __name__ == '__main__':\n",
    "    fptr = open(os.environ['OUTPUT_PATH'], 'w')\n",
    "\n",
    "    p = int(input())\n",
    "\n",
    "    for p_itr in range(p):\n",
    "        n = int(input())\n",
    "\n",
    "        result = primality(n)\n",
    "\n",
    "        fptr.write(result + '\\n')\n",
    "\n",
    "    fptr.close()"
   ]
  }
 ],
 "metadata": {
  "kernelspec": {
   "display_name": "Python 3",
   "language": "python",
   "name": "python3"
  },
  "language_info": {
   "codemirror_mode": {
    "name": "ipython",
    "version": 3
   },
   "file_extension": ".py",
   "mimetype": "text/x-python",
   "name": "python",
   "nbconvert_exporter": "python",
   "pygments_lexer": "ipython3",
   "version": "3.7.6"
  }
 },
 "nbformat": 4,
 "nbformat_minor": 4
}
