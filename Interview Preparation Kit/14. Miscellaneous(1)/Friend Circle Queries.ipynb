{
 "cells": [
  {
   "cell_type": "markdown",
   "metadata": {},
   "source": [
    "# Friend Circle Queries\n",
    "\n",
    "<br>\n",
    "\n",
    "![image](https://user-images.githubusercontent.com/50367487/86794994-12c28c80-c0a8-11ea-9fa2-f74a105e2112.png)"
   ]
  },
  {
   "cell_type": "code",
   "execution_count": null,
   "metadata": {},
   "outputs": [],
   "source": [
    "#!/bin/python3\n",
    "\n",
    "import math\n",
    "import os\n",
    "import random\n",
    "import re\n",
    "import sys\n",
    "\n",
    "# Complete the maxCircle function below.\n",
    "def maxCircle(queries):\n",
    "    parent = {}\n",
    "    length = {}\n",
    "    answer = []\n",
    "\n",
    "    Max = 2\n",
    "    def getParent(x):\n",
    "        if parent[x] == x: return x\n",
    "        return getParent(parent[x])\n",
    "\n",
    "    def findParent(x):\n",
    "        if x in parent:\n",
    "            return getParent(x)\n",
    "        length[x] = 1\n",
    "        parent[x] = x\n",
    "        return x\n",
    "\n",
    "    for a, b in queries:\n",
    "        a = findParent(a)\n",
    "        b = findParent(b)\n",
    "        if a != b:\n",
    "            if length[b] > length[a]: \n",
    "                a, b = b, a\n",
    "            parent[b] = a\n",
    "            length[a] += length[b]\n",
    "            Max = max(Max, length[a])\n",
    "        answer += [Max]\n",
    "    return answer\n",
    "\n",
    "if __name__ == '__main__':\n",
    "    fptr = open(os.environ['OUTPUT_PATH'], 'w')\n",
    "\n",
    "    q = int(input())\n",
    "\n",
    "    queries = []\n",
    "\n",
    "    for _ in range(q):\n",
    "        queries.append(list(map(int, input().rstrip().split())))\n",
    "\n",
    "    ans = maxCircle(queries)\n",
    "\n",
    "    fptr.write('\\n'.join(map(str, ans)))\n",
    "    fptr.write('\\n')\n",
    "\n",
    "    fptr.close()"
   ]
  }
 ],
 "metadata": {
  "kernelspec": {
   "display_name": "Python 3",
   "language": "python",
   "name": "python3"
  },
  "language_info": {
   "codemirror_mode": {
    "name": "ipython",
    "version": 3
   },
   "file_extension": ".py",
   "mimetype": "text/x-python",
   "name": "python",
   "nbconvert_exporter": "python",
   "pygments_lexer": "ipython3",
   "version": "3.7.6"
  }
 },
 "nbformat": 4,
 "nbformat_minor": 4
}
