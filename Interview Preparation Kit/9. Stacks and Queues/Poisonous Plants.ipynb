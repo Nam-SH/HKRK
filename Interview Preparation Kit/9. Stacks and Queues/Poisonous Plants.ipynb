{
 "cells": [
  {
   "cell_type": "markdown",
   "metadata": {},
   "source": [
    "# Poisonous Plants\n",
    "\n",
    "<br>\n",
    "\n",
    "![image](https://user-images.githubusercontent.com/50367487/83855062-85abb100-a752-11ea-95eb-dcc03f8efd50.png)"
   ]
  },
  {
   "cell_type": "code",
   "execution_count": null,
   "metadata": {},
   "outputs": [],
   "source": [
    "#!/bin/python3\n",
    "\n",
    "import math\n",
    "import os\n",
    "import random\n",
    "import re\n",
    "import sys\n",
    "\n",
    "# Complete the poisonousPlants function below.\n",
    "def poisonousPlants(p):\n",
    "\n",
    "    temp = []\n",
    "    Max = 0\n",
    "    for i in p:\n",
    "        days = 1\n",
    "        while temp and temp[-1][0] >= i:\n",
    "            val, d = temp.pop()\n",
    "            days = max(days, d + 1)\n",
    "\n",
    "        if not temp:\n",
    "            days = 0\n",
    "\n",
    "        Max = max(Max, days)\n",
    "        temp.append((i, days))\n",
    "\n",
    "    return Max\n",
    "\n",
    "if __name__ == '__main__':\n",
    "    fptr = open(os.environ['OUTPUT_PATH'], 'w')\n",
    "\n",
    "    n = int(input())\n",
    "\n",
    "    p = list(map(int, input().rstrip().split()))\n",
    "\n",
    "    result = poisonousPlants(p)\n",
    "\n",
    "    fptr.write(str(result) + '\\n')\n",
    "\n",
    "    fptr.close()"
   ]
  }
 ],
 "metadata": {
  "kernelspec": {
   "display_name": "Python 3",
   "language": "python",
   "name": "python3"
  },
  "language_info": {
   "codemirror_mode": {
    "name": "ipython",
    "version": 3
   },
   "file_extension": ".py",
   "mimetype": "text/x-python",
   "name": "python",
   "nbconvert_exporter": "python",
   "pygments_lexer": "ipython3",
   "version": "3.7.6"
  }
 },
 "nbformat": 4,
 "nbformat_minor": 4
}
