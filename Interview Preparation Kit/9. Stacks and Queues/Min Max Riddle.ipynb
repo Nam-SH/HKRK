{
 "cells": [
  {
   "cell_type": "markdown",
   "metadata": {},
   "source": [
    "# Min Max Riddle\n",
    "\n",
    "<br>\n",
    "\n",
    "![image](https://user-images.githubusercontent.com/50367487/83855048-7f1d3980-a752-11ea-9fe2-a7162dae3403.png)"
   ]
  },
  {
   "cell_type": "code",
   "execution_count": null,
   "metadata": {},
   "outputs": [],
   "source": [
    "#!/bin/python3\n",
    "\n",
    "import math\n",
    "import os\n",
    "import random\n",
    "import re\n",
    "import sys\n",
    "\n",
    "# Complete the riddle function below.\n",
    "def riddle(arr):\n",
    "\n",
    "    temp = []\n",
    "    windows = dict()\n",
    "\n",
    "    arr += [0]\n",
    "    for i in range(n + 1):\n",
    "        idx = i\n",
    "        while temp and temp[-1][0] >= arr[i]:\n",
    "            val, idx = temp.pop()\n",
    "            windows[i - idx] = max(windows.get(i - idx, 0), val)\n",
    "        temp.append((arr[i], idx))\n",
    "\n",
    "    res = [0] * n\n",
    "    Max = 0\n",
    "    for i in range(n - 1, -1, -1):\n",
    "        Max = max(windows.get(i + 1, 0), Max)\n",
    "        res[i] = Max\n",
    "    return res\n",
    "\n",
    "if __name__ == '__main__':\n",
    "    fptr = open(os.environ['OUTPUT_PATH'], 'w')\n",
    "\n",
    "    n = int(input())\n",
    "\n",
    "    arr = list(map(int, input().rstrip().split()))\n",
    "\n",
    "    res = riddle(arr)\n",
    "\n",
    "    fptr.write(' '.join(map(str, res)))\n",
    "    fptr.write('\\n')\n",
    "\n",
    "    fptr.close()"
   ]
  }
 ],
 "metadata": {
  "kernelspec": {
   "display_name": "Python 3",
   "language": "python",
   "name": "python3"
  },
  "language_info": {
   "codemirror_mode": {
    "name": "ipython",
    "version": 3
   },
   "file_extension": ".py",
   "mimetype": "text/x-python",
   "name": "python",
   "nbconvert_exporter": "python",
   "pygments_lexer": "ipython3",
   "version": "3.7.6"
  }
 },
 "nbformat": 4,
 "nbformat_minor": 4
}
