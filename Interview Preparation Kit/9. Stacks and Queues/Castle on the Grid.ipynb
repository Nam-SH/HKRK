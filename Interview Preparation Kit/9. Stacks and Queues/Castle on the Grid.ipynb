{
 "cells": [
  {
   "cell_type": "markdown",
   "metadata": {},
   "source": [
    "# Castle on the Grid\n",
    "\n",
    "<br>\n",
    "\n",
    "![image](https://user-images.githubusercontent.com/50367487/83855013-7298e100-a752-11ea-9474-adbcf576cc5c.png)"
   ]
  },
  {
   "cell_type": "code",
   "execution_count": null,
   "metadata": {},
   "outputs": [],
   "source": [
    "#!/bin/python3\n",
    "\n",
    "import math\n",
    "import os\n",
    "import random\n",
    "import re\n",
    "import sys\n",
    "from collections import deque\n",
    "\n",
    "# Complete the minimumMoves function below.\n",
    "def minimumMoves(grid, startY, startX, goalY, goalX):\n",
    "    q = deque()\n",
    "    q.append((startY, startX, 0, -1))\n",
    "    visit = {(startY, startX): 0}\n",
    "    dy, dx = [-1, 0, 0, 1, 1], [0, 1, -1, 0, 1]\n",
    "\n",
    "    def check(i, j, dist):\n",
    "        if not (0 <= i < n > j >= 0): return False\n",
    "        if grid[i][j] == 'X': return False\n",
    "        if (i, j) not in visit: return True\n",
    "        if (i, j) in visit and dist <= visit[(i, j)]: return True\n",
    "        return False\n",
    "\n",
    "    while q:\n",
    "        y, x, dist, before_d = q.pop()\n",
    "        for k in range(4):\n",
    "            nxt = 0 if (dy[k], dx[k]) == (dy[before_d], dx[before_d]) else 1\n",
    "            ty = y + dy[k]; tx = x + dx[k]; nxt_dist = dist + nxt\n",
    "            if check(ty, tx, nxt_dist):\n",
    "                visit[(ty, tx)] = nxt_dist\n",
    "                q.appendleft((ty, tx, nxt_dist, k))\n",
    "    return visit[(goalY, goalX)]\n",
    "\n",
    "if __name__ == '__main__':\n",
    "    fptr = open(os.environ['OUTPUT_PATH'], 'w')\n",
    "\n",
    "    n = int(input())\n",
    "\n",
    "    grid = []\n",
    "\n",
    "    for _ in range(n):\n",
    "        grid_item = input()\n",
    "        grid.append(grid_item)\n",
    "\n",
    "    startXStartY = input().split()\n",
    "\n",
    "    startX = int(startXStartY[0])\n",
    "\n",
    "    startY = int(startXStartY[1])\n",
    "\n",
    "    goalX = int(startXStartY[2])\n",
    "\n",
    "    goalY = int(startXStartY[3])\n",
    "\n",
    "    result = minimumMoves(grid, startX, startY, goalX, goalY)\n",
    "\n",
    "    fptr.write(str(result) + '\\n')\n",
    "\n",
    "    fptr.close()"
   ]
  }
 ],
 "metadata": {
  "kernelspec": {
   "display_name": "Python 3",
   "language": "python",
   "name": "python3"
  },
  "language_info": {
   "codemirror_mode": {
    "name": "ipython",
    "version": 3
   },
   "file_extension": ".py",
   "mimetype": "text/x-python",
   "name": "python",
   "nbconvert_exporter": "python",
   "pygments_lexer": "ipython3",
   "version": "3.7.6"
  }
 },
 "nbformat": 4,
 "nbformat_minor": 4
}
