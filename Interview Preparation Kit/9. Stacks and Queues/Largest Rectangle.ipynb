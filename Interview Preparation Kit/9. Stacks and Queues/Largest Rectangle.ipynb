{
 "cells": [
  {
   "cell_type": "markdown",
   "metadata": {},
   "source": [
    "# Largest Rectangle\n",
    "\n",
    "<br>\n",
    "\n",
    "![image](https://user-images.githubusercontent.com/50367487/83855028-788ec200-a752-11ea-95ce-261bfe1ac7d2.png)"
   ]
  },
  {
   "cell_type": "code",
   "execution_count": null,
   "metadata": {},
   "outputs": [],
   "source": [
    "#!/bin/python3\n",
    "\n",
    "import math\n",
    "import os\n",
    "import random\n",
    "import re\n",
    "import sys\n",
    "\n",
    "# Complete the largestRectangle function below.\n",
    "def largestRectangle(h):\n",
    "    global n\n",
    "\n",
    "    temp = []\n",
    "    h.append(0)\n",
    "    for i in range(len(h)):\n",
    "        idx = i\n",
    "        while len(temp) > 0 and temp[-1][0] >= h[i]:\n",
    "            last_h, last_idx = temp.pop()\n",
    "            idx = last_idx\n",
    "            n = max(n, h[i] * (i - last_idx + 1), last_h * (i - last_idx))\n",
    "        temp.append((h[i], idx))\n",
    "    \n",
    "    return n\n",
    "\n",
    "if __name__ == '__main__':\n",
    "    fptr = open(os.environ['OUTPUT_PATH'], 'w')\n",
    "\n",
    "    n = int(input())\n",
    "\n",
    "    h = list(map(int, input().rstrip().split()))\n",
    "\n",
    "    result = largestRectangle(h)\n",
    "\n",
    "    fptr.write(str(result) + '\\n')\n",
    "\n",
    "    fptr.close()"
   ]
  }
 ],
 "metadata": {
  "kernelspec": {
   "display_name": "Python 3",
   "language": "python",
   "name": "python3"
  },
  "language_info": {
   "codemirror_mode": {
    "name": "ipython",
    "version": 3
   },
   "file_extension": ".py",
   "mimetype": "text/x-python",
   "name": "python",
   "nbconvert_exporter": "python",
   "pygments_lexer": "ipython3",
   "version": "3.7.6"
  }
 },
 "nbformat": 4,
 "nbformat_minor": 4
}
