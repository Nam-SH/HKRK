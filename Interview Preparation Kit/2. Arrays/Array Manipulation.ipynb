{
 "cells": [
  {
   "cell_type": "markdown",
   "metadata": {},
   "source": [
    "# Array Manipulation\n",
    "\n",
    "<br>\n",
    "\n",
    "![image](https://user-images.githubusercontent.com/50367487/82201751-cb3b4200-993b-11ea-866c-a8cf1d636c13.png)"
   ]
  },
  {
   "cell_type": "code",
   "execution_count": null,
   "metadata": {},
   "outputs": [],
   "source": [
    "#!/bin/python3\n",
    "\n",
    "import math\n",
    "import os\n",
    "import random\n",
    "import re\n",
    "import sys\n",
    "\n",
    "# Complete the arrayManipulation function below.\n",
    "def arrayManipulation(n, queries):\n",
    "    arr = [0] * (n + 1)\n",
    "    for a, b, k in queries:\n",
    "        arr[a - 1] += k\n",
    "        arr[b] += -k\n",
    "\n",
    "    val = 0\n",
    "    Max = 0\n",
    "    for r in arr:\n",
    "        val += r\n",
    "        Max = max(Max, val)\n",
    "    return Max\n",
    "\n",
    "\n",
    "if __name__ == '__main__':\n",
    "    fptr = open(os.environ['OUTPUT_PATH'], 'w')\n",
    "\n",
    "    nm = input().split()\n",
    "\n",
    "    n = int(nm[0])\n",
    "\n",
    "    m = int(nm[1])\n",
    "\n",
    "    queries = []\n",
    "\n",
    "    for _ in range(m):\n",
    "        queries.append(list(map(int, input().rstrip().split())))\n",
    "\n",
    "    result = arrayManipulation(n, queries)\n",
    "\n",
    "    fptr.write(str(result) + '\\n')\n",
    "\n",
    "    fptr.close()\n"
   ]
  }
 ],
 "metadata": {
  "kernelspec": {
   "display_name": "Python 3",
   "language": "python",
   "name": "python3"
  },
  "language_info": {
   "codemirror_mode": {
    "name": "ipython",
    "version": 3
   },
   "file_extension": ".py",
   "mimetype": "text/x-python",
   "name": "python",
   "nbconvert_exporter": "python",
   "pygments_lexer": "ipython3",
   "version": "3.7.6"
  }
 },
 "nbformat": 4,
 "nbformat_minor": 4
}
