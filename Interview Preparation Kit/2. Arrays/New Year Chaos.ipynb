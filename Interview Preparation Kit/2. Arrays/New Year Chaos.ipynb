{
 "cells": [
  {
   "cell_type": "markdown",
   "metadata": {},
   "source": [
    "# New Year Chaos\n",
    "\n",
    "<br>\n",
    "\n",
    "![image](https://user-images.githubusercontent.com/50367487/82201715-c080ad00-993b-11ea-8501-45a1de0028c3.png)"
   ]
  },
  {
   "cell_type": "code",
   "execution_count": null,
   "metadata": {},
   "outputs": [],
   "source": [
    "#!/bin/python3\n",
    "\n",
    "import math\n",
    "import os\n",
    "import random\n",
    "import re\n",
    "import sys\n",
    "\n",
    "# Complete the minimumBribes function below.\n",
    "def minimumBribes(q):\n",
    "    \n",
    "    for i in range(len(q)):\n",
    "        if (q[i] - 1) - i > 2:\n",
    "            return print(\"Too chaotic\")\n",
    "\n",
    "    sorted_q = sorted(q)\n",
    "    res = 0\n",
    "    while q != sorted_q:\n",
    "        for i in range(len(q) - 1):\n",
    "            if q[i] > q[i + 1]:\n",
    "                q[i], q[i + 1] = q[i + 1], q[i]\n",
    "                res += 1\n",
    "    return print(res)\n",
    "\n",
    "if __name__ == '__main__':\n",
    "    t = int(input())\n",
    "\n",
    "    for t_itr in range(t):\n",
    "        n = int(input())\n",
    "\n",
    "        q = list(map(int, input().rstrip().split()))\n",
    "\n",
    "        minimumBribes(q)\n"
   ]
  }
 ],
 "metadata": {
  "kernelspec": {
   "display_name": "Python 3",
   "language": "python",
   "name": "python3"
  },
  "language_info": {
   "codemirror_mode": {
    "name": "ipython",
    "version": 3
   },
   "file_extension": ".py",
   "mimetype": "text/x-python",
   "name": "python",
   "nbconvert_exporter": "python",
   "pygments_lexer": "ipython3",
   "version": "3.7.6"
  }
 },
 "nbformat": 4,
 "nbformat_minor": 4
}
