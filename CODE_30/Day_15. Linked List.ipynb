{
 "cells": [
  {
   "cell_type": "markdown",
   "metadata": {},
   "source": [
    "# Day_15. Linked List\n",
    "\n",
    "<br>\n",
    "\n",
    "![image](https://user-images.githubusercontent.com/50367487/62405081-2c746d80-b5d5-11e9-9d08-a743ac0c1b41.png)"
   ]
  },
  {
   "cell_type": "code",
   "execution_count": null,
   "metadata": {},
   "outputs": [],
   "source": [
    "class Node:\n",
    "    def __init__(self,val):\n",
    "        self.val = val\n",
    "        self.next = None \n",
    "\n",
    "\n",
    "class Solution: \n",
    "    def display(self,head):\n",
    "        current = head\n",
    "        while current:\n",
    "            print(current.val,end=' ')\n",
    "            current = current.next\n",
    "\n",
    "    def insert(self,head,val):\n",
    "        if head == None:\n",
    "            head = Node(val)\n",
    "        elif head.next == None:\n",
    "            head.next = Node(val)\n",
    "        else: \n",
    "            self.insert(head.next, val)\n",
    "        return head\n",
    "    \n",
    "\n",
    "sol= Solution()\n",
    "\n",
    "head = None\n",
    "\n",
    "for i in range(int(input())):\n",
    "    val = int(input())\n",
    "    head = sol.insert(head,val)   \n",
    "    \n",
    "sol.display(head)  "
   ]
  }
 ],
 "metadata": {
  "kernelspec": {
   "display_name": "Python 3",
   "language": "python",
   "name": "python3"
  },
  "language_info": {
   "codemirror_mode": {
    "name": "ipython",
    "version": 3
   },
   "file_extension": ".py",
   "mimetype": "text/x-python",
   "name": "python",
   "nbconvert_exporter": "python",
   "pygments_lexer": "ipython3",
   "version": "3.7.4"
  }
 },
 "nbformat": 4,
 "nbformat_minor": 4
}
