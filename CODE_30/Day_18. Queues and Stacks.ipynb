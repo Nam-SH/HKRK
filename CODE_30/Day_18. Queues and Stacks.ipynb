{
 "cells": [
  {
   "cell_type": "markdown",
   "metadata": {},
   "source": [
    "# Day_18. Queues and Stacks\n",
    "\n",
    "<br>\n",
    "\n",
    "![image](https://user-images.githubusercontent.com/50367487/62523754-65c80a00-b86f-11e9-8ce7-542640f2e745.png)"
   ]
  },
  {
   "cell_type": "code",
   "execution_count": null,
   "metadata": {},
   "outputs": [],
   "source": [
    "class Solution:\n",
    "    def __init__(self):\n",
    "        self.stack = []\n",
    "        self.queue = []\n",
    "        return(None)\n",
    "\n",
    "    def pushCharacter(self, char):\n",
    "        self.stack.append(char)\n",
    "\n",
    "    def popCharacter(self):\n",
    "        return(self.stack.pop(-1))\n",
    "\n",
    "    def enqueueCharacter(self, char):\n",
    "        self.queue.append(char)\n",
    "\n",
    "    def dequeueCharacter(self):\n",
    "        return(self.queue.pop(0))\n",
    "    \n",
    "    \n",
    "\n",
    "val = input()\n",
    "sol = Solution()   \n",
    "n = len(val)\n",
    "\n",
    "for i in range(n):\n",
    "    res.pushCharacter(val[i])\n",
    "    res.enqueueCharacter(val[i])\n",
    "    \n",
    "isPalindrome = True\n",
    "\n",
    "for i in range(n // 2):\n",
    "    if res.popCharacter() != res.dequeueCharacter():\n",
    "        isPalindrome = False\n",
    "        break\n",
    "\n",
    "if isPalindrome:\n",
    "    print(\"The word, \"+val+\", is a palindrome.\")\n",
    "else:\n",
    "    print(\"The word, \"+val+\", is not a palindrome.\")    "
   ]
  }
 ],
 "metadata": {
  "kernelspec": {
   "display_name": "Python 3",
   "language": "python",
   "name": "python3"
  },
  "language_info": {
   "codemirror_mode": {
    "name": "ipython",
    "version": 3
   },
   "file_extension": ".py",
   "mimetype": "text/x-python",
   "name": "python",
   "nbconvert_exporter": "python",
   "pygments_lexer": "ipython3",
   "version": "3.7.4"
  }
 },
 "nbformat": 4,
 "nbformat_minor": 4
}
