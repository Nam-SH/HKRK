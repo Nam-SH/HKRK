{
 "cells": [
  {
   "cell_type": "markdown",
   "metadata": {},
   "source": [
    "# Day_7. Arrays\n",
    "\n",
    "`Task`\n",
    "\n",
    "Given an array, `A`,`N` of  integers, print `A`'s elements in reverse order as a single line of space-separated numbers.\n",
    "\n",
    "`Input Format`\n",
    "\n",
    "The first line contains an integer, `N` (the size of our array). \n",
    "The second line contains `N` space-separated integers describing array `A`'s elements.\n",
    "\n",
    "`Output Format`\n",
    "\n",
    "Print the elements of array `A` in reverse order as a single line of space-separated numbers.\n",
    "\n",
    "`Sample Input`\n",
    "```\n",
    "4\n",
    "1 4 3 2\n",
    "```\n",
    "`Sample Output`\n",
    "```\n",
    "2 3 4 1\n",
    "```"
   ]
  },
  {
   "cell_type": "code",
   "execution_count": null,
   "metadata": {},
   "outputs": [],
   "source": [
    "N = int(input())\n",
    "val = list(map(int, input().split()))\n",
    "\n",
    "result = []\n",
    "for i in range(N - 1, -1, -1):\n",
    "    result.append(val[i])\n",
    "    \n",
    "print(result)"
   ]
  },
  {
   "cell_type": "code",
   "execution_count": null,
   "metadata": {},
   "outputs": [],
   "source": [
    "input()\n",
    "print(*input().split()[::-1])"
   ]
  }
 ],
 "metadata": {
  "kernelspec": {
   "display_name": "Python 3",
   "language": "python",
   "name": "python3"
  },
  "language_info": {
   "codemirror_mode": {
    "name": "ipython",
    "version": 3
   },
   "file_extension": ".py",
   "mimetype": "text/x-python",
   "name": "python",
   "nbconvert_exporter": "python",
   "pygments_lexer": "ipython3",
   "version": "3.7.4"
  }
 },
 "nbformat": 4,
 "nbformat_minor": 4
}
