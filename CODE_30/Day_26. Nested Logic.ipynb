{
 "cells": [
  {
   "cell_type": "markdown",
   "metadata": {},
   "source": [
    "# Day_26. Nested Logic\n",
    "\n",
    "\n",
    "<br>\n",
    "\n",
    "![image](https://user-images.githubusercontent.com/50367487/63088008-9c4c0600-bf8e-11e9-919b-f93666c04edc.png)"
   ]
  },
  {
   "cell_type": "code",
   "execution_count": null,
   "metadata": {},
   "outputs": [],
   "source": [
    "ad, am, ay = map(int, input().split())\n",
    "ed, em, ey = map(int, input().split())\n",
    "\n",
    "d = ad - ed\n",
    "m = am - em\n",
    "y = ay - ey\n",
    "\n",
    "if y > 0: print(10000)\n",
    "elif y < 0: print(0)\n",
    "elif m > 0: print(500 * m)\n",
    "elif m < 0: print(0)\n",
    "elif d > 0: print(15 * d)\n",
    "elif d < 0: print(0)"
   ]
  },
  {
   "cell_type": "code",
   "execution_count": null,
   "metadata": {},
   "outputs": [],
   "source": [
    "ad, am, ay = map(int, input().split())\n",
    "ed, em, ey = map(int, input().split())\n",
    "\n",
    "if (ay, am, ad) <= (ey, em, ed):\n",
    "    print(0)\n",
    "elif ay > ey:\n",
    "    print(10000)\n",
    "elif am > em:\n",
    "    print(500 * (am - em))\n",
    "else:\n",
    "    print(15 * (ad - ed))"
   ]
  }
 ],
 "metadata": {
  "kernelspec": {
   "display_name": "Python 3",
   "language": "python",
   "name": "python3"
  },
  "language_info": {
   "codemirror_mode": {
    "name": "ipython",
    "version": 3
   },
   "file_extension": ".py",
   "mimetype": "text/x-python",
   "name": "python",
   "nbconvert_exporter": "python",
   "pygments_lexer": "ipython3",
   "version": "3.7.4"
  }
 },
 "nbformat": 4,
 "nbformat_minor": 4
}
