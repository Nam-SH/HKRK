{
 "cells": [
  {
   "cell_type": "markdown",
   "metadata": {},
   "source": [
    "# Day_24. More Linked Lists\n",
    "\n",
    "<br>\n",
    "\n",
    "![image](https://user-images.githubusercontent.com/50367487/63087254-a3721480-bf8c-11e9-8f60-d04796ac4d65.png)"
   ]
  },
  {
   "cell_type": "code",
   "execution_count": null,
   "metadata": {},
   "outputs": [],
   "source": [
    "class Node:\n",
    "    def __init__(self,val):\n",
    "        self.val = val\n",
    "        self.next = None \n",
    "        \n",
    "        \n",
    "class Solution: \n",
    "    def insert(self,head,val):\n",
    "            p = Node(val)           \n",
    "            if head == None:\n",
    "                head = p\n",
    "            elif head.next == None:\n",
    "                head.next = p\n",
    "            else:\n",
    "                start = head\n",
    "                while start.next != None:\n",
    "                    start = start.next\n",
    "                start.next = p\n",
    "            return head  \n",
    "    \n",
    "    def display(self, head):\n",
    "        current = head\n",
    "        while current:\n",
    "            print(current.val, end=' ')\n",
    "            current = current.next\n",
    "\n",
    "    def removeDuplicates(self, head):\n",
    "        ans = head\n",
    "        while True:\n",
    "            try:\n",
    "                if ans.val == ans.next.val:\n",
    "                       ans.next = ans.next.next\n",
    "                else:  ans  =  ans.next\n",
    "            except AttributeError:\n",
    "                return head\n",
    "\n",
    "\n",
    "lst = Solution()\n",
    "T = int(input())\n",
    "head = None\n",
    "\n",
    "for i in range(T):\n",
    "    val = int(input())\n",
    "    head = lst.insert(head,val)    \n",
    "\n",
    "head = lst.removeDuplicates(head)\n",
    "mylist.display(head); "
   ]
  }
 ],
 "metadata": {
  "kernelspec": {
   "display_name": "Python 3",
   "language": "python",
   "name": "python3"
  },
  "language_info": {
   "codemirror_mode": {
    "name": "ipython",
    "version": 3
   },
   "file_extension": ".py",
   "mimetype": "text/x-python",
   "name": "python",
   "nbconvert_exporter": "python",
   "pygments_lexer": "ipython3",
   "version": "3.7.4"
  }
 },
 "nbformat": 4,
 "nbformat_minor": 4
}
