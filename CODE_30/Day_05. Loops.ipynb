{
 "cells": [
  {
   "cell_type": "markdown",
   "metadata": {},
   "source": [
    "# Day_5. Loops\n",
    "\n",
    "<br> \n",
    "\n",
    "`Task`\n",
    "\n",
    "Given an integer, `n`, print its first `10` multiples. Each multiple `n X i` (where `1 <= i <= 10`) should be printed on a new line in the form: n x i = result.\n",
    "\n",
    "`Input Format`\n",
    "\n",
    "A single integer, `n`.\n",
    "\n",
    "\n",
    "`Output Format`\n",
    "\n",
    "Print `10` lines of output; each line `i` (where `1 <= i <= 10`) contains the `result` of `n X i` in the form: \n",
    "n x i = result.\n",
    "\n",
    "`Sample Input`\n",
    "```\n",
    "2\n",
    "```\n",
    "\n",
    "`Sample Output`\n",
    "```\n",
    "2 x 1 = 2\n",
    "2 x 2 = 4\n",
    "2 x 3 = 6\n",
    "2 x 4 = 8\n",
    "2 x 5 = 10\n",
    "2 x 6 = 12\n",
    "2 x 7 = 14\n",
    "2 x 8 = 16\n",
    "2 x 9 = 18\n",
    "2 x 10 = 20\n",
    "```"
   ]
  },
  {
   "cell_type": "code",
   "execution_count": null,
   "metadata": {},
   "outputs": [],
   "source": [
    "n = int(input())\n",
    "\n",
    "for i in range(1, 11):\n",
    "    print(f'{n} x {i} = {n * i}')"
   ]
  }
 ],
 "metadata": {
  "kernelspec": {
   "display_name": "Python 3",
   "language": "python",
   "name": "python3"
  },
  "language_info": {
   "codemirror_mode": {
    "name": "ipython",
    "version": 3
   },
   "file_extension": ".py",
   "mimetype": "text/x-python",
   "name": "python",
   "nbconvert_exporter": "python",
   "pygments_lexer": "ipython3",
   "version": "3.7.4"
  }
 },
 "nbformat": 4,
 "nbformat_minor": 4
}
