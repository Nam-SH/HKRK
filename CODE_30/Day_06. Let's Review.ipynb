{
 "cells": [
  {
   "cell_type": "markdown",
   "metadata": {},
   "source": [
    "# Day_6. Let's Review\n",
    "\n",
    "<br> \n",
    "\n",
    "`Task`\n",
    "\n",
    "Given a string, `S`,`N` of length  that is indexed from `0` to `N-1`, print its even-indexed and odd-indexed characters as `2` space-separated strings on a single line (see the Sample below for more detail).\n",
    "\n",
    "Note: `0` is considered to be an even index.\n",
    "\n",
    "`Input Format`\n",
    "\n",
    "The first line contains an integer, `T` (the number of test cases). \n",
    "Each line  of the `T` subsequent lines contain a String, `S`.\n",
    "\n",
    "`Constraints`\n",
    "```\n",
    "1 <= T <= 10\n",
    "2 <= ler gth of S <= 10000\n",
    "```\n",
    "\n",
    "`Output Format`\n",
    "\n",
    "For each String `Sj` (where `0 <= j <= T-1`), print `Sj`'s even-indexed characters, followed by a space, followed by `Sj`'s odd-indexed characters.\n",
    "\n",
    "`Sample Input`\n",
    "```\n",
    "2\n",
    "Hacker\n",
    "Rank\n",
    "```\n",
    "`Sample Output`\n",
    "```\n",
    "Hce akr\n",
    "Rn ak\n",
    "```"
   ]
  },
  {
   "cell_type": "code",
   "execution_count": null,
   "metadata": {},
   "outputs": [],
   "source": [
    "num = int(input())\n",
    "\n",
    "words = []\n",
    "for i in range(num):\n",
    "    wd = input()\n",
    "    words.append(wd)\n",
    "    \n",
    "for word in words:\n",
    "    print(word[::2], word[1::2])"
   ]
  }
 ],
 "metadata": {
  "kernelspec": {
   "display_name": "Python 3",
   "language": "python",
   "name": "python3"
  },
  "language_info": {
   "codemirror_mode": {
    "name": "ipython",
    "version": 3
   },
   "file_extension": ".py",
   "mimetype": "text/x-python",
   "name": "python",
   "nbconvert_exporter": "python",
   "pygments_lexer": "ipython3",
   "version": "3.7.4"
  }
 },
 "nbformat": 4,
 "nbformat_minor": 4
}
