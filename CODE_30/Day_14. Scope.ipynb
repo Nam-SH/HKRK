{
 "cells": [
  {
   "cell_type": "markdown",
   "metadata": {},
   "source": [
    "# Day_14. Scope\n",
    "\n",
    "<br> \n",
    "\n",
    "`Task `\n",
    "\n",
    "Complete the Difference class by writing the following:\n",
    "\n",
    "- A class constructor that takes an array of integers as a parameter and saves it to the elements instance variable.\n",
    "- A computeDifference method that finds the maximum absolute difference between any `2` numbers in `N` and stores it in the `elements` instance variable.\n",
    "\n",
    "`Input Format`\n",
    "\n",
    "You are not responsible for reading any input from stdin. The locked Solution class in your editor reads in `2` lines of input; the first line contains `N`, and the second line describes the `elements` array.\n",
    "\n",
    "`Output Format`\n",
    "\n",
    "You are not responsible for printing any output; the Solution class will print the value of the 'maximumDifference' instance variable.\n",
    "\n",
    "`Sample Input`\n",
    "```\n",
    "3\n",
    "1 2 5\n",
    "```\n",
    "`Sample Output`\n",
    "```\n",
    "4\n",
    "```"
   ]
  },
  {
   "cell_type": "code",
   "execution_count": null,
   "metadata": {},
   "outputs": [],
   "source": [
    "class Difference:\n",
    "    def __init__(self, arr):\n",
    "        self.__elements = arr\n",
    "\n",
    "    def computeDifference(self):\n",
    "        self.maximumDifference = max(self.__elements) - min(self.__elements)\n",
    "        return self.maximumDifference\n",
    "    \n",
    "    \n",
    "n = input()\n",
    "arr = list(map(int, input().split()))\n",
    "\n",
    "diff = Difference(arr)\n",
    "diff.computeDifference()\n",
    "\n",
    "print(diff.maximumDifference)"
   ]
  }
 ],
 "metadata": {
  "kernelspec": {
   "display_name": "Python 3",
   "language": "python",
   "name": "python3"
  },
  "language_info": {
   "codemirror_mode": {
    "name": "ipython",
    "version": 3
   },
   "file_extension": ".py",
   "mimetype": "text/x-python",
   "name": "python",
   "nbconvert_exporter": "python",
   "pygments_lexer": "ipython3",
   "version": "3.7.4"
  }
 },
 "nbformat": 4,
 "nbformat_minor": 4
}
