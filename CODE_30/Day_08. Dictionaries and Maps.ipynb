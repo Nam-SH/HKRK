{
 "cells": [
  {
   "cell_type": "markdown",
   "metadata": {},
   "source": [
    "# Day_8. Dictionaries and Maps\n",
    "\n",
    "<br> \n",
    "\n",
    "`Task`\n",
    "\n",
    "Given `n` names and phone numbers, assemble a phone book that maps friends' names to their respective phone numbers. You will then be given an unknown number of names to query your phone book for. For each `name` queried, print the associated entry from your phone book on a new line in the form name=phoneNumber; if an entry for `name` is not found, print Not found instead.\n",
    "\n",
    "Note: Your phone book should be a Dictionary/Map/HashMap val structure.\n",
    "\n",
    "`Input Format`\n",
    "\n",
    "The first line contains an integer, `n`, denoting the number of entries in the phone book. \n",
    "Each of the `n` subsequent lines describes an entry in the form of `2` space-separated values on a single line. The first value is a friend's name, and the second value is an `8`-digit phone number.\n",
    "\n",
    "After the `n` lines of phone book entries, there are an unknown number of lines of queries. Each line (query) contains a `name` to look up, and you must continue reading lines until there is no more input.\n",
    "\n",
    "Note: Names consist of lowercase English alphabetic letters and are first names only.\n",
    "\n",
    "`Output Format`\n",
    "\n",
    "On a new line for each query, print Not found if the name has no corresponding entry in the phone book; otherwise, print the full `name` and `PhoneNumber` in the format name=phoneNumber.\n",
    "\n",
    "`Sample Input`\n",
    "```\n",
    "3\n",
    "sam 99912222\n",
    "tom 11122222\n",
    "harry 12299933\n",
    "sam\n",
    "edward\n",
    "harry\n",
    "```\n",
    "Sample Output\n",
    "```\n",
    "sam=99912222\n",
    "Not found\n",
    "harry=12299933\n",
    "```"
   ]
  },
  {
   "cell_type": "code",
   "execution_count": null,
   "metadata": {},
   "outputs": [],
   "source": [
    "n  = int(input())\n",
    "\n",
    "book = {}\n",
    "for _ in range(n):\n",
    "    name, phonenum = input().split()\n",
    "    book.update({name: int(phonenum)})\n",
    "\n",
    "while 1:\n",
    "    try:\n",
    "        name = input()\n",
    "        if name in book:\n",
    "            print(f'{name}={book[name]}')\n",
    "        else:\n",
    "            print('Not found')\n",
    "    except:\n",
    "        break"
   ]
  }
 ],
 "metadata": {
  "kernelspec": {
   "display_name": "Python 3",
   "language": "python",
   "name": "python3"
  },
  "language_info": {
   "codemirror_mode": {
    "name": "ipython",
    "version": 3
   },
   "file_extension": ".py",
   "mimetype": "text/x-python",
   "name": "python",
   "nbconvert_exporter": "python",
   "pygments_lexer": "ipython3",
   "version": "3.7.4"
  }
 },
 "nbformat": 4,
 "nbformat_minor": 4
}
