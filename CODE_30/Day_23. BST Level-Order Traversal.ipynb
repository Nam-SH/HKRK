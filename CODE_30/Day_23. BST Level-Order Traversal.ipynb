{
 "cells": [
  {
   "cell_type": "markdown",
   "metadata": {},
   "source": [
    "# Day_23. BST Level-Order Traversal\n",
    "\n",
    "\n",
    "<br>\n",
    "\n",
    "![image](https://user-images.githubusercontent.com/50367487/63086011-debf1400-bf89-11e9-8286-9fe2980b9e0a.png)"
   ]
  },
  {
   "cell_type": "code",
   "execution_count": null,
   "metadata": {},
   "outputs": [],
   "source": [
    "class Node:\n",
    "    def __init__(self,val):\n",
    "        self.right = self.left = None\n",
    "        self.val = val\n",
    "        \n",
    "        \n",
    "class Solution:\n",
    "    def insert(self, root,val):\n",
    "        if root == None:\n",
    "            return Node(val)\n",
    "        else:\n",
    "            if val<=root.val:\n",
    "                cur = self.insert(root.left, val)\n",
    "                root.left = cur\n",
    "            else:\n",
    "                cur = self.insert(root.right, val)\n",
    "                root.right = cur\n",
    "        return root\n",
    "\n",
    "    \n",
    "    def levelOrder(self, root):\n",
    "        q = [root] if root else []\n",
    "        \n",
    "        while q:\n",
    "            node = q.pop()\n",
    "            print(node.val, end=\" \")\n",
    "            \n",
    "            if node.left: q.insert(0, node.left)\n",
    "            if node.right: q.insert(0, node.right)\n",
    "\n",
    "                \n",
    "tree = Solution()\n",
    "root = None\n",
    "\n",
    "for _ in range(int(input())):\n",
    "    val = int(input())\n",
    "    root = tree.insert(root, val)\n",
    "\n",
    "tree.levelOrder(root)"
   ]
  }
 ],
 "metadata": {
  "kernelspec": {
   "display_name": "Python 3",
   "language": "python",
   "name": "python3"
  },
  "language_info": {
   "codemirror_mode": {
    "name": "ipython",
    "version": 3
   },
   "file_extension": ".py",
   "mimetype": "text/x-python",
   "name": "python",
   "nbconvert_exporter": "python",
   "pygments_lexer": "ipython3",
   "version": "3.7.4"
  }
 },
 "nbformat": 4,
 "nbformat_minor": 4
}
