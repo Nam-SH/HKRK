{
 "cells": [
  {
   "cell_type": "markdown",
   "metadata": {},
   "source": [
    "# Day_1. val Types\n",
    "\n",
    "<br> \n",
    "\n",
    "`Task`\n",
    "Complete the code in the editor below. The variables i, d, and s are already declared and initialized for you. You must:\n",
    "\n",
    "1. Declare `3` variables: one of type int, one of type double, and one of type String.\n",
    "2. Read `3` lines of input from stdin (according to the sequence given in the Input Format section below) and initialize your variables.\n",
    "3. Use the `3` operator to perform the following operations: \n",
    "\n",
    "    Print the sum of `i` plus your int variable on a new line.\n",
    "    \n",
    "    Print the sum of `d` plus your double variable to a scale of one decimal place on a new line.\n",
    "    \n",
    "    Concatenate `s` with the string you read as input and print the result on a new line.\n",
    "\n",
    "`Note`: If you are using a language that doesn't support using  for string concatenation (e.g.: C), you can just print one variable immediately following the other on the same line. The string provided in your editor must be printed first, immediately followed by the string you read as input.\n",
    "\n",
    "`Input Format`\n",
    "\n",
    "The first line contains an integer that you must sum with `i`. \n",
    "The second line contains a double that you must sum with `d`. \n",
    "The third line contains a string that you must concatenate with `s`.\n",
    "\n",
    "`Output Format`\n",
    "\n",
    "Print the sum of both integers on the first line, the sum of both doubles (scaled to `1` decimal place) on the second line, and then the two concatenated strings on the third line.\n",
    "\n",
    "`Sample Input`\n",
    "```\n",
    "12\n",
    "4.0\n",
    "is the best place to learn and practice coding!\n",
    "```\n",
    "`Sample Output`\n",
    "```\n",
    "16\n",
    "8.0\n",
    "HackerRank is the best place to learn and practice coding!\n",
    "```"
   ]
  },
  {
   "cell_type": "code",
   "execution_count": null,
   "metadata": {},
   "outputs": [],
   "source": [
    "i = 4\n",
    "d = 4.0\n",
    "s = 'HackerRank '\n",
    "\n",
    "i2 = int(input())\n",
    "d2 = float(input())\n",
    "s2 = input()\n",
    "\n",
    "\n",
    "print(i + i2)\n",
    "print(d + d2)\n",
    "print(s + s2)"
   ]
  }
 ],
 "metadata": {
  "kernelspec": {
   "display_name": "Python 3",
   "language": "python",
   "name": "python3"
  },
  "language_info": {
   "codemirror_mode": {
    "name": "ipython",
    "version": 3
   },
   "file_extension": ".py",
   "mimetype": "text/x-python",
   "name": "python",
   "nbconvert_exporter": "python",
   "pygments_lexer": "ipython3",
   "version": "3.7.4"
  }
 },
 "nbformat": 4,
 "nbformat_minor": 4
}
