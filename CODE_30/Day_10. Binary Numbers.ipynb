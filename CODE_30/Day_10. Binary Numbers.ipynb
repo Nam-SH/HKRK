{
 "cells": [
  {
   "cell_type": "markdown",
   "metadata": {},
   "source": [
    "# Day_10. Binary Numbers\n",
    "\n",
    "<br> \n",
    "\n",
    "`Task`\n",
    "\n",
    "Given a base-`10` integer, `n`, convert it to binary (base-`2`). Then find and print the base-`10` integer denoting the maximum number of consecutive `1`'s in `n`'s binary representation.\n",
    "\n",
    "`Input Format`\n",
    "\n",
    "A single integer, `n`.\n",
    "\n",
    "`Output Format`\n",
    "\n",
    "Print a single base-`10` integer denoting the maximum number of consecutive `1`'s in the binary representation of `n`.\n",
    "\n",
    "`Sample Input 1`\n",
    "```\n",
    "5\n",
    "```\n",
    "`Sample Output 1`\n",
    "```\n",
    "1\n",
    "```\n",
    "`Sample Input 2`\n",
    "```\n",
    "13\n",
    "```\n",
    "`Sample Output 2`\n",
    "```\n",
    "2\n",
    "```"
   ]
  },
  {
   "cell_type": "code",
   "execution_count": null,
   "metadata": {},
   "outputs": [],
   "source": [
    "n = int(input())\n",
    "\n",
    "bino = bin(n)\n",
    "\n",
    "bino_two = bino[2]\n",
    "\n",
    "res = 1\n",
    "for i in range(3, len(bino)):\n",
    "    if bino_two[-1] == bino[i]:\n",
    "        bino_two += bino[i]\n",
    "        if res < len(bino_two):\n",
    "            res = len(bino_two) \n",
    "    else:        \n",
    "        bino_two = bino[i]\n",
    "        \n",
    "print(res)"
   ]
  }
 ],
 "metadata": {
  "kernelspec": {
   "display_name": "Python 3",
   "language": "python",
   "name": "python3"
  },
  "language_info": {
   "codemirror_mode": {
    "name": "ipython",
    "version": 3
   },
   "file_extension": ".py",
   "mimetype": "text/x-python",
   "name": "python",
   "nbconvert_exporter": "python",
   "pygments_lexer": "ipython3",
   "version": "3.7.4"
  }
 },
 "nbformat": 4,
 "nbformat_minor": 4
}
