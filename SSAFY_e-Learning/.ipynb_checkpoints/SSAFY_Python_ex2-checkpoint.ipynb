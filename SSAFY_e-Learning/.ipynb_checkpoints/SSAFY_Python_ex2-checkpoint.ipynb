{
 "cells": [
  {
   "cell_type": "code",
   "execution_count": 6,
   "metadata": {},
   "outputs": [
    {
     "name": "stdout",
     "output_type": "stream",
     "text": [
      "행운의 로또 번호는 5, 12, 17, 28, 41, 44입니다\n"
     ]
    }
   ],
   "source": [
    "#1차시 예제\n",
    "\n",
    "import random\n",
    "\n",
    "# lotto = random.sample(range(1, 46, 1), 6)\n",
    "# print(sorted(lotto))\n",
    "\n",
    "def input_start():\n",
    "    start = 0\n",
    "    try :\n",
    "        strat = int(input(\"로또 시작번호(기본값: 1) \"))\n",
    "    except :\n",
    "        start = 1\n",
    "    finally :\n",
    "        return start\n",
    "    \n",
    "def input_end():\n",
    "    end = 0\n",
    "    try :\n",
    "        end = int(input(\"로또 끝번호(기본값: 45) \"))\n",
    "    except :\n",
    "        end = 45\n",
    "    finally :\n",
    "        return end\n",
    "    \n",
    "def input_end():\n",
    "    count = 0\n",
    "    try :\n",
    "        count = int(input(\"로또 공 갯수(기본값: 6) \"))\n",
    "    except Exception as ex:\n",
    "        count = 6\n",
    "        print(ex)\n",
    "    finally :\n",
    "        return count\n",
    "    \n",
    "def print_lotto(start, end, count):\n",
    "    lotto = random.sample(range(start, end+1, 1), count)\n",
    "    print(\"행운의 로또 번호는 \", end=\"\")\n",
    "    for i, num in enumerate(sorted(lotto)) :\n",
    "        if i == len(lotto) - 1:\n",
    "            print(\"{0}\".format(num), end=\"\")\n",
    "        else :\n",
    "            print(\"{0}, \".format(num), end=\"\")\n",
    "    print(\"입니다\")\n"
   ]
  },
  {
   "cell_type": "code",
   "execution_count": null,
   "metadata": {},
   "outputs": [],
   "source": [
    "# 2차시 예제\n",
    "\n",
    "scores = []\n",
    "count = int(input(\"총 학생 수를 입력하세요: \"))\n",
    "\n",
    "for i in range(1, count+1):\n",
    "    score = []\n",
    "    kor = int(input(\"학생{0}의 국어 점수를 입력하세요: \".format(i)))\n",
    "    score.append(kor)\n",
    "    mat = int(input(\"학생{0}의 수학 점수를 입력하세요: \".format(i)))\n",
    "    score.append(mat)\n",
    "    eng = int(input(\"학생{0}의 영어 점수를 입력하세요: \".format(i)))\n",
    "    score.append(eng)\n",
    "    scores.append(score)\n",
    "    \n",
    "for i, score in enumerate(scores):\n",
    "    total = 0\n",
    "    for s in score:\n",
    "        total += s\n",
    "    print(\"학생{0} => 총점 : {1}, 평균: {2:0.2F}\".format(i+1, total, total/len(score)))"
   ]
  },
  {
   "cell_type": "code",
   "execution_count": 20,
   "metadata": {},
   "outputs": [
    {
     "name": "stdout",
     "output_type": "stream",
     "text": [
      "1번 학생의 총점은 170점이고, 평균은 85.0입니다.\n",
      "2번 학생의 총점은 160점이고, 평균은 80.0입니다.\n",
      "3번 학생의 총점은 190점이고, 평균은 95.0입니다.\n"
     ]
    }
   ],
   "source": [
    "# 3차시 \n",
    "\n",
    "# 한 학생의 국어, 수학 점수를 튜플로 저장하고 이 튜플을 항목으로 갖는 리스트 객체가 있습니다. 이 때 첫 번째 학생은 (90, 80), 두 번째 학생은 (85, 75), 세 번째 학생은 (90, 100)의 점수를 갖습니다.\n",
    "# 다음과 같이 결과를 만들기 위한 프로그램을 작성하십시오. 1번 학생의 총점은 170점이고, 평균은 85.0입니다.\n",
    "\n",
    "stu = [(90, 80) , (85, 75), (90, 100)]\n",
    "\n",
    "for i in range(len(stu)) :\n",
    "    total = 0\n",
    "    average = 0\n",
    "    for j in range(0, 2) :\n",
    "        total += stu[i][j]\n",
    "        average = total / 2\n",
    "    print(\"%d번 학생의 총점은 %d점이고, 평균은 %.1f입니다.\"%(i+1, total, average))"
   ]
  },
  {
   "cell_type": "code",
   "execution_count": 185,
   "metadata": {},
   "outputs": [
    {
     "name": "stdout",
     "output_type": "stream",
     "text": [
      "Pythn s pwrfl... nd fst; plys wll wth thrs; rns vrywhr; s frndly & sy t lrn; s Opn.\n"
     ]
    }
   ],
   "source": [
    "# 4차시\n",
    "\n",
    "# 리스트 내포 기능을 이용해 다음 문장으로부터 모음('aeiou')을 제거하십시오.\n",
    "# 'Python is powerful... and fast; plays well with others; runs everywhere; is friendly & easy to learn; is Open.'\n",
    "\n",
    "a = \"Python is powerful... and fast; plays well with others; runs everywhere; is friendly & easy to learn; is Open.\"\n",
    "# b = [\"a\", \"e\", \"i\", \"o\", \"u\"]\n",
    "# # for i in range(len(a)):\n",
    "# #     if a[i] == \"a\" or a[i] == \"e\" or a[i] == \"i\" or a[i] == \"o\" or a[i] == \"u\" :\n",
    "\n",
    "# for i in range(len(a)) :\n",
    "#     for j in range(len(b)) :\n",
    "#         if a[i] == b[j] :\n",
    "#             c = a.replace(b[j], \"*\")\n",
    "# print(c)\n",
    "b =  a.replace(\"a\", \"\").replace(\"e\", \"\").replace(\"i\", \"\").replace(\"o\", \"\").replace(\"u\", \"\")\n",
    "print(b)"
   ]
  },
  {
   "cell_type": "code",
   "execution_count": 200,
   "metadata": {},
   "outputs": [
    {
     "name": "stdout",
     "output_type": "stream",
     "text": [
      "[[2, 4, 8, 10, 16], [], [4, 8, 16, 20, 32], [5, 10, 20, 25, 40], [], [], [8, 16, 32, 40, 64], []]\n"
     ]
    }
   ],
   "source": [
    "# 5차시\n",
    "\n",
    "# 다음의 결과와 같이 구구단 2단부터 9단의 결과값 중에 3의 배수거나 7의 배수인 수를 제외한 값을 리스트 객체 result 안에 각 단마다 리스트를 만들어 삽입하고 이를 출력하십시오.\n",
    "# [[2, 4, 8, 10, 16], [], [4, 8, 16, 20, 32], [5, 10, 20, 25, 40], [], [], [8, 16, 32, 40, 64], []]\n",
    "\n",
    "a = []\n",
    "\n",
    "for i in range(2, 10):\n",
    "    b = []\n",
    "    for j in range(1, 10) :\n",
    "        mul = i*j\n",
    "        if mul % 3 != 0 and mul % 7 != 0 :\n",
    "            b.append(mul)\n",
    "    a.append(b)\n",
    "print(a)"
   ]
  },
  {
   "cell_type": "code",
   "execution_count": 212,
   "metadata": {},
   "outputs": [
    {
     "name": "stdin",
     "output_type": "stream",
     "text": [
      " 10\n",
      " 10\n",
      " 10\n",
      " 10\n",
      " 20\n"
     ]
    },
    {
     "name": "stdout",
     "output_type": "stream",
     "text": [
      "입력된 값 [10, 10, 10, 10, 20]의 평균은 12.0입니다.\n"
     ]
    }
   ],
   "source": [
    "# 6차시\n",
    "\n",
    "# 리스트 내포 기능을 활용해 입력된 정수 값 5개의 평균을 출력하는 프로그램을 작성하십시오.\n",
    "# 입력된 값 [10, 10, 20, 30, 40]의 평균은 22.0입니다.\n",
    "\n",
    "a = []\n",
    "for i in range(5) :\n",
    "    num = int(input(\"\"))\n",
    "    a.append(num)\n",
    "    avg = sum(a)/len(a)\n",
    "print(\"입력된 값\", a, end=\"\")\n",
    "print(\"의 평균은 %.1f입니다.\"%(avg))"
   ]
  },
  {
   "cell_type": "code",
   "execution_count": 211,
   "metadata": {},
   "outputs": [
    {
     "name": "stdin",
     "output_type": "stream",
     "text": [
      " 12\n"
     ]
    },
    {
     "name": "stdout",
     "output_type": "stream",
     "text": [
      "[1, 2, 3, 4, 6, 12]\n"
     ]
    }
   ],
   "source": [
    "# 7차시\n",
    "\n",
    "# 다음의 결과와 같이 정수를 입력하면 약수를 리스트에 추가해 출력하는 코드를 작성하십시오.\n",
    "\n",
    "num = int(input(\"\"))\n",
    "a = []\n",
    "\n",
    "for i in range(1, num+1) :\n",
    "    if num % i == 0:\n",
    "        a.append(i)\n",
    "print(a)"
   ]
  },
  {
   "cell_type": "code",
   "execution_count": null,
   "metadata": {},
   "outputs": [],
   "source": [
    "# 8차시\n",
    "\n",
    "# 다음의 결과와 같이 정수를 입력하면 리스트 내포를 이용해 약수 리스트를 출력하는 코드를 작성하십시오.\n",
    "\n",
    "num = int(input(\"\"))\n",
    "a = []\n",
    "\n",
    "for i in range(1, num+1) :\n",
    "    if num % i == 0:\n",
    "        a.append(i)\n",
    "print(a)"
   ]
  },
  {
   "cell_type": "code",
   "execution_count": 11,
   "metadata": {},
   "outputs": [
    {
     "data": {
      "text/plain": [
       "[28, 52, 100]"
      ]
     },
     "execution_count": 11,
     "metadata": {},
     "output_type": "execute_result"
    }
   ],
   "source": [
    "# 9차시\n",
    "\n",
    "# [1, 3, 11, 15, 23, 28, 37, 52, 85, 100] 와 같은 리스트 객체가 주어졌을 때 다음의 결과를 출력하는 짝수만 항목으로 가지는 리스트 객체를 생성하는 코드를 작성하십시오.\n",
    "\n",
    "a = [1, 3, 11, 15, 23, 28, 37, 52, 85, 100]\n",
    "\n",
    "# b = []\n",
    "# for i in range(len(a)) :\n",
    "#     if a[i] % 2 == 0 :\n",
    "#         b.append(a[i])\n",
    "# print(b)\n",
    "\n",
    "list(filter(lambda x: x%2 == 0, a))"
   ]
  },
  {
   "cell_type": "code",
   "execution_count": 13,
   "metadata": {},
   "outputs": [
    {
     "name": "stdout",
     "output_type": "stream",
     "text": [
      "[1, 1, 2, 3, 5, 8, 13, 21, 34, 55]\n"
     ]
    }
   ],
   "source": [
    "# 10차시\n",
    "\n",
    "# 리스트 내포 가능을 이용해 피보나치 수열 10번째까지 출력하는 프로그램을 작성하십시오.\n",
    "\n",
    "pibo = [1, 1]\n",
    "\n",
    "for i in range(2, 10) :\n",
    "    for j in range(2, 10) :\n",
    "        a = pibo[i-2] + pibo[i-1]\n",
    "    pibo.append(a)\n",
    "print(pibo)"
   ]
  },
  {
   "cell_type": "code",
   "execution_count": 18,
   "metadata": {},
   "outputs": [
    {
     "name": "stdout",
     "output_type": "stream",
     "text": [
      "[1, 4, 9, 16, 25, 36, 49, 64, 81, 100, 121, 144, 169, 196, 256, 289, 324, 361, 400]\n"
     ]
    }
   ],
   "source": [
    "# 11차시\n",
    "\n",
    "# 리스트 내포 기능을 이용하여 1부터 20사이의 숫자 중 3의 배수가 아니거나 5의 배수가 아닌 숫자들의 제곱 값으로 구성된 리스트 객체를 출력하는 프로그램을 작성하십시오.\n",
    "# [1, 4, 9, 16, 25, 36, 49, 64, 81, 100, 121, 144, 169, 196, 256, 289, 324, 361, 400]\n",
    "\n",
    "a = []\n",
    "for i in range(1, 21) :\n",
    "    if i % 3 != 0 or i % 5 != 0:\n",
    "        a.append(i**2)\n",
    "print(a)"
   ]
  },
  {
   "cell_type": "code",
   "execution_count": 140,
   "metadata": {},
   "outputs": [
    {
     "name": "stdin",
     "output_type": "stream",
     "text": [
      " 12345\n"
     ]
    },
    {
     "name": "stdout",
     "output_type": "stream",
     "text": [
      "15\n"
     ]
    }
   ],
   "source": [
    "# 12차시\n",
    "\n",
    "# 사용자가 숫자를 입력하면 숫자의 각 자릿수의 합을 구해서 반환하는 프로그램을 작성하십시오. 예를 들어 123을 입력하면 1 + 2 + 3 = 6의 결과를 반환합니다.\n",
    "\n",
    "num = input(\"\")\n",
    "\n",
    "b = []\n",
    "for i in range(len(num)):\n",
    "    a = int(num[i])\n",
    "    b.append(a)\n",
    "    result = sum(b)\n",
    "print(result)"
   ]
  },
  {
   "cell_type": "code",
   "execution_count": 1,
   "metadata": {},
   "outputs": [
    {
     "name": "stdout",
     "output_type": "stream",
     "text": [
      "[['계시다', '가지다', '그', '개'], ['놀이'], ['들다', '다', '뒤', '듣다', '데리다'], [], ['막', '무척', '마리'], ['부모님', '비용', '비행기', '보이다'], ['싶다', '수출'], ['원래', '아이', '옳다'], ['좀', '자르다', '정도'], ['처리', '최초'], [], [], [], ['함께']]\n"
     ]
    }
   ],
   "source": [
    "# 13차시\n",
    "\n",
    "# 입력 받은 문자열 리스트를 가나다 순으로 따로 묶으려고 합니다. 다음과 같은 리스트가 주어졌을 때 결과처럼 가나다순(사전순)으로 따로 묶은 리스트가 출력되도록 리스트 내포를 이용한 프로그램을 작성해\n",
    "# dicBase = (('가','깋'), ('나','닣'), ('다','딯'), ('라','맇'), ('마','밓'), ('바','빟'), ('사','싷'), ('아','잏'), ('자','짛'), ('차','칳'), ('카','킿'), ('타','팋'), ('파','핗'), ('하','힣'))\n",
    "# inputWord = ['막', '부모님', '비용', '비행기', '원래', '처리', '최초', '꼴', '좀', '들다', '싶다','수출', '계시다', '다', '뒤', '듣다', '함께', '아이', '무척', '보이다', '가지다', '그', '자르다', '데리다', '마리', '개', '정도', '옳다', '놀이','뜨겁다']\n",
    "# [['계시다', '가지다', '그', '개'], ['놀이'], ['들다', '다', '뒤', '듣다', '데리다'], [], ['막', '무척', '마리'], ['부모님', '비용', '비행기', '보이다'], ['싶다', '수출'], ['원래', '아이', '옳다'], ['좀', '자르다', '정도'], ['처리', '최초'], [], [], [], ['함께']]\n",
    "\n",
    "dicBase = (('가','깋'), ('나','닣'), ('다','딯'), ('라','맇'), ('마','밓'), ('바','빟'), ('사','싷'), ('아','잏'), ('자','짛'), ('차','칳'), ('카','킿'), ('타','팋'), ('파','핗'), ('하','힣'))\n",
    "inputWord = ['막', '부모님', '비용', '비행기', '원래', '처리', '최초', '꼴', '좀', '들다', '싶다','수출', '계시다', '다', '뒤', '듣다', '함께', '아이', '무척', '보이다', '가지다', '그', '자르다', '데리다', '마리', '개', '정도', '옳다', '놀이','뜨겁다']\n",
    "\n",
    "result_list = []\n",
    "for i in range(14) :\n",
    "    empty_list = []\n",
    "    result_list.append(empty_list)\n",
    "\n",
    "for i in inputWord :\n",
    "    for j in dicBase :\n",
    "        if hex(ord(i[0])) >= hex(ord(j[0])) and hex(ord(i[0])) <= hex(ord(j[1])) :\n",
    "            result_list[dicBase.index(j)].append(i)\n",
    "                    \n",
    "print(result_list)"
   ]
  },
  {
   "cell_type": "code",
   "execution_count": 142,
   "metadata": {},
   "outputs": [
    {
     "name": "stdin",
     "output_type": "stream",
     "text": [
      " 1, 2, 3\n"
     ]
    },
    {
     "name": "stdout",
     "output_type": "stream",
     "text": [
      "[1, 2, 3]\n",
      "(1, 2, 3)\n"
     ]
    }
   ],
   "source": [
    "# 14차시\n",
    "\n",
    "# 콤마(,)로 구분된 정수 값을 입력받아 리스트와 튜플 객체를 생성하는 코드를 작성하십시오.\n",
    "\n",
    "num = input(\"\").split(\", \")\n",
    "a = []\n",
    "for i in range(len(num)) :\n",
    "    a.append(int(num[i]))\n",
    "print(a)\n",
    "print(tuple(a))"
   ]
  },
  {
   "cell_type": "code",
   "execution_count": 257,
   "metadata": {},
   "outputs": [
    {
     "name": "stdin",
     "output_type": "stream",
     "text": [
      " 2, 3, 4, 5\n"
     ]
    },
    {
     "name": "stdout",
     "output_type": "stream",
     "text": [
      "12.57, 18.85, 25.13, 31.42\n"
     ]
    }
   ],
   "source": [
    "# 15차시\n",
    "\n",
    "# 다음의 결과와 같이 사용자로부터 콤마(,)로 구분해 여러 원의 반지름을 입력 받아 이들에 대한 원의 둘레를 계산해 출력하는 프로그램을 작성하십시오.\n",
    "# 2, 3, 4, 5  => 12.57, 18.85, 25.13, 31.42\n",
    "\n",
    "num = input(\"\").split(\", \")\n",
    "\n",
    "a = []\n",
    "for i in range(len(num)) :\n",
    "    b = float(num[i]) * 3.1415 * 2\n",
    "    c = round(b, 2)\n",
    "    a.append(c)\n",
    "\n",
    "print(\", \".join(map(str, a)))"
   ]
  },
  {
   "cell_type": "code",
   "execution_count": 324,
   "metadata": {},
   "outputs": [
    {
     "name": "stdin",
     "output_type": "stream",
     "text": [
      " 3, 5\n"
     ]
    },
    {
     "name": "stdout",
     "output_type": "stream",
     "text": [
      "[[0, 0, 0, 0, 0], [0, 1, 2, 3, 4], [0, 2, 4, 6, 8]]\n"
     ]
    }
   ],
   "source": [
    "# 16차시\n",
    "\n",
    "# 다음과 같이 2차원 배열 구조를 만들기 위한 행, 열 정보를 콤마(,)로 구분해 입력하고, 이 리스트 객체의 항목의 값은 행과 열의 인덱스 곱으로 초기화해 출력하는 프로그램을 작성하십시오.\n",
    "# 3, 5 => [[0, 0, 0, 0, 0], [0, 1, 2, 3, 4], [0, 2, 4, 6, 8]]\n",
    "\n",
    "num = input(\"\").split(\", \")\n",
    "\n",
    "a = [[]]*int(num[0])\n",
    "for i in range(1, int(num[0])) :\n",
    "    a[i] = [] \n",
    "    \n",
    "for i in range(int(num[0])) : \n",
    "    for j in range(int(num[1])) :\n",
    "        a[i].append(i*j)\n",
    "print(a)"
   ]
  },
  {
   "cell_type": "code",
   "execution_count": null,
   "metadata": {},
   "outputs": [],
   "source": [
    "# 17차시\n",
    "\n",
    "# 단어를 콤마(,)로 구분해 입력하면 그 단어들을 사전순으로 정렬해 출력하는 프로그램을 작성하시시오.\n",
    "# python, hello, world, hi => hello, hi, python, world\n",
    "\n",
    "a = sorted(input(\"\").split(\", \"))\n",
    "print(\", \".join(map(str, a)))"
   ]
  },
  {
   "cell_type": "code",
   "execution_count": 17,
   "metadata": {},
   "outputs": [
    {
     "name": "stdin",
     "output_type": "stream",
     "text": [
      " 1, 2, 3, 4, 5\n"
     ]
    },
    {
     "name": "stdout",
     "output_type": "stream",
     "text": [
      "1, 3, 5\n"
     ]
    }
   ],
   "source": [
    "# 18차시\n",
    "\n",
    "# 콤마(,)로 구분해 숫자를 입력하고, 입력된 숫자 중 홀수를 콤마(,)로 구분해 출력하는 리스트 내포 기능을 이용한 프로그램을 작성하십시오.\n",
    "# 1, 2, 3, 4, 5 => 1, 3, 5\n",
    "\n",
    "num = input(\"\").split(\", \")\n",
    "\n",
    "for i in range(len(num)) :\n",
    "    num[i] = int(num[i])\n",
    "    \n",
    "num = filter(lambda x: x%2 != 0, num)\n",
    "print(\", \".join(map(str, num)))"
   ]
  },
  {
   "cell_type": "code",
   "execution_count": 31,
   "metadata": {},
   "outputs": [
    {
     "name": "stdout",
     "output_type": "stream",
     "text": [
      "(1, 2, 3, 4, 5)\n",
      "(6, 7, 8, 9, 10)\n"
     ]
    }
   ],
   "source": [
    "# 19차시\n",
    "\n",
    "# 주어진 튜플 (1,2,3,4,5,6,7,8,9,10)의 앞 항목 절반과 뒤 항목 절반을 출력하는 프로그램을 작성하십시오.\n",
    "\n",
    "a = (1,2,3,4,5,6,7,8,9,10)\n",
    "print(a[:len(a)//2])\n",
    "print(a[len(a)//2 :])"
   ]
  },
  {
   "cell_type": "code",
   "execution_count": 2,
   "metadata": {},
   "outputs": [
    {
     "name": "stdout",
     "output_type": "stream",
     "text": [
      "[5, 77, 45]\n"
     ]
    }
   ],
   "source": [
    "# 20차시\n",
    "\n",
    "# 리스트 내포 기능을 이용해 [5, 6, 77, 45, 22, 12, 24]에서 짝수를 제거한 후 리스트를 출력하는 프로그램을 작성하십시오.\n",
    "\n",
    "a = [5, 6, 77, 45, 22, 12, 24]\n",
    "b = []\n",
    "c = []\n",
    "\n",
    "for i in range(len(a)):\n",
    "    if a[i] % 2 != 0 :\n",
    "        b.append(i)\n",
    "for i in range(len(b)) :\n",
    "    c.append(a[b[i]])\n",
    "    \n",
    "print(c)\n",
    "\n",
    "# # a = [5, 6, 77, 45, 22, 12, 24]\n",
    "# # list(filter(lambda x: x%2 != 0, a))\n",
    "\n",
    "# # a = [5, 6, 77, 45, 22, 12, 24]\n",
    "# # [x for x in a if x % 2 !=0]\n"
   ]
  },
  {
   "cell_type": "code",
   "execution_count": 127,
   "metadata": {},
   "outputs": [
    {
     "data": {
      "text/plain": [
       "[24, 70, 120]"
      ]
     },
     "execution_count": 127,
     "metadata": {},
     "output_type": "execute_result"
    }
   ],
   "source": [
    "# 21차시\n",
    "\n",
    "# 리스트 내포 기능을 이용해 [12, 24, 35, 70, 88, 120, 155]에서 홀수번째 항목을 제거한 후 리스트를 출력하는 프로그램을 작성하십시오.\n",
    "# [24, 70, 120]\n",
    "\n",
    "\n",
    "a = [12, 24, 35, 70, 88, 120, 155]\n",
    "b = []\n",
    "for i in range(0, len(a), 2) :\n",
    "    b.append(a[i])\n",
    "    \n",
    "for i in range(len(b)) :\n",
    "    a.remove(b[i])\n",
    "    \n",
    "a"
   ]
  },
  {
   "cell_type": "code",
   "execution_count": 13,
   "metadata": {},
   "outputs": [
    {
     "data": {
      "text/plain": [
       "[[[0, 0, 0, 0], [0, 0, 0, 0], [0, 0, 0, 0]],\n",
       " [[0, 0, 0, 0], [0, 0, 0, 0], [0, 0, 0, 0]]]"
      ]
     },
     "execution_count": 13,
     "metadata": {},
     "output_type": "execute_result"
    }
   ],
   "source": [
    "# 22차시\n",
    "\n",
    "# 항목 값으로는 0을 갖는 2*3*4 형태의 3차원 배열을 생성하는 리스트 내포 기능을 이용한 프로그램을 작성하십시오.\n",
    "# [[[0, 0, 0, 0], [0, 0, 0, 0], [0, 0, 0, 0]], [[0, 0, 0, 0], [0, 0, 0, 0], [0, 0, 0, 0]]]\n",
    "\n",
    "c = []\n",
    "for i in range(2) :\n",
    "    b = []\n",
    "    for j in range(3) :\n",
    "        a = []\n",
    "        for k in range(4) :\n",
    "            a.append(0)\n",
    "        b.append(a)\n",
    "    c.append(b)\n",
    "c"
   ]
  },
  {
   "cell_type": "code",
   "execution_count": 80,
   "metadata": {},
   "outputs": [
    {
     "name": "stdout",
     "output_type": "stream",
     "text": [
      "[24, 35, 70, 155]\n"
     ]
    },
    {
     "data": {
      "text/plain": [
       "[]"
      ]
     },
     "execution_count": 80,
     "metadata": {},
     "output_type": "execute_result"
    }
   ],
   "source": [
    "# 23차시\n",
    "\n",
    "# 리스트 내포 기능을 이용해 [12, 24, 35, 70, 88, 120, 155]에서 첫번째, 다섯번째, 여섯번째 항목을 제거한 후 리스트를 출력하는 프로그램을 작성하십시오.\n",
    "# [24, 35, 70, 155]\n",
    "\n",
    " \n",
    "a = [12, 24, 35, 70, 88, 120, 155]\n",
    "b = [0, 4, 5]\n",
    "c = []\n",
    "for i in range(len(b)):\n",
    "    c.append(a[b[i]])\n",
    "    \n",
    "for i in range(len(c)) :\n",
    "    a.remove(c[i])\n",
    "    \n",
    "print(a)"
   ]
  },
  {
   "cell_type": "code",
   "execution_count": 100,
   "metadata": {},
   "outputs": [
    {
     "data": {
      "text/plain": [
       "[35]"
      ]
     },
     "execution_count": 100,
     "metadata": {},
     "output_type": "execute_result"
    }
   ],
   "source": [
    "# 24차시\n",
    "\n",
    "# 두 개의 리스트 [1,3,6,78,35,55]와 [12,24,35,24,88,120,155]를 이용해 양쪽 리스트에 모두 있는 항목을 리스트로 반환하는 프로그램을 작성하십시오.\n",
    "# [35]\n",
    "a = [1,3,6,78,35,55]\n",
    "b = [12,24,35,24,88,120,155]\n",
    "\n",
    "list(set(a) & set(b))"
   ]
  },
  {
   "cell_type": "code",
   "execution_count": 106,
   "metadata": {},
   "outputs": [
    {
     "data": {
      "text/plain": [
       "[12, 24, 35, 88, 120, 155]"
      ]
     },
     "execution_count": 106,
     "metadata": {},
     "output_type": "execute_result"
    }
   ],
   "source": [
    "# 25차시\n",
    "\n",
    "# 리스트의 항목 중 중복이 되는 항목을 제거하는 함수를 정의하고 이 함수를 이용해 [12,24,35,24,88,120,155,88,120,155]에서 중복이 제거된 리스트를 출력하십시오.\n",
    "# [12, 24, 35, 88, 120, 155]\n",
    "\n",
    "a = [12,24,35,24,88,120,155,88,120,155]\n",
    "list(set(a))\n",
    "\n",
    "# # 2번째 방법\n",
    "# b = []\n",
    "# for i in range(len(a)) :\n",
    "#     if a[i] not in b :\n",
    "#         b.append(a[i])\n",
    "# print(b)"
   ]
  },
  {
   "cell_type": "code",
   "execution_count": 17,
   "metadata": {},
   "outputs": [
    {
     "name": "stdin",
     "output_type": "stream",
     "text": [
      "총 학생 수를 입력하세요:  1\n",
      "학생의 이름을 입력하세요 1\n",
      "학생1의 국어 점수를 입력하세요:  1\n",
      "학생1의 수학 점수를 입력하세요:  1\n",
      "학생1의 영어 점수를 입력하세요:  1\n"
     ]
    },
    {
     "name": "stdout",
     "output_type": "stream",
     "text": [
      "\n",
      "\n",
      "학생 1 => 총점 : 3, 평균: 1.00\n",
      "국어 => 총점: 1, 평균: 1.0\n",
      "수학 => 총점: 1, 평균: 1.0\n",
      "영어 => 총점: 1, 평균: 1.0\n"
     ]
    }
   ],
   "source": [
    "#26차시 예제\n",
    "\n",
    "scores = []\n",
    "count = int(input(\"총 학생 수를 입력하세요: \"))\n",
    "\n",
    "for i in range(1, count+1):\n",
    "    score = {}\n",
    "    score[\"name\"] = input(\"학생의 이름을 입력하세요\")    \n",
    "    score[\"kor\"] = int(input(\"학생{0}의 국어 점수를 입력하세요: \".format(score[\"name\"])))\n",
    "    score[\"mat\"] = int(input(\"학생{0}의 수학 점수를 입력하세요: \".format(score[\"name\"])))\n",
    "    score[\"eng\"] = int(input(\"학생{0}의 영어 점수를 입력하세요: \".format(score[\"name\"])))\n",
    "    scores.append(score)\n",
    "\n",
    "print(\"\\n\")\n",
    "\n",
    "for score in scores:\n",
    "    total = 0\n",
    "    for key in score:\n",
    "        if key != \"name\" :\n",
    "            total += score[key]\n",
    "    print(\"학생 {0} => 총점 : {1}, 평균: {2:0.2F}\\n\".format(score[\"name\"], total, total / 3))\n",
    "    \n",
    "kor_total, mat_total, eng_total = 0, 0, 0\n",
    "for score in scores:\n",
    "    for key in score:\n",
    "        if key == \"kor\" :\n",
    "            kor_total += score[key]\n",
    "        elif key == \"mat\" :\n",
    "            mat_total += score[key]\n",
    "        elif key == \"eng\" :\n",
    "            eng_total += score[key]\n",
    "            \n",
    "print(\"국어 => 총점: {0}, 평균: {1}\".format(kor_total, kor_total/len(scores)))            \n",
    "print(\"수학 => 총점: {0}, 평균: {1}\".format(mat_total, mat_total/len(scores)))            \n",
    "print(\"영어 => 총점: {0}, 평균: {1}\".format(eng_total, eng_total/len(scores)))"
   ]
  },
  {
   "cell_type": "code",
   "execution_count": 154,
   "metadata": {},
   "outputs": [
    {
     "name": "stdout",
     "output_type": "stream",
     "text": [
      "아래 학생들의 전화번호를 조회할 수 있습니다.\n",
      "홍길동\n",
      "이순신\n",
      "강감찬\n"
     ]
    },
    {
     "name": "stdin",
     "output_type": "stream",
     "text": [
      "전화번호를 조회하고자 하는 학생의 이름을 입력하십시오. 홍길동\n"
     ]
    },
    {
     "name": "stdout",
     "output_type": "stream",
     "text": [
      "홍길동의 전화번호는 010-1111-1111입니다.\n"
     ]
    }
   ],
   "source": [
    "# 27차시\n",
    "\n",
    "# 다음과 같이 등록된 학생의 이름을 출력하고, 이름을 입력하면 전화번호를 출력해주는 딕셔너리 객체를 이용한 전화번호부 프로그램을 작성하십시오.\n",
    "\n",
    "# [등록된 학생]\n",
    "\n",
    "# 홍길동: 010-1111-1111\n",
    "# 이순신: 010-1111-2222\n",
    "# 강감찬: 010-1111-3333\n",
    "\n",
    "# [프로그램]\n",
    "\n",
    "# 아래 학생들의 전화번호를 조회할 수 있습니다.\n",
    "# 홍길동\n",
    "# 이순신\n",
    "# 강감찬\n",
    "# 전화번호를 조회하고자 하는 학생의 이름을 입력하십시오.\n",
    "\n",
    "a = {\"홍길동\": \"010-1111-1111\", \"이순신\": \"010-1111-2222\", \"강감찬\": \"010-1111-3333\"}\n",
    "\n",
    "print(\"아래 학생들의 전화번호를 조회할 수 있습니다.\")\n",
    "print(\"홍길동\")\n",
    "print(\"이순신\")\n",
    "print(\"강감찬\")\n",
    "b = input(\"전화번호를 조회하고자 하는 학생의 이름을 입력하십시오.\")\n",
    "print(\"{0}의 전화번호는 {1}입니다.\".format(b, a[b]))"
   ]
  },
  {
   "cell_type": "code",
   "execution_count": 3,
   "metadata": {},
   "outputs": [
    {
     "name": "stdout",
     "output_type": "stream",
     "text": [
      "TV: 2000000\n",
      "냉장고: 1500000\n",
      "노트북: 1200000\n",
      "세탁기: 1000000\n",
      "책상: 350000\n",
      "가스레인지: 200000\n"
     ]
    }
   ],
   "source": [
    "# 28차시 \n",
    "\n",
    "# 아래의 상품 딕셔너리 데이터를 가격에 따라 내림차순으로 정렬하는 프로그램을 작성하십시오.\n",
    "# \"TV\": 2000000,\n",
    "# \"냉장고\": 1500000,\n",
    "# \"책상\": 350000,\n",
    "# \"노트북\": 1200000,\n",
    "# \"가스레인지\": 200000,\n",
    "# \"세탁기\": 1000000,\n",
    "\n",
    "# TV: 2000000\n",
    "# 냉장고: 1500000\n",
    "# 노트북: 1200000\n",
    "# 세탁기: 1000000\n",
    "# 책상: 350000\n",
    "# 가스레인지: 200000\n",
    "\n",
    "import operator \n",
    "     \n",
    "a = {\"TV\": 2000000, \"냉장고\": 1500000, \"책상\": 350000, \"노트북\": 1200000, \"가스레인지\": 200000, \"세탁기\": 1000000}\n",
    "a = sorted(a.items(), key=operator.itemgetter(1), reverse = True)\n",
    "\n",
    "for i in range(len(a)) :\n",
    "    print(\"{0}: {1}\" .format(a[i][0], a[i][1]))\n",
    "    \n",
    "# a = {\"TV\": 2000000, \"냉장고\": 1500000, \"책상\": 350000, \"노트북\": 1200000, \"가스레인지\": 200000, \"세탁기\": 1000000}\n",
    "# a = {y: x for x, y in a.items()}\n",
    "# a = sorted(a.items(), reverse = True)\n",
    "\n",
    "# for i in range(len(a)) :\n",
    "#      print(\"{0}: {1}\" .format(a[i][1], a[i][0]))"
   ]
  },
  {
   "cell_type": "code",
   "execution_count": 317,
   "metadata": {},
   "outputs": [
    {
     "name": "stdout",
     "output_type": "stream",
     "text": [
      "{'아메리카노': 1900, '카페모카': 3300, '에스프레소': 1900, '카페라떼': 2500, '카푸치노': 2500, '바닐라라떼': 2900, '헤이즐럿라떼': 2900, '밀크커피': 3300, '샷크린티라떼': 3300}\n",
      "{('샷크린티라떼', 3300), ('밀크커피', 3300), ('카페모카', 3300)}\n"
     ]
    }
   ],
   "source": [
    "# 29차시\n",
    "\n",
    "# 다음 두 딕셔너리 객체를 합쳐 중복된 메뉴가 없는 딕셔너리를 만들고 가격이 3000원 이상인 메뉴를 아래와 같이 출력하는 프로그렘을 작성하십시오.\n",
    "# 중복된 메뉴의 가격이 다를 경우 딕셔너리 a의 가격을 사용하세요.\n",
    "# a = {'아메리카노': 1900, '카페모카': 3300, '에스프레소': 1900, '카페라떼': 2500, '카푸치노': 2500, '바닐라라떼': 2900}\n",
    "# b = {'헤이즐럿라떼': 2900, '카페모카': 3300, '밀크커피': 3300, '아메리카노': 1900, '샷크린티라떼': 3300}\n",
    "\n",
    "# {('카페모카', 3300), ('밀크커피', 3300), ('샷크린티라떼', 3300)}\n",
    "\n",
    "\n",
    "a = {'아메리카노': 1900, '카페모카': 3300, '에스프레소': 1900, '카페라떼': 2500, '카푸치노': 2500, '바닐라라떼': 2900}\n",
    "b = {'헤이즐럿라떼': 2900, '카페모카': 3300, '밀크커피': 3300, '아메리카노': 1900, '샷크린티라떼': 3300}\n",
    "a.update(b)\n",
    "\n",
    "a = {keys:values for keys, values in a.items() if values >= 3000}\n",
    "print(set(a.items()))"
   ]
  },
  {
   "cell_type": "code",
   "execution_count": 79,
   "metadata": {},
   "outputs": [
    {
     "data": {
      "text/plain": [
       "{'apple': 5, 'banana': 6, 'melon': 5}"
      ]
     },
     "execution_count": 79,
     "metadata": {},
     "output_type": "execute_result"
    }
   ],
   "source": [
    "# 30차시\n",
    "\n",
    "# 리스트의 원소를 키로 하고, 그 원소의 length를 값으로 갖는 딕셔너리 객체를 생성하는 코드를 작성해봅시다. 이 때 딕셔너리 내포 기능을 사용하며, 원소의 공백은 제거합니다. \n",
    "# 리스트 fruit는 다음과 같습니다. \n",
    "# fruit = ['   apple    ','banana','  melon'] => {'apple': 5, 'banana': 6, 'melon': 5}\n",
    "\n",
    "fruit = ['   apple    ','banana','  melon']\n",
    "fruit = [x.strip(' ') for x in fruit]\n",
    "\n",
    "{x:len(x) for x in fruit}"
   ]
  },
  {
   "cell_type": "code",
   "execution_count": 3,
   "metadata": {},
   "outputs": [
    {
     "name": "stdin",
     "output_type": "stream",
     "text": [
      " 5\n"
     ]
    },
    {
     "data": {
      "text/plain": [
       "{1: 1, 2: 4, 3: 9, 4: 16, 5: 25}"
      ]
     },
     "execution_count": 3,
     "metadata": {},
     "output_type": "execute_result"
    }
   ],
   "source": [
    "# 31차시\n",
    "\n",
    "# 다음과 같이 정수 N을 입력받아서 1부터 N까지의 정수를 키로 하고, 그 정수의 제곱을 값으로 하는 딕셔너리 객체를 만드는 코드를 작성하십시오.\n",
    "# 5 => {1: 1, 2: 4, 3: 9, 4: 16, 5: 25}\n",
    "\n",
    "num = int(input(\"\"))\n",
    "{x: x**2 for x in range(1, num+1)}"
   ]
  },
  {
   "cell_type": "code",
   "execution_count": 56,
   "metadata": {},
   "outputs": [
    {
     "name": "stdout",
     "output_type": "stream",
     "text": [
      "LETTERS 10\n",
      "DIGITSS 3\n"
     ]
    }
   ],
   "source": [
    "# 32차시\n",
    "\n",
    "# 다음과 같이 사용자가 입력한 문장에서 숫자와 문자를 구별해 각각의 개수를 출력하는 프로그램을 작성하십시오.\n",
    "# hello world! 123  => LETTERS 10 DIGITS 3\n",
    "\n",
    "a = \"hello world! 123\"\n",
    "\n",
    "\n",
    "# let = 0\n",
    "# dig = 0\n",
    "\n",
    "# for i in range(len(a)) : \n",
    "#     if a[i].isalpha() == True :\n",
    "#         let += 1\n",
    "#     elif a[i].isdigit() == True :\n",
    "#         dig += 1\n",
    "        \n",
    "# print(\"LETTERS %d\"%let)\n",
    "# print(\"DIGITS %d\"%dig)\n",
    "\n",
    "b = [x for x in a if x.isalpha() == True]\n",
    "c = [x for x in a if x.isdigit() == True]\n",
    "print(\"LETTERS %d\"%len(b))\n",
    "print(\"DIGITS %d\"%len(c))"
   ]
  },
  {
   "cell_type": "code",
   "execution_count": 59,
   "metadata": {},
   "outputs": [
    {
     "name": "stdout",
     "output_type": "stream",
     "text": [
      "UPPER 2\n",
      "LOWER 8\n"
     ]
    }
   ],
   "source": [
    "# 33차시\n",
    "\n",
    "# 다음과 같이 사용자가 입력한 문장에서 대소문를 구별해 각각의 갯수를 출력하는 프로그램을 작성하십시오.\n",
    "# Hello World! 123 => UPPER CASE 2 LOWER CASE 8\n",
    "\n",
    "a = \"Hello World! 123\"\n",
    "\n",
    "b = [x for x in a if x.isupper() == True]\n",
    "c = [x for x in a if x.islower() == True]\n",
    "print(\"UPPER CASE %d\"%len(b))\n",
    "print(\"LOWER CASE %d\"%len(c))"
   ]
  },
  {
   "cell_type": "code",
   "execution_count": 75,
   "metadata": {},
   "outputs": [
    {
     "name": "stdout",
     "output_type": "stream",
     "text": [
      "{'하이트': 2000, '카스': 2100, '칭따오': 2500, '하이네켄': 4000, '버드와이저': 500}\n",
      "{'하이트': 2100.0, '카스': 2205.0, '칭따오': 2625.0, '하이네켄': 4200.0, '버드와이저': 525.0}\n"
     ]
    }
   ],
   "source": [
    "# 34차시\n",
    "\n",
    "# 다음과 같은 기존의 맥주 가격을 5% 인상하려고 할 경우 딕셔너리 내포 기능을 이용한 코드를 작성하십시오.\n",
    "# beer = {'하이트': 2000, '카스': 2100, '칭따오': 2500, '하이네켄': 4000, '버드와이저': 500}\n",
    "\n",
    "# {'하이트': 2000, '카스': 2100, '칭따오': 2500, '하이네켄': 4000, '버드와이저': 500}            # 인상 전\n",
    "# {'하이트': 2100.0, '카스': 2205.0, '칭따오': 2625.0, '하이네켄': 4200.0, '버드와이저': 525.0}  # 인상 후\n",
    "\n",
    "beer = {'하이트': 2000, '카스': 2100, '칭따오': 2500, '하이네켄': 4000, '버드와이저': 500}\n",
    "print(beer)\n",
    "print({x: y*1.05 for x, y in beer.items()})"
   ]
  },
  {
   "cell_type": "code",
   "execution_count": 23,
   "metadata": {},
   "outputs": [
    {
     "name": "stdout",
     "output_type": "stream",
     "text": [
      "a,2\n",
      "b,2\n",
      "c,2\n",
      "d,1\n",
      "e,1\n",
      "f,1\n",
      "g,1\n"
     ]
    }
   ],
   "source": [
    "# 35차시\n",
    "\n",
    "# 다음의 결과와 같이 입력된 문자열의 문자 빈도수를 구하는 프로그램을 작성하십시오.\n",
    "\n",
    "a = 'abcdefgabc'\n",
    "for i in range(len(set(a))) :\n",
    "    print(\"{0},{1}\".format( a[i], a.count(a[i])) )"
   ]
  },
  {
   "cell_type": "code",
   "execution_count": 325,
   "metadata": {},
   "outputs": [
    {
     "name": "stdout",
     "output_type": "stream",
     "text": [
      "'파이썬은 클래스를 이용해 객체를 생성하는 객체지향 프로그래밍 언어입니다.'\n"
     ]
    },
    {
     "name": "stdin",
     "output_type": "stream",
     "text": [
      "마스킹할 문자열을 입력하세요:  클래스\n",
      "찾을 문자열을 입력하세요:  이용해\n"
     ]
    },
    {
     "name": "stdout",
     "output_type": "stream",
     "text": [
      "[10] ~ [12]\n",
      "파이썬은 클래스를 클래스 객체를 생성하는 객체지향 프로그래밍 언어입니다.\n"
     ]
    }
   ],
   "source": [
    "# 36차시 예제\n",
    "\n",
    "data_str = \"파이썬은 클래스를 이용해 객체를 생성하는 객체지향 프로그래밍 언어입니다.\"\n",
    "print(\"'{0}'\".format(data_str))\n",
    "\n",
    "mask_str = input(\"마스킹할 문자열을 입력하세요: \")\n",
    "find_str = input(\"찾을 문자열을 입력하세요: \")\n",
    "# idx1 = data_str.find(find_str, 0) #기본값 0\n",
    "# idx2 = data_str.find(find_str, 15)\n",
    "# print(idx1, idx2)\n",
    "\n",
    "idx = -1\n",
    "# count = 1\n",
    "while 1:\n",
    "    idx = data_str.find(find_str, idx + 1) #못 찾으면 -1 반환\n",
    "    if idx != -1 :\n",
    "        print(\"[{0}] ~ [{1}]\".format(idx, idx+len(find_str) -1))\n",
    "        new_str = data_str.replace(find_str, mask_str) # count는 바꿀 갯수 정하기\n",
    "        # count += 1\n",
    "        print(new_str)\n",
    "    else :\n",
    "        break     "
   ]
  },
  {
   "cell_type": "code",
   "execution_count": 24,
   "metadata": {},
   "outputs": [
    {
     "name": "stdin",
     "output_type": "stream",
     "text": [
      " abc\n"
     ]
    },
    {
     "name": "stdout",
     "output_type": "stream",
     "text": [
      "cba\n",
      "입력하신 단어는 회문(Palindrome)이 아닙니다.\n"
     ]
    }
   ],
   "source": [
    "# 37차시\n",
    "\n",
    "# 다음의 결과와 같이 회문(앞뒤 어느 쪽에서도 같은 단어, 말) 여부를 판단하는 코드를 작성하십시오.\n",
    "\n",
    "a = input(\"\")\n",
    "\n",
    "if a == a[::-1] :\n",
    "    print(a[::-1])\n",
    "    print(\"입력하신 단어는 회문(Palindrome)입니다.\")\n",
    "else :\n",
    "    print(a[::-1])\n",
    "    print(\"입력하신 단어는 회문(Palindrome)이 아닙니다.\")"
   ]
  },
  {
   "cell_type": "code",
   "execution_count": null,
   "metadata": {},
   "outputs": [],
   "source": [
    "# 38차시\n",
    "\n",
    "# 다음과 같이 문장을 구성하는 단어를 역순으로 출력하는 프로그램을 작성하십시오.\n",
    "# A better tomorrow => tomorrow better A\n",
    "\n",
    "a = input(\"\").split()\n",
    "a = a[::-1]\n",
    "print(\" \".join(list(map(str, a))))"
   ]
  },
  {
   "cell_type": "code",
   "execution_count": 45,
   "metadata": {},
   "outputs": [
    {
     "name": "stdout",
     "output_type": "stream",
     "text": [
      "protocol: http\n",
      "host: www.example.com\n",
      "others: test?p=1&q=2\n"
     ]
    }
   ],
   "source": [
    "# 39차시\n",
    "\n",
    "# 다음의 결과와 같이 임의의 URL 주소를 입력받아 protocol, host, 나머지(path, querystring, ...)로 구분하는 프로그램을 작성하십시오.\n",
    "# http://www.example.com/test?p=1&q=2 => protocol: http   host: www.example.com   others: test?p=1&q=2\n",
    "\n",
    "a = \"http://www.example.com/test?p=1&q=2\"\n",
    "b = [\"protocol\", \"host\", \"others\"]\n",
    "c = a.replace(\":\", \" \").replace(\"/\", \" \").split()\n",
    "for i in range(len(b)) :\n",
    "    print(\"{0}: {1}\".format(b[i], c[i]))"
   ]
  },
  {
   "cell_type": "code",
   "execution_count": 52,
   "metadata": {},
   "outputs": [
    {
     "name": "stdin",
     "output_type": "stream",
     "text": [
      " a\n",
      " b\n",
      " c\n"
     ]
    },
    {
     "name": "stdout",
     "output_type": "stream",
     "text": [
      ">> A\n",
      ">> B\n",
      ">> C\n"
     ]
    }
   ],
   "source": [
    "# 40차시\n",
    "\n",
    "# 다음의 결과와 같이 여러 문장을 입력받아 대문자로 변환해 출력하는 프로그램을 작성합니다. 아무 것도 입력하지 않고 엔터만 입력하면 입력이 종료됩니다.\n",
    "\n",
    "a = []\n",
    "for i in range(3) :\n",
    "    a.append(input(\"\"))\n",
    "for i in range(3) :\n",
    "    print(\">>\", a[i].upper())"
   ]
  },
  {
   "cell_type": "code",
   "execution_count": 71,
   "metadata": {},
   "outputs": [
    {
     "name": "stdout",
     "output_type": "stream",
     "text": [
      "강, 들, 바다, 산, 하늘\n"
     ]
    }
   ],
   "source": [
    "# 41차시\n",
    "\n",
    "# 사용자가 입력한 문장에서 공백을 이용해 단어들을 구분하고, 중복된 단어없이 단어를 콤마(,)로 구분해 사전순으로 출력하는 프로그램을 작성하십시오.\n",
    "# 산 하늘 강 바다 하늘 강 들 => 강,들,바다,산,하늘\n",
    "\n",
    "a = \"산 하늘 강 바다 하늘 강 들\"\n",
    "a = set(a.split(\" \"))\n",
    "a = sorted(a)\n",
    "print(\",\".join(map(str, a)))"
   ]
  },
  {
   "cell_type": "code",
   "execution_count": 72,
   "metadata": {},
   "outputs": [
    {
     "name": "stdout",
     "output_type": "stream",
     "text": [
      "Helloworld\n"
     ]
    }
   ],
   "source": [
    "# 42차시\n",
    "\n",
    "# 다음 결과와 같이 문자열을 입력하면 짝수 인덱스를 가진 문자들을 출력하는 프로그램을 작성하십시오.\n",
    "# H1e2l3l4o5w6o7r8l9d => Helloworld\n",
    "\n",
    "a = \"H1e2l3l4o5w6o7r8l9d\"\n",
    "print(a[::2])"
   ]
  },
  {
   "cell_type": "code",
   "execution_count": 112,
   "metadata": {},
   "outputs": [
    {
     "name": "stdin",
     "output_type": "stream",
     "text": [
      " 89, 90, 100\n"
     ]
    },
    {
     "name": "stdout",
     "output_type": "stream",
     "text": [
      "국어, 영어, 수학의 총점: 279\n"
     ]
    }
   ],
   "source": [
    "# 44차시\n",
    "\n",
    "# 다음의 결과와 같이 국어, 영어, 수학 점수를 입력받아 합계를 구하는 객체지향 코드를 작성하십시오. \n",
    "# 이 때 학생 클래스의 객체는 객체 생성 시 국어, 영어, 수학 점수를 저장하며, 총점을 구하는 메서드를 제공합니다.\n",
    "# 89, 90, 100 => 국어, 영어, 수학의 총점: 279\n",
    "\n",
    "scores = input(\"\").split(\", \")\n",
    "\n",
    "def score(x) :\n",
    "    b = [int(a) for a in x]\n",
    "    return print(\"국어, 영어, 수학의 총점: %d\"%sum(b))\n",
    "\n",
    "score(scores)"
   ]
  },
  {
   "cell_type": "code",
   "execution_count": 177,
   "metadata": {},
   "outputs": [
    {
     "name": "stdout",
     "output_type": "stream",
     "text": [
      "대한민국\n",
      "대한민국\n"
     ]
    }
   ],
   "source": [
    "# 45차시\n",
    "\n",
    "# 국적을 출력하는 printNationality 정적 메서드를 갖는 Korean 클래스를 정의하고 메서드를 호출하는 코드를 작성해봅시다.\n",
    "\n",
    "\n",
    "\n",
    "class Korean :\n",
    "\n",
    "    @staticmethod\n",
    "    def printNationality():\n",
    "        print('대한민국')\n",
    "        print('대한민국')\n",
    "        \n",
    "Korean.printNationality()"
   ]
  },
  {
   "cell_type": "code",
   "execution_count": 34,
   "metadata": {},
   "outputs": [
    {
     "name": "stdout",
     "output_type": "stream",
     "text": [
      "이름: {student_name}\n",
      "이름: 이순신, 전공: 컴퓨터\n"
     ]
    }
   ],
   "source": [
    "# 46차시\n",
    "\n",
    "# name 프로퍼티를 가진 Student를 부모 클래스로, major 프로퍼티를 가진 GraduateStudent 자식 클래스를 정의하고, 이 클래스의 객체를 다음과 같이 문자열로 출력하는 코드를 작성하십시오.\n",
    "# 이름: 홍길동\n",
    "# 이름: 이순신, 전공: 컴퓨터\n",
    "\n",
    "class Student:\n",
    "    def __init__(self):\n",
    "        self.__name = \"홍길동\"\n",
    "        \n",
    "    @property\n",
    "    def name(self):\n",
    "        return self.__name\n",
    "\n",
    "class GraduateStudent(Student):\n",
    "    \n",
    "    def __init__(self):\n",
    "        self.__name = \"이순신\"\n",
    "        self.__majority = \"컴퓨터\"\n",
    "    \n",
    "    @property\n",
    "    def name(self):\n",
    "        return self.__name\n",
    "    \n",
    "    @property\n",
    "    def majority(self):\n",
    "        return self.__majority\n",
    "\n",
    "student = Student()\n",
    "graduatestudent = GraduateStudent()\n",
    "\n",
    "student_name = student.name\n",
    "\n",
    "graduatestudent_name = graduatestudent.name\n",
    "graduatestudent_major = graduatestudent.majority\n",
    "\n",
    "print(f\"이름: {student_name}\")\n",
    "print(\"이름: {0}, 전공: {1}\".format(graduatestudent_name, graduatestudent_major))"
   ]
  },
  {
   "cell_type": "code",
   "execution_count": 35,
   "metadata": {},
   "outputs": [
    {
     "name": "stdout",
     "output_type": "stream",
     "text": [
      "원의 면적: 12.56\n"
     ]
    }
   ],
   "source": [
    "# 47차시\n",
    "\n",
    "# 반지름 정보를 갖고, 원의 면적을 계산하는 메서드를 갖는 Circle 클래스를 정의하고, 생성한 객체의 원의 면적을 출력하는 프로그램을 작성하십시오.\n",
    "# 원의 면적: 12.56\n",
    "\n",
    "class Circle :\n",
    "        \n",
    "    @staticmethod\n",
    "    def area(self):\n",
    "        return f\"원의 면적: {int(self) * 2 * 3.14}\"\n",
    "\n",
    "c = Circle()\n",
    "c_area = c.area(2)\n",
    "print(c_area)"
   ]
  },
  {
   "cell_type": "code",
   "execution_count": 37,
   "metadata": {},
   "outputs": [
    {
     "name": "stdout",
     "output_type": "stream",
     "text": [
      "사각형의 면적: 20\n"
     ]
    }
   ],
   "source": [
    "# 48차시\n",
    "\n",
    "# 가로, 세로 정보을 갖고, 사각형의 면적을 계산하는 메서드를 갖는 Rectangle 클래스를 정의하고, 생성한 객체의 사각형의 면적을 출력하는 프로그램을 작성하십시오.\n",
    "# 사각형의 면적: 20\n",
    "\n",
    "class Rectangle :\n",
    "        \n",
    "    @staticmethod\n",
    "    def area(x, y):\n",
    "        return f\"사각형의 면적: {int(x) * int(y) }\"\n",
    "\n",
    "d = Rectangle()\n",
    "d_area = d.area(4, 5)\n",
    "print(d_area)"
   ]
  },
  {
   "cell_type": "code",
   "execution_count": 51,
   "metadata": {},
   "outputs": [
    {
     "name": "stdout",
     "output_type": "stream",
     "text": [
      "정사각형의 면적: 9\n"
     ]
    }
   ],
   "source": [
    "# 49차시\n",
    "\n",
    "# Shape를 부모 클래스로 Square 자식 클래스를 정의하는 코드를 작성하십시오. Square 클래스는 length 필드를 가지며, \n",
    "# 0을 반환하는 Shape 클래스의 area 메서드를, # length * length 값을 반환하는 메서드로 오버라이딩합니다.\n",
    "\n",
    "class Shape:\n",
    "    \n",
    "    def __init__(self, x, y):\n",
    "        self.Length = int(x)\n",
    "        self.Height = int(y)\n",
    "    \n",
    "    @classmethod\n",
    "    def area(cls, x, y) :\n",
    "        return 0\n",
    "\n",
    "class Square(Shape):\n",
    "    \n",
    "    def area(self, x, y) :\n",
    "        return f\"정사각형의 면적: {self.Length * self.Length}\"\n",
    "        \n",
    "        \n",
    "s = Square(3, 0)\n",
    "s_area = s.area(3, 0)\n",
    "print(s_area)"
   ]
  },
  {
   "cell_type": "code",
   "execution_count": null,
   "metadata": {},
   "outputs": [],
   "source": [
    "# 50차시\n",
    "\n",
    "# Person를 부모 클래스로 Male, Female 자식 클래스를 정의하는 코드를 작성하십시오. \"Unknown\"을 반환하는 Person 클래스의 getGender 메서드를 Male 클래스와 Female 클래스는\n",
    "# \"Male\", \"Female\" 값을 반환하는 메서드로 오버라이딩합니다.\n",
    "\n"
   ]
  }
 ],
 "metadata": {
  "kernelspec": {
   "display_name": "Python 3",
   "language": "python",
   "name": "python3"
  },
  "language_info": {
   "codemirror_mode": {
    "name": "ipython",
    "version": 3
   },
   "file_extension": ".py",
   "mimetype": "text/x-python",
   "name": "python",
   "nbconvert_exporter": "python",
   "pygments_lexer": "ipython3",
   "version": "3.7.3"
  }
 },
 "nbformat": 4,
 "nbformat_minor": 2
}
