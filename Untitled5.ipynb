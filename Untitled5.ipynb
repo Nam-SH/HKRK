{
 "cells": [
  {
   "cell_type": "code",
   "execution_count": 8,
   "metadata": {},
   "outputs": [
    {
     "name": "stdout",
     "output_type": "stream",
     "text": [
      "dict_keys(['Mary', 'Sams', 'Aimy', 'Tom', 'Michale', 'Bob', 'Kelly'])\n",
      "dict_values([10999, 2111, 9778, 20245, 27115, 5887, 7855])\n",
      "Mary\n",
      "Sams\n",
      "Aimy\n",
      "Tom\n",
      "Michale\n",
      "Bob\n",
      "Kelly\n",
      "10999\n",
      "2111\n",
      "9778\n",
      "20245\n",
      "27115\n",
      "5887\n",
      "7855\n",
      "('Mary', 10999)\n",
      "('Sams', 2111)\n",
      "('Aimy', 9778)\n",
      "('Tom', 20245)\n",
      "('Michale', 27115)\n",
      "('Bob', 5887)\n",
      "('Kelly', 7855)\n"
     ]
    }
   ],
   "source": [
    "names = {'Mary':10999, 'Sams':2111, 'Aimy':9778, 'Tom':20245, 'Michale':27115, 'Bob':5887, 'Kelly':7855}\n",
    "\n",
    "ks = names.keys()\n",
    "vals = names.values()\n",
    "\n",
    "print(ks)\n",
    "print(vals)\n",
    "\n",
    "for keys in ks :\n",
    "    print(keys)\n",
    "    \n",
    "for values in vals:\n",
    "    print(values)\n",
    "    \n",
    "\n",
    "items = names.items()\n",
    "\n",
    "for item in items :\n",
    "    print(item)"
   ]
  },
  {
   "cell_type": "code",
   "execution_count": 12,
   "metadata": {},
   "outputs": [
    {
     "name": "stdout",
     "output_type": "stream",
     "text": [
      "이름을 입력하시오:dd\n",
      "자료에 <dd>인 이름이 존재하지 않아염 ㅆㅂ\n"
     ]
    },
    {
     "ename": "TypeError",
     "evalue": "argument of type 'type' is not iterable",
     "output_type": "error",
     "traceback": [
      "\u001b[1;31m---------------------------------------------------------------------------\u001b[0m",
      "\u001b[1;31mTypeError\u001b[0m                                 Traceback (most recent call last)",
      "\u001b[1;32m<ipython-input-12-02424a1ee6d8>\u001b[0m in \u001b[0;36m<module>\u001b[1;34m\u001b[0m\n\u001b[0;32m      7\u001b[0m     \u001b[0mprint\u001b[0m\u001b[1;33m(\u001b[0m\u001b[1;34m'자료에 <%s>인 이름이 존재하지 않아염 ㅆㅂ'\u001b[0m\u001b[1;33m%\u001b[0m\u001b[1;33m(\u001b[0m\u001b[0mk\u001b[0m\u001b[1;33m)\u001b[0m\u001b[1;33m)\u001b[0m\u001b[1;33m\u001b[0m\u001b[1;33m\u001b[0m\u001b[0m\n\u001b[0;32m      8\u001b[0m \u001b[1;33m\u001b[0m\u001b[0m\n\u001b[1;32m----> 9\u001b[1;33m \u001b[0mk\u001b[0m \u001b[1;32min\u001b[0m \u001b[0mdict\u001b[0m\u001b[1;33m\u001b[0m\u001b[1;33m\u001b[0m\u001b[0m\n\u001b[0m",
      "\u001b[1;31mTypeError\u001b[0m: argument of type 'type' is not iterable"
     ]
    }
   ],
   "source": [
    "names = {'Mary':10999, 'Sams':2111, 'Aimy':9778, 'Tom':20245, 'Michale':27115, 'Bob':5887, 'Kelly':7855}\n",
    "\n",
    "k = input('이름을 입력하시오:')\n",
    "if k in names:\n",
    "    print('이름이 <%s>인 출생아 수는 <%d>명입니다.'%(k, names[k]))\n",
    "else :\n",
    "    print('자료에 <%s>인 이름이 존재하지 않아염 ㅆㅂ'%(k))"
   ]
  },
  {
   "cell_type": "code",
   "execution_count": 26,
   "metadata": {},
   "outputs": [
    {
     "ename": "TypeError",
     "evalue": "argument of type 'type' is not iterable",
     "output_type": "error",
     "traceback": [
      "\u001b[1;31m---------------------------------------------------------------------------\u001b[0m",
      "\u001b[1;31mTypeError\u001b[0m                                 Traceback (most recent call last)",
      "\u001b[1;32m<ipython-input-26-5f22790c134f>\u001b[0m in \u001b[0;36m<module>\u001b[1;34m\u001b[0m\n\u001b[1;32m----> 1\u001b[1;33m \u001b[0mk\u001b[0m \u001b[1;32min\u001b[0m \u001b[0mdict\u001b[0m\u001b[1;33m\u001b[0m\u001b[1;33m\u001b[0m\u001b[0m\n\u001b[0m",
      "\u001b[1;31mTypeError\u001b[0m: argument of type 'type' is not iterable"
     ]
    }
   ],
   "source": [
    "k in dict"
   ]
  },
  {
   "cell_type": "code",
   "execution_count": 28,
   "metadata": {},
   "outputs": [
    {
     "name": "stdout",
     "output_type": "stream",
     "text": [
      "주어진 값이 있어염\n"
     ]
    }
   ],
   "source": [
    "if 2111 in names.values():\n",
    "    print('주어진 값이 있어염')\n",
    "else :\n",
    "    print('주어진 값이 없어염')"
   ]
  },
  {
   "cell_type": "code",
   "execution_count": 34,
   "metadata": {},
   "outputs": [
    {
     "data": {
      "text/plain": [
       "['Aimy', 'Bob', 'Kelly', 'Mary', 'Michale', 'Sams', 'Tom']"
      ]
     },
     "execution_count": 34,
     "metadata": {},
     "output_type": "execute_result"
    }
   ],
   "source": [
    "sorted(names)"
   ]
  },
  {
   "cell_type": "code",
   "execution_count": 57,
   "metadata": {},
   "outputs": [
    {
     "name": "stdout",
     "output_type": "stream",
     "text": [
      "['Aimy', 'Bob', 'Kelly', 'Mary', 'Michale', 'Sams', 'Tom']\n",
      "dict_items([('Mary', 10999), ('Sams', 2111), ('Aimy', 9778), ('Tom', 20245), ('Michale', 27115), ('Bob', 5887), ('Kelly', 7855)])\n",
      "[('Aimy', 9778), ('Bob', 5887), ('Kelly', 7855), ('Mary', 10999), ('Michale', 27115), ('Sams', 2111), ('Tom', 20245)]\n",
      "[('Sams', 2111), ('Bob', 5887), ('Kelly', 7855), ('Aimy', 9778), ('Mary', 10999), ('Tom', 20245), ('Michale', 27115)]\n"
     ]
    }
   ],
   "source": [
    "names = {'Mary':10999, 'Sams':2111, 'Aimy':9778, 'Tom':20245, 'Michale':27115, 'Bob':5887, 'Kelly':7855}\n",
    "\n",
    "ret1 = sorted(names)\n",
    "print(ret1)\n",
    "\n",
    "print(names.items())\n",
    "\n",
    "def f1(x):\n",
    "    return x[0]\n",
    "\n",
    "def f2(x):\n",
    "    return x[1]\n",
    "\n",
    "ret2 = sorted(names.items(), key=f1)\n",
    "print(ret2)\n",
    "\n",
    "ret3 = sorted(names.items(), key=f2)\n",
    "print(ret3)"
   ]
  },
  {
   "cell_type": "code",
   "execution_count": 43,
   "metadata": {},
   "outputs": [
    {
     "name": "stdout",
     "output_type": "stream",
     "text": [
      "문자를 1개 입력하시오:자장면\n",
      "문자: 자 \t 코드값:51088[0xc790]\n"
     ]
    }
   ],
   "source": [
    "ch = input('문자를 1개 입력하시오:')\n",
    "if len(ch)!=0:\n",
    "    ch = ch[0]\n",
    "    chv = ord(ch)\n",
    "    print('문자: %s \\t 코드값:%d[%s]'%(ch, chv, hex(chv)))"
   ]
  },
  {
   "cell_type": "code",
   "execution_count": null,
   "metadata": {},
   "outputs": [],
   "source": []
  },
  {
   "cell_type": "code",
   "execution_count": 46,
   "metadata": {},
   "outputs": [
    {
     "name": "stdout",
     "output_type": "stream",
     "text": [
      "문자를 입력하시오가\n",
      "문자: 가 \t 코드값 44032[16진법: 0xac00, 8진법: 0o126000, 2진법: 0b1010110000000000]\n"
     ]
    }
   ],
   "source": [
    "ch = input('문자를 입력하시오')\n",
    "\n",
    "if len(ch) != 0:\n",
    "    ch = ch[0]\n",
    "    chv = ord(ch)\n",
    "    print('문자: %s \\t 코드값 %d[16진법: %s, 8진법: %s, 2진법: %s]'%(ch, chv, hex(chv), oct(chv), bin(chv)))"
   ]
  },
  {
   "cell_type": "code",
   "execution_count": 51,
   "metadata": {},
   "outputs": [
    {
     "name": "stdout",
     "output_type": "stream",
     "text": [
      "문자 코드값을 입력하세요:15\n",
      "코드값: 15[0xf], 문자: \u000f\n"
     ]
    }
   ],
   "source": [
    "val = input('문자 코드값을 입력하세요:')\n",
    "val = int(val)\n",
    "try: \n",
    "    ch = chr(val)\n",
    "    \n",
    "    print('코드값: %d[%s], 문자: %s'%(val, hex(val), ch))\n",
    "except ValueError :\n",
    "    print('입력한 <%d>에 대한 문자가 존재하지 않습니다.!'%val)"
   ]
  },
  {
   "cell_type": "code",
   "execution_count": 53,
   "metadata": {
    "scrolled": true
   },
   "outputs": [
    {
     "name": "stdout",
     "output_type": "stream",
     "text": [
      "2+3\n",
      "round(3.7)\n",
      "<2+3>를 eval()로 실행한 결과:5\n",
      "<round(3.7)>를 eval()로 실행한 결과:4\n"
     ]
    }
   ],
   "source": [
    "expr1 = '2+3'\n",
    "expr2 = 'round(3.7)'\n",
    "\n",
    "ret1 = eval(expr1)\n",
    "ret2 = eval(expr2)\n",
    "\n",
    "print(expr1)\n",
    "print(expr2)\n",
    "\n",
    "print('<%s>를 eval()로 실행한 결과:'%expr1, end=''); print(ret1)\n",
    "print('<%s>를 eval()로 실행한 결과:'%expr2, end=''); print(ret2)"
   ]
  },
  {
   "cell_type": "code",
   "execution_count": 55,
   "metadata": {},
   "outputs": [
    {
     "name": "stdout",
     "output_type": "stream",
     "text": [
      "4\n",
      "intro.pptx\n",
      "Report.docx\n",
      "[('Aimy', 9778), ('Bob', 5887), ('Kelly', 7855), ('Mary', 10999), ('Michale', 27115), ('Sams', 2111), ('Tom', 20245)]\n"
     ]
    }
   ],
   "source": [
    "add = lambda x, y:x+y\n",
    "ret = add(1,3)\n",
    "print(ret)\n",
    "\n",
    "funcs = [lambda x:x+'.pptx', lambda x: x+'.docx']\n",
    "ret1 = funcs[0]('intro')\n",
    "ret2 = funcs[1]('Report')\n",
    "print(ret1)\n",
    "print(ret2)\n",
    "\n",
    "names = {'Mary':10999, 'Sams':2111, 'Aimy':9778, 'Tom':20245, 'Michale':27115, 'Bob':5887, 'Kelly':7855}\n",
    "ret3  = sorted(names.items(), key=lambda x:x[0])\n",
    "print(ret3)"
   ]
  },
  {
   "cell_type": "code",
   "execution_count": 58,
   "metadata": {},
   "outputs": [
    {
     "name": "stdout",
     "output_type": "stream",
     "text": [
      "[1, 4, 9, 16, 25]\n"
     ]
    }
   ],
   "source": [
    "f = lambda x: x*x\n",
    "args = [1,2,3,4,5]\n",
    "ret = map(f, args)\n",
    "print(list(ret))"
   ]
  },
  {
   "cell_type": "code",
   "execution_count": 103,
   "metadata": {},
   "outputs": [
    {
     "name": "stdout",
     "output_type": "stream",
     "text": [
      "\n"
     ]
    }
   ],
   "source": [
    "f = open('C://jupyter/06000238/stockcode.txt', 'r')\n",
    "\n",
    "data = f.read()\n",
    "print(data)\n",
    "f.close()"
   ]
  },
  {
   "cell_type": "code",
   "execution_count": 81,
   "metadata": {},
   "outputs": [],
   "source": [
    "f = open('C://jupyter/06000238/stockcode.txt', 'r')\n",
    "line_num=1\n",
    "\n",
    "line = f.readline()\n",
    "while line:\n",
    "    print('%d %s'%(line_num, line), end='')\n",
    "    line = f.readline()\n",
    "    line_num += 1\n",
    "\n",
    "f.close()"
   ]
  },
  {
   "cell_type": "code",
   "execution_count": 104,
   "metadata": {},
   "outputs": [],
   "source": [
    "f = open('C://jupyter/06000238/stockcode.txt', 'r')\n",
    "line_num = 1\n",
    "line = f.readline()\n",
    "while line:\n",
    "   print('%d %s' %(line_num, line), end='')\n",
    "   line = f.readline()\n",
    "   line_num += 1\n",
    "f.close()"
   ]
  }
 ],
 "metadata": {
  "kernelspec": {
   "display_name": "Python 3",
   "language": "python",
   "name": "python3"
  },
  "language_info": {
   "codemirror_mode": {
    "name": "ipython",
    "version": 3
   },
   "file_extension": ".py",
   "mimetype": "text/x-python",
   "name": "python",
   "nbconvert_exporter": "python",
   "pygments_lexer": "ipython3",
   "version": "3.7.3"
  }
 },
 "nbformat": 4,
 "nbformat_minor": 2
}
