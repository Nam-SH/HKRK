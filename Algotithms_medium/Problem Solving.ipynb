{
 "cells": [
  {
   "cell_type": "markdown",
   "metadata": {},
   "source": [
    "# 1. Forming a Magic Square\n",
    "\n",
    "<br>\n",
    "\n",
    "![image](https://user-images.githubusercontent.com/50367487/62420973-c6bbda80-b6d5-11e9-8e16-5d803ee198e4.png)"
   ]
  },
  {
   "cell_type": "code",
   "execution_count": null,
   "metadata": {},
   "outputs": [],
   "source": [
    "#!/bin/python3\n",
    "import math\n",
    "import os\n",
    "import random\n",
    "import re\n",
    "import sys\n",
    "\n",
    "# Complete the formingMagicSquare function below.\n",
    "def formingMagicSquare(s):\n",
    "    \n",
    "    all_p = [[[8, 1, 6], [3, 5, 7], [4, 9, 2]],\n",
    "         [[6, 1, 8], [7, 5, 3], [2, 9, 4]],\n",
    "         [[4, 9, 2], [3, 5, 7], [8, 1, 6]],\n",
    "         [[2, 9, 4], [7, 5, 3], [6, 1, 8]], \n",
    "         [[8, 3, 4], [1, 5, 9], [6, 7, 2]],\n",
    "         [[4, 3, 8], [9, 5, 1], [2, 7, 6]], \n",
    "         [[6, 7, 2], [1, 5, 9], [8, 3, 4]], \n",
    "         [[2, 7, 6], [9, 5, 1], [4, 3, 8]],]\n",
    "\n",
    "    diffs = []\n",
    "    for p in all_p:\n",
    "        cost = 0\n",
    "        for i, j in list(zip(s, p)):\n",
    "            for ii, jj in (list(zip(i, j))):\n",
    "                if ii != jj:\n",
    "                    cost += abs(ii - jj)\n",
    "        diffs.append(cost)\n",
    "\n",
    "    return min(diffs)\n",
    "\n",
    "if __name__ == '__main__':\n",
    "    fptr = open(os.environ['OUTPUT_PATH'], 'w')\n",
    "\n",
    "    s = []\n",
    "\n",
    "    for _ in range(3):\n",
    "        s.append(list(map(int, input().rstrip().split())))\n",
    "\n",
    "    result = formingMagicSquare(s)\n",
    "\n",
    "    fptr.write(str(result) + '\\n')\n",
    "\n",
    "    fptr.close()"
   ]
  },
  {
   "cell_type": "markdown",
   "metadata": {},
   "source": [
    "# 2. Picking Numbers\n",
    "\n",
    "<br>\n",
    "\n",
    "![image](https://user-images.githubusercontent.com/50367487/62421726-4dc28000-b6e1-11e9-99c6-34c4458c8a8f.png)"
   ]
  },
  {
   "cell_type": "code",
   "execution_count": null,
   "metadata": {},
   "outputs": [],
   "source": [
    "def pickingNumbers(s):\n",
    "\n",
    "    s = sorted(s)\n",
    "    res = []\n",
    "    for i in range(n-1):\n",
    "        sub = [s[i]]\n",
    "        for j in range(i+1, n):\n",
    "            if abs(s[i] - s[j]) <= 1:\n",
    "                sub.append(s[j])\n",
    "        res.append(sub)\n",
    "        \n",
    "    MAX = len(res[0])\n",
    "    for i in res:\n",
    "        if MAX < len(i):\n",
    "            MAX = len(i)\n",
    "            \n",
    "    return MAX\n",
    "\n",
    "n = int(input().strip())\n",
    "s = list(map(int, input().rstrip().split()))\n",
    "pickingNumbers(s)"
   ]
  },
  {
   "cell_type": "code",
   "execution_count": null,
   "metadata": {},
   "outputs": [],
   "source": [
    "def pickingNumbers(s):\n",
    "\n",
    "    MAX = 0\n",
    "    for i in s:\n",
    "        b = s.count(i)\n",
    "        c = s.count(i-1)\n",
    "        d = b + c\n",
    "        if MAX < d:\n",
    "            MAX = d\n",
    "\n",
    "    return MAX\n",
    "\n",
    "n = int(input().strip())\n",
    "s = list(map(int, input().rstrip().split()))\n",
    "pickingNumbers(s)"
   ]
  },
  {
   "cell_type": "markdown",
   "metadata": {},
   "source": [
    "# 3. Climbing the Leaderboard\n",
    "\n",
    "\n",
    "<br>\n",
    "\n",
    "![image](https://user-images.githubusercontent.com/50367487/62422049-36869100-b6e7-11e9-8f2d-0ee976f3208d.png)"
   ]
  },
  {
   "cell_type": "code",
   "execution_count": null,
   "metadata": {},
   "outputs": [],
   "source": [
    "import math\n",
    "import os\n",
    "import random\n",
    "import re\n",
    "import sys"
   ]
  },
  {
   "cell_type": "code",
   "execution_count": null,
   "metadata": {
    "code_folding": []
   },
   "outputs": [],
   "source": [
    "def climbingLeaderboard(scores, alice):\n",
    "    scores = list(sorted(set(scores), reverse = True))\n",
    "    a = len(alice) - 1\n",
    "    s = 0\n",
    "    res = []\n",
    "\n",
    "    while a >= 0:\n",
    "        if s == len(scores) or scores[s] <= alice[a]:\n",
    "            res.append(s + 1)\n",
    "            a -= 1\n",
    "        else:\n",
    "            s += 1\n",
    "            \n",
    "    return reversed(res)"
   ]
  },
  {
   "cell_type": "code",
   "execution_count": null,
   "metadata": {},
   "outputs": [],
   "source": [
    "if __name__ == '__main__':\n",
    "    fptr = open(os.environ['OUTPUT_PATH'], 'w')\n",
    "\n",
    "    scores_count = int(input())\n",
    "\n",
    "    scores = list(map(int, input().rstrip().split()))\n",
    "\n",
    "    alice_count = int(input())\n",
    "\n",
    "    alice = list(map(int, input().rstrip().split()))\n",
    "\n",
    "    result = climbingLeaderboard(scores, alice)\n",
    "\n",
    "    fptr.write('\\n'.join(map(str, result)))\n",
    "    fptr.write('\\n')\n",
    "\n",
    "    fptr.close()"
   ]
  },
  {
   "cell_type": "code",
   "execution_count": null,
   "metadata": {
    "code_folding": []
   },
   "outputs": [],
   "source": [
    "####초기 코드(시간 초과)\n",
    "\n",
    "def climbingLeaderboard(scores, alice):\n",
    "\n",
    "    scores = list((sorted(set(scores), reveresd = True)))\n",
    "    \n",
    "    res = []\n",
    "    for a in alice:\n",
    "        for idx, s in enumerate(scores):\n",
    "            if a < scores[-1]:\n",
    "                res.append(len(scores)+1)\n",
    "                break\n",
    "                \n",
    "            if a >= s:\n",
    "                res.append(idx + 1)\n",
    "                break\n",
    "                  \n",
    "    return res"
   ]
  },
  {
   "cell_type": "markdown",
   "metadata": {},
   "source": [
    "# Extra Long Factorials\n",
    "\n",
    "\n",
    "<br>\n",
    "\n",
    "![image](https://user-images.githubusercontent.com/50367487/62524474-aaa07080-b870-11e9-9767-d1fe5fd2e041.png)"
   ]
  },
  {
   "cell_type": "code",
   "execution_count": 1,
   "metadata": {},
   "outputs": [],
   "source": [
    "def extraLongFactorials(n):\n",
    "    return 1 if n == 1 else n * extraLongFactorials(n-1)"
   ]
  },
  {
   "cell_type": "code",
   "execution_count": 2,
   "metadata": {},
   "outputs": [
    {
     "data": {
      "text/plain": [
       "6"
      ]
     },
     "execution_count": 2,
     "metadata": {},
     "output_type": "execute_result"
    }
   ],
   "source": [
    "extraLongFactorials(3)"
   ]
  }
 ],
 "metadata": {
  "kernelspec": {
   "display_name": "Python 3",
   "language": "python",
   "name": "python3"
  },
  "language_info": {
   "codemirror_mode": {
    "name": "ipython",
    "version": 3
   },
   "file_extension": ".py",
   "mimetype": "text/x-python",
   "name": "python",
   "nbconvert_exporter": "python",
   "pygments_lexer": "ipython3",
   "version": "3.7.3"
  },
  "toc": {
   "base_numbering": 1,
   "nav_menu": {},
   "number_sections": true,
   "sideBar": true,
   "skip_h1_title": false,
   "title_cell": "Table of Contents",
   "title_sidebar": "Contents",
   "toc_cell": false,
   "toc_position": {},
   "toc_section_display": true,
   "toc_window_display": false
  }
 },
 "nbformat": 4,
 "nbformat_minor": 4
}
