{
 "cells": [
  {
   "cell_type": "markdown",
   "metadata": {},
   "source": [
    "# Day_28. RegEx, Patterns, and Intro to valbases\n",
    "\n",
    "\n",
    "<br>\n",
    "\n",
    "![image](https://user-images.githubusercontent.com/50367487/63218444-f23eca80-c195-11e9-87bb-dca4f4b4eb89.png)"
   ]
  },
  {
   "cell_type": "code",
   "execution_count": null,
   "metadata": {},
   "outputs": [],
   "source": [
    "first_lst = []\n",
    "\n",
    "for n in range(int(input())):\n",
    "\n",
    "    first, rest = input().split()\n",
    "    domain = rest[rest.index('@'):]\n",
    "    if domain != '@gmail.com': continue\n",
    "\n",
    "    first_lst += [first]\n",
    "\n",
    "for i in sorted(first_lst): print(i)"
   ]
  }
 ],
 "metadata": {
  "kernelspec": {
   "display_name": "Python 3",
   "language": "python",
   "name": "python3"
  },
  "language_info": {
   "codemirror_mode": {
    "name": "ipython",
    "version": 3
   },
   "file_extension": ".py",
   "mimetype": "text/x-python",
   "name": "python",
   "nbconvert_exporter": "python",
   "pygments_lexer": "ipython3",
   "version": "3.7.4"
  }
 },
 "nbformat": 4,
 "nbformat_minor": 4
}
