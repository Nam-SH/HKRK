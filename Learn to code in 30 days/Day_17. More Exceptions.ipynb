{
 "cells": [
  {
   "cell_type": "markdown",
   "metadata": {},
   "source": [
    "# Day_17. More Exceptions\n",
    "\n",
    "<br> \n",
    "\n",
    "![image](https://user-images.githubusercontent.com/50367487/62466746-09aca980-b7cd-11e9-9efa-6c814337533c.png)"
   ]
  },
  {
   "cell_type": "code",
   "execution_count": null,
   "metadata": {},
   "outputs": [],
   "source": [
    "class Calculator():\n",
    "    def power(self, n, p):\n",
    "        if n < 0 or p < 0:\n",
    "            return 'n and p should be non-negative'    \n",
    "        return f'{n ** p}'\n",
    "    \n",
    "    \n",
    "calc = Calculator()\n",
    "\n",
    "\n",
    "for _ in range(int(input())):\n",
    "    n, p = map(int, input().split())\n",
    "    \n",
    "    try:\n",
    "        ans = calc.power(n, p)\n",
    "        print(ans)\n",
    "    \n",
    "    except Exception as e:\n",
    "        print(e)   "
   ]
  }
 ],
 "metadata": {
  "kernelspec": {
   "display_name": "Python 3",
   "language": "python",
   "name": "python3"
  },
  "language_info": {
   "codemirror_mode": {
    "name": "ipython",
    "version": 3
   },
   "file_extension": ".py",
   "mimetype": "text/x-python",
   "name": "python",
   "nbconvert_exporter": "python",
   "pygments_lexer": "ipython3",
   "version": "3.7.4"
  }
 },
 "nbformat": 4,
 "nbformat_minor": 4
}
