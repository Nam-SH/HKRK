{
 "cells": [
  {
   "cell_type": "markdown",
   "metadata": {},
   "source": [
    "# Day_3. Intro to Conditional Statements\n",
    "\n",
    "<br> \n",
    "\n",
    "`Task `\n",
    "\n",
    "Given an integer, `n`, perform the following conditional actions:\n",
    "```\n",
    "If `n` is odd, print Weird\n",
    "If `n` is even and in the inclusive range of `2` to `5`, print Not Weird\n",
    "If `n` is even and in the inclusive range of `6` to `20`, print Weird\n",
    "If `n` is even and greater than `20`, print Not Weird\n",
    "Complete the stub code provided in your editor to print whether or not `n` is weird.\n",
    "```\n",
    "\n",
    "`Input Format`\n",
    "\n",
    "A single line containing a positive integer, `n`.\n",
    "\n",
    "`Constraints`\n",
    "\n",
    "```\n",
    "1 <= n <= 100\n",
    "```\n",
    "\n",
    "`Output Format`\n",
    "\n",
    "Print Weird if the number is weird; otherwise, print Not Weird.\n",
    "\n",
    "`Sample Input 0`\n",
    "```\n",
    "3\n",
    "```\n",
    "`Sample Output 0`\n",
    "```\n",
    "Weird\n",
    "```\n",
    "`Sample Input 1`\n",
    "```\n",
    "24\n",
    "```\n",
    "`Sample Output 1`\n",
    "```\n",
    "Not Weird\n",
    "```\n",
    "`Explanation`\n",
    "\n",
    "Sample Case 0: `n=3`\n",
    "`n` is odd and odd numbers are weird, so we print Weird.\n",
    "\n",
    "Sample Case 1: `n=24`\n",
    "`n>2-` and `n` is even, so it isn't weird. Thus, we print Not Weird."
   ]
  },
  {
   "cell_type": "code",
   "execution_count": null,
   "metadata": {},
   "outputs": [],
   "source": [
    "def WorNW(N):\n",
    "    \n",
    "    if N % 2:\n",
    "        return 'Weird'\n",
    "    else:\n",
    "        if 2 <= N <= 5:\n",
    "            return 'Not Weird'\n",
    "        elif 6 <= N <= 20:\n",
    "            return 'Weird'\n",
    "        else:\n",
    "            return 'Not Weird'\n",
    "        \n",
    "        \n",
    "N = int(input())\n",
    "\n",
    "print(WorNW(N))"
   ]
  }
 ],
 "metadata": {
  "kernelspec": {
   "display_name": "Python 3",
   "language": "python",
   "name": "python3"
  },
  "language_info": {
   "codemirror_mode": {
    "name": "ipython",
    "version": 3
   },
   "file_extension": ".py",
   "mimetype": "text/x-python",
   "name": "python",
   "nbconvert_exporter": "python",
   "pygments_lexer": "ipython3",
   "version": "3.7.4"
  }
 },
 "nbformat": 4,
 "nbformat_minor": 4
}
