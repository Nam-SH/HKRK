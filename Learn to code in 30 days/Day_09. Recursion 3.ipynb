{
 "cells": [
  {
   "cell_type": "markdown",
   "metadata": {},
   "source": [
    "# Day_9. Recursion 3\n",
    "\n",
    "<br> \n",
    "\n",
    "Recursive Method for Calculating Factorial: \n",
    "\n",
    "\n",
    "![image](https://user-images.githubusercontent.com/50367487/62001124-dd858e80-b123-11e9-8d67-6957d9ac851c.png)\n",
    "\n",
    "\n",
    "`Task`\n",
    "Write a factorial function that takes a positive integer, `N` as a parameter and prints the result of `N!` (`N` factorial).\n",
    "\n",
    "Note: If you fail to use recursion or fail to name your recursive function factorial or Factorial, you will get a score of `0`.\n",
    "\n",
    "`Input Format`\n",
    "\n",
    "A single integer, `N` (the argument to pass to factorial).\n",
    "\n",
    "`Constraints`\n",
    "- 2 <= N <= 12\n",
    "- Your submission must contain a recursive function named factorial.\n",
    "\n",
    "`Output Format`\n",
    "\n",
    "Print a single integer denoting `N!`.\n",
    "\n",
    "`Sample Input`\n",
    "```\n",
    "3\n",
    "```\n",
    "`Sample Output`\n",
    "```\n",
    "6\n",
    "```"
   ]
  },
  {
   "cell_type": "code",
   "execution_count": null,
   "metadata": {},
   "outputs": [],
   "source": [
    "def factorial(N):\n",
    "    return 1 if N == 1 else N * factorial(N - 1)\n",
    "\n",
    "N = int(input())\n",
    "\n",
    "ans = factorial(N)\n",
    "print(ans)"
   ]
  }
 ],
 "metadata": {
  "kernelspec": {
   "display_name": "Python 3",
   "language": "python",
   "name": "python3"
  },
  "language_info": {
   "codemirror_mode": {
    "name": "ipython",
    "version": 3
   },
   "file_extension": ".py",
   "mimetype": "text/x-python",
   "name": "python",
   "nbconvert_exporter": "python",
   "pygments_lexer": "ipython3",
   "version": "3.7.4"
  }
 },
 "nbformat": 4,
 "nbformat_minor": 4
}
