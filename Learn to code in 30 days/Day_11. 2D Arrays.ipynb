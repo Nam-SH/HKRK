{
 "cells": [
  {
   "cell_type": "markdown",
   "metadata": {},
   "source": [
    "# Day_11. 2D Arrays\n",
    "\n",
    "<br> \n",
    "\n",
    "![image](https://user-images.githubusercontent.com/50367487/62132356-dfb03e80-b317-11e9-9254-bdeb6b725a02.png)\n",
    "![image](https://user-images.githubusercontent.com/50367487/62132392-f2c30e80-b317-11e9-9dd4-b8771ac9d8ee.png)"
   ]
  },
  {
   "cell_type": "code",
   "execution_count": null,
   "metadata": {},
   "outputs": [],
   "source": [
    "arr = []\n",
    "for _ in range(6):\n",
    "    arr.append(list(map(int, input().split())))\n",
    "    \n",
    "res = []\n",
    "for i in range(4):\n",
    "    for j in range(4):\n",
    "        s = sum(arr[i][j:j + 3]) + arr[i + 1][j + 1] + sum(arr[i + 2][j:j + 3])\n",
    "        res.append(s)\n",
    "        \n",
    "print(max(res))"
   ]
  }
 ],
 "metadata": {
  "kernelspec": {
   "display_name": "Python 3",
   "language": "python",
   "name": "python3"
  },
  "language_info": {
   "codemirror_mode": {
    "name": "ipython",
    "version": 3
   },
   "file_extension": ".py",
   "mimetype": "text/x-python",
   "name": "python",
   "nbconvert_exporter": "python",
   "pygments_lexer": "ipython3",
   "version": "3.7.4"
  }
 },
 "nbformat": 4,
 "nbformat_minor": 4
}
