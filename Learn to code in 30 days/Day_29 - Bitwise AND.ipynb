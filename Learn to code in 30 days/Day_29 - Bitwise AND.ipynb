{
 "cells": [
  {
   "cell_type": "markdown",
   "metadata": {},
   "source": [
    "# Day_29. Bitwise AND\n",
    "\n",
    "<br>\n",
    "\n",
    "![image](https://user-images.githubusercontent.com/50367487/63218735-d9391800-c19b-11e9-8db5-d4aa181f45ac.png)"
   ]
  },
  {
   "cell_type": "code",
   "execution_count": null,
   "metadata": {},
   "outputs": [],
   "source": [
    "for _ in range(int(input())):\n",
    "    n, k = map(int, input().split())\n",
    "    arr = list(range(n))\n",
    "    \n",
    "    ans = [x for x in [[arr[j] for j in range(n) if i & (1 << j)] for i in range(1 << n)] if len(x) == 2]\n",
    "    \n",
    "    cnt = 0\n",
    "    for i in ans:\n",
    "        if i[0] & i[1] == k:\n",
    "            cnt += 1\n",
    "            \n",
    "    print(cnt)"
   ]
  },
  {
   "cell_type": "code",
   "execution_count": null,
   "metadata": {},
   "outputs": [],
   "source": [
    "for _ in range(int(input())):\n",
    "    n , k = map(int , input().split())\n",
    "    \n",
    "    print(k - 1 if ((k - 1) | k) <= n else k - 2)"
   ]
  }
 ],
 "metadata": {
  "kernelspec": {
   "display_name": "Python 3",
   "language": "python",
   "name": "python3"
  },
  "language_info": {
   "codemirror_mode": {
    "name": "ipython",
    "version": 3
   },
   "file_extension": ".py",
   "mimetype": "text/x-python",
   "name": "python",
   "nbconvert_exporter": "python",
   "pygments_lexer": "ipython3",
   "version": "3.7.4"
  }
 },
 "nbformat": 4,
 "nbformat_minor": 4
}
