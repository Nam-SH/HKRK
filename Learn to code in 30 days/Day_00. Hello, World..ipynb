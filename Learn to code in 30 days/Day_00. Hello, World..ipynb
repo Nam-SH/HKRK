{
 "cells": [
  {
   "cell_type": "markdown",
   "metadata": {},
   "source": [
    "# Day_0. Hello, World.\n",
    "\n",
    "<br>\n",
    "\n",
    "`Task `\n",
    "To complete this challenge, you must save a line of input from stdin to a variable, print Hello, World. on a single line, and finally print the value of your variable on a second line.\n",
    "\n",
    "You've got this!\n",
    "\n",
    "`Note`: The instructions are Java-based, but we support submissions in many popular languages. You can switch languages using the drop-down menu above your editor, and the  variable may be written differently depending on the best-practice conventions of your submission language.\n",
    "\n",
    "`Input Format`\n",
    "\n",
    "A single line of text denoting `inputStrinf` (the variable whose contents must be printed).\n",
    "\n",
    "`Output Format`\n",
    "\n",
    "Print Hello, World. on the first line, and the contents of `inputStrinf` on the second line.\n",
    "\n",
    "`Sample Input`\n",
    "```\n",
    "Welcome to 30 Days of Code!\n",
    "```\n",
    "`Sample Output`\n",
    "```\n",
    "Hello, World. \n",
    "Welcome to 30 Days of Code!\n",
    "```"
   ]
  },
  {
   "cell_type": "code",
   "execution_count": null,
   "metadata": {},
   "outputs": [],
   "source": [
    "val = input()\n",
    "\n",
    "print('Hello, World.')\n",
    "print(val)"
   ]
  }
 ],
 "metadata": {
  "kernelspec": {
   "display_name": "Python 3",
   "language": "python",
   "name": "python3"
  },
  "language_info": {
   "codemirror_mode": {
    "name": "ipython",
    "version": 3
   },
   "file_extension": ".py",
   "mimetype": "text/x-python",
   "name": "python",
   "nbconvert_exporter": "python",
   "pygments_lexer": "ipython3",
   "version": "3.7.4"
  },
  "toc": {
   "base_numbering": 1,
   "nav_menu": {},
   "number_sections": true,
   "sideBar": true,
   "skip_h1_title": false,
   "title_cell": "Table of Contents",
   "title_sidebar": "Contents",
   "toc_cell": false,
   "toc_position": {},
   "toc_section_display": true,
   "toc_window_display": false
  }
 },
 "nbformat": 4,
 "nbformat_minor": 4
}
