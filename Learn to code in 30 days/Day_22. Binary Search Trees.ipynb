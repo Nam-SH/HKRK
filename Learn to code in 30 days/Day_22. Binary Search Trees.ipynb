{
 "cells": [
  {
   "cell_type": "markdown",
   "metadata": {},
   "source": [
    "# Day_22. Binary Search Trees\n",
    "\n",
    "\n",
    "<br>\n",
    "\n",
    "![image](https://user-images.githubusercontent.com/50367487/62848642-7c5edd00-bd17-11e9-9119-bed8353e0cb3.png)"
   ]
  },
  {
   "cell_type": "code",
   "execution_count": null,
   "metadata": {},
   "outputs": [],
   "source": [
    "class Node:\n",
    "    def __init__(self,data):\n",
    "        self.right=self.left = None\n",
    "        self.data = data\n",
    "        \n",
    "class Solution:\n",
    "    def insert(self,root,data):\n",
    "        if root == None:\n",
    "            return Node(data)\n",
    "        else:\n",
    "            if data<=root.data:\n",
    "                cur=self.insert(root.left,data)\n",
    "                root.left=cur\n",
    "            else:\n",
    "                cur=self.insert(root.right,data)\n",
    "                root.right=cur\n",
    "        return root\n",
    "\n",
    "    def getHeight(self,root):\n",
    "        return -1 if root == None else 1 + max(self.getHeight(root.left), self.getHeight(root.right))\n",
    "\n",
    "    \n",
    "tree = Solution()\n",
    "root = None\n",
    "\n",
    "for i in range(int(input())):\n",
    "    data = int(input())\n",
    "    root = tree.insert(root,data)\n",
    "    \n",
    "height = myTree.getHeight(root)\n",
    "print(height)       "
   ]
  }
 ],
 "metadata": {
  "kernelspec": {
   "display_name": "Python 3",
   "language": "python",
   "name": "python3"
  },
  "language_info": {
   "codemirror_mode": {
    "name": "ipython",
    "version": 3
   },
   "file_extension": ".py",
   "mimetype": "text/x-python",
   "name": "python",
   "nbconvert_exporter": "python",
   "pygments_lexer": "ipython3",
   "version": "3.7.4"
  }
 },
 "nbformat": 4,
 "nbformat_minor": 4
}
