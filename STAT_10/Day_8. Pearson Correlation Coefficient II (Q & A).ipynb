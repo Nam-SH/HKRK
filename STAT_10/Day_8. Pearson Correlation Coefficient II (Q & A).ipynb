{
 "cells": [
  {
   "cell_type": "markdown",
   "metadata": {},
   "source": [
    "# Day_8. Pearson Correlation Coefficient II (Q & A)\n",
    "\n",
    "The regression line of `y` on `x` is `3x + 4y + 8 = 0`, and the regression line of `x` on `y` is `4x + 3y + 7 = 0` . What is the value of the Pearson correlation coefficient?\n",
    "\n",
    "```\n",
    "    1. 1\n",
    "    2. -1\n",
    "    3. 3 / 4\n",
    "    4. -4 / 3\n",
    "    5. 4 / 3\n",
    "*   6. -3 / 4\n",
    "```"
   ]
  }
 ],
 "metadata": {
  "kernelspec": {
   "display_name": "Python 3",
   "language": "python",
   "name": "python3"
  },
  "language_info": {
   "codemirror_mode": {
    "name": "ipython",
    "version": 3
   },
   "file_extension": ".py",
   "mimetype": "text/x-python",
   "name": "python",
   "nbconvert_exporter": "python",
   "pygments_lexer": "ipython3",
   "version": "3.7.4"
  },
  "toc": {
   "base_numbering": 1,
   "nav_menu": {},
   "number_sections": true,
   "sideBar": true,
   "skip_h1_title": false,
   "title_cell": "Table of Contents",
   "title_sidebar": "Contents",
   "toc_cell": false,
   "toc_position": {},
   "toc_section_display": true,
   "toc_window_display": false
  }
 },
 "nbformat": 4,
 "nbformat_minor": 4
}
