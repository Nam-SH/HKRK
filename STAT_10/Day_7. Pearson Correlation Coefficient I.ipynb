{
 "cells": [
  {
   "cell_type": "markdown",
   "metadata": {},
   "source": [
    "# Day_7. Pearson Correlation Coefficient I\n",
    "\n",
    "`Task`\n",
    "\n",
    "Given two `n`-element data sets, `X` and , `Y` calculate the value of the Pearson correlation coefficient.\n",
    "\n",
    "`Input Format`\n",
    "\n",
    "The first line contains an integer, `n`, denoting the size of data sets `X` and `Y`. \n",
    "The second line contains `n` space-separated real numbers (scaled to at most one decimal place), defining data set `X`. \n",
    "The third line contains `n` space-separated real numbers (scaled to at most one decimal place), defining data set `Y`.\n",
    "\n",
    "`Constraints`\n",
    "```\n",
    "`10 <= n <= 100`\n",
    "`1 <= Xi <= 500`, where `Xi` is the `i th` value of data set `X`.\n",
    "`1 <= Yi <= 500`, where `Yi` is the `i th` value of data set `Y`.\n",
    "Data set `X` contains unique values.\n",
    "Data set `Y` contains unique values.\n",
    "```\n",
    "`Output Format`\n",
    "\n",
    "Print the value of the Pearson correlation coefficient, rounded to a scale of `3` decimal places.\n",
    "\n",
    "`Sample Input`\n",
    "```\n",
    "10\n",
    "10 9.8 8 7.8 7.7 7 6 5 4 2 \n",
    "200 44 32 24 22 17 15 12 8 4\n",
    "```\n",
    "`Sample Output`\n",
    "```\n",
    "0.612\n",
    "```"
   ]
  },
  {
   "cell_type": "code",
   "execution_count": null,
   "metadata": {},
   "outputs": [],
   "source": [
    "from math import *\n",
    "\n",
    "n = int(input())\n",
    "X = tuple(map(float, input().split()))\n",
    "Y = tuple(map(float, input().split()))\n",
    "\n",
    "X_bar = sum(X)/len(X)\n",
    "Y_bar = sum(Y)/len(Y)\n",
    "\n",
    "X_std = sqrt(sum(list(map(lambda x: x**2, X)))/len(X) - X_bar**2)\n",
    "Y_std = sqrt(sum(list(map(lambda y: y**2, Y)))/len(Y) - Y_bar**2)\n",
    "\n",
    "XY_cov = sum([x*y for x, y in zip(X, Y)])/len(X) - X_bar * Y_bar\n",
    "\n",
    "ro = XY_cov / (X_std * Y_std)\n",
    "print(f'{ro:.3f}')"
   ]
  }
 ],
 "metadata": {
  "kernelspec": {
   "display_name": "Python 3",
   "language": "python",
   "name": "python3"
  },
  "language_info": {
   "codemirror_mode": {
    "name": "ipython",
    "version": 3
   },
   "file_extension": ".py",
   "mimetype": "text/x-python",
   "name": "python",
   "nbconvert_exporter": "python",
   "pygments_lexer": "ipython3",
   "version": "3.7.4"
  },
  "toc": {
   "base_numbering": 1,
   "nav_menu": {},
   "number_sections": true,
   "sideBar": true,
   "skip_h1_title": false,
   "title_cell": "Table of Contents",
   "title_sidebar": "Contents",
   "toc_cell": false,
   "toc_position": {},
   "toc_section_display": true,
   "toc_window_display": false
  }
 },
 "nbformat": 4,
 "nbformat_minor": 4
}
