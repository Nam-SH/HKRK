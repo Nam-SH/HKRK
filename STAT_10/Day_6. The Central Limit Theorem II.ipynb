{
 "cells": [
  {
   "cell_type": "markdown",
   "metadata": {},
   "source": [
    "# Day_6. The Central Limit Theorem II\n",
    "\n",
    "`Task`\n",
    "The number of tickets purchased by each student for the University X vs. University Y football game follows a distribution that has a mean of `mu = 2.4` and a standard deviation of `sigma = 2.0`.\n",
    "\n",
    "A few hours before the game starts, `100` eager students line up to purchase last-minute tickets. If there are only  `250` tickets left, what is the probability that all `100` students will be able to purchase tickets?\n",
    "\n",
    "`Input Format`\n",
    "\n",
    "There are `4` lines of input (shown below):\n",
    "```\n",
    "250\n",
    "100\n",
    "2.4\n",
    "2.0\n",
    "```\n",
    "The first line contains the number of last-minute tickets available at the box office. The second line contains the number of students waiting to buy tickets. The third line contains the mean number of purchased tickets, and the fourth line contains the standard deviation.\n",
    "\n",
    "If you do not wish to read this information from stdin, you can hard-code it into your program.\n",
    "\n",
    "`Output Format`\n",
    "\n",
    "Print the probability that `100` students can successfully purchase the remaining `250` tickets, rounded to a scale of `4` decimal places (i.e., 1.2345 format)."
   ]
  },
  {
   "cell_type": "code",
   "execution_count": null,
   "metadata": {},
   "outputs": [],
   "source": [
    "from math import *\n",
    "\n",
    "n = 250\n",
    "x = 100\n",
    "x_bar = 2.4\n",
    "x_std = 2.0\n",
    "\n",
    "mu = x_bar * x\n",
    "sigma = x_std * sqrt(x)\n",
    "\n",
    "cdf = 0.5 * (1 + erf((n - mu) / (sigma * sqrt(2))))\n",
    "print(f'{cdf:.4f}')"
   ]
  }
 ],
 "metadata": {
  "kernelspec": {
   "display_name": "Python 3",
   "language": "python",
   "name": "python3"
  },
  "language_info": {
   "codemirror_mode": {
    "name": "ipython",
    "version": 3
   },
   "file_extension": ".py",
   "mimetype": "text/x-python",
   "name": "python",
   "nbconvert_exporter": "python",
   "pygments_lexer": "ipython3",
   "version": "3.7.4"
  },
  "toc": {
   "base_numbering": 1,
   "nav_menu": {},
   "number_sections": true,
   "sideBar": true,
   "skip_h1_title": false,
   "title_cell": "Table of Contents",
   "title_sidebar": "Contents",
   "toc_cell": false,
   "toc_position": {},
   "toc_section_display": true,
   "toc_window_display": false
  }
 },
 "nbformat": 4,
 "nbformat_minor": 4
}
