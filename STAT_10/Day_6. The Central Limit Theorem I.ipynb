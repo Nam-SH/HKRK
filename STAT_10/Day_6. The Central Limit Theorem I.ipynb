{
 "cells": [
  {
   "cell_type": "markdown",
   "metadata": {},
   "source": [
    "# Day_6. The Central Limit Theorem I\n",
    "\n",
    "`Task`\n",
    "A large elevator can transport a maximum of `9800` pounds. Suppose a load of cargo containing `49` boxes must be transported via the elevator. The box weight of this type of cargo follows a distribution with a mean of `mu = 205` pounds and a standard deviation of `sigma = 15` pounds. Based on this information, what is the probability that all `49` boxes can be safely loaded into the freight elevator and transported?\n",
    "\n",
    "`Inut Format`\n",
    "\n",
    "There are `4` lines of input (shown below):\n",
    "```\n",
    "9800\n",
    "49\n",
    "205\n",
    "15\n",
    "```\n",
    "The first line contains the maximum weight the elevator can transport. The second line contains the number of boxes in the cargo. The third line contains the mean weight of a cargo box, and the fourth line contains its standard deviation.\n",
    "\n",
    "If you do not wish to read this information from stdin, you can hard-code it into your program.\n",
    "\n",
    "`Output Format`\n",
    "\n",
    "Print the probability that the elevator can successfully transport all `49` boxes, rounded to a scale of `4` decimal places (i.e., 1.2345 format)."
   ]
  },
  {
   "cell_type": "code",
   "execution_count": null,
   "metadata": {},
   "outputs": [],
   "source": [
    "from math import *\n",
    "\n",
    "n = 9800\n",
    "x = 49\n",
    "mu = 205\n",
    "sigma = 15\n",
    "\n",
    "n_mu = mu * x\n",
    "n_sigma = sqrt(x)*sigma \n",
    "\n",
    "cdf = 0.5 * (1 + erf((n - n_mu) / (n_sigma * sqrt(2))))\n",
    "print(f'{cdf:.4f}')"
   ]
  }
 ],
 "metadata": {
  "kernelspec": {
   "display_name": "Python 3",
   "language": "python",
   "name": "python3"
  },
  "language_info": {
   "codemirror_mode": {
    "name": "ipython",
    "version": 3
   },
   "file_extension": ".py",
   "mimetype": "text/x-python",
   "name": "python",
   "nbconvert_exporter": "python",
   "pygments_lexer": "ipython3",
   "version": "3.7.4"
  },
  "toc": {
   "base_numbering": 1,
   "nav_menu": {},
   "number_sections": true,
   "sideBar": true,
   "skip_h1_title": false,
   "title_cell": "Table of Contents",
   "title_sidebar": "Contents",
   "toc_cell": false,
   "toc_position": {},
   "toc_section_display": true,
   "toc_window_display": false
  }
 },
 "nbformat": 4,
 "nbformat_minor": 4
}
