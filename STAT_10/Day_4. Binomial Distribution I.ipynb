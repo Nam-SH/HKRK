{
 "cells": [
  {
   "cell_type": "markdown",
   "metadata": {},
   "source": [
    "# Day_4. Binomial Distribution I\n",
    "\n",
    "`Task `\n",
    "The ratio of boys to girls for babies born in Russia is `1.09:1`. If there is `1` child born per birth, what proportion of Russian families with exactly `6` children will have at least `3` boys?\n",
    "\n",
    "Write a program to compute the answer using the above parameters. Then print your result, rounded to a scale of `3` decimal places (i.e., 1.234 format).\n",
    "\n",
    "`Input Format`\n",
    "\n",
    "A single line containing the following values:\n",
    "\n",
    "    `1.09 1`\n",
    "\n",
    "If you do not wish to read this information from stdin, you can hard-code it into your program.\n",
    "\n",
    "`Output Format`\n",
    "\n",
    "Print a single line denoting the answer, rounded to a scale of `1` decimal places (i.e., 1.234 format)."
   ]
  },
  {
   "cell_type": "code",
   "execution_count": null,
   "metadata": {},
   "outputs": [],
   "source": [
    "def bi_dist(x, n, p):\n",
    "    from math import factorial\n",
    "    fact = factorial(n) / (factorial(x) * factorial(n - x))\n",
    "    prob = (p**x) * ((1-p)**(n-x))\n",
    "    return fact*prob\n",
    "\n",
    "girl, boy = input().split()\n",
    "p = float(girl) / (float(girl) + float(boy))\n",
    "\n",
    "result = 0\n",
    "for i in range(3, 7):\n",
    "    result += bi_dist(i, 6, p)\n",
    "print(f'{result:.3f}')"
   ]
  }
 ],
 "metadata": {
  "kernelspec": {
   "display_name": "Python 3",
   "language": "python",
   "name": "python3"
  },
  "language_info": {
   "codemirror_mode": {
    "name": "ipython",
    "version": 3
   },
   "file_extension": ".py",
   "mimetype": "text/x-python",
   "name": "python",
   "nbconvert_exporter": "python",
   "pygments_lexer": "ipython3",
   "version": "3.7.4"
  },
  "toc": {
   "base_numbering": 1,
   "nav_menu": {},
   "number_sections": true,
   "sideBar": true,
   "skip_h1_title": false,
   "title_cell": "Table of Contents",
   "title_sidebar": "Contents",
   "toc_cell": false,
   "toc_position": {},
   "toc_section_display": true,
   "toc_window_display": false
  }
 },
 "nbformat": 4,
 "nbformat_minor": 4
}
