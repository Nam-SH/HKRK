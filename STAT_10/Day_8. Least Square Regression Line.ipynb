{
 "cells": [
  {
   "cell_type": "markdown",
   "metadata": {},
   "source": [
    "# Day_8. Least Square Regression Line\n",
    "\n",
    "`Task`\n",
    "\n",
    "A group of five students enrolls in Statistics immediately after taking a Math aptitude test. Each student's Math aptitude test score, `x`, and Statistics course grade, `y`, can be expressed as the following list of `(x, y)` points:\n",
    "```\n",
    "1. (95, 85)\n",
    "2. (85, 95)\n",
    "3. (80, 70)\n",
    "4. (70, 65)\n",
    "5. (60, 70)\n",
    "```\n",
    "If a student scored an `80` on the Math aptitude test, what grade would we expect them to achieve in Statistics? Determine the equation of the best-fit line using the least squares method, then compute and print the value of `y` when `x = 80`.\n",
    "\n",
    "`Input Format`\n",
    "\n",
    "There are five lines of input; each line contains two space-separated integers describing a student's respective `x` and `y` grades:\n",
    "```\n",
    "95 85\n",
    "85 95\n",
    "80 70\n",
    "70 65\n",
    "60 70\n",
    "```\n",
    "If you do not wish to read this information from stdin, you can hard-code it into your program.\n",
    "\n",
    "`Output Format`\n",
    "\n",
    "Print a single line denoting the answer, rounded to a scale of `3` decimal places (i.e., 1.234 format)."
   ]
  },
  {
   "cell_type": "code",
   "execution_count": null,
   "metadata": {},
   "outputs": [],
   "source": [
    "X, Y = [], []\n",
    "for i in range(5):\n",
    "    x, y = map(int, input().split())\n",
    "    X.append(x)\n",
    "    Y.append(y)\n",
    "\n",
    "n = len(X)\n",
    "\n",
    "x_bar = sum(X) / n\n",
    "y_bar = sum(Y) / n\n",
    "\n",
    "s_xy = n * sum([x * y for x, y in zip(X, Y)]) - sum(X) * sum(Y)\n",
    "s_xx = n * sum([x ** 2 for x in X]) - sum(X)**2\n",
    "\n",
    "beta0 = y_bar - beta1 * x_bar\n",
    "beta1 = s_xy / s_xx\n",
    "\n",
    "print(f'{beta0 + beta1 * 80:.3f}')"
   ]
  }
 ],
 "metadata": {
  "kernelspec": {
   "display_name": "Python 3",
   "language": "python",
   "name": "python3"
  },
  "language_info": {
   "codemirror_mode": {
    "name": "ipython",
    "version": 3
   },
   "file_extension": ".py",
   "mimetype": "text/x-python",
   "name": "python",
   "nbconvert_exporter": "python",
   "pygments_lexer": "ipython3",
   "version": "3.7.4"
  },
  "toc": {
   "base_numbering": 1,
   "nav_menu": {},
   "number_sections": true,
   "sideBar": true,
   "skip_h1_title": false,
   "title_cell": "Table of Contents",
   "title_sidebar": "Contents",
   "toc_cell": false,
   "toc_position": {},
   "toc_section_display": true,
   "toc_window_display": false
  }
 },
 "nbformat": 4,
 "nbformat_minor": 4
}
