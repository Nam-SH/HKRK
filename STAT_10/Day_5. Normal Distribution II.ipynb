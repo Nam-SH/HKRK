{
 "cells": [
  {
   "cell_type": "markdown",
   "metadata": {},
   "source": [
    "# Day_5. Normal Distribution II\n",
    "\n",
    "\n",
    "`Task`\n",
    "\n",
    "The final grades for a Physics exam taken by a large group of students have a mean of `mu = 70` and a standard deviation of `sigma = 10`. If we can approximate the distribution of these grades by a normal distribution, what percentage of the students:\n",
    "```\n",
    "1. Scored higher than `80`(i.e., have a `grade > 80`)?\n",
    "2. Passed the test (i.e., have a `grade >= 60`)?\n",
    "3. Failed the test (i.e., have a `grade < 60`)?\n",
    "Find and print the answer to each question on a new line, rounded to a scale of `2` decimal places.\n",
    "```\n",
    "\n",
    "`Input Format`\n",
    "\n",
    "There are `3` lines of input (shown below):\n",
    "```\n",
    "70 10\n",
    "80\n",
    "60\n",
    "```\n",
    "The first line contains `2` space-separated values denoting the respective mean and standard deviation for the exam. The second line contains the number associated with question `1`. The third line contains the pass/fail threshold number associated with questions `2` and `3`.\n",
    "\n",
    "If you do not wish to read this information from stdin, you can hard-code it into your program.\n",
    "\n",
    "`Output Format`\n",
    "\n",
    "There are three lines of output. Your answers must be rounded to a scale of `2` decimal places (i.e., 1.23 format):\n",
    "\n",
    "On the first line, print the answer to question `1` (i.e., the percentage of students having `grade > 80`).\n",
    "On the second line, print the answer to question `2` (i.e., the percentage of students having `grade >= 60`).\n",
    "On the third line, print the answer to question `3` (i.e., the percentage of students having `grade < 60`)."
   ]
  },
  {
   "cell_type": "code",
   "execution_count": null,
   "metadata": {},
   "outputs": [],
   "source": [
    "from math import *\n",
    "\n",
    "mean, std = list(map(int, input().split()))\n",
    "x1 = int(input())\n",
    "x2 = int(input())\n",
    "\n",
    "cdf = lambda x: 0.5 * (1 + erf((x - mean) / (std * sqrt(2))))\n",
    "\n",
    "print(f'{(1 - cdf(x1))*100:.2f}')\n",
    "print(f'{(1 - cdf(x2))*100:.2f}')\n",
    "print(f'{cdf(x2)*100:.2f}')"
   ]
  }
 ],
 "metadata": {
  "kernelspec": {
   "display_name": "Python 3",
   "language": "python",
   "name": "python3"
  },
  "language_info": {
   "codemirror_mode": {
    "name": "ipython",
    "version": 3
   },
   "file_extension": ".py",
   "mimetype": "text/x-python",
   "name": "python",
   "nbconvert_exporter": "python",
   "pygments_lexer": "ipython3",
   "version": "3.7.4"
  },
  "toc": {
   "base_numbering": 1,
   "nav_menu": {},
   "number_sections": true,
   "sideBar": true,
   "skip_h1_title": false,
   "title_cell": "Table of Contents",
   "title_sidebar": "Contents",
   "toc_cell": false,
   "toc_position": {},
   "toc_section_display": true,
   "toc_window_display": false
  }
 },
 "nbformat": 4,
 "nbformat_minor": 4
}
