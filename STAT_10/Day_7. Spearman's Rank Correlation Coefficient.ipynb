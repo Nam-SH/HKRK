{
 "cells": [
  {
   "cell_type": "markdown",
   "metadata": {},
   "source": [
    "# Day_7. Spearman's Rank Correlation Coefficient\n",
    "\n",
    "`Task`\n",
    "\n",
    "Given two `n`-element data sets,  `X`and `Y`, calculate the value of Spearman's rank correlation coefficient.\n",
    "\n",
    "`Input Format`\n",
    "\n",
    "The first line contains an integer, `n`, denoting the number of values in data sets `X` and `Y`. \n",
    "The second line contains `n` space-separated real numbers (scaled to at most one decimal place) denoting data set `X`. \n",
    "The third line contains `n` space-separated real numbers (scaled to at most one decimal place) denoting data set `Y`.\n",
    "\n",
    "`Constraints`\n",
    "```\n",
    "`10 <= n <= 100`\n",
    "`1 <= Xi <= 500`, where `Xi` is the `i th` value of data set `X`.\n",
    "`1 <= Yi <= 500`, where `Yi` is the `i th` value of data set `Y`.\n",
    "Data set `X` contains unique values.\n",
    "Data set `Y` contains unique values.\n",
    "```\n",
    "`Output Format`\n",
    "\n",
    "Print the value of the Spearman's rank correlation coefficient, rounded to a scale of  decimal places.\n",
    "\n",
    "`Sample Input`\n",
    "```\n",
    "10\n",
    "10 9.8 8 7.8 7.7 1.7 6 5 1.4 2 \n",
    "200 44 32 24 22 17 15 12 8 4\n",
    "```\n",
    "`Sample Output`\n",
    "\n",
    "0.903"
   ]
  },
  {
   "cell_type": "code",
   "execution_count": null,
   "metadata": {},
   "outputs": [],
   "source": [
    "n = int(input())\n",
    "x = list(map(float, input().split()))\n",
    "y = list(map(float, input().split()))\n",
    "\n",
    "r_x = {val: idx + 1 for idx, val in enumerate(sorted(x))}\n",
    "r_y = {val: idx + 1 for idx, val in enumerate(sorted(y))}\n",
    "\n",
    "d = []\n",
    "for i, j in zip(x, y):\n",
    "    d.append(r_x[i] - r_y[j])\n",
    "\n",
    "d_square = sum(list(map(lambda x: x**2, d)))\n",
    "\n",
    "s_rcc = 1 - (6*d_square)/(n*(n**2-1))\n",
    "print(f'{s_rcc:.3f}')"
   ]
  }
 ],
 "metadata": {
  "kernelspec": {
   "display_name": "Python 3",
   "language": "python",
   "name": "python3"
  },
  "language_info": {
   "codemirror_mode": {
    "name": "ipython",
    "version": 3
   },
   "file_extension": ".py",
   "mimetype": "text/x-python",
   "name": "python",
   "nbconvert_exporter": "python",
   "pygments_lexer": "ipython3",
   "version": "3.7.4"
  },
  "toc": {
   "base_numbering": 1,
   "nav_menu": {},
   "number_sections": true,
   "sideBar": true,
   "skip_h1_title": false,
   "title_cell": "Table of Contents",
   "title_sidebar": "Contents",
   "toc_cell": false,
   "toc_position": {},
   "toc_section_display": true,
   "toc_window_display": false
  }
 },
 "nbformat": 4,
 "nbformat_minor": 4
}
