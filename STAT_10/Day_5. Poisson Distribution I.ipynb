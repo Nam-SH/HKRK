{
 "cells": [
  {
   "cell_type": "markdown",
   "metadata": {},
   "source": [
    "# Day_5. Poisson Distribution I\n",
    "\n",
    "`Task` \n",
    "\n",
    "A random variable, `X`, follows Poisson distribution with mean of `2.5`. Find the probability with which the random variable `X` is equal to `5`.\n",
    "\n",
    "`Input Format`\n",
    "\n",
    "The first line contains `X`'s mean. The second line contains the value we want the probability for:\n",
    "```\n",
    "2.5\n",
    "5\n",
    "```\n",
    "If you do not wish to read this information from stdin, you can hard-code it into your program.\n",
    "\n",
    "`Output Format`\n",
    "\n",
    "Print a single line denoting the answer, rounded to a scale of `3` decimal places (i.e., 1.234 format)."
   ]
  },
  {
   "cell_type": "code",
   "execution_count": null,
   "metadata": {},
   "outputs": [],
   "source": [
    "from math import exp, factorial\n",
    "\n",
    "mean = float(input())\n",
    "value = int(input())\n",
    "\n",
    "f_x = (mean**value * exp(1) ** (-mean))/factorial(value)\n",
    "print(f'{f_x:.3f}')"
   ]
  }
 ],
 "metadata": {
  "kernelspec": {
   "display_name": "Python 3",
   "language": "python",
   "name": "python3"
  },
  "language_info": {
   "codemirror_mode": {
    "name": "ipython",
    "version": 3
   },
   "file_extension": ".py",
   "mimetype": "text/x-python",
   "name": "python",
   "nbconvert_exporter": "python",
   "pygments_lexer": "ipython3",
   "version": "3.7.4"
  },
  "toc": {
   "base_numbering": 1,
   "nav_menu": {},
   "number_sections": true,
   "sideBar": true,
   "skip_h1_title": false,
   "title_cell": "Table of Contents",
   "title_sidebar": "Contents",
   "toc_cell": false,
   "toc_position": {},
   "toc_section_display": true,
   "toc_window_display": false
  }
 },
 "nbformat": 4,
 "nbformat_minor": 4
}
