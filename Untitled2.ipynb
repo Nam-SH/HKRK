{
 "cells": [
  {
   "cell_type": "code",
   "execution_count": 6,
   "metadata": {},
   "outputs": [
    {
     "name": "stdout",
     "output_type": "stream",
     "text": [
      "정렬할 문자를 입력하시오a가b나c다\n",
      "['a', 'b', 'c', '가', '나', '다']\n",
      "['다', '나', '가', 'c', 'b', 'a']\n",
      "오름차순으로 정렬된 문자열은 <abc가나다>입니다.\n",
      "내림차순으로 정렬된 문자열은 <다나가cba>입니다.\n",
      "abc가나다\n"
     ]
    }
   ],
   "source": [
    "strdata = input(\"정렬할 문자를 입력하시오\")\n",
    "ret1 = sorted(strdata)\n",
    "ret2 = sorted(strdata, reverse = True)\n",
    "print(ret1)\n",
    "print(ret2)\n",
    "\n",
    "ret1 = ''.join(ret1)\n",
    "ret2 = ''.join(ret2)\n",
    "\n",
    "print('오름차순으로 정렬된 문자열은 <'+ret1+'>입니다.')\n",
    "print('내림차순으로 정렬된 문자열은 <'+ret2+'>입니다.')\n",
    "\n",
    "print(ret1)"
   ]
  },
  {
   "cell_type": "code",
   "execution_count": 10,
   "metadata": {},
   "outputs": [
    {
     "data": {
      "text/plain": [
       "False"
      ]
     },
     "execution_count": 10,
     "metadata": {},
     "output_type": "execute_result"
    }
   ],
   "source": [
    "strdata.isdigit()\n",
    "\n"
   ]
  },
  {
   "cell_type": "code",
   "execution_count": 18,
   "metadata": {},
   "outputs": [
    {
     "name": "stdout",
     "output_type": "stream",
     "text": [
      "[0, 1, 2, 3, 4, 5, 6, 7, 8, 9]\n",
      "[10, 11, 12, 13, 14, 15, 16, 17, 18, 19]\n",
      "range(0, 10)\n"
     ]
    },
    {
     "data": {
      "text/plain": [
       "range(10, 20)"
      ]
     },
     "execution_count": 18,
     "metadata": {},
     "output_type": "execute_result"
    }
   ],
   "source": [
    "range1 = range(10)\n",
    "range2 = range(10,20)\n",
    "print(list(range1))\n",
    "print(list(range2))\n",
    "print(range1)\n",
    "range(10,20)"
   ]
  },
  {
   "cell_type": "code",
   "execution_count": 25,
   "metadata": {},
   "outputs": [],
   "source": [
    "ret = 0\n",
    "for i in range(10) :\n",
    "    ret = (i+1)\n",
    "\n",
    "    \n"
   ]
  },
  {
   "cell_type": "code",
   "execution_count": 28,
   "metadata": {},
   "outputs": [
    {
     "data": {
      "text/plain": [
       "range(0, 10)"
      ]
     },
     "execution_count": 28,
     "metadata": {},
     "output_type": "execute_result"
    }
   ],
   "source": []
  },
  {
   "cell_type": "code",
   "execution_count": 33,
   "metadata": {},
   "outputs": [
    {
     "name": "stdout",
     "output_type": "stream",
     "text": [
      "진행률10%    "
     ]
    }
   ],
   "source": [
    "from time import sleep\n",
    "for i in range(10):\n",
    "    msg = '\\r진행률%d%%'%(i+1)\n",
    "    print(''*len(msg), end=' ')\n",
    "    print(msg, end=' ')\n",
    "    sleep(0.1)\n"
   ]
  },
  {
   "cell_type": "code",
   "execution_count": 42,
   "metadata": {},
   "outputs": [
    {
     "name": "stdout",
     "output_type": "stream",
     "text": [
      "지구은(는) 태양계에서 3번째에 위치하고 있습니다\n"
     ]
    }
   ],
   "source": [
    "solarsys = ['태양','수성', '금성', '지구', '화성', '목성', '토성', '천왕성']\n",
    "planet = '지구'\n",
    "sol = solarsys[0]\n",
    "pos = solarsys.index(planet)\n",
    "\n",
    "print('%s은(는) %s계에서 %d번째에 위치하고 있습니다'%(planet,solarsys[0], pos))\n",
    "      "
   ]
  }
 ],
 "metadata": {
  "kernelspec": {
   "display_name": "Python 3",
   "language": "python",
   "name": "python3"
  },
  "language_info": {
   "codemirror_mode": {
    "name": "ipython",
    "version": 3
   },
   "file_extension": ".py",
   "mimetype": "text/x-python",
   "name": "python",
   "nbconvert_exporter": "python",
   "pygments_lexer": "ipython3",
   "version": "3.7.3"
  }
 },
 "nbformat": 4,
 "nbformat_minor": 2
}
